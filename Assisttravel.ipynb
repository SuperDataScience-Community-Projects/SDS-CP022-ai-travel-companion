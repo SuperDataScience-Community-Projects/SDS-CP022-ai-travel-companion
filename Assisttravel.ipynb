{
  "cells": [
    {
      "cell_type": "markdown",
      "metadata": {
        "id": "view-in-github",
        "colab_type": "text"
      },
      "source": [
        "<a href=\"https://colab.research.google.com/github/grmurad/GM_SDS-CP022-ai-travel-companion/blob/main/Assisttravel.ipynb\" target=\"_parent\"><img src=\"https://colab.research.google.com/assets/colab-badge.svg\" alt=\"Open In Colab\"/></a>"
      ]
    },
    {
      "cell_type": "code",
      "execution_count": null,
      "metadata": {
        "id": "eiryV0csoWZU"
      },
      "outputs": [],
      "source": [
        "# Install packages and setup files for each time need to activate google colab session\n",
        "\n",
        "!pip install transformers accelerate bitsandbytes\n",
        "!pip install torch torchvision torchaudio --index-url https://download.pytorch.org/whl/cu118\n",
        "!pip install geonamescache\n",
        "!pip install amadeus\n",
        "!pip install aiohttp\n",
        "!pip install flask flask-ngrok\n",
        "!pip install pyngrok\n",
        "!pip install fuzzywuzzy python-Levenshtein\n",
        "!pip install googlemaps\n",
        "import os\n",
        "import shutil\n",
        "from google.colab import drive\n",
        "\n",
        "def setup_colab_environment():\n",
        "    \"\"\"\n",
        "    Sets up the Colab environment by creating folders, mounting Google Drive,\n",
        "    and copying necessary files.\n",
        "    \"\"\"\n",
        "\n",
        "    # 1. Create folders\n",
        "    os.makedirs('/content/templates', exist_ok=True)\n",
        "    os.makedirs('/content/static', exist_ok=True)\n",
        "\n",
        "    # 2. Mount Google Drive\n",
        "    if not os.path.exists('/content/drive'):\n",
        "        drive.mount('/content/drive')\n",
        "        print(\"Google Drive mounted successfully.\")\n",
        "    else:\n",
        "        print(\"Google Drive is already mounted.\")\n",
        "\n",
        "    # 3. Define source and destination paths\n",
        "    # ***VERIFY THIS PATH*** to match your Google Drive folder structure\n",
        "    drive_base_path = '/content/drive/MyDrive/travel_app/Templates/Deep'\n",
        "    colab_templates_path = '/content/templates/'\n",
        "    colab_static_path = '/content/static/'\n",
        "    colab_base_path = '/content/'\n",
        "\n",
        "\n",
        "    # 4. Copy files\n",
        "    # HTML files to templates\n",
        "    html_files = ['index.html', 'results.html', 'selecionar_cidade.html']  # Replace with your HTML file names\n",
        "    for file in html_files:\n",
        "        #This is just for debugging\n",
        "        print(os.path.join(drive_base_path, file))\n",
        "        shutil.copy(os.path.join(drive_base_path, file), colab_templates_path)\n",
        "\n",
        "    # CSV files to /content\n",
        "    csv_files = ['cidades_filtradas.json', 'IATA_Cities.csv']  # Replace with your CSV file names\n",
        "    for file in csv_files:\n",
        "      #This is just for debugging\n",
        "        print(os.path.join(colab_base_path, file))\n",
        "        shutil.copy(os.path.join(drive_base_path, file), colab_base_path)\n",
        "\n",
        "      # GIF file to static\n",
        "    gif_file = 'HI9M.gif'  # Replace with your GIF file name\n",
        "    shutil.copy(os.path.join(drive_base_path, gif_file), colab_static_path)\n",
        "\n",
        "    print(\"Colab environment setup complete!\")\n",
        "\n",
        "# Call the function to set up the environment\n",
        "setup_colab_environment()"
      ]
    },
    {
      "cell_type": "code",
      "execution_count": null,
      "metadata": {
        "id": "1suLrTwyHMMw",
        "colab": {
          "base_uri": "https://localhost:8080/",
          "height": 1000,
          "referenced_widgets": [
            "9d6cf8680fee42b898ad96e13289dd8d",
            "2d4f9a4ddce54754831e20f0a8d09011",
            "baa4d6da99624a56afec6de398337c9a",
            "9d199f32f52940e8abb422b6a43f3cc6",
            "ec36bccefac249f980372a5ea4d0df45",
            "bff470af20cd42ac8f98a19c313f915e",
            "72139d603bba40a58ed553ee9bc8868f",
            "9281c08af8fa491cb805c4a37e412a87",
            "88877f19e7674acb8bce8bb53fa85fd6",
            "5e55a056b67a419aa9480453dc73065f",
            "27b6132889c5433f9690875b4092a1ac"
          ]
        },
        "outputId": "bd62ff4f-c303-493c-f505-fa67a4d8c59d"
      },
      "outputs": [
        {
          "output_type": "display_data",
          "data": {
            "text/plain": [
              "Loading checkpoint shards:   0%|          | 0/3 [00:00<?, ?it/s]"
            ],
            "application/vnd.jupyter.widget-view+json": {
              "version_major": 2,
              "version_minor": 0,
              "model_id": "9d6cf8680fee42b898ad96e13289dd8d"
            }
          },
          "metadata": {}
        },
        {
          "output_type": "stream",
          "name": "stdout",
          "text": [
            " * Running on https://842c-34-87-58-213.ngrok-free.app\n",
            " * Serving Flask app '__main__'\n",
            " * Debug mode: off\n"
          ]
        },
        {
          "output_type": "stream",
          "name": "stderr",
          "text": [
            "INFO:werkzeug:\u001b[31m\u001b[1mWARNING: This is a development server. Do not use it in a production deployment. Use a production WSGI server instead.\u001b[0m\n",
            " * Running on http://127.0.0.1:5000\n",
            "INFO:werkzeug:\u001b[33mPress CTRL+C to quit\u001b[0m\n",
            "INFO:werkzeug:127.0.0.1 - - [15/Mar/2025 18:46:57] \"GET / HTTP/1.1\" 200 -\n",
            "INFO:werkzeug:127.0.0.1 - - [15/Mar/2025 18:46:58] \"\u001b[33mGET /favicon.ico HTTP/1.1\u001b[0m\" 404 -\n",
            "INFO:werkzeug:127.0.0.1 - - [15/Mar/2025 18:48:06] \"POST / HTTP/1.1\" 200 -\n",
            "INFO:werkzeug:127.0.0.1 - - [15/Mar/2025 18:48:06] \"GET /static/HI9M.gif HTTP/1.1\" 200 -\n"
          ]
        },
        {
          "output_type": "stream",
          "name": "stdout",
          "text": [
            "busco aventuras em locais com salto de asa delta ou parapaint  de montanhas e cachoeiras Liste 3 de destinos turísticos, incluindo: - Informe cidades com serviço regular de voos que sejam proximas às atracoes destacadas: Nome da Cidade e seu codigo IATA em parentesis: (exemplo: 'San Juan (SJU)'). - Principais atrações e atividades. use no maximo 1000 palavras de forma que resuma bem o pedido do usuario:\n",
            "\n",
            "1. Interlaken, Suíça (ZRH)\n",
            "   - Principais atrações: Lago Thun, Jungfrau, Schynige Platte, Harder Kulm, e Aventura de Canyon-Swing.\n",
            "   - Atividades: Salto de asa delta, parapente, trekking, e visitas a cachoeiras.\n",
            "\n",
            "2. Queenstown, Nova Zelândia (ZQN)\n",
            "   - Principais atrações: Fiordes de Milford e Doubtful, Cascata de Kawarau, e Remarkables Mountain Range.\n",
            "   - Atividades: Salto de asa delta, parapente, trekking, e visitas a cachoeiras.\n",
            "\n",
            "3. Cusco, Peru (CUZ)\n",
            "   - Principais atrações: Machu Picchu, Cidade de Cusco, Sacred Valley, e Ollantaytambo.\n",
            "   - Atividades: Trekking, visitas a cachoeiras, e exploração arqueológica.\n",
            "\n",
            "Entre estes destinos, você pode encontrar aventuras em locais com salto de asa delta ou parapente de montanhas e cachoeiras. Cada destino oferece belas paisagens e atividades para desafiar seus limites.\n",
            "origem IATA: SSA\n",
            "[{'id': 'BRZRHBRB', 'name': 'RENAISSANCE ZURICH TOWER HOTEL'}, {'id': 'BWZRH153', 'name': 'BEST WESTERN HOTEL AIRPORT'}, {'id': 'BWZRH220', 'name': 'BEST WESTERN PLUS HOTEL SPEER'}, {'id': 'BWZRH232', 'name': 'BEST WESTERN HOTEL SPIRGARTEN'}, {'id': 'BWZRH087', 'name': 'BW PREMIER HOTEL GLOCKENHOF'}, {'id': 'BWZRH091', 'name': 'BEST WESTERN HOTEL ZURCHERHOF'}, {'id': 'CHZRHSWI', 'name': 'SWISS RE CENTRE FOR GLOBAL DIALOGUE'}, {'id': 'CHZRHBOU', 'name': 'B2 BOUTIQUE HOTEL AND SPA'}, {'id': 'CHZRHRES', 'name': 'RESIDENCE POLYGLOT'}, {'id': 'CHZRHMAR', 'name': 'HOTEL MARTA'}, {'id': 'CIZRH015', 'name': 'COMFORT HOTEL EGERKINGEN'}, {'id': 'CYZRHCYC', 'name': 'COURTYARD ZURIC NORTH MARRIOTT'}, {'id': 'DDZRH041', 'name': 'HOTEL DOLDER WALDHAUS'}, {'id': 'DHZRHAED', 'name': 'ADLER HOTEL'}, {'id': 'DSZRHROC', 'name': 'ROCKSRESORT'}, {'id': 'DSZRH25H', 'name': '25HOURS HOTEL ZURICH WEST'}, {'id': 'FGZRHSCH', 'name': 'SILENCE HOTEL SCHLOSS RAGAZ'}, {'id': 'FGZRHLIM', 'name': 'HOTEL X-TRA'}, {'id': 'HIZRH0A8', 'name': 'HOLIDAY INN EXP AFFOLTERN AM A'}, {'id': 'HIZRH98B', 'name': 'EXP BY HOLIDAY INN ZURICH ARPT'}, {'id': 'HLZRH232', 'name': 'HILTON AIRPORT ZURICH'}, {'id': 'HSZRHAIF', 'name': 'ROBINSON CLUB AROSA'}, {'id': 'HSZRHACT', 'name': 'KRONE'}, {'id': 'HSZRHAEL', 'name': 'SWISS HEIDI HOTEL'}, {'id': 'HSZRHAFH', 'name': 'SCHEUBLE'}, {'id': 'HSZRHAGH', 'name': 'GOLDENER SCHLUESSEL'}, {'id': 'HSZRHAGN', 'name': 'LA CAPPELLA'}, {'id': 'HSZRHAHO', 'name': 'FROHSINN'}, {'id': 'HSZRHAEV', 'name': 'SCHLUESSEL'}, {'id': 'HSZRHACK', 'name': 'HOFGARTEN'}, {'id': 'HSZRHAEZ', 'name': 'RESIDENCE LOREN'}, {'id': 'HSZRHAHL', 'name': 'OLYMPIA'}, {'id': 'HSZRHABT', 'name': 'NEUFELD'}, {'id': 'HSZRHAHI', 'name': 'ST. JOSEF'}, {'id': 'HSZRHAIY', 'name': 'HIRSCHEN'}, {'id': 'HSZRHAES', 'name': 'SCHWAN HOTEL UND TAVERNE'}, {'id': 'IQZRHSEE', 'name': 'SEEDAMM PLAZA'}, {'id': 'IQZRHSAV', 'name': 'HOTEL SAVOY BAUR EN VILLE'}, {'id': 'IQZRHBRI', 'name': 'HOTEL BRISTOL'}, {'id': 'LMZRHIND', 'name': 'PARKHOTEL ZUG'}, {'id': 'LMZRH867', 'name': 'HOTEL LEONECK'}, {'id': 'LWZRH601', 'name': 'GRAND RESORT BAD RAGAZ'}, {'id': 'LWZRH618', 'name': 'THE DOLDER GRAND'}, {'id': 'LWZRH628', 'name': 'WIDDER HOTEL'}, {'id': 'LWZRH626', 'name': 'BAUR AU LAC'}, {'id': 'LXZRHAMB', 'name': 'AMBASSADOR A L OPERA'}, {'id': 'LXZRHEAL', 'name': 'EDEN AU LAC'}, {'id': 'MCZRHDTM', 'name': 'ZURICH MARRIOTT HOTEL'}, {'id': 'MKZRH419', 'name': 'MOEVENPICK ZURICH AIRPORT'}, {'id': 'MKZRH418', 'name': 'MOEVENPICK HOTEL ZUERICH-REGENSDORF'}, {'id': 'ONZRHCTY', 'name': 'HOTEL CITY'}, {'id': 'ONZRHAPA', 'name': 'APARTHOTEL HORI'}, {'id': 'ONZRHWEL', 'name': 'HOTEL WELCOME INN-KLOTEN'}, {'id': 'ONZRHFLY', 'name': 'HOTEL FLY AWAY'}, {'id': 'ONZRHSTE', 'name': 'HOTEL STERNEN OERLIKON'}, {'id': 'ONZRHHFZ', 'name': 'HOTEL FLORHOF'}, {'id': 'ONZRHZDC', 'name': 'ZURICH DEVELOPMENT CENTER'}, {'id': 'ONZRHMOT', 'name': 'HOTEL MONTANA'}, {'id': 'ONZRHKLI', 'name': 'HOTEL KRONE-LIMMATQUAI'}, {'id': 'ONZRHROS', 'name': 'HOTEL ROSSLI'}, {'id': 'ONZRHSEG', 'name': 'HOTEL SEEGARTEN'}, {'id': 'ONZRHUTO', 'name': 'UTO KULM'}, {'id': 'ONZRHOER', 'name': 'HOTEL OERLIKON INN'}, {'id': 'PDZRH129', 'name': 'PARK INN ZURICH AIRPORT'}, {'id': 'RAZRHTEX', 'name': 'RAMADA REGINA TITLIS ENGELBERG'}, {'id': 'RAZRH878', 'name': 'RAMADA FEUSISBERG EINSIEDELN'}, {'id': 'RAZRH117', 'name': 'RAMADA SOLOTHURN'}, {'id': 'RAZRH374', 'name': 'RAMADA ZURICH CITY'}, {'id': 'RDZRH951', 'name': 'RADISSON BLU ZURICH AIRPORT'}, {'id': 'RTZRHAPT', 'name': 'IBIS BUDGET ZURICH AIRPORT'}, {'id': 'RTZRHDOL', 'name': 'MERCURE STOLLER ZURICH 4*'}, {'id': 'RTZRHMSS', 'name': 'IBIS ZURICH MESSE-AIRPORT'}, {'id': 'RTZRHIBZ', 'name': 'IBIS BUDGET ZUERICH CITY WEST'}, {'id': 'RTZRHIBI', 'name': 'IBIS ZURICH ADLISWIL'}, {'id': 'RTZRHNOV', 'name': 'NOVOTEL ZURICH AIRPORT MESSE'}, {'id': 'SIZRH732', 'name': 'SHERATON ZURICH HOTEL'}, {'id': 'SIZRH118', 'name': 'SHERATON ZURICH NEUES SCHLOSS'}, {'id': 'SLZRHSL1', 'name': 'SWISSOTEL ZURICH'}, {'id': 'SRZRHSON', 'name': 'STEIGENBERGER ALPENHTL AND SPA'}, {'id': 'SRZRHBEL', 'name': 'STEIGENBERGER BELLERIVE AU LAC'}, {'id': 'SXZRHSEE', 'name': 'HOTEL MEIERHOF HORGEN'}, {'id': 'UIZRH424', 'name': 'SORELL HOTEL ARGOVIA'}, {'id': 'UIZRHZUR', 'name': 'SORELL HOTEL ZUERICHBERG'}, {'id': 'UIZRHRUE', 'name': 'SORELL HOTEL RUTLI'}, {'id': 'UIZRHTAM', 'name': 'SORELL HOTEL TAMINA'}, {'id': 'VPZRH214', 'name': 'ENGIMATT CITY & GARDEN HOTEL'}, {'id': 'VPZRH215', 'name': 'HOTEL UTO KULM'}, {'id': 'WBZRHWHH', 'name': 'WALSERHOF'}, {'id': 'WBZRHRFH', 'name': 'RHEINHOTEL FISCHERZUNFT'}, {'id': 'WKZRHCEN', 'name': 'CENTRAL PLAZA HOTEL'}, {'id': 'WVZRH328', 'name': 'THE FLAG ZURICH'}, {'id': 'WWZRHFLE', 'name': 'FLEMINGS ZUERICH HOTEL'}, {'id': 'WWZRHOPE', 'name': 'HOTEL OPERA'}, {'id': 'WWZRH152', 'name': 'HOTEL ENGIMATT'}, {'id': 'XKZRH001', 'name': 'HOTEL DU LAC'}, {'id': 'XLZRHASC', 'name': 'HOTEL ASCOT SUMMIT HOTELS'}, {'id': 'XLZRHZUM', 'name': 'STORCHEN ZURICH SUMMIT HOTELS'}, {'id': 'YHZRHRDK', 'name': 'ROMANTIK HOTEL DIE KRONE'}, {'id': 'YHZRHSAH', 'name': 'SENTIDO SEEHOTEL KAISERSTRAND'}, {'id': 'YXZRHBCH', 'name': 'BLUE CITY HOTEL AG'}, {'id': 'YXZRHZGK', 'name': 'HOTEL ZUM GOLDENEN KOPF'}, {'id': 'YXZRHSAZ', 'name': 'STAY AT ZURICH AIRPORT HOTEL'}, {'id': 'YXZRHSPI', 'name': 'SEEHOTEL PILATUS'}, {'id': 'YXZRHSBI', 'name': 'HOTEL SCHLOESSLI BIEL IPSACH'}, {'id': 'YXZRH435', 'name': 'ROMANTIK SEEHOTEL SONNE'}, {'id': 'YXZRH313', 'name': 'SILBERHORN HOTEL'}, {'id': 'YXZRHCGS', 'name': 'STERN LUZERN'}, {'id': 'YXZRHMAR', 'name': 'MATTENHOF RESORT'}, {'id': 'YXZRHHSC', 'name': 'SCHLOSS HOTEL SWISS CHALET'}, {'id': 'YXZRHRVA', 'name': 'RESORT WALENSEE'}, {'id': 'YXZRHORH', 'name': 'OCHSEN HOTEL ZURICH USTER'}, {'id': 'YXZRHILL', 'name': 'ILLUSTER HOTEL'}, {'id': 'YXZRHRHR', 'name': 'ROEMERTOR HOTEL RESTAURANT'}, {'id': 'YXZRHH06', 'name': 'BELAIR HOTEL'}, {'id': 'YXZRHSEN', 'name': 'SENATOR'}, {'id': 'YXZRHCHR', 'name': 'REGINA'}, {'id': 'YXZRHAST', 'name': 'ALTSTADT HOTEL'}, {'id': 'YXZRHHPK', 'name': 'PALAIS KRAFT'}, {'id': 'YXZRHHVT', 'name': 'VILLETTE HOTEL'}, {'id': 'YXZRHLIM', 'name': 'LIMMATBLICK HOTEL'}, {'id': 'YXZRHLIH', 'name': 'LIMMATHOF HOTEL'}, {'id': 'YXZRH577', 'name': 'WALHALLA HOTEL ZURICH'}, {'id': 'YXZRHEMA', 'name': 'EMA HOUSE ZURICH'}, {'id': 'YXZRHHOT', 'name': 'HOTEL OTTER'}, {'id': 'YXZRHKIN', 'name': 'KINDLI HOTEL'}, {'id': 'YXZRHH07', 'name': 'HOTEL CORONADO'}, {'id': 'YXZRHSTH', 'name': 'STATTHOTEL'}, {'id': 'YXZRHHPL', 'name': 'HOTEL PLATZHIRSCH'}, {'id': 'YXZRHSTG', 'name': 'ST GEORGES HOTEL'}, {'id': 'YXZRHALE', 'name': 'ALEXANDER'}]\n"
          ]
        },
        {
          "output_type": "stream",
          "name": "stderr",
          "text": [
            "ERROR:__main__:Failed to fetch hotel offers: 400, Response: {\"errors\":[{\"code\":3664,\"title\":\"NO ROOMS AVAILABLE AT REQUESTED PROPERTY\",\"status\":400,\"detail\":\"Provider Error - NO ROOMS AVAILABLE AT REQUESTED PROPERTY\",\"source\":{\"parameter\":\"hotelIds=YXZRH313,YXZRHALE,YXZRHAST,YXZRHCHR,YXZRHEMA,YXZRHH07,YXZRHHSC,YXZRHILL,YXZRHKIN,YXZRHLIH,YXZRHLIM,YXZRHORH,YXZRHRHR,YXZRHSBI,YXZRHSPI,YXZRHSTG,YXZRHZGK\"}},{\"code\":3289,\"title\":\"RATE NOT AVAILABLE FOR REQUESTED DATES\",\"status\":400,\"detail\":\"Provider Error - RATE NOT AVAILABLE FOR REQUESTED DATES\",\"source\":{\"parameter\":\"hotelIds=YXZRHH06\"}},{\"code\":1257,\"title\":\"INVALID PROPERTY CODE\",\"status\":400,\"detail\":\"Provider Error - INVALID PROPERTY CODE\",\"source\":{\"parameter\":\"hotelIds=YXZRH435,YXZRH577,YXZRHCGS,YXZRHHOT,YXZRHHPK,YXZRHHPL,YXZRHHVT,YXZRHMAR,YXZRHRVA,YXZRHSAZ,YXZRHSEN,YXZRHSTH\"}}]}\n"
          ]
        },
        {
          "output_type": "stream",
          "name": "stdout",
          "text": [
            "[{'id': 'BWZQN004', 'name': 'BEST WESTERNCRANBURY COURT'}, {'id': 'CHZQNPOU', 'name': 'POUNAMU APARTMENTS'}, {'id': 'CHZQNLAK', 'name': 'LAKE DUNSTAN MOTEL-CROMWELL'}, {'id': 'CPZQN150', 'name': 'CROWNE PLAZA'}, {'id': 'GZZQNAHB', 'name': 'ARROWTOWN HOUSE BOUTIQUE HOTEL'}, {'id': 'HLZQN178', 'name': 'HILTON QUEENSTOWN RESORT AND SPA'}, {'id': 'LXZQNBBY', 'name': 'BLANKET BAY'}, {'id': 'MUZQN018', 'name': 'COPTHORNE HTL & APT QUEENSTOWN LAKEVIEW'}, {'id': 'MUZQNMQT', 'name': 'MILLENNIUM - QUEENSTOWN'}, {'id': 'MUZQNCRL', 'name': 'COPTHORNE RESORT LAKEFRONT'}, {'id': 'OHZQNOAK', 'name': 'OAKS SHORES APARTMENTS'}, {'id': 'ONZQNACE', 'name': 'ASURE CENTRAL GOLD MOTEL-CROMWELL'}, {'id': 'ONZQNQUE', 'name': 'QUEENSTOWN PARK BOUTIQUE HOTEL'}, {'id': 'ONZQNBEL', 'name': 'BELLA VISTA MOTEL QUEENSTOWN'}, {'id': 'PHZQNAZU', 'name': 'AZUR PREFERRED BOUTIQUE'}, {'id': 'RGZQN001', 'name': 'RYDGES LAKELAND RESORT QUEENSTOWN'}, {'id': 'RTZQNGDN', 'name': 'NOVOTEL QUEENSTOWN LAKESIDE'}, {'id': 'WBZQN300', 'name': 'MATAKAURI LODGE'}, {'id': 'WVZQNTRH', 'name': 'THE REES HOTEL QUEENSTOWN'}, {'id': 'YXZQNSBC', 'name': 'SWISS-BELRESORT CORONET PEAK'}, {'id': 'YXZQNALI', 'name': 'HEARTLAND HOTEL QUEENSTOWN'}, {'id': 'YXZQNAUR', 'name': 'SCENIC SUITES QUEENSTOWN'}, {'id': 'YXZQNMIL', 'name': 'MILLBROOK RESORT'}]\n"
          ]
        },
        {
          "output_type": "stream",
          "name": "stderr",
          "text": [
            "WARNING:__main__:No flight data found for SSA -> ZQN\n"
          ]
        },
        {
          "output_type": "stream",
          "name": "stdout",
          "text": [
            "[{'id': 'HACUZPAK', 'name': 'PAKCHA REAL-SAN BLAS'}, {'id': 'HSCUZAAZ', 'name': 'HACIENDA DEL VALLE'}, {'id': 'HSCUZABX', 'name': 'CASA DE CAMPO CUSCO'}, {'id': 'IRCUZ537', 'name': 'HOTEL AND MIRADOR LOS APUS'}, {'id': 'MCCUZMCM', 'name': 'JW MARRIOTT EL CONVENTO CUSCO'}, {'id': 'OECUZPAN', 'name': 'BELMOND PALACIO NAZARENAS'}, {'id': 'PHCUZASV', 'name': 'ARANWA SACRED VALLEY PREFERRED'}, {'id': 'PHCUZACB', 'name': 'ARANWA CUSCO BOUTIQUE HOTEL'}, {'id': 'RACUZPIC', 'name': 'HOTEL COSTA DEL SOL RAMADA CUS'}, {'id': 'RTCUZNOV', 'name': 'NOVOTEL CUSCO'}, {'id': 'SNCUZSHC', 'name': 'SONESTA HOTEL CUSCO'}, {'id': 'SNCUZCUZ', 'name': 'SONESTA POSADA CUSCO'}, {'id': 'SNCUZYUC', 'name': 'SONESTA SACRED VALLEY'}, {'id': 'TACUZ266', 'name': 'SAN AGUSTIN PLAZA HOTEL'}, {'id': 'TACUZ121', 'name': 'HACIENDA DEL VALLE-URUBAMBA'}, {'id': 'WVCUZ01D', 'name': 'LOS PORTALES CUSCO'}, {'id': 'XTCUZRPC', 'name': 'RECOLETA PLAZA CUZCO'}, {'id': 'YXCUZTDA', 'name': 'TAMBO DEL ARRIERO'}, {'id': 'YXCUZ091', 'name': 'TERRA ANDINA HOTEL'}, {'id': 'YXCUZ270', 'name': 'SA MONASTERIO DE LA RECOLETA'}, {'id': 'YXCUZ01O', 'name': 'CASA ANDINA PC CUSCO'}, {'id': 'YXCUZCCC', 'name': 'CASA ANDINA CUSCO CATEDRAL'}, {'id': 'YXCUZ318', 'name': 'ECO INN CUSCO'}, {'id': 'YXCUZ774', 'name': 'CASA ANDINA CUSCO SAN BLAS'}, {'id': 'YXCUZ001', 'name': 'CASA ANDINA CLASSIC KORICANCHA'}, {'id': 'YXCUZ197', 'name': 'CASA ANDINA PC VALLE SAGRADO'}, {'id': 'YXCUZ267', 'name': 'HOTEL SAN AGUSTIN DORADO'}, {'id': 'YXCUZ265', 'name': 'SAN AGUSTIN INTERNACIONAL'}, {'id': 'YXCUZCAC', 'name': 'CASA ANDINA CUSCO PLAZA'}, {'id': 'YXCUZCCH', 'name': 'CASA CARTAGENA HOTEL AND SPA'}, {'id': 'YXCUZ269', 'name': 'HOTEL SAN AGUSTIN URUBAMBA'}, {'id': 'YXCUZNUS', 'name': 'NUSTAYOC LODGE'}]\n"
          ]
        },
        {
          "output_type": "stream",
          "name": "stderr",
          "text": [
            "INFO:werkzeug:127.0.0.1 - - [15/Mar/2025 18:48:58] \"POST /selecionar_cidade HTTP/1.1\" 200 -\n"
          ]
        },
        {
          "output_type": "stream",
          "name": "stdout",
          "text": [
            "Imagens encontradas: {'Suíça': ['https://pixabay.com/get/gb49f558b13fdda861adeeaba2593f1efaa6f8360bea7ca813fcde4ab6a206103c6f3aff7a47ea902a191db28712721e02e5952dd654c204076d022de377dbbdf_1280.jpg', 'https://pixabay.com/get/g24d131463d934ee9548df426ebeb0f961eb41cf506dbf9e87b2564e331fe2b12d6e2bf98519d7346c128e7d42d11bbe96ed1ee64f925daf1f4889b4b44122ecc_1280.jpg', 'https://pixabay.com/get/g1611d9608d3be9206a23616ab8a8abba6ffa46a993b174c0df95d1a5673bc5f86af1f76eb4486f83422752904a7b11388d9b3f2af51ced5dbb81f3b6aa9b3cc9_1280.jpg', 'https://pixabay.com/get/gb2293baf1cdcbf69cec975f1500274cd3126462957b2851321db1bdd2b2755246c189debf0023cca044e7aaeec6afa2a23b7254f8f6cde7f74e344ee02974551_1280.jpg', 'https://pixabay.com/get/g85d2b01fb834026abd922f1318f0cc5922f24daff85adedf7d8a4fdcb4a85590311307a0382317129184a8e720eae70d1df39cfcd243b0a2a7301e5df5dba7ea_1280.jpg'], 'Nova Zelândia': ['https://pixabay.com/get/gd9921099b6ec7012a497b5417ca4e27c68c39d9ffd81f0b58b02b771bf6cb0191111badbacd31c902616ebead4de1cef6868718e103fde4774a71bcd8d621185_1280.jpg', 'https://pixabay.com/get/g17de46ecdc5a96a224dd851ae56e9aaf1fe4e9e2f04de0924084e8933cf67e28712cab7e4a6107cfc1995edefd1ddccd56d4bd33e41438d93e6aaf7842712b65_1280.jpg', 'https://pixabay.com/get/g428a9778b72f80ca4dd9fd537cd606bad36bea2e259d7ce1a31e40f69e56943684f97457d560cda2189ac804e7b89df0f79b8eb1e53c6011bc49f17bafac6d5b_1280.jpg', 'https://pixabay.com/get/g6bb3a7a23ebc871d3ee15b6127274ca78a0b3d29105182530c558982d82d3d84f60dbe93f0b27b520fc08030db38d414b17be676efa4f676ca6e592e7bc64e75_1280.jpg', 'https://pixabay.com/get/g019cfd14b095bbc44fc823b6db4b3d2a84bdf77740437ccb8b3ad5e349771ed105b4378bdbb1dbc6241d39ba1c70b2fc4aeb4c6a31dbb9999bc7701f3ac7833f_1280.jpg'], 'Peru': ['https://pixabay.com/get/g35137f1b7cb4a23a99ba1a3293b93b10edf5b03ecb0cca387a44a24019cbf44ef5d15e3924cbec7bb66416fcf9f7e58d2da3ba3edcb574f68bfab61e9af0d369_1280.jpg', 'https://pixabay.com/get/gc5ea9271b9f547c9ae71c5fdb066fe032b482bf56d57a4a10a777589dd8dbd25b798267d0e59897115b672fcc1d7563efcda236d730340ece6ae9abf0ccb5eda_1280.jpg', 'https://pixabay.com/get/gce8c958a1f8fb2a9b3d85359ce805f117545616cca47409cb34b7dfa1c37975aad1260fa350d1f860f3773a74b4d91bc37e3f976965f600042da82157a4dc291_1280.jpg', 'https://pixabay.com/get/g97064de55a71bb1549dbaff8ab3397680587046645fefbd97992cc34d97be4b0ef89b62796ee5beb9eeb236af323667886165abd809808a1e3d6c1b51bcf1b74_1280.jpg', 'https://pixabay.com/get/gf8c14844b26956ac1bf1f5c324bf82d3be6aeb944f32bc571c6ba1d27a208cdb02516b953b6a530efcf5ebfb4520155c192b0ecfe7c5d29428acb8856fd8f7e5_1280.jpg']}\n"
          ]
        },
        {
          "output_type": "stream",
          "name": "stderr",
          "text": [
            "INFO:werkzeug:127.0.0.1 - - [15/Mar/2025 19:07:04] \"GET / HTTP/1.1\" 200 -\n",
            "INFO:werkzeug:127.0.0.1 - - [15/Mar/2025 19:09:31] \"GET / HTTP/1.1\" 200 -\n",
            "INFO:werkzeug:127.0.0.1 - - [15/Mar/2025 19:09:32] \"\u001b[33mGET /favicon.ico HTTP/1.1\u001b[0m\" 404 -\n",
            "INFO:werkzeug:127.0.0.1 - - [15/Mar/2025 19:12:08] \"POST / HTTP/1.1\" 200 -\n",
            "INFO:werkzeug:127.0.0.1 - - [15/Mar/2025 19:12:14] \"POST / HTTP/1.1\" 200 -\n",
            "INFO:werkzeug:127.0.0.1 - - [15/Mar/2025 19:12:15] \"\u001b[36mGET /static/HI9M.gif HTTP/1.1\u001b[0m\" 304 -\n"
          ]
        },
        {
          "output_type": "stream",
          "name": "stdout",
          "text": [
            "quero ver cidades no nordeste brasileiro Liste 3 de destinos turísticos, incluindo: - Informe cidades com serviço regular de voos que sejam proximas às atracoes destacadas: Nome da Cidade e seu codigo IATA em parentesis: (exemplo: 'San Juan (SJU)'). - Principais atrações e atividades. use no maximo 1000 palavras de forma que resuma bem o pedido do usuario.\n",
            "\n",
            "1. Recife, PE (REC)\n",
            "   - Atrações: Olinda, uma cidade histórica declarada Patrimônio Mundial; Centro Histórico de Recife, com seus belos edifícios coloniais; Mercado de São Pedro, um dos maiores mercados de gastronomia do país.\n",
            "   - Atividades: Visita a Praia de Boa Viagem, a mais popular da cidade; passeio na \"Rua de Santo Antônio\", conhecida por seus múltiplos restaurantes; visita a Ilha de Itaparica, um local idílico para passeios e lazer.\n",
            "\n",
            "2. Fortaleza, CE (FOR)\n",
            "   - Atrações: Praia do Futuro, uma das melhores praias do Nordeste; Centro Histórico de Fortaleza, com suas praças, igrejas e edifícios coloniais; Museu de Arte Sacra, que contém obras de arte sacra do século XVI ao XX.\n",
            "   - Atividades: Visita a Praia de Iracema, a mais famosa da cidade; passeio na Praia do Futuro; visita ao Parque Ecológico do Mucuripe, que abriga uma vasta variedade de espécies animais.\n",
            "\n",
            "3. Salvador, BA (SSA)\n",
            "   - Atrações: Pelourinho, um dos principais pontos turísticos do Brasil, declarado Patrimônio Mundial; Praia da Barra, a mais antiga da cidade; Igreja e Convento de São Francisco, conhecido pelo seu teto dourado.\n",
            "   - Atividades: Visita a Praia de Porto da Barra, que se destaca por sua beleza; passeio na Praia do Farol, onde pode assistir ao sol nascer; visita ao Museu Afro Brasil, que aborda a história dos escravos no Brasil.\n",
            "origem IATA: MDE\n",
            "[{'id': 'BWREC011', 'name': 'BEST WESTERN MANIBU RECIFE'}, {'id': 'CYRECCYC', 'name': 'COURTYARD RECIFE MARRIOTT'}, {'id': 'GTRECPAL', 'name': 'GOLDEN TULIP RECIFE PALACE'}, {'id': 'ODRECRMH', 'name': 'RECIFE MONTE HOTEL'}, {'id': 'ODRECFPG', 'name': 'HOTEL FAZENDA PORTAL DE GRAVATA'}, {'id': 'ODRECHDA', 'name': 'HOTEL DES ARTS'}, {'id': 'ODRECOMH', 'name': 'ONDA MAR HOTEL'}, {'id': 'SIREC783', 'name': 'SHERATON RESERVA DO PAIVA HTL'}, {'id': 'UIREC232', 'name': 'BEACH CLASS SUITES'}, {'id': 'WVREC365', 'name': 'VILLAGE PORTO DE GALINHAS'}, {'id': 'WVREC961', 'name': 'PORTO DE GALINHAS PRAIA HOTEL'}, {'id': 'WVREC901', 'name': 'ENOTEL ACQUA CLUB PORTO DE GALINHAS'}, {'id': 'WVREC711', 'name': 'ENOTEL RESORT AND SPA PORTO DE GALINHAS'}, {'id': 'WVREC261', 'name': 'KEMBALI HOTEL PORTO DE GALINHAS'}, {'id': 'WVREC733', 'name': 'INTERNACIONAL PALACE HOTEL'}, {'id': 'XHRECTFC', 'name': \"HOTEL CANARIU'S D'GAIBU\"}, {'id': 'XHREC4J6', 'name': 'POUSADA MARAMBAIA DO PORTO'}, {'id': 'XHRECK9A', 'name': 'POUSADA TABAJUBA'}, {'id': 'XHRECWYD', 'name': 'SUMMERVILLE BEACH RESORT'}, {'id': 'XHRECSQS', 'name': 'AGUAMARINHA POUSADA'}, {'id': 'XHRECUHA', 'name': 'POUSADA VILA DO GALO'}, {'id': 'XHRECA8R', 'name': 'POUSADA DO GALO'}, {'id': 'XHREC334', 'name': 'POUSADA CAPITAES DE AREIA'}, {'id': 'XHRECV2V', 'name': 'POUSADA PORTO DE GALINHAS'}, {'id': 'XHRECNXS', 'name': 'POUSADA VIVENDA DOS CORAIS'}, {'id': 'XHRECL7P', 'name': 'POUSADA ARRAIAL DO SOL'}, {'id': 'XHRECCP9', 'name': 'POUSADA CANTO DO MAR'}, {'id': 'XHREC2VT', 'name': 'POUSADA BON VIVANT'}, {'id': 'XHRECMXH', 'name': 'POUSADA FLATS SONHOS DO PORTO'}, {'id': 'XHRECY8L', 'name': 'POUSADA SAMBURA'}, {'id': 'XHRECTVD', 'name': 'PORTO DE GALINHAS PRAIA HOTEL'}, {'id': 'XHREC5AR', 'name': 'SUITE PORTO DOS CORAIS'}, {'id': 'XHRECUZQ', 'name': 'HOTEL VILLAGE PORTO DE GALINHAS'}, {'id': 'XHRECH7R', 'name': 'MARUPIARA HOTEL PORTO DE GALINHAS'}, {'id': 'XHRECPU1', 'name': 'POUSADA VILA DO PORTO'}, {'id': 'XHRECNRR', 'name': 'POUSADA MORADA AZUL'}, {'id': 'XHRECDEK', 'name': 'POUSADA TABAPITANGA'}, {'id': 'XHREC2B6', 'name': 'CASA BLANCA HOTEL BUSINESS & SPA'}, {'id': 'XHRECFSI', 'name': 'POUSADA BAOBA'}, {'id': 'XHRECQVJ', 'name': 'POUSADA LUSITANA'}, {'id': 'XHRECZN2', 'name': 'MARULHOS SUITES RESORTS'}, {'id': 'XHREC8T6', 'name': 'ENOTEL ACQUA CLUB PORTO DE GALINHAS'}, {'id': 'XHRECD5L', 'name': 'MARANTE PLAZA HOTEL'}, {'id': 'XHRECKA6', 'name': 'BEST WESTERN MANIBU RECIFE HOTEL'}, {'id': 'XHREC21L', 'name': 'ARCADA HOTEL E BISTRO'}, {'id': 'XHRECD55', 'name': 'HOTEL SAVEIRO'}, {'id': 'XHREC1OG', 'name': 'DAN INN MAR'}, {'id': 'XHRECLI6', 'name': 'BEACH CLASS SUITES'}, {'id': 'XHRECR86', 'name': 'GOLDEN TULIP RECIFE PALACE'}, {'id': 'XHRECV2U', 'name': 'ATLANTE PLAZA'}, {'id': 'XHREC8A8', 'name': 'RECIFE PRAIA HOTEL'}, {'id': 'XHRECESA', 'name': 'DES ARTS'}, {'id': 'XHREC1SY', 'name': 'CASTELINHO HOTEL'}, {'id': 'XHRECEAH', 'name': 'RECIFE MONTE HOTEL'}, {'id': 'XHREC2OZ', 'name': \"CANARIU'S PALACE HOTEL\"}, {'id': 'XHRECA3C', 'name': 'NACIONAL INN RECIFE'}, {'id': 'XHRECLAY', 'name': 'ANAHI HOTEL'}, {'id': 'XHREC6J8', 'name': 'POUSADA PRAIA DOS CARNEIROS'}, {'id': 'YXRECMAR', 'name': 'MARUPIARA HOTEL'}]\n"
          ]
        },
        {
          "output_type": "stream",
          "name": "stderr",
          "text": [
            "ERROR:__main__:Failed to fetch hotel offers: 400, Response: {\"errors\":[{\"code\":10604,\"title\":\"INVALID OR MISSING DATA\",\"status\":400,\"detail\":\"Provider Error - INVALID OR MISSING DATA\",\"source\":{\"parameter\":\"hotelIds=UIREC232\"}},{\"code\":1257,\"title\":\"INVALID PROPERTY CODE\",\"status\":400,\"detail\":\"Provider Error - INVALID PROPERTY CODE\",\"source\":{\"parameter\":\"hotelIds=BWREC011,CYRECCYC,GTRECPAL,SIREC783,WVREC261,WVREC365,WVREC711,WVREC901,WVREC961,XHREC1OG,XHREC21L,XHREC2B6,XHREC2VT,XHREC334,XHREC4J6,XHREC5AR,XHREC8T6,XHRECA8R,XHRECCP9,XHRECD55,XHRECD5L,XHRECDEK,XHRECFSI,XHRECH7R,XHRECK9A,XHRECKA6,XHRECL7P,XHRECLI6,XHRECMXH,XHRECNRR,XHRECNXS,XHRECPU1,XHRECQVJ,XHRECR86,XHRECSQS,XHRECTFC,XHRECTVD,XHRECUHA,XHRECUZQ,XHRECV2U,XHRECV2V,XHRECWYD,XHRECY8L,XHRECZN2\"}},{\"code\":3664,\"title\":\"NO ROOMS AVAILABLE AT REQUESTED PROPERTY\",\"status\":400,\"detail\":\"Provider Error - NO ROOMS AVAILABLE AT REQUESTED PROPERTY\",\"source\":{\"parameter\":\"hotelIds=WVREC733\"}}]}\n",
            "ERROR:__main__:Failed to fetch hotel offers: 400, Response: {\"errors\":[{\"code\":1257,\"title\":\"INVALID PROPERTY CODE\",\"status\":400,\"detail\":\"Provider Error - INVALID PROPERTY CODE\",\"source\":{\"parameter\":\"hotelIds=XHREC1SY,XHREC2OZ,XHREC6J8,XHREC8A8,XHRECA3C,XHRECEAH,XHRECESA,XHRECLAY,YXRECMAR\"}}]}\n"
          ]
        },
        {
          "output_type": "stream",
          "name": "stdout",
          "text": [
            "[{'id': 'CIFOR010', 'name': 'COMFORT HOTEL FORTALEZA'}, {'id': 'LTFORPMS', 'name': 'PRAIA MANSA SUITE HOTEL'}, {'id': 'ODFORTHO', 'name': 'POUSADA CAPITAO THOMAZ'}, {'id': 'ODFORVLM', 'name': 'VELA E MAR HOTEL'}, {'id': 'ODFORSPH', 'name': 'A SAMBURA PRAIA HOTEL'}, {'id': 'ODFORW64', 'name': 'HOTEL SPAZZIO FORTALEZA'}, {'id': 'ODFORABO', 'name': 'ADABA BLUE OCEAN FLAT'}, {'id': 'ODFORPNJ', 'name': 'POUSADA NAQUELA JERICOACOARA'}, {'id': 'ODFORCCR', 'name': 'CARMEL CHARME RESORT - AQUIRAZ'}, {'id': 'ODFORHLF', 'name': 'HOTEL LITORAL FORTALEZA'}, {'id': 'ODFORCMP', 'name': 'CARMEL MAGNA PRAIA HOTEL'}, {'id': 'QIFOR003', 'name': 'QUALITY HOTEL FORTALEZA'}, {'id': 'UIFOR382', 'name': 'LUZEIROS FORTALEZA HOTEL'}, {'id': 'WVFOR899', 'name': 'AQUAVILLE RESORT'}, {'id': 'WVFOR248', 'name': 'MAREIRO HOTEL'}, {'id': 'WVFOR008', 'name': 'SEARA PRAIA HOTEL'}, {'id': 'WVFOR616', 'name': 'HOTEL PRAIA CENTRO'}, {'id': 'WVFOR149', 'name': 'CARMEL EXPRESS HOTEL'}, {'id': 'WVFOR005', 'name': 'PONTA MAR HOTEL'}, {'id': 'WVFORFOR', 'name': 'HOTEL GRAN MARQUISE'}, {'id': 'XHFOR66X', 'name': 'KALAMARI HOTEL'}, {'id': 'XHFOR1GP', 'name': 'BEACH HOUSE HOTEL'}, {'id': 'XHFORR2V', 'name': 'CARMEL CHARME RESORT'}, {'id': 'XHFORSMO', 'name': 'HOTEL SOL LESTE'}, {'id': 'XHFORC2Z', 'name': 'POUSADA OCAS DO INDIO'}, {'id': 'XHFORA1E', 'name': 'BRUNO MARAMBAIA CHARME HOTEL'}, {'id': 'XHFORGMB', 'name': 'HOTEL IRACEMA'}, {'id': 'XHFORNI9', 'name': 'POUSADA VERANEIO'}, {'id': 'XHFOR7LG', 'name': 'RAIO DE SOL PRAIA HOTEL'}, {'id': 'XHFORLLW', 'name': 'IRACEMA TRAVEL'}, {'id': 'XHFORV62', 'name': 'RAH VILLA COSTEIRA'}, {'id': 'XHFOR1NC', 'name': 'MAREDOMUS HOTEL'}, {'id': 'XHFORSZ6', 'name': 'QUALITY HOTEL FORTALEZA'}, {'id': 'XHFOR84K', 'name': 'MAREIRO HOTEL'}, {'id': 'XHFORPNV', 'name': 'MAREIRO HOTEL'}, {'id': 'XHFORXJ7', 'name': 'MAREIRO HOTEL'}, {'id': 'XHFORITK', 'name': 'OTHON PALACE FORTALEZA'}, {'id': 'XHFOR88R', 'name': 'POUSADA LATITUDE'}, {'id': 'XHFORZH8', 'name': 'LUX HOTEL'}, {'id': 'XHFORGKP', 'name': 'ALPHA PRAIA HOTEL'}, {'id': 'XHFOR7OE', 'name': 'POUSADA PARAISO DO CUMBUCO'}, {'id': 'XHFOR6AN', 'name': 'ADABA MISTRAL HOTEL'}, {'id': 'XHFORJ32', 'name': 'TABAJARA FLAT'}, {'id': 'XHFOR0YV', 'name': 'MURANO BUSINESS HOTEL'}, {'id': 'XHFORWUJ', 'name': 'POUSADA COSTA MARINA'}, {'id': 'XHFOR1YI', 'name': 'ADABA BLUE OCEAN FLAT'}, {'id': 'XHFOR9PX', 'name': 'ELDORADO CAFE FORTALEZA'}, {'id': 'XHFORCPD', 'name': 'HOTEL AMERICAS'}, {'id': 'XHFORLIR', 'name': 'NAVEGANTES PRAIA HOTEL'}, {'id': 'XHFORAK3', 'name': 'HOTEL TRAIRI ATIVO'}, {'id': 'YXFORVGC', 'name': 'VILA GALE CUMBUCO'}, {'id': 'YXFORVIL', 'name': 'VILA GALE FORTALEZA'}]\n"
          ]
        },
        {
          "output_type": "stream",
          "name": "stderr",
          "text": [
            "ERROR:__main__:Failed to fetch hotel offers: 400, Response: {\"errors\":[{\"code\":10604,\"title\":\"INVALID OR MISSING DATA\",\"status\":400,\"detail\":\"Provider Error - INVALID OR MISSING DATA\",\"source\":{\"parameter\":\"hotelIds=UIFOR382\"}},{\"code\":1257,\"title\":\"INVALID PROPERTY CODE\",\"status\":400,\"detail\":\"Provider Error - INVALID PROPERTY CODE\",\"source\":{\"parameter\":\"hotelIds=CIFOR010,QIFOR003,WVFOR005,WVFOR008,WVFOR149,WVFOR248,WVFOR616,WVFOR899,XHFOR0YV,XHFOR1GP,XHFOR1NC,XHFOR1YI,XHFOR66X,XHFOR6AN,XHFOR7LG,XHFOR7OE,XHFOR84K,XHFOR88R,XHFOR9PX,XHFORA1E,XHFORAK3,XHFORC2Z,XHFORCPD,XHFORGKP,XHFORGMB,XHFORITK,XHFORJ32,XHFORLIR,XHFORLLW,XHFORNI9,XHFORPNV,XHFORR2V,XHFORSMO,XHFORSZ6,XHFORV62,XHFORWUJ,XHFORXJ7,XHFORZH8\"}},{\"code\":3664,\"title\":\"NO ROOMS AVAILABLE AT REQUESTED PROPERTY\",\"status\":400,\"detail\":\"Provider Error - NO ROOMS AVAILABLE AT REQUESTED PROPERTY\",\"source\":{\"parameter\":\"hotelIds=WVFORFOR\"}}]}\n",
            "ERROR:__main__:Failed to fetch hotel offers: 400, Response: {\"errors\":[{\"code\":1257,\"title\":\"INVALID PROPERTY CODE\",\"status\":400,\"detail\":\"Provider Error - INVALID PROPERTY CODE\",\"source\":{\"parameter\":\"hotelIds=YXFORVGC,YXFORVIL\"}}]}\n"
          ]
        },
        {
          "output_type": "stream",
          "name": "stdout",
          "text": [
            "[{'id': 'EPSSACOC', 'name': 'HOTEL COCOON AND LOUNGE'}, {'id': 'GTSSATAS', 'name': 'GOLDEN TULIP RIO VERMELHO'}, {'id': 'HSSSAAAQ', 'name': 'OCEANICO ARMACAO'}, {'id': 'HSSSAABJ', 'name': 'POUSADA DA SAUDE'}, {'id': 'HSSSAAAX', 'name': 'POUSADA DO BALUARTE'}, {'id': 'HSSSAABL', 'name': 'CANAVILLE DESIGNHOTEL'}, {'id': 'HSSSAAAN', 'name': 'POUSADA DA MANGUEIRA'}, {'id': 'ODSSABPH', 'name': 'BAHIA PARK HOTEL'}, {'id': 'ODSSAPDM', 'name': 'POUSADA DA MAREIA'}, {'id': 'ODSSACCH', 'name': 'COLONIAL CHILE HOTEL'}, {'id': 'ODSSASHC', 'name': 'SAO SALVADOR HOTEL E CONVENCOES'}, {'id': 'ODSSAGHB', 'name': 'GRANDE HOTEL DA BARRA'}, {'id': 'ODSSAEHS', 'name': 'EXPRESS HOTEL SALVADOR'}, {'id': 'ODSSACCB', 'name': 'HOTEL COCO BEACH - CONDE'}, {'id': 'ODSSAIPH', 'name': 'ITAPOA PRAIA HOTEL'}, {'id': 'ODSSAVRH', 'name': 'VILLA ROMANA HOTEL'}, {'id': 'PHSSATER', 'name': 'TIVOLI ECORESORT PRAIA DOFORTE'}, {'id': 'RTSSACSL', 'name': 'MERCURE SALVADOR PITUBA'}, {'id': 'RTSSAIBH', 'name': 'IBIS SALVADOR AEROPORTO HANGAR'}, {'id': 'RTSSAMSB', 'name': 'MERCURE BOULEVARD'}, {'id': 'RTSSAMER', 'name': 'MERCURE SALVADOR RIO VERMELHO'}, {'id': 'TASSAFIE', 'name': 'FIESTA BAHIA HOTEL'}, {'id': 'TASSAOND', 'name': 'ONDINA APART'}, {'id': 'TYSSACAT', 'name': 'CATAVENTO HOTEL AND LOUNGE'}, {'id': 'WWSSABOP', 'name': 'BAHIA OTHON PALACE'}, {'id': 'XHSSAQP9', 'name': 'POUSADA ARACAS VILLAGE'}, {'id': 'XHSSAL9I', 'name': 'POUSADA VILA IMBASSAI'}, {'id': 'XHSSA5EZ', 'name': 'POUSADA CASAVIOLA'}, {'id': 'XHSSAG5C', 'name': 'POUSADA CASA DE PRAIA'}, {'id': 'XHSSAP6D', 'name': 'PORTO ZARPA HOTEL'}, {'id': 'XHSSALRB', 'name': 'RESORT COSTA DOS COQUEIROS'}, {'id': 'XHSSA43F', 'name': 'POUSADA XERIFE'}, {'id': 'XHSSAS4N', 'name': 'POUSADA TIA GLORIA'}, {'id': 'XHSSA47S', 'name': 'PATACHOCAS ECO RESORT'}, {'id': 'XHSSAUIC', 'name': 'ESTRELAS DO MORRO'}, {'id': 'XHSSAVL8', 'name': 'POUSADA GAUCHO'}, {'id': 'XHSSA354', 'name': 'POUSADA ESTEVAO'}, {'id': 'XHSSAN6O', 'name': 'POUSADA TIA PRETA'}, {'id': 'XHSSADI9', 'name': 'HOSTEL ROSA DOS VENTOS'}, {'id': 'XHSSA70J', 'name': 'POUSADA VILA DO SOSSEGO'}, {'id': 'XHSSAQCZ', 'name': 'POUSADA EBANO'}, {'id': 'XHSSA2HS', 'name': 'POUSADA BARRA VENTO'}, {'id': 'XHSSA0CY', 'name': 'POUSADA AQUARELA MORRO DE SP'}, {'id': 'XHSSA9EO', 'name': 'POUSADA COQUEIRO DO CAITA'}, {'id': 'XHSSA0FV', 'name': 'SAMBASS POUSADA'}, {'id': 'XHSSA55K', 'name': 'POUSADA FAZENDA CAEIRA'}, {'id': 'XHSSA3SC', 'name': 'CATUSSABA BUSINESS'}, {'id': 'XHSSAVD1', 'name': 'CATUSSABA SUITES'}, {'id': 'XHSSAYS0', 'name': 'BAHIA SOL E MAR HOTEL'}, {'id': 'XHSSAMAH', 'name': 'NACIONAL INN SALVADOR'}, {'id': 'XHSSAYYM', 'name': 'VILLAGE NOVO'}, {'id': 'XHSSAJIN', 'name': 'HIT HOTEL'}, {'id': 'XHSSAQSM', 'name': 'BAHIA OTHON PALACE'}, {'id': 'XHSSAEUG', 'name': 'HOTEL SOL VICTORIA MARINA'}, {'id': 'XHSSA6LG', 'name': 'SUITES DO PELO'}, {'id': 'XHSSAZG9', 'name': 'POUSADA O NINHO'}, {'id': 'XHSSAZJZ', 'name': 'POUSADA CORAIS DA BARRA'}, {'id': 'XHSSA27P', 'name': 'HOTEL ITAPOA PRAIA'}, {'id': 'XHSSAAN5', 'name': 'POUSADA POESIA'}, {'id': 'XHSSA10I', 'name': 'WEB HOTEL SALVADOR'}, {'id': 'XHSSAUG7', 'name': 'HOTEL ONIX'}, {'id': 'XHSSA7SN', 'name': 'HOTEL VILLA SANTO ANTONIO'}, {'id': 'XHSSA2MY', 'name': 'POUSADA DES ARTS'}, {'id': 'XHSSAZTP', 'name': 'GRANDE HOTEL DA BARRA'}, {'id': 'XHSSA307', 'name': 'MAR BRASIL HOTEL'}, {'id': 'XHSSA5QA', 'name': 'POUSADA BARROCO'}, {'id': 'XHSSAUH5', 'name': 'GOLDEN TULIP RIO VERMELHO'}, {'id': 'XHSSAMA1', 'name': 'POUSADA PEDRA DA CONCHA'}, {'id': 'XHSSABWU', 'name': 'POUSADA DA MERCIA'}, {'id': 'XHSSARY8', 'name': 'SOTERO HOTEL BY NOBILE'}, {'id': 'XHSSABJA', 'name': 'POUSADA TERRA NOSSA'}, {'id': 'YXSSA072', 'name': 'SOL VICTORIA MARINA'}, {'id': 'YXSSA070', 'name': 'SOL BARRA'}, {'id': 'YXSSASMA', 'name': 'STELLA MARIS'}, {'id': 'YXSSA09F', 'name': 'SOL BAHIA'}, {'id': 'YXSSA031', 'name': 'PESTANA CONVENTO DO CARMO'}, {'id': 'YXSSABAH', 'name': 'PESTANA BAHIA LODGE RESIDENCE'}, {'id': 'YXSSAVGM', 'name': 'VILA GALE MARES'}, {'id': 'YXSSASPS', 'name': 'HOTEL SOL PLAZA SLEEP'}, {'id': 'YXSSACAR', 'name': 'PESTANA BAHIA HOTEL'}, {'id': 'YXSSAVIL', 'name': 'VILA GALE SALVADOR'}, {'id': 'YXSSASOF', 'name': 'HOTEL DEVILLE PRIME SALVADOR'}]\n"
          ]
        },
        {
          "output_type": "stream",
          "name": "stderr",
          "text": [
            "ERROR:__main__:Failed to fetch hotel offers: 400, Response: {\"errors\":[{\"code\":1257,\"title\":\"INVALID PROPERTY CODE\",\"status\":400,\"detail\":\"Provider Error - INVALID PROPERTY CODE\",\"source\":{\"parameter\":\"hotelIds=XHSSA10I,XHSSA27P,XHSSA2MY,XHSSA307,XHSSA5QA,XHSSA6LG,XHSSA7SN,XHSSAAN5,XHSSABJA,XHSSABWU,XHSSAEUG,XHSSAJIN,XHSSAMA1,XHSSAQSM,XHSSARY8,XHSSAUG7,XHSSAUH5,XHSSAYYM,XHSSAZG9,XHSSAZJZ,XHSSAZTP,YXSSA031,YXSSA070,YXSSA072,YXSSA09F,YXSSABAH,YXSSACAR,YXSSASMA,YXSSASOF,YXSSASPS,YXSSAVGM,YXSSAVIL\"}}]}\n",
            "INFO:werkzeug:127.0.0.1 - - [15/Mar/2025 19:13:10] \"POST /selecionar_cidade HTTP/1.1\" 200 -\n"
          ]
        },
        {
          "output_type": "stream",
          "name": "stdout",
          "text": [
            "Imagens encontradas: {'Pe': ['https://pixabay.com/get/gcb75f046f6d10d3ef974ae8e09e9ac8418f2abd183921ba7026742077344e0ad4a60cf22edd20ab38746dbfc1545ffcc4327e84b5e459cf102079527001585da_1280.jpg', 'https://pixabay.com/get/g898127a835d0c1240c3f544f88e2827d4bb26c8347186074e8b67330e4bd47f9ea5f9a72e955e91f5413b761029482da64e666a42044223cf1380ccb198dc7b3_1280.jpg', 'https://pixabay.com/get/g152221eae2c66379740cbe72b7d13c48e46832372f059220376f661d880c8a526daff87857d18b8805eafe313e5a8e136a67ac361a66abf44ce9466d0e29826f_1280.jpg', 'https://pixabay.com/get/gb0412dbde550195c3e9e364bf80fd542341282390d67f229bb9ef5bcaa53a6d1001f200161d71205acab296cef37ad2688a46fe5a168af3cd1eaeb12409f4d33_1280.jpg', 'https://pixabay.com/get/g0d63c21d1f8e84a63a1198fdf6d5d6c47061bda2d8362d9d9a19975b82899f28ca320261df1f962e2c1c023951aa1520f0970d3e1e7d7878740ab873947da255_1280.jpg'], 'Ce': ['https://pixabay.com/get/g101fd6f954044a74a91c0100f8f5c382d13bd1fe3f8efd215ecc95febdfa63a9a595a329a6f81c19c60acdc5e9fcdfc3ba77cbcddf6127c9439466336d0f1827_1280.jpg', 'https://pixabay.com/get/g6d72ed9bcf77d3b4cd68a19fde4cba1dd224968fa72f8d6c6b9a1fe6efb3ecf2647ffff38e3a7d11cdeb3c0d1f551382a75b5c46c0dc89d3ad016135debfea2d_1280.jpg', 'https://pixabay.com/get/gea043be44a6d12bd738e4789d25d1f59105421240619d37f5e797ed182334ee78fb31665314ead8672e870336e7cc929d5418b4962910145f284ea259431e34a_1280.jpg', 'https://pixabay.com/get/g6bd7b20098babb9c5a33b62c7e115542029f5a2a2e5bf6dd59582e879f443b77e80ec73fb7cff570f2a9734578d0ca6731243fea6ae3b2ed0c1d9388651a24c8_1280.jpg', 'https://pixabay.com/get/ge64231cda00c2f514674a15c187539ca187313a7d0fae10bf04fc432bf06e24c7385321f3bfc0409b13a1ee8b184888ee085bce7ac655901d07d442fb3007350_1280.jpg'], 'Ba': ['https://pixabay.com/get/g57e9330d6019374bf4603ff445699669dc9d546a72b88a9055ef38e25849b8fa8fee788ac5c36f58ba0e7e634e279ec3203f18ccfbbe49ff49e6ca1961cea7d3_1280.jpg', 'https://pixabay.com/get/g7f11a857242dbc21a68e83a0a3c3e75c739cf1166f30afa88d33c954b61ca1fdb029f3ec77a103c2267f453e517b74d0c94db8037c5e123ff294d3df00b3ed97_1280.jpg', 'https://pixabay.com/get/gff42e784724d54df2b721f9633bbadf7bd269e2c05bd096d596ca05e0e1f53b26f60a28f1b0825965626b96999addb9d5567a67f84a882c0cad78f85addbda4d_1280.jpg', 'https://pixabay.com/get/g02369ca7d98c44e81e5b51defa4740b39432e68028253ce15ece226686c810503c962a59a6e64f932c936f14e75faf3f4233d325d7c51af19627d75785870916_1280.jpg', 'https://pixabay.com/get/g624666741aeb85cf1d0c3cdad199d07cb1cbf602954da643cbbb3c9f43cda51c119f588dc2884f6a09ba7cb83109777e12f57c6f2baa6bb299b59e563f4d6811_1280.jpg']}\n"
          ]
        },
        {
          "output_type": "stream",
          "name": "stderr",
          "text": [
            "INFO:werkzeug:127.0.0.1 - - [15/Mar/2025 19:17:06] \"GET / HTTP/1.1\" 200 -\n",
            "INFO:werkzeug:127.0.0.1 - - [15/Mar/2025 19:17:06] \"GET / HTTP/1.1\" 200 -\n",
            "INFO:werkzeug:127.0.0.1 - - [15/Mar/2025 19:17:07] \"GET / HTTP/1.1\" 200 -\n",
            "INFO:werkzeug:127.0.0.1 - - [15/Mar/2025 19:17:07] \"GET / HTTP/1.1\" 200 -\n",
            "INFO:werkzeug:127.0.0.1 - - [15/Mar/2025 19:17:07] \"\u001b[33mGET /favicon.ico HTTP/1.1\u001b[0m\" 404 -\n",
            "INFO:werkzeug:127.0.0.1 - - [15/Mar/2025 19:17:33] \"POST / HTTP/1.1\" 200 -\n"
          ]
        },
        {
          "output_type": "stream",
          "name": "stdout",
          "text": [
            "Quero lugar calmo Liste 3 de destinos turísticos, incluindo: - Informe cidades com serviço regular de voos que sejam proximas às atracoes destacadas: Nome da Cidade e seu codigo IATA em parentesis: (exemplo: 'San Juan (SJU)'). - Principais atrações e atividades. use no maximo 1000 palavras de forma que resuma bem o pedido do usuario.\n",
            "\n",
            "1. Santorini, Grécia (JTR)\n",
            "   Santorini é uma ilha do mar Egeu, conhecida por suas paisagens espetaculares, com casas brancas com telhados azuis em cidades perchadas em falésias. A ilha tem atrações como a Praia de Perissa, uma praia de areia preta e o Monte Profeta Elias, onde você pode ver o paisagem do topo.\n",
            "\n",
            "2. Maui, Havaí (OGG)\n",
            "   Maui é uma ilha havaiana famosa por suas praias, como a Praia de Wailea e a Praia de Kaanapali. Você também pode visitar o Parque Nacional Haleakala, onde você pode assistir ao sol nascer sobre a cratera de um vulcão.\n",
            "\n",
            "3. Amesterdão, Holanda (AMS)\n",
            "   Amesterdão é uma cidade neerlandesa famosa por seus canais, museus e muitos edifícios históricos, como a Casa de Anatomia e o Rijksmuseum. Você também pode visitar o Parque Vondelpark e o Canal de Amesterdão.\n",
            "origem IATA: RAO\n",
            "[{'id': 'DHJTRAEX', 'name': 'ALTA MARE (OIA)'}, {'id': 'DHJTRAFF', 'name': 'OKEANIS BEACH HOTEL'}, {'id': 'DHJTRAEW', 'name': 'AMERISA SUITES (FIRA)'}, {'id': 'DHJTRAFE', 'name': 'ARESSANA SPA HOTEL AND SUITES'}, {'id': 'DHJTRAEY', 'name': 'ASTERAS VILLAS'}, {'id': 'DHJTRAEV', 'name': 'ANTINEA HOTEL, STUDIOS AND APARTMETS (KA'}, {'id': 'DHJTRAEZ', 'name': 'THALASSA SEASIDE RESORT AND SUITES'}, {'id': 'DHJTRAFA', 'name': 'KATIKIES THE HOTEL (OIA)'}, {'id': 'DHJTRAFD', 'name': 'CARPE DIEM (PYRGOS)'}, {'id': 'DHJTRAFB', 'name': 'PETROS PENSION (FIRA)'}, {'id': 'DHJTRAEU', 'name': 'ANASTASIA (KAMARI)'}, {'id': 'DSJTRAHL', 'name': 'ANEMI HOTEL'}, {'id': 'HOJTRDHS', 'name': 'THIRAS DOLPHIN'}, {'id': 'HOJTRKSH', 'name': 'KALYA SUITES HOTEL'}, {'id': 'HOJTR524', 'name': 'LA MER DELUXE HOTEL AND SPA'}, {'id': 'HSJTRAEK', 'name': 'ERSI VILLAS'}, {'id': 'HSJTRADG', 'name': 'PELAGOS'}, {'id': 'HSJTRACZ', 'name': 'AEGEON'}, {'id': 'HSJTRAFC', 'name': 'LEVANTES HOTEL LUXURY RESORTS'}, {'id': 'HSJTRACY', 'name': 'HELENA HOTEL'}, {'id': 'HSJTRAIW', 'name': 'VILLA MAISTRALI'}, {'id': 'HSJTRAIX', 'name': 'VILLA SPYROS'}, {'id': 'HSJTRAED', 'name': 'VILLA ROMANTIC'}, {'id': 'HSJTRAHR', 'name': 'REMEZZO VILLAS'}, {'id': 'HSJTRAET', 'name': 'THALASSA SEASIDE RESORT'}, {'id': 'HSJTRAAK', 'name': 'EN PLO BOUTIQUE SUITES'}, {'id': 'HSJTRAHH', 'name': 'HOTEL SANTORINI'}, {'id': 'HSJTRAFP', 'name': 'ALIZEA VILLA'}, {'id': 'IRJTRNIS', 'name': 'NISSIA APARTMENTS'}, {'id': 'IRJTRVEG', 'name': 'VEGGERA'}, {'id': 'IRJTRPG1', 'name': 'SENSES BOUTIQUE HOTEL'}, {'id': 'LXJTRARE', 'name': 'ARESSANA SPA HOTEL AND SUITES'}, {'id': 'LXJTRSAN', 'name': 'SAN ANTONIO'}, {'id': 'LXJTRCHR', 'name': 'CHROMATA'}, {'id': 'LXJTRSSB', 'name': 'SANTORINI SECRET BOUTIQUE HTL'}, {'id': 'LXJTRCAN', 'name': 'CANAVES OIA HOTEL'}, {'id': 'LXJTRNTS', 'name': 'NOTOS THERME'}, {'id': 'OIJTRPEG', 'name': 'PEGASUS SUITES AND SPA'}, {'id': 'ONJTRLAV', 'name': 'LAVA SUITES AND LOUNGE-FIRA SANTORINI'}, {'id': 'ONJTRPAN', 'name': 'PANORAMA STUDIOS AND SUITES'}, {'id': 'ONJTRCOR', 'name': 'CORI RIGAS SUITES'}, {'id': 'ONJTRBLU', 'name': 'BLUE ANGEL VILLA'}, {'id': 'ONJTRHEL', 'name': 'HELIOTOPOS HOTEL'}, {'id': 'ONJTRTHO', 'name': 'THOLOS RESORT'}, {'id': 'ONJTRAST', 'name': 'ASTRA SUITES'}, {'id': 'ONJTRCAS', 'name': 'CASTRO HOTEL'}, {'id': 'ONJTRKAM', 'name': 'KAMARI BEACH HOTEL'}, {'id': 'ONJTRGLO', 'name': 'CASA FLORINA'}, {'id': 'ONJTRFIN', 'name': 'FINIKIA PLACE HOTEL'}, {'id': 'ONJTRAVT', 'name': 'ARMENI VILLAGE ROOMS & SUITES'}, {'id': 'ONJTRIKI', 'name': 'IKIES TRADITIONAL HOUSES'}, {'id': 'ONJTRAMA', 'name': 'ART MAISONS ASPAKI AND OIA CASTLE'}, {'id': 'ONJTRATL', 'name': 'ATLANTIS BEACH'}, {'id': 'ONJTRVOL', 'name': 'VOLCANO VIEW HOTEL -SANTORINI'}, {'id': 'ONJTRPBH', 'name': 'PANORAMA BOUTIQUE HOTEL-FIRA'}, {'id': 'ONJTR362', 'name': 'SANTO MIRAMARE RESORT'}, {'id': 'ONJTRVIP', 'name': 'VIP SUITES'}, {'id': 'ONJTRAHT', 'name': 'AIGIALOS HOTEL TRADITIONAL SETTLEMENT'}, {'id': 'ONJTRTLA', 'name': 'HOTEL ATLANTIS'}, {'id': 'ONJTRPER', 'name': 'PERIVOLAS TRADITIONAL HOUSES'}, {'id': 'ONJTRETH', 'name': 'ETHER STUDIOS'}, {'id': 'ONJTR418', 'name': 'SUITES OF THE GODS'}, {'id': 'PWJTRICO', 'name': 'ICONIC SANTORINI'}, {'id': 'WBJTRR05', 'name': 'KIRINI SUITES AND SPA'}, {'id': 'WVJTR331', 'name': 'VALLAS APARTMENTS'}, {'id': 'WVJTR521', 'name': 'MEDITERRANEAN ROYAL HOTEL'}, {'id': 'WVJTR779', 'name': '160 THEA'}, {'id': 'YXJTRVFS', 'name': 'VILLA FABRICA SANTORINI'}, {'id': 'YXJTRSMH', 'name': 'SAMSONS VILLAGE'}]\n"
          ]
        },
        {
          "output_type": "stream",
          "name": "stderr",
          "text": [
            "ERROR:__main__:Failed to fetch hotel offers: 400, Response: {\"errors\":[{\"code\":1257,\"title\":\"INVALID PROPERTY CODE\",\"status\":400,\"detail\":\"Provider Error - INVALID PROPERTY CODE\",\"source\":{\"parameter\":\"hotelIds=DHJTRAEU,DHJTRAEV,DHJTRAEW,DHJTRAEX,DHJTRAEY,DHJTRAEZ,DHJTRAFA,DHJTRAFB,DHJTRAFD,DHJTRAFE,DHJTRAFF,DSJTRAHL,HOJTR524,HOJTRDHS,HOJTRKSH,HSJTRAAK,HSJTRACY,HSJTRACZ,HSJTRADG,HSJTRAED,HSJTRAEK,HSJTRAET,HSJTRAFC,HSJTRAFP,HSJTRAHH,HSJTRAHR,HSJTRAIX,IRJTRNIS,IRJTRPG1,IRJTRVEG,LXJTRARE,LXJTRCAN,LXJTRCHR,LXJTRNTS,LXJTRSAN,LXJTRSSB\"}},{\"code\":3664,\"title\":\"NO ROOMS AVAILABLE AT REQUESTED PROPERTY\",\"status\":400,\"detail\":\"Provider Error - NO ROOMS AVAILABLE AT REQUESTED PROPERTY\",\"source\":{\"parameter\":\"hotelIds=HSJTRAIW,OIJTRPEG,ONJTRAST,ONJTRBLU,ONJTRCAS,ONJTRCOR,ONJTRGLO,ONJTRKAM,ONJTRLAV,ONJTRPAN\"}},{\"code\":3494,\"title\":\"ROOM OR RATE NOT AVAILABLE OR RESTRICTED\",\"status\":400,\"detail\":\"Provider Error - ROOM OR RATE NOT AVAILABLE OR RESTRICTED\",\"source\":{\"parameter\":\"hotelIds=ONJTRAVT,ONJTRFIN,ONJTRHEL,ONJTRTHO\"}}]}\n",
            "WARNING:__main__:No flight data found for RAO -> JTR\n"
          ]
        },
        {
          "output_type": "stream",
          "name": "stdout",
          "text": [
            "[{'id': 'AHOGG500', 'name': 'ASTON MAUI HILL'}, {'id': 'CYOGGMKC', 'name': 'COURTYARD KAHULUI APT MARRIOTT'}, {'id': 'DNOGGWBV', 'name': 'WAILEA BEACH VILLAS'}, {'id': 'DNOGGEVI', 'name': 'WAILEA EKAHI VILLAGE DRH'}, {'id': 'FAOGGKEA', 'name': 'FAIRMONT KEA LANI MAUI'}, {'id': 'ILOGGKBV', 'name': 'KIHEI BAY VISTA'}, {'id': 'ILOGG181', 'name': 'LUMERIA MAUI RETREA'}, {'id': 'ILOGG743', 'name': 'WAILUKU GUESTHOUSE'}, {'id': 'ILOGG735', 'name': 'THE OLD WAILUKU INN'}, {'id': 'MCOGGMCM', 'name': 'WAILEA BEACH MARRIOTT RESORT'}, {'id': 'OROGG541', 'name': 'THE KAPALUA VILLAS'}, {'id': 'OROGGRKR', 'name': 'ROYAL KAHANA MAUI BY OUTRIGGER'}, {'id': 'OROGGPWR', 'name': 'OUTRIGGER PALMS AT WAILEA'}, {'id': 'UZOGGKAI', 'name': 'EL HALE KAI O KIHEI'}, {'id': 'UZOGGNOE', 'name': 'NOELANI CONDOMINIUM RESORT- LAHAINA'}, {'id': 'WAOGG808', 'name': 'HO OLEI AT GRAND WAILEA'}, {'id': 'WIOGGMAU', 'name': 'WESTIN MAUI RESORT AND SPA'}, {'id': 'WVOGG3S7', 'name': 'HONO KOA'}, {'id': 'WVOGG3S8', 'name': 'KAHANA BEACH'}, {'id': 'YXOGG004', 'name': 'MAUI SEASIDE HOTEL'}, {'id': 'YXOGGNKL', 'name': 'NALU KAI LODGE'}]\n",
            "[{'id': 'ACAMS557', 'name': 'DELTA'}, {'id': 'BRAMSRDB', 'name': 'RENAISSANCE AMSTERDAM HOTEL'}, {'id': 'BWAMS718', 'name': 'BEST WESTERN DAM SQUARE INN'}, {'id': 'BWAMS591', 'name': 'BEST WESTERN DELPHI HOTEL'}, {'id': 'BWAMS730', 'name': 'BEST WESTERN PREMIER COUTURE'}, {'id': 'BWAMS697', 'name': 'BEST WESTERN BLUE TOWER HOTEL'}, {'id': 'BWAMS708', 'name': 'BEST WESTERN APOLLO MUSEUMHTL'}, {'id': 'BWAMS704', 'name': 'BEST WESTERN LEIDSE SQUARE HTL'}, {'id': 'BWAMS579', 'name': 'BW MUSEUMHOTELS  DELFT'}, {'id': 'BWAMS597', 'name': 'BEST WESTERN HOTEL BAARS'}, {'id': 'BWAMS681', 'name': 'BW AMSTERDAM AIRPORT'}, {'id': 'BWAMS693', 'name': 'BEST WESTERN HTL DE RUSTENDE J'}, {'id': 'BWAMS687', 'name': 'BW UITHOORN AIRPORT'}, {'id': 'BWAMS731', 'name': 'BEST WESTERN ZAAN INN'}, {'id': 'BWAMS550', 'name': 'BEST WESTERN PALACE HOTEL'}, {'id': 'CHAMSCAR', 'name': 'SHORT STAY GROUP CARRE APARTMENTS'}, {'id': 'CHAMSDAM', 'name': 'SHORT STAY GROUP DAM SQUARE APARTMENTS'}, {'id': 'CHAMSVON', 'name': 'SHORT STAY GROUP VONDELPARK APARTMENTS'}, {'id': 'CHAMSLEI', 'name': 'SHORT STAY GROUP LEIDSEPLEIN MUSEUM APTS'}, {'id': 'CHAMSJON', 'name': 'SHORT STAY JORDAAN APARTMENTS'}, {'id': 'CHAMSCEN', 'name': 'SHORT STAY GROUP CENTRAL VIP APARTMENTS'}, {'id': 'CHAMSPRI', 'name': 'SHORT STAY GROUP PRINCE CANAL HOUSE VIP'}, {'id': 'CHAMSREM', 'name': 'SHORT STAY GROUP REMBRANDTPLEIN APART'}, {'id': 'CHAMSROZ', 'name': 'SHORT STAY GROUP ROZENGRACHT APARTMENTS'}, {'id': 'CHAMSJOR', 'name': 'SHORT STAY GROUP JORDAAN NINESTREET APRT'}, {'id': 'CHAMSSIN', 'name': 'SHORT STAY GROUP GRAND SINGEL APARTMENT'}, {'id': 'CPAMS6AC', 'name': 'CROWNE PLAZA AMSTERDAM SOUTH'}, {'id': 'CPAMSCAB', 'name': 'CROWNE PLAZA CITY CENTRE'}, {'id': 'CPAMSAAC', 'name': 'CROWNE PLAZA AMSTERDAM-SCHIPHO'}, {'id': 'CYAMSCYC', 'name': 'COURTYARD AIRPORT MARRIOTT'}, {'id': 'DHAMSAKB', 'name': 'ROKIN'}, {'id': 'DHAMSAKC', 'name': 'SINGEL'}, {'id': 'ERAMSEHA', 'name': 'EDEN HOTEL HAMPSHIRE EDEN'}, {'id': 'ERAMSHAH', 'name': 'APOLLOFIRST HAMPSHIRE'}, {'id': 'ERAMS90E', 'name': 'AMSTERDAM AMERICAN H HAMPSHIRE'}, {'id': 'ERAMSEPH', 'name': 'THE MANOR HOTEL HAMPSHIRE EDEN'}, {'id': 'ERAMSELH', 'name': 'HAMPSHIRE HOTEL LANCASTER'}, {'id': 'ERAMS100', 'name': 'HOTEL NEWPORT'}, {'id': 'ERAMSMIJ', 'name': 'HAMPSHIRE MIJDRECHT'}, {'id': 'ERAMS213', 'name': 'HAMPSHIRE GOLFHOTEL WATERLAND'}, {'id': 'ERAMSAEY', 'name': 'HAMPSHIRE HOTEL JAN VAN SCOREL'}, {'id': 'FTAMS170', 'name': 'TEST PROPERTY FOR BOOKING COM'}, {'id': 'GTAMSGTA', 'name': 'GOLDEN TULIP HOTEL ALKMAAR'}, {'id': 'GTAMSTER', 'name': 'TULIP INN AMSTERDAM CENTRE'}, {'id': 'GTAMSSYM', 'name': 'ROYAL TULIP AMSTERDAM'}, {'id': 'GTAMSABG', 'name': 'TULIP INN BODEGRAVEN'}, {'id': 'GTAMSDOO', 'name': 'GOLDEN TULIP ARNHEM - DOORWERTH'}, {'id': 'GTAMSAMP', 'name': 'GOLDEN TULIP AMPT VAN NIJKERK'}, {'id': 'HAAMSMAR', 'name': 'BUDGET HOTEL MARNIX'}, {'id': 'HAAMSORG', 'name': 'AALBORG HOTEL'}, {'id': 'HAAMSPRI', 'name': 'HOTEL PRINSEN'}, {'id': 'HIAMS09F', 'name': 'HOLIDAY INN EXP SOUTH'}, {'id': 'HIAMS69F', 'name': 'HOLIDAY INN IJMUIDEN SEAPORT'}, {'id': 'HLAMS004', 'name': 'HILTON JOHN LENNON - DHISCO TEST'}, {'id': 'HLAMS228', 'name': 'HILTON AMSTERDAM'}, {'id': 'HLAMS350', 'name': 'DOUBLETREE AMSTERDAM CENTRAAL'}, {'id': 'HSAMSAKG', 'name': 'CONSCIOUS HOTEL MUSEUM SQUARE'}, {'id': 'HSAMSAEJ', 'name': 'HOTEL AVENUE'}, {'id': 'HSAMSAJH', 'name': 'CONSCIOUS VONDELPARK'}, {'id': 'HSAMSAIL', 'name': 'BLYSS'}, {'id': 'HSAMSAMV', 'name': 'VOSSIUS VONDELPARK'}, {'id': 'HSAMSAJA', 'name': 'GRAND HOTEL ALKMAAR'}, {'id': 'HSAMSADE', 'name': 'FLIPPER'}, {'id': 'HSAMSAKN', 'name': 'WASHINGTON'}, {'id': 'HSAMSALL', 'name': 'B-B LA FESTA'}, {'id': 'HSAMSADO', 'name': 'NICOLAAS WITSEN'}, {'id': 'HSAMSADP', 'name': 'CITADEL HOTEL'}, {'id': 'HSAMSAJM', 'name': 'A - TRAIN HOTEL'}, {'id': 'HSAMSANG', 'name': 'MOZART'}, {'id': 'HSAMSANB', 'name': 'AGORA'}, {'id': 'HSAMSAKM', 'name': 'HOTEL VAN GOGH'}, {'id': 'HSAMSANM', 'name': 'MUSEUM SUITES'}, {'id': 'HSAMSALC', 'name': 'BRIDGES HOUSE'}, {'id': 'HSAMSAKX', 'name': 'HOTEL DE BOEI'}, {'id': 'HSAMSAKD', 'name': 'HOTEL ZUIDERDUIN'}, {'id': 'HSAMSALZ', 'name': 'ASTORIA'}, {'id': 'HSAMSAEE', 'name': 'HOGERHUYS'}, {'id': 'HSAMSAIV', 'name': 'HOTEL DE WEYMAN'}, {'id': 'HSAMSAHI', 'name': 'HET RECHTHUIS'}, {'id': 'HSAMSANR', 'name': 'HET HOGE DUIN HOTEL - RESTAURANT'}, {'id': 'HSAMSANQ', 'name': 'HUIS TE ZAANEN HOTEL-RESTAURANT'}, {'id': 'HSAMSAGQ', 'name': 'BEACH HOTEL'}, {'id': 'HXAMS182', 'name': 'HMPTN BY HILTON AMSTERDAM AIRPT SCHIPOL'}, {'id': 'ICAMSICA', 'name': 'INTERCONTINENTAL AMSTEL AMS'}, {'id': 'LWAMS092', 'name': 'HOTEL OKURA AMSTERDAM'}, {'id': 'LXAMSCHO', 'name': 'CANAL HOUSE'}, {'id': 'MCAMSAMS', 'name': 'AMSTERDAM MARRIOTT HOTEL'}, {'id': 'MKAMSHHH', 'name': 'MOEVENPICK AMSTERDAM CITY CENTRE'}, {'id': 'NNAMSC03', 'name': 'CAMPANILE ZWOLLE'}, {'id': 'OIAMSALX', 'name': 'ALEXANDER HOTEL - NOORDWIJK'}, {'id': 'ONAMSCAR', 'name': 'CHARIOT HOTEL'}, {'id': 'ONAMSGMC', 'name': 'GOLDEN MANSION CITY APARTMENTS'}, {'id': 'ONAMSSAN', 'name': 'SANDER HOTEL AMSTERDAM'}, {'id': 'ONAMSARM', 'name': 'ARMADA CANALVIEW HOTEL AMSTERDAM'}, {'id': 'ONAMSLEI', 'name': 'LEIDSEPLEIN HOTEL'}, {'id': 'ONAMSPVA', 'name': 'HOTEL PARK VIEW AMSTERDAM'}, {'id': 'ONAMSBVA', 'name': 'BOUTIQUE HOTEL VIEW AMSTERDAM'}, {'id': 'ONAMSHER', 'name': 'HERMITAGE HOTEL AMSTERDAM CITY CENTRE'}, {'id': 'ONAMSESP', 'name': 'HOTEL ESPRESSO CITY CENTER'}, {'id': 'ONAMSCOZ', 'name': 'HOTEL CORNELISZ'}, {'id': 'ONAMSCIH', 'name': 'CITY HOTEL'}, {'id': 'ONAMSITC', 'name': 'ITC HOTEL AMSTERDAM'}, {'id': 'ONAMSROY', 'name': 'HOTEL ROYAL'}, {'id': 'ONAMSSAR', 'name': 'SARPHATI HOTEL'}, {'id': 'ONAMSSIN', 'name': 'SINGEL HOTEL'}, {'id': 'ONAMSYAM', 'name': 'CITY ILAND APARTMENT AMSTERDAM'}, {'id': 'ONAMSCEN', 'name': 'HOTEL CENTRAL PARK'}, {'id': 'ONAMSPRI', 'name': 'PRINCESS HOTEL LOOSDRECHT'}, {'id': 'PDAMS419', 'name': 'PARK INN BY RADISSON AMSTERDAM'}, {'id': 'PHAMSGHH', 'name': 'GRAND HOTEL HUIS TER DUIN'}, {'id': 'PKAMS512', 'name': 'PARK PLAZA VICTORIA AMSTERDAM'}, {'id': 'RDAMS683', 'name': 'RADISSON BLU AMSTERDAM AIRPORT'}, {'id': 'RTAMS170', 'name': 'TEST DXM'}, {'id': 'RTAMSNOV', 'name': 'NOVOTEL AMSTERDAM CITY'}, {'id': 'RTAMSEUS', 'name': 'MERCURE HOTEL AMSTERDAM CITY'}, {'id': 'RTAMSCST', 'name': 'IBIS STYLES AMSTERDAM CS'}, {'id': 'RTAMSAMS', 'name': 'IBIS STYLES AMSTERDAM AMSTEL'}, {'id': 'RTAMSWES', 'name': 'IBIS AMSTERDAM CITY WEST'}, {'id': 'RTAMSALL', 'name': 'IBIS STYLES AMSTERDAM CITY'}, {'id': 'SBAMSDEM', 'name': 'SOFITEL AMSTERDAM THE GRAND'}, {'id': 'SIAMS301', 'name': 'SHERATON AMSTERDAM AIRPORT HTL'}, {'id': 'TSAMSHSP', 'name': 'HTEL SERVICED APARTMENTS'}, {'id': 'TSAMSQAH', 'name': 'QUENTIN ARRIVE HOTEL'}, {'id': 'TSAMSQAM', 'name': 'QUENTIN AMSTERDAM HOTEL'}, {'id': 'TSAMSQEH', 'name': 'QUENTIN ENGLAND HOTEL'}, {'id': 'UIAMSGRO', 'name': 'BILDERBERG RESIDENCE HEIDEBORGH-GARDEREN'}, {'id': 'UIAMSSPE', 'name': 'BILDERBERG HOTEL TSPEULDERBOS'}, {'id': 'UIAMSDEK', 'name': 'BILDERBERG HOTEL DE KLEPPERMAN'}, {'id': 'VPAMS019', 'name': 'CHATEAU DE BRINDOS'}, {'id': 'VPAMS049', 'name': 'LES TRESOMS LAKE & SPA RESORT'}, {'id': 'VPAMS080', 'name': 'HOTEL LA DILIGENCE'}, {'id': 'VPAMS263', 'name': 'HOTEL OKURA AMSTERDAM'}, {'id': 'VPAMS218', 'name': 'PILLOWS ANNA VAN DEN VONDEL AMSTERDAM'}, {'id': 'VPAMS220', 'name': 'THE DELPHI AMSTERDAM TOWNHOUSE'}, {'id': 'VPAMS242', 'name': 'BILDERBERG GARDEN HOTEL'}, {'id': 'VPAMS292', 'name': 'EL AVENIDA PALACE'}, {'id': 'WAAMS182', 'name': 'WALDORF ASTORIA AMSTERDAM'}, {'id': 'WBAMSKEG', 'name': 'KASTEEL ENGELENBURG'}, {'id': 'WTAMSACR', 'name': 'THE POET AMSTERDAM'}, {'id': 'WVAMS683', 'name': 'AMRATH HOTEL ALKMAAR'}, {'id': 'WVAMS093', 'name': 'ROOM MATE AITANA'}, {'id': 'WVAMSTOR', 'name': 'KINGS VILLA HAMPSHIRE CLASSIC'}, {'id': 'WVAMS620', 'name': 'HAMPSHIRE CLASSIC OPDUIN'}, {'id': 'WVAMSGAS', 'name': 'HOTEL GASTRONOMIQUE DE ECHOPUT'}, {'id': 'WVAMS384', 'name': 'VAN DER VALK HOTEL VOLENDAM'}, {'id': 'WWAMSORA', 'name': 'BEACH HOTEL'}, {'id': 'WWAMSDUI', 'name': 'DUIN KRUIDBERG COUNTRY ESTATE'}, {'id': 'YHAMSATL', 'name': 'ATLANTA HOTEL'}, {'id': 'YXAMSABC', 'name': 'ABCOUDE HOTEL'}, {'id': 'YXAMSALM', 'name': 'BASTION DELUXE HOTEL ALMERE'}, {'id': 'YXAMSAHA', 'name': 'APOLLO ALMERE CITY'}, {'id': 'YXAMS001', 'name': 'HOTEL JAGERSHUIS'}, {'id': 'YXAMSGHA', 'name': 'GRAND HOTEL AMSTELVEEN'}, {'id': 'YXAMSGHD', 'name': 'GRAND HOTEL DOWNTOWN'}, {'id': 'YXAMSTBH', 'name': 'THE BRIDGE HOTEL'}, {'id': 'YXAMSHDH', 'name': 'HOTEL DE HALLEN'}, {'id': 'YXAMSAMS', 'name': 'ATLANTIS HOTEL'}, {'id': 'YXAMSTHE', 'name': 'HOTEL THE EXCHANGE'}, {'id': 'YXAMSHDI', 'name': 'HOTEL DAMRAK INN'}, {'id': 'YXAMSH14', 'name': 'HOTEL DE GERSTEKORREL'}, {'id': 'YXAMSMEM', 'name': 'MEMPHIS HOTEL AMSTERDAM'}, {'id': 'YXAMSAPH', 'name': 'AMADI PARK HOTEL'}, {'id': 'YXAMSKAS', 'name': 'MUSEUMPLEIN'}, {'id': 'YXAMSART', 'name': 'ART HOTEL DULAC'}, {'id': 'YXAMSFAS', 'name': 'WESTCORD FASHION HTL AMSTERDAM'}, {'id': 'YXAMSZUI', 'name': 'BASTION AMSTERDAM ZUID WEST'}, {'id': 'YXAMS302', 'name': 'AMBASSADE HOTEL'}, {'id': 'YXAMSNLL', 'name': 'NL HTL LEIDSESQUARE'}, {'id': 'YXAMSHOU', 'name': 'NO 377 HOUSE AMSTERDAM'}, {'id': 'YXAMSSBH', 'name': 'BROOKLYN HOTEL'}, {'id': 'YXAMSVNC', 'name': 'HOTEL V NESPLEIN CITY CENTRE'}, {'id': 'YXAMSCTX', 'name': 'WESTCORD CITY CENTRE HTL A DAM'}, {'id': 'YXAMS642', 'name': 'LLOYD HOTEL AND CULTURAL EMBASSY'}, {'id': 'YXAMSVIH', 'name': 'VIJAYA HOTEL'}, {'id': 'YXAMSIRO', 'name': 'IRON HORSE HOTEL AMSTERDAM'}, {'id': 'YXAMS717', 'name': 'BOUTIQUE HOTEL SEVEN ONE SEVEN'}, {'id': 'YXAMSDHO', 'name': 'DIANN HOTEL'}, {'id': 'YXAMSNOO', 'name': 'BASTION AMSTERDAM NOORD'}, {'id': 'YXAMSH11', 'name': 'HOTEL ARENA'}, {'id': 'YXAMSFTH', 'name': 'FLETCHER HOTEL AMSTERDAM'}, {'id': 'YXAMSTIA', 'name': 'WESTCORD ART HTL AMSTERDAM 3*'}, {'id': 'YXAMSDAM', 'name': 'D AMSTERDAM HOTEL'}, {'id': 'YXAMSVER', 'name': 'BASTION DELUXE AMSTERDAM AMSTE'}, {'id': 'YXAMSNHI', 'name': 'HOTEL NOTTING HILL AMSTERDAM'}, {'id': 'YXAMSHVF', 'name': 'HOTEL V FREDERIKSPLEIN'}, {'id': 'YXAMSCAN', 'name': 'THE AMSTERDAM CANAL HOTEL'}, {'id': 'YXAMSNES', 'name': 'NES HOTEL'}, {'id': 'YXAMS661', 'name': 'FLETCHER HOTEL MARIJKE'}, {'id': 'YXAMSBUZ', 'name': 'BASTION DELUXE HOTEL BUSSUM'}, {'id': 'YXAMSFLC', 'name': 'FLETCHER HOTEL CALLANTSOOG'}, {'id': 'YXAMSFHK', 'name': 'FLETCHER HOTEL KOOGEREND'}, {'id': 'YXAMSFHE', 'name': 'FLETCHER HOTEL EGMOND AAN ZEE'}, {'id': 'YXAMSFHH', 'name': 'FLETCHER HOTEL HEILOO'}, {'id': 'YXAMSBAS', 'name': 'BASTION AMSTERDAM AIRPORT'}, {'id': 'YXAMSAHB', 'name': 'APOLLO HOTEL DE BEYAERD'}, {'id': 'YXAMSLEL', 'name': 'APOLLO LELYSTAD'}, {'id': 'YXAMSHPA', 'name': 'FLETCHER HOTEL PAASBERG'}, {'id': 'YXAMSDWR', 'name': 'FLETCHER HOTEL DE WITTE RAAF'}, {'id': 'YXAMSHAA', 'name': 'BASTION HOTEL HAARLEM'}, {'id': 'YXAMSGOL', 'name': 'WESTCORD HOTEL SCHYLGE TERSCHELLING'}, {'id': 'YXAMSHZE', 'name': 'FLETCHER HOTEL RESTAURANT ZEEDUIN'}, {'id': 'YXAMSZAA', 'name': 'BASTION AMSTERDAM ZAANDAM'}, {'id': 'YXAMSINZ', 'name': 'INNTEL HOTELS AMSTERDAM ZAANDA'}]\n"
          ]
        },
        {
          "output_type": "stream",
          "name": "stderr",
          "text": [
            "INFO:werkzeug:127.0.0.1 - - [15/Mar/2025 19:18:34] \"GET / HTTP/1.1\" 200 -\n",
            "ERROR:__main__:Failed to fetch hotel offers: 400, Response: {\"errors\":[{\"code\":3664,\"title\":\"NO ROOMS AVAILABLE AT REQUESTED PROPERTY\",\"status\":400,\"detail\":\"Provider Error - NO ROOMS AVAILABLE AT REQUESTED PROPERTY\",\"source\":{\"parameter\":\"hotelIds=YXAMS001,YXAMS302,YXAMS717,YXAMSBUZ,YXAMSGHA,YXAMSHAA,YXAMSNOO\"}},{\"code\":1257,\"title\":\"INVALID PROPERTY CODE\",\"status\":400,\"detail\":\"Provider Error - INVALID PROPERTY CODE\",\"source\":{\"parameter\":\"hotelIds=YXAMS642,YXAMS661,YXAMSAHA,YXAMSAHB,YXAMSAMS,YXAMSAPH,YXAMSART,YXAMSBAS,YXAMSCAN,YXAMSCTX,YXAMSDAM,YXAMSDHO,YXAMSDWR,YXAMSFAS,YXAMSFHE,YXAMSFHH,YXAMSFHK,YXAMSFLC,YXAMSFTH,YXAMSGHD,YXAMSGOL,YXAMSH11,YXAMSH14,YXAMSHDH,YXAMSHDI,YXAMSHOU,YXAMSHPA,YXAMSHVF,YXAMSIRO,YXAMSKAS,YXAMSLEL,YXAMSMEM,YXAMSNES,YXAMSNHI,YXAMSNLL,YXAMSSBH\"}}]}\n",
            "ERROR:__main__:Failed to fetch hotel offers: 400, Response: {\"errors\":[{\"code\":1257,\"title\":\"INVALID PROPERTY CODE\",\"status\":400,\"detail\":\"Provider Error - INVALID PROPERTY CODE\",\"source\":{\"parameter\":\"hotelIds=YXAMSHZE,YXAMSINZ\"}},{\"code\":3664,\"title\":\"NO ROOMS AVAILABLE AT REQUESTED PROPERTY\",\"status\":400,\"detail\":\"Provider Error - NO ROOMS AVAILABLE AT REQUESTED PROPERTY\",\"source\":{\"parameter\":\"hotelIds=YXAMSZAA\"}}]}\n",
            "INFO:werkzeug:127.0.0.1 - - [15/Mar/2025 19:18:54] \"POST / HTTP/1.1\" 200 -\n"
          ]
        },
        {
          "output_type": "stream",
          "name": "stdout",
          "text": [
            "Quero lugar calmo Liste 3 de destinos turísticos, incluindo: - Informe cidades com serviço regular de voos que sejam proximas às atracoes destacadas: Nome da Cidade e seu codigo IATA em parentesis: (exemplo: 'San Juan (SJU)'). - Principais atrações e atividades. use no maximo 1000 palavras de forma que resuma bem o pedido do usuario:\n",
            "\n",
            "Destino 1: Maui, Hawaii (OGG)\n",
            "\n",
            "Maui é uma ilha havaiana conhecida por suas praias, cadeias de montanhas e a cultura polinésia. A ilha é a segunda maior das ilhas havaianas e é a 17ª maior ilha dos Estados Unidos.\n",
            "\n",
            "Atrações principais:\n",
            "\n",
            "1. Haleakala National Park: O parque contém a Haleakala, uma cadeia de montanhas que abriga o pico mais alto da ilha, o Haleakala. Atrai visitantes por seu paisagem única e pelas possibilidades de observação astronômica.\n",
            "\n",
            "2. Road to Hana: É uma rota de estrada costeira com 64 quilômetros que oferece uma variedade de atrações, como cascatas, praias e florestas.\n",
            "\n",
            "3. Wailea Beach: Praia conhecida por suas águas tranquilas e brancas. É um local popular para nadar, surf e snorkeling.\n",
            "\n",
            "4. Lahaina: É uma cidade costeira histórica com lojas, restaurantes e um museu sobre a história da ilha.\n",
            "\n",
            "Destino 2: Cancún, México (CUN)\n",
            "\n",
            "Cancún é uma cidade localizada no estado de Quintana Roo, no México. É conhecida por suas praias, clubes de nuitas e complexos turísticos.\n",
            "\n",
            "Atrações principais:\n",
            "\n",
            "1. Playa del Carmen: Praia popular conhecida por sua variedade de lojas e restaurantes.\n",
            "\n",
            "2. Isla Mujeres: É uma ilha pequena localizada perto de Cancún. Atrai visitantes por suas praias e pelas atividades aquáticas, como snorkeling e surf.\n",
            "\n",
            "3. Chichen Itza: É um sítio arqueológico que contém as ruínas de uma cidade maia. É um dos sítios maia mais conhecidos do mundo.\n",
            "\n",
            "4. Tulum: É uma cidade localizada a poucos quilômetros de Cancún. Atrai visitantes por suas ruínas maia, praias e áreas naturais.\n",
            "\n",
            "Destino 3: Tuscany, Itália (FLR)\n",
            "\n",
            "Toscana é uma região da Itália conhecida por suas cidades históricas, vinhedos e paisagens.\n",
            "\n",
            "Atrações principais:\n",
            "\n",
            "1. Florença: É a capital da região e é conhecida por suas catedrais, museus e lojas de moda.\n",
            "\n",
            "2. Pisa: É uma cidade localizada a poucos quilômetros de Florença. Atrai visitantes por suas torres e praças.\n",
            "\n",
            "3. Siena: É uma cidade localizada a poucos quilômetros de Florença. Atrai visitantes por suas igrejas e praças.\n",
            "\n",
            "4. Vinhedos da Toscana: São vinhedos conhecidos pelo seu vinho de qualidade. É possível fazer turnês e degustação de vinhos na região.\n",
            "origem IATA: RAO\n",
            "[{'id': 'AHOGG500', 'name': 'ASTON MAUI HILL'}, {'id': 'CYOGGMKC', 'name': 'COURTYARD KAHULUI APT MARRIOTT'}, {'id': 'DNOGGWBV', 'name': 'WAILEA BEACH VILLAS'}, {'id': 'DNOGGEVI', 'name': 'WAILEA EKAHI VILLAGE DRH'}, {'id': 'FAOGGKEA', 'name': 'FAIRMONT KEA LANI MAUI'}, {'id': 'ILOGGKBV', 'name': 'KIHEI BAY VISTA'}, {'id': 'ILOGG181', 'name': 'LUMERIA MAUI RETREA'}, {'id': 'ILOGG743', 'name': 'WAILUKU GUESTHOUSE'}, {'id': 'ILOGG735', 'name': 'THE OLD WAILUKU INN'}, {'id': 'MCOGGMCM', 'name': 'WAILEA BEACH MARRIOTT RESORT'}, {'id': 'OROGG541', 'name': 'THE KAPALUA VILLAS'}, {'id': 'OROGGRKR', 'name': 'ROYAL KAHANA MAUI BY OUTRIGGER'}, {'id': 'OROGGPWR', 'name': 'OUTRIGGER PALMS AT WAILEA'}, {'id': 'UZOGGKAI', 'name': 'EL HALE KAI O KIHEI'}, {'id': 'UZOGGNOE', 'name': 'NOELANI CONDOMINIUM RESORT- LAHAINA'}, {'id': 'WAOGG808', 'name': 'HO OLEI AT GRAND WAILEA'}, {'id': 'WIOGGMAU', 'name': 'WESTIN MAUI RESORT AND SPA'}, {'id': 'WVOGG3S7', 'name': 'HONO KOA'}, {'id': 'WVOGG3S8', 'name': 'KAHANA BEACH'}, {'id': 'YXOGG004', 'name': 'MAUI SEASIDE HOTEL'}, {'id': 'YXOGGNKL', 'name': 'NALU KAI LODGE'}]\n",
            "[{'id': 'ALCUN930', 'name': 'ALOFT CANCUN'}, {'id': 'BNCUN906', 'name': 'BARCELO TUCANCUN BEACH'}, {'id': 'BNCUNCOS', 'name': 'BARCELO COSTA CANCUN'}, {'id': 'BNCUN179', 'name': 'BARCELO MAYA BEACH'}, {'id': 'BNCUN139', 'name': 'BARCELO MAYA PALACE DELUXE'}, {'id': 'BNCUN938', 'name': 'BARCELO MAYA COLONIAL'}, {'id': 'CICUN067', 'name': 'COMFORT INN CANCUN AEROPUERTO'}, {'id': 'CYCUNCYC', 'name': 'COURTYARD CANCUN ARPT MARRIOTT'}, {'id': 'EFCUN828', 'name': 'EMPORIO CANCUN'}, {'id': 'FHCUN700', 'name': 'FIESTA AMERICANA GRAND CORAL BEACH RESOR'}, {'id': 'FHCUNOCN', 'name': 'ONE CANCUN CENTRO'}, {'id': 'FHCUN600', 'name': 'FIESTA AMERICANA VILLAS CANCUN'}, {'id': 'FHCUNGAQ', 'name': 'LIVE AQUA CANCUN'}, {'id': 'GZCUNK4M', 'name': 'MAYAFAIR DESIGN HOTEL'}, {'id': 'GZCUNCMC', 'name': 'CLUB MED CANCUN YUCATAN'}, {'id': 'HACUNMAR', 'name': 'HACIENDA MARIA BONITA'}, {'id': 'HACUNAVE', 'name': 'AVENTURAS CLUB LAGOON'}, {'id': 'HICUNB2A', 'name': 'HOLIDAY INN ARENAS'}, {'id': 'HSCUNABZ', 'name': 'AQUALUNA'}, {'id': 'HSCUNAGI', 'name': 'CAMINO REAL CANCUN'}, {'id': 'HSCUNAGZ', 'name': 'CARIBBEAN PARADISE RESORT - SPA'}, {'id': 'HSCUNAHH', 'name': 'XAMAN HA CONDOMINIUMS'}, {'id': 'ILCUN782', 'name': 'AMIGO RENTAL CANCUN'}, {'id': 'LECUNLVA', 'name': 'LAS VILLAS AKUMAL'}, {'id': 'LMCUN945', 'name': 'KIN HA VILLAS AND SUITES'}, {'id': 'LMCUN707', 'name': 'FLAMINGO CANCUN RESORT'}, {'id': 'LQCUN320', 'name': 'LA QUINTA INN SUITES CANCUN'}, {'id': 'LWCUN533', 'name': 'GRAND RESIDENCES RIVIERA CUN'}, {'id': 'LWCUN530', 'name': 'GRAND VELAS RIVIERA MAYA'}, {'id': 'LWCUN521', 'name': 'ZOETRY PARAISO DE LA BONITA'}, {'id': 'MCCUNMXM', 'name': 'CASAMAGNA MARRIOTT CANCUN'}, {'id': 'MCCUNJWM', 'name': 'JW MARRIOTT CANCUN RESORT'}, {'id': 'ODCUNGAB', 'name': 'SUITES GABY HOTEL'}, {'id': 'OECUN953', 'name': 'BELMOND MAROMA RESORT AND SPA'}, {'id': 'OMCUN556', 'name': 'OMNI CANCUN HOTELS AND VILLAS'}, {'id': 'OMCUNPUE', 'name': 'OMNIPUERTOAVENTURAS BEACH RSRT'}, {'id': 'PHCUNLBR', 'name': 'NIZUC RESORT AND SPA PREFERRED'}, {'id': 'PHCUNSCR', 'name': 'SANDOS CANCUN LUXURY EXPERIENC'}, {'id': 'RWCUNMAY', 'name': 'ROSEWOOD MAYAKOBA'}, {'id': 'RZCUNCAN', 'name': 'THE RITZ-CARLTON CANCUN'}, {'id': 'SCCUN275', 'name': 'SINA SUITES'}, {'id': 'SMCUN102', 'name': 'ME CANCUN'}, {'id': 'SMCUN101', 'name': 'PARADISUS CANCUN'}, {'id': 'TACUNXCH', 'name': 'XBALAMQUE RESORT AND SPA'}, {'id': 'TACUN994', 'name': 'AMBIANCE SUITES CANCUN'}, {'id': 'TACUN831', 'name': 'CROWN PARADISE CLUB CANCUN'}, {'id': 'TACUN173', 'name': 'TEMPTATION RESORT SPA CANCUN'}, {'id': 'TACUN026', 'name': 'TORRE BARCELONA'}, {'id': 'TACUN108', 'name': 'HOTEL B2B MALECON PLAZA'}, {'id': 'TACUN259', 'name': 'BSEA CANCUN PLAZA'}, {'id': 'TACUN3RN', 'name': 'CASA SANDRA HOLBOX'}, {'id': 'TACUN152', 'name': 'THE REEF PLAYACAR'}, {'id': 'TYCUN591', 'name': 'VILLAS HM PARAISO DEL MAR'}, {'id': 'TYCUNNYX', 'name': 'NYX HOTEL CANCUN'}, {'id': 'VECUN024', 'name': 'SUN PALACE ALL INCLUSIVE'}, {'id': 'VECUN022', 'name': 'BEACH PALACE ALL INCLUSIVE'}, {'id': 'VECUN021', 'name': 'MOON PALACE GOLF AND SPA RESORT'}, {'id': 'VECUNISL', 'name': 'ISLA MUJERES PALACE ALL INC'}, {'id': 'VECUN388', 'name': 'AVENTURA COVE PALACE ALL INCLUSIVE'}, {'id': 'WICUNREC', 'name': 'WESTIN RESORT AND SPA CANCUN'}, {'id': 'WICUN646', 'name': 'WESTIN LAGUNAMAR VILLAS'}, {'id': 'WVCUN243', 'name': 'AZUL FIVES BY KARISMA'}, {'id': 'WVCUNMAR', 'name': 'MARGARITAS CANCUN'}, {'id': 'WVCUN079', 'name': 'RIU CANCUN'}, {'id': 'WVCUNSOC', 'name': 'GR SOLARIS CANCUN ALL INCLUSIVE'}, {'id': 'WVCUNBAH', 'name': 'BEL AIR COLLECTION RESORT AND SPA CANCUN'}, {'id': 'WVCUN393', 'name': 'GRAND ROYAL LAGOON'}, {'id': 'WVCUNCAN', 'name': 'KRYSTAL CANCUN'}, {'id': 'WVCUNPAL', 'name': 'PLAYA PALMS BEACHFRONT HOTEL'}, {'id': 'WVCUN342', 'name': 'AZUL BEACH HOTEL'}, {'id': 'WVCUN107', 'name': 'EL DORADO MAROMA GOURMET ALL INCL'}, {'id': 'WVCUN340', 'name': 'EL DORADO ROYALE'}, {'id': 'WVCUNHBR', 'name': 'HIDDEN BEACH RESORT AU NATUREL'}, {'id': 'WVCUN313', 'name': 'OCEAN CORAL - ALL INCLUSIVE'}, {'id': 'WVCUN709', 'name': 'GRAN BAHIA PRINCIPE COBA'}, {'id': 'WVCUN299', 'name': 'ARRECIFES SUITES II'}, {'id': 'WVCUN370', 'name': 'VELAS CONDOS'}, {'id': 'WVCUN346', 'name': 'KRYSTAL URBAN CANCUN - MALECON'}, {'id': 'WVCUN828', 'name': 'EMPORIO HOTEL AND SUITES CANCUN'}, {'id': 'WVCUN169', 'name': 'THE ROYAL SANDS'}, {'id': 'WVCUN601', 'name': 'THE ROYAL CANCUN'}, {'id': 'WVCUN529', 'name': 'RIU PALACE PENINSULA'}, {'id': 'WVCUN625', 'name': 'GREAT PARNASSUS RESORT AND SPA'}, {'id': 'WVCUNROY', 'name': 'ROYAL SOLARIS CANCUN'}, {'id': 'WVCUN535', 'name': 'GR  CARIBE BY SOLARIS DELUXE AI'}, {'id': 'WVCUN182', 'name': 'THE ROYAL ISLANDER'}, {'id': 'WVCUN175', 'name': 'THE ROYAL CARIBBEAN'}, {'id': 'WVCUN338', 'name': 'KRYSTAL GRAND PUNTA CANCUN'}, {'id': 'WVCUN247', 'name': 'ARRECIFES SUITES'}, {'id': 'WVCUN074', 'name': 'ALL RITMO CANCUN WATERPARK'}, {'id': 'WVCUN784', 'name': 'IN FASHION HOTEL BOUTIQUE'}, {'id': 'WVCUN245', 'name': 'HOTEL HACIENDA MORELOS'}, {'id': 'WVCUN255', 'name': 'CORALES SUITES'}, {'id': 'WVCUN244', 'name': 'HOTEL EDEN'}, {'id': 'XLCUNOSE', 'name': 'GRAND OASIS SENS ADULTS ONLY'}, {'id': 'YXCUN223', 'name': 'HOTETUR BEACH PARADISE'}, {'id': 'YXCUNVIE', 'name': 'BAY VIEW GRAND PORTO FINO'}, {'id': 'YXCUN873', 'name': 'CELUISMA IMPERIAL LAGUNA'}, {'id': 'YXCUNHTM', 'name': 'AVENTURA MEXICANA'}, {'id': 'YXCUNACB', 'name': 'AMARA CANCUN BEACHFRONT CONDOS'}, {'id': 'YXCUN628', 'name': 'TERRACARIBE HOTEL'}, {'id': 'YXCUN952', 'name': 'CELUISMA DOS PLAYAS CANCUN'}, {'id': 'YXCUN023', 'name': 'HARD ROCK HOTEL CANCUN'}, {'id': 'YXCUNCIT', 'name': 'CITY EXPRESS CANCUN'}, {'id': 'YXCUNSRB', 'name': 'SUNSET ROYAL BEACH RESORT'}, {'id': 'YXCUNCJC', 'name': 'CITY JUNIOR CANCUN'}, {'id': 'YXCUN827', 'name': 'VICEROY RIVIERA MAYA'}, {'id': 'YXCUN853', 'name': 'HOTEL MARINA EL CID SPA RM'}, {'id': 'YXCUNPSK', 'name': 'GRAN BAHIA PRINCIPE SIAN KAAN'}]\n"
          ]
        },
        {
          "output_type": "stream",
          "name": "stderr",
          "text": [
            "ERROR:__main__:Failed to fetch hotel offers: 400, Response: {\"errors\":[{\"code\":3664,\"title\":\"NO ROOMS AVAILABLE AT REQUESTED PROPERTY\",\"status\":400,\"detail\":\"Provider Error - NO ROOMS AVAILABLE AT REQUESTED PROPERTY\",\"source\":{\"parameter\":\"hotelIds=VECUN021,VECUN022,VECUN024,VECUNISL,WVCUN107,WVCUN169,WVCUN175,WVCUN182,WVCUN243,WVCUN313,WVCUN340,WVCUN342,WVCUN346,WVCUN370,WVCUN393,WVCUN535,WVCUN601,WVCUN828,WVCUNBAH,WVCUNCAN,WVCUNHBR,WVCUNROY,WVCUNSOC,YXCUN223\"}},{\"code\":1257,\"title\":\"INVALID PROPERTY CODE\",\"status\":400,\"detail\":\"Provider Error - INVALID PROPERTY CODE\",\"source\":{\"parameter\":\"hotelIds=VECUN388,WICUN646,WICUNREC,WVCUN074,WVCUN079,WVCUN244,WVCUN245,WVCUN247,WVCUN255,WVCUN299,WVCUN338,WVCUN529,WVCUN625,WVCUN709,WVCUN784,WVCUNMAR,WVCUNPAL,XLCUNOSE,YXCUN873,YXCUNACB,YXCUNHTM,YXCUNVIE\"}}]}\n",
            "ERROR:__main__:Failed to fetch hotel offers: 400, Response: {\"errors\":[{\"code\":1257,\"title\":\"INVALID PROPERTY CODE\",\"status\":400,\"detail\":\"Provider Error - INVALID PROPERTY CODE\",\"source\":{\"parameter\":\"hotelIds=YXCUN023,YXCUN628,YXCUN827,YXCUN853,YXCUN952,YXCUNCIT,YXCUNCJC,YXCUNPSK,YXCUNSRB\"}}]}\n"
          ]
        },
        {
          "output_type": "stream",
          "name": "stdout",
          "text": [
            "[{'id': 'ARFLRFIR', 'name': 'AC BY MARRIOTT HOTEL FIRENZE'}, {'id': 'BWFLR309', 'name': 'BEST WESTERN HOTEL RIVER'}, {'id': 'BWFLR267', 'name': 'BW HOTEL PALAZZO OGNISSANTI'}, {'id': 'BWFLR158', 'name': 'BEST WESTERN GRAND HOTEL ADRIATICO'}, {'id': 'CHFLRHMT', 'name': 'HOTEL MARTELLI'}, {'id': 'CHFLRHRH', 'name': 'RESIDENCE HILDA'}, {'id': 'CHFLRH38', 'name': 'HOTEL PRIVILEGE'}, {'id': 'CHFLRH49', 'name': 'HOTEL ANNABELLA'}, {'id': 'CHFLRHCE', 'name': 'HOTEL I CEDRI'}, {'id': 'DHFLRANY', 'name': 'C-HOTELS THE STYLE FLORENCE'}, {'id': 'DSFLRCON', 'name': 'CONTINENTALE'}, {'id': 'EPFLR625', 'name': 'RELAIS VILLA BELPOGGIO'}, {'id': 'EPFLRMON', 'name': 'UNA PALAZZO MANNAIONI'}, {'id': 'EUFLRVTO', 'name': 'VILLA TOLOMEI HOTEL & RESORT'}, {'id': 'FGFLRH01', 'name': 'HOTEL BALESTRI'}, {'id': 'FGFLRBIL', 'name': 'AFFITTACAMERE CASA BILLI'}, {'id': 'GAFLRAUG', 'name': 'GALLERY HOTEL ART'}, {'id': 'GIFLR424', 'name': 'HILTON GRDN INN FLORENCE NOVOLI'}, {'id': 'GZFLROLI', 'name': 'HOTEL OLIMPIA'}, {'id': 'GZFLRHCI', 'name': 'HOTEL CIMABUE'}, {'id': 'GZFLR243', 'name': 'HOTEL ALBION'}, {'id': 'GZFLR703', 'name': 'HOTEL MORANDI ALLA CROCETTA'}, {'id': 'GZFLRCAR', 'name': 'HOTEL VILLA CARLOTA'}, {'id': 'GZFLRH22', 'name': 'HOTEL SEMPIONE'}, {'id': 'GZFLR051', 'name': 'HOTEL BOTTICELLI'}, {'id': 'GZFLR694', 'name': 'HOTEL MERIDIANA'}, {'id': 'GZFLRBBP', 'name': 'B AND B LA PIAZZETTA'}, {'id': 'HAFLRVEC', 'name': 'PALAZZO VECCHIO'}, {'id': 'HAFLRVIA', 'name': 'VILLA DE RONDINI-FIRENZE'}, {'id': 'HAFLRASC', 'name': 'ASCOT'}, {'id': 'HAFLRCAP', 'name': 'HOTEL VILLA CAPPUGI'}, {'id': 'HOFLR117', 'name': 'RELAIS VIGNALE'}, {'id': 'HSFLRAOW', 'name': 'PARK HOTEL RIPAVERDE'}, {'id': 'HSFLRARS', 'name': 'ALINARI'}, {'id': 'HSFLRAPH', 'name': 'CORTE DEI MEDICI'}, {'id': 'HSFLRABM', 'name': \"L'ULTIMO MULINO\"}, {'id': 'HSFLRABB', 'name': 'ASTORIA'}, {'id': 'HSFLRAFQ', 'name': 'LA COLLEGIATA'}, {'id': 'HSFLRAAO', 'name': 'PAGGERIA MEDICEA'}, {'id': 'HSFLRADI', 'name': 'RELAIS VILLA IL SASSO'}, {'id': 'HSFLRAJN', 'name': 'MARRANI'}, {'id': 'HSFLRAGD', 'name': 'LA SELVA'}, {'id': 'HSFLRAQK', 'name': 'LOCANDA DEI BARONI ANTICA DIMORA'}, {'id': 'HSFLRAGB', 'name': 'WEST FLORENCE'}, {'id': 'HSFLRAAU', 'name': 'CENTRO'}, {'id': 'HSFLRADP', 'name': 'LOCANDA LE PIAZZE'}, {'id': 'HSFLRAGX', 'name': 'VILLA LA BORGHETTA'}, {'id': 'HSFLRASV', 'name': 'BLACK 5 FLORENCE SUITE'}, {'id': 'HSFLRAEF', 'name': 'TOGETHER FLORENCE INN'}, {'id': 'HSFLRASS', 'name': \"1865 RESIDENZA D'EPOCA\"}, {'id': 'HSFLRAGK', 'name': 'DEI MACCHIAIOLI'}, {'id': 'HSFLRAHS', 'name': 'PARK PALACE'}, {'id': 'HSFLRARE', 'name': 'PALAZZO RUSPOLI B-B'}, {'id': 'HSFLRAQX', 'name': 'AXIAL'}, {'id': 'HSFLRAOG', 'name': 'DELLA ROBBIA'}, {'id': 'HSFLRAPA', 'name': 'LIDO'}, {'id': 'HSFLRAJH', 'name': 'ART ATELIER'}, {'id': 'HSFLRAPD', 'name': 'RITA MAJOR'}, {'id': 'HSFLRAOK', 'name': 'TRINITY APARTMENTS'}, {'id': 'HSFLRAOM', 'name': 'NILHOTEL'}, {'id': 'HSFLRARU', 'name': 'LA MONGOLFIERA RESIDENZE'}, {'id': 'HSFLRAQB', 'name': 'EDEN'}, {'id': 'HSFLRAQM', 'name': 'JANE'}, {'id': 'HSFLRAMP', 'name': 'ANNALENA'}, {'id': 'HSFLRAJX', 'name': 'SAN GAGGIO HOUSE B-B'}, {'id': 'HSFLRAQR', 'name': 'RESIDENCE MICHELANGIOLO'}, {'id': 'HSFLRAQA', 'name': 'VILLA BIANCA'}, {'id': 'HSFLRAQH', 'name': 'BORGO SANT IPPOLITO COUNTRY HOTEL'}, {'id': 'HSFLRALJ', 'name': 'LOCANDA IL GALLO LOGIS'}, {'id': 'HSFLRAAV', 'name': 'IL CASELLO COUNTRY HOUSE'}, {'id': 'HSFLRAGQ', 'name': 'VILLA AMBROSINA'}, {'id': 'HSFLRAHE', 'name': 'RESIDENZA DEL GRANDUCA'}, {'id': 'HSFLRAFM', 'name': 'AMBROSIANO'}, {'id': 'HSFLRADL', 'name': 'MINERVA PALACE'}, {'id': 'HSFLRAEC', 'name': 'ALASSIO'}, {'id': 'HSFLRABT', 'name': 'LA PIA'}, {'id': 'HSFLRAEJ', 'name': 'BOSTON'}, {'id': 'HSFLRAUA', 'name': 'MIRO'}, {'id': 'HSFLRAAJ', 'name': 'TORRETTA'}, {'id': 'HSFLRACA', 'name': 'PANORAMIC GRAND HOTEL'}, {'id': 'HSFLRACG', 'name': 'TAMERICI E PRINCIPE GRAND HOTEL'}, {'id': 'HSFLRADU', 'name': 'IL MOLINO DEL PONTE'}, {'id': 'HSFLRAFN', 'name': 'VILLA GIORGIA ALBERGO IN COLLINA'}, {'id': 'HSFLRAAZ', 'name': 'VILLA IL TREBBIOLO'}, {'id': 'HSFLRACH', 'name': 'DATINI'}, {'id': 'HSFLRAFA', 'name': 'I CILIEGI'}, {'id': 'HSFLRAUH', 'name': 'VILLA I BARRONCI'}, {'id': 'HSFLRAGG', 'name': 'VILLA DUCCI'}, {'id': 'HSFLRAAL', 'name': 'SOVESTRO'}, {'id': 'HSFLRABQ', 'name': 'LE VOLPAIE'}, {'id': 'HSFLRAEV', 'name': 'VILLA GUARNASCHELLI'}, {'id': 'HSFLRAEI', 'name': 'MARZIA'}, {'id': 'HSFLRASL', 'name': 'UNA HOTEL POGGIO DEI MEDICI GOLF - RESOR'}, {'id': 'HSFLRATG', 'name': 'VILLA PICCOLA SIENA'}, {'id': 'HSFLRASU', 'name': 'CHIANTI VILLAGE MORROCCO'}, {'id': 'HSFLRAFX', 'name': 'FATTORIA QUERCETO'}, {'id': 'LWFLR163', 'name': 'CASTELLO  DEL NERO'}, {'id': 'LXFLRVAR', 'name': 'VILLA ARMENA'}, {'id': 'LXFLRJKP', 'name': 'JK PLACE FIRENZE'}, {'id': 'OIFLREJU', 'name': 'GARIBALDIS HOTEL RELAIS ET CHARME'}, {'id': 'OIFLRD1Q', 'name': 'HOTEL MICHELANGELO-MONTECATINI-TERME'}, {'id': 'OIFLRD99', 'name': 'GRAND HOTEL NIZZA ET SUISSE'}, {'id': 'OIFLRD21', 'name': 'HOTEL BONIFACIO'}, {'id': 'ONFLRKRI', 'name': 'HOTEL KRISTAL'}, {'id': 'ONFLRPAL', 'name': 'MSNSUITES PALAZZO DEI CIOMPI-FIRENZE'}, {'id': 'ONFLRDLP', 'name': 'HOTEL DE LA PACE'}, {'id': 'ONFLR250', 'name': 'HOTEL VILLA LIANA'}, {'id': 'PHFLRPVH', 'name': 'PALAZZO VECCHIETTI PREFERRED B'}, {'id': 'PHFLRMSH', 'name': 'MONTEBELLO SPLENDID PREFERRED'}, {'id': 'RTFLRVOR', 'name': 'VILLA OLMI RESORT-BAGNO A RIPOLI'}, {'id': 'RTFLRSOF', 'name': 'CERRETANI FIRENZE (EX SOFITEL)'}, {'id': 'RTFLREST', 'name': 'IBIS FIRENZE PRATO EST'}, {'id': 'RTFLRAPT', 'name': 'NOVOTEL FIRENZE NORD AEROPORTO'}, {'id': 'SXFLRPLA', 'name': 'PLAZA HOTEL LUCCHESI'}, {'id': 'SYFLRMIC', 'name': 'STARHOTELS MICHELANGELO'}, {'id': 'SYFLRMRO', 'name': 'STARHOTELS TUSCANY'}, {'id': 'SYFLRSTA', 'name': 'STARHOTELS VESPUCCI'}, {'id': 'TAFLRBET', 'name': 'HOTEL VILLA BETANIA'}, {'id': 'TSFLR286', 'name': 'HOTEL IL GUELFO BIANCO'}, {'id': 'UIFLREXE', 'name': 'EXECUTIVE HOTEL'}, {'id': 'UIFLRVLL', 'name': 'VILLA FIESOLE HOTEL'}, {'id': 'UIFLRHCL', 'name': 'C-HOTELS CLUB'}, {'id': 'UIFLRPRS', 'name': 'PARIS HOTEL'}, {'id': 'UIFLRCLA', 'name': 'HOTEL HOME FLORENCE'}, {'id': 'UIFLRBER', 'name': 'HOTEL BERNINI PALACE'}, {'id': 'UIFLR123', 'name': 'HOTEL LAURUS AL DUOMO'}, {'id': 'UIFLRARZ', 'name': 'ARIZONA HOTEL'}, {'id': 'UIFLRSGP', 'name': 'SAN GALLO PALACE HOTEL'}, {'id': 'UIFLRC2H', 'name': 'MACHIAVELLI PALACE HOTEL'}, {'id': 'UIFLREIX', 'name': 'FIRST HOTEL'}, {'id': 'UZFLR138', 'name': 'VILLA GIOTTO PARK HOTEL - BIVIGLIANO'}, {'id': 'UZFLRART', 'name': 'ART HOTEL MIRO'}, {'id': 'UZFLRH39', 'name': 'HOTEL GRIFONE'}, {'id': 'UZFLRCRO', 'name': 'CROCE DI MALTA HOTEL'}, {'id': 'VPFLR310', 'name': 'RELAIS UFFIZI'}, {'id': 'WBFLR302', 'name': 'GRAND HOTEL VILLA CORA'}, {'id': 'WBFLRBOR', 'name': 'HOTEL RELAIS BORGO SAN FELICE'}, {'id': 'WIFLR043', 'name': 'THE WESTIN EXCELSIOR FLORENCE'}, {'id': 'WVFLRORO', 'name': 'HOTEL L OROLOGIO'}, {'id': 'WVFLRGTO', 'name': 'GOLDEN TOWER FIRENZE'}, {'id': 'WVFLRMIN', 'name': 'GRAND HOTEL MINERVA'}, {'id': 'WVFLR471', 'name': 'BED AND BREAKFAST EUROHOME'}, {'id': 'WVFLR549', 'name': 'HOTEL MONTREAL'}, {'id': 'WVFLR400', 'name': 'ALAMANNI HOTEL'}, {'id': 'WVFLRAHO', 'name': 'ROOM MATE ISABELLA'}, {'id': 'WVFLRCAR', 'name': 'ROOM MATE LUCA'}, {'id': 'WVFLRLEM', 'name': 'HOTEL CASA LEMMI'}, {'id': 'XLFLRABR', 'name': 'VILLASANPAOLO WELLNESS E RELAX'}, {'id': 'XRFLR045', 'name': 'THE ST REGIS FLORENCE'}, {'id': 'YXFLR8RJ', 'name': 'HOTEL MINERVA AREZZO'}, {'id': 'YXFLRPOG', 'name': 'POGGIO CENNINA'}, {'id': 'YXFLRVDP', 'name': 'VILLA DI PIAZZANO'}, {'id': 'YXFLRNAZ', 'name': 'HOTEL DELLE NAZIONI FLORENCE'}, {'id': 'YXFLRH27', 'name': 'HOTEL GIOIA'}, {'id': 'YXFLRH44', 'name': 'HOTEL MEDICI'}, {'id': 'YXFLRH03', 'name': 'HOTEL ARIELE'}, {'id': 'YXFLRKUR', 'name': 'HOTEL KURSAAL AND AUSONIA'}, {'id': 'YXFLRHDF', 'name': 'HOTEL DELTA FLORENCE'}, {'id': 'YXFLRC20', 'name': 'PALAZZO RICASOLI'}, {'id': 'YXFLRH56', 'name': 'HOTEL LA GIOCONDA FLORENCE'}, {'id': 'YXFLR834', 'name': 'ORTO DE MEDICI'}, {'id': 'YXFLRHMG', 'name': 'RAPALLO HOTEL'}, {'id': 'YXFLRH14', 'name': 'HOTEL COSIMO DE MEDICI'}, {'id': 'YXFLR154', 'name': 'HOTEL CARAVAGGIO'}, {'id': 'YXFLRBN5', 'name': 'HOTEL COLOMBA'}, {'id': 'YXFLRGIG', 'name': 'HOTEL GIGLIO'}, {'id': 'YXFLRSIH', 'name': 'SILLA HOTEL'}, {'id': 'YXFLRHBE', 'name': 'HOTEL BEATRICE'}, {'id': 'YXFLRBAH', 'name': 'BORGHESE PALACE ART HOTEL'}, {'id': 'YXFLR482', 'name': 'EMBASSY HOTEL'}, {'id': 'YXFLR444', 'name': 'I PARIGI CORBINELLI'}, {'id': 'YXFLRHDC', 'name': 'HOTEL SPAGNA'}, {'id': 'YXFLRTDB', 'name': 'TORRE DI BELLOSGUAR'}, {'id': 'YXFLRH29', 'name': 'HOTEL CITY'}, {'id': 'YXFLRHDR', 'name': 'HOTEL DE ROSE PALACE'}, {'id': 'YXFLRTOR', 'name': 'ANTICA TORRE TORNABUONI 1'}, {'id': 'YXFLR424', 'name': 'DEMIDOFF COUNTRY RESORT'}, {'id': 'YXFLRSTA', 'name': 'HOTEL VILLA STANLEY - SESTO FI'}, {'id': 'YXFLR842', 'name': 'BORGO DI CORTEFREDA HOTEL RELA'}, {'id': 'YXFLRH25', 'name': 'HOTEL FEDORA'}, {'id': 'YXFLRBRU', 'name': 'HOTEL BRUNELLESCHI'}, {'id': 'YXFLRH06', 'name': 'HOTEL GOLF FLORENCE'}, {'id': 'YXFLRROV', 'name': 'RELAIS DELLA ROVERE'}]\n"
          ]
        },
        {
          "output_type": "stream",
          "name": "stderr",
          "text": [
            "ERROR:__main__:Failed to fetch hotel offers: 400, Response: {\"errors\":[{\"code\":3664,\"title\":\"NO ROOMS AVAILABLE AT REQUESTED PROPERTY\",\"status\":400,\"detail\":\"Provider Error - NO ROOMS AVAILABLE AT REQUESTED PROPERTY\",\"source\":{\"parameter\":\"hotelIds=HSFLRAAL,HSFLRACH,HSFLRADL,HSFLRAFN,HSFLRAGQ,HSFLRAHS,HSFLRALJ,HSFLRAOM,HSFLRAPD,HSFLRAQH,HSFLRAUH\"}},{\"code\":2827,\"title\":\"HOTEL PROPERTY LOCKED\",\"status\":400,\"detail\":\"Provider Error - HOTEL PROPERTY LOCKED\",\"source\":{\"parameter\":\"hotelIds=OIFLREJU\"}},{\"code\":1257,\"title\":\"INVALID PROPERTY CODE\",\"status\":400,\"detail\":\"Provider Error - INVALID PROPERTY CODE\",\"source\":{\"parameter\":\"hotelIds=HSFLRAAJ,HSFLRAAV,HSFLRAAZ,HSFLRABQ,HSFLRABT,HSFLRACA,HSFLRACG,HSFLRADU,HSFLRAEC,HSFLRAEI,HSFLRAEJ,HSFLRAEV,HSFLRAFA,HSFLRAFM,HSFLRAFX,HSFLRAGG,HSFLRAGK,HSFLRAHE,HSFLRAJH,HSFLRAJX,HSFLRAMP,HSFLRAOG,HSFLRAOK,HSFLRAPA,HSFLRAQA,HSFLRAQB,HSFLRAQM,HSFLRAQR,HSFLRAQX,HSFLRARE,HSFLRARU,HSFLRASL,HSFLRASU,HSFLRATG,HSFLRAUA,LWFLR163,LXFLRJKP,LXFLRVAR\"}}]}\n",
            "ERROR:__main__:Failed to fetch hotel offers: 400, Response: {\"errors\":[{\"code\":3289,\"title\":\"RATE NOT AVAILABLE FOR REQUESTED DATES\",\"status\":400,\"detail\":\"Provider Error - RATE NOT AVAILABLE FOR REQUESTED DATES\",\"source\":{\"parameter\":\"hotelIds=YXFLR444,YXFLRBAH,YXFLRGIG,YXFLRH06,YXFLRTDB\"}},{\"code\":1257,\"title\":\"INVALID PROPERTY CODE\",\"status\":400,\"detail\":\"Provider Error - INVALID PROPERTY CODE\",\"source\":{\"parameter\":\"hotelIds=YXFLR154,YXFLR424,YXFLR482,YXFLR834,YXFLR842,YXFLRBN5,YXFLRBRU,YXFLRH03,YXFLRH14,YXFLRH25,YXFLRH27,YXFLRH29,YXFLRH44,YXFLRH56,YXFLRHBE,YXFLRHDC,YXFLRHDR,YXFLRHMG,YXFLRKUR,YXFLRROV,YXFLRSIH,YXFLRSTA,YXFLRTOR\"}},{\"code\":3664,\"title\":\"NO ROOMS AVAILABLE AT REQUESTED PROPERTY\",\"status\":400,\"detail\":\"Provider Error - NO ROOMS AVAILABLE AT REQUESTED PROPERTY\",\"source\":{\"parameter\":\"hotelIds=YXFLRC20,YXFLRHDF,YXFLRNAZ,YXFLRPOG,YXFLRVDP\"}}]}\n",
            "INFO:werkzeug:127.0.0.1 - - [15/Mar/2025 19:20:13] \"POST / HTTP/1.1\" 200 -\n",
            "INFO:werkzeug:127.0.0.1 - - [15/Mar/2025 19:22:34] \"GET / HTTP/1.1\" 200 -\n",
            "INFO:werkzeug:127.0.0.1 - - [15/Mar/2025 19:23:18] \"POST / HTTP/1.1\" 200 -\n",
            "INFO:werkzeug:127.0.0.1 - - [15/Mar/2025 19:23:18] \"GET /static/HI9M.gif HTTP/1.1\" 200 -\n"
          ]
        },
        {
          "output_type": "stream",
          "name": "stdout",
          "text": [
            "Dolomitas Italia Liste 3 de destinos turísticos, incluindo: - Informe cidades com serviço regular de voos que sejam proximas às atracoes destacadas: Nome da Cidade e seu codigo IATA em parentesis: (exemplo: 'San Juan (SJU)'). - Principais atrações e atividades. use no maximo 1000 palavras de forma que resuma bem o pedido do usuario.\n",
            "\n",
            "1. Verona (VRN)\n",
            "   - Attractions: Verona Arena, Juliet's House, Piazza delle Erbe, Ponte Pietra, Castelvecchio\n",
            "   - Activities: Opera performances at the Verona Arena, exploring the historic center, shopping at Piazza delle Erbe, visiting Juliet's House, and strolling along the River Adige.\n",
            "\n",
            "2. Venice (VCE)\n",
            "   - Attractions: St. Mark's Square, Rialto Bridge, Doge's Palace, Grand Canal, Basilica di San Marco\n",
            "   - Activities: Gondola ride, exploring the historic city center, visiting museums, admiring the architectural beauty of St. Mark's Square, crossing the Rialto Bridge, and taking a boat tour along the Grand Canal.\n",
            "\n",
            "3. Florence (FLR)\n",
            "   - Attractions: Uffizi Gallery, Ponte Vecchio, Florence Cathedral, Piazza della Signoria, Accademia Gallery\n",
            "   - Activities: Visiting museums, admiring the Renaissance art at the Uffizi Gallery, exploring the historic city center, crossing the Ponte Vecchio, climbing the Florence Cathedral, and viewing Michelangelo's David at the Accademia Gallery.\n",
            "origem IATA: FAL\n",
            "[{'id': 'BWVRN284', 'name': 'BEST WESTERN HOTEL CRISTALLO'}, {'id': 'BWVRN250', 'name': 'BEST WESTERN ANTICO TERMINE'}, {'id': 'BWVRN264', 'name': 'BEST WESTERN SOAVE HOTEL'}, {'id': 'BWVRN326', 'name': 'BEST WESTERN CTC HOTEL VERONA'}, {'id': 'BWVRN068', 'name': 'BEST WESTERN HOTEL FIRENZE'}, {'id': 'BWVRN088', 'name': 'BEST WESTERN PLUS HOTEL DE CAPULETI'}, {'id': 'CHVRNHMO', 'name': 'MONTRESOR HOTEL TOWER'}, {'id': 'CHVRNHMA', 'name': 'HOTEL MAXIM'}, {'id': 'CHVRNH02', 'name': 'HOTEL LEOPARDI - VERONA'}, {'id': 'CHVRNMHP', 'name': 'MONTRESOR HOTEL PALACE'}, {'id': 'DHVRNADL', 'name': 'VILLA MALASPINA'}, {'id': 'FGVRN468', 'name': 'CLASSHOTEL MANTOVA'}, {'id': 'FGVRN001', 'name': 'ONEMHOTEL-SAN PAOLO'}, {'id': 'FGVRNCAN', 'name': 'HOTEL IL CANOVA-SANDRIGO'}, {'id': 'FGVRNAPL', 'name': 'HOTEL ANTICA PORTA LEONA'}, {'id': 'FGVRNBRA', 'name': 'HOTEL BRANDOLI'}, {'id': 'FGVRNNOV', 'name': 'HOTEL NOVO ROSSI'}, {'id': 'FGVRNA09', 'name': 'ALLIANCE HOTEL VERONA'}, {'id': 'FGVRNLDR', 'name': 'ROSEO HOTEL LEON DDORO'}, {'id': 'HSVRNAAX', 'name': 'VILLA DEL SOGNO'}, {'id': 'HSVRNABV', 'name': 'SAN GIORGIO'}, {'id': 'HSVRNANY', 'name': 'DUE COLONNE'}, {'id': 'HSVRNALA', 'name': 'LOCANDA MOSCAL'}, {'id': 'HSVRNALG', 'name': 'CA DEL PONTE'}, {'id': 'HSVRNAJL', 'name': 'VILLA DELLE ROSE'}, {'id': 'HSVRNAQL', 'name': 'ALBERGO DA PIPPO'}, {'id': 'HSVRNAOL', 'name': 'CA MASAWALSA'}, {'id': 'HSVRNANE', 'name': 'TAORMINA'}, {'id': 'HSVRNAEM', 'name': 'GRITTI PARC HOTEL'}, {'id': 'HSVRNAJJ', 'name': 'CAESIUS THERMAE'}, {'id': 'HSVRNAAB', 'name': 'SPORTSMAN'}, {'id': 'HSVRNAIT', 'name': 'ROSMARI'}, {'id': 'HSVRNAEK', 'name': 'PARC HOTEL'}, {'id': 'HSVRNAOC', 'name': 'KAIROS GARDA HOTEL'}, {'id': 'HSVRNAJO', 'name': 'VILLA CORDEVIGO WINE RELAIS'}, {'id': 'HSVRNAMK', 'name': 'AL SOLE'}, {'id': 'HSVRNAKV', 'name': 'PANORAMA'}, {'id': 'HSVRNAQJ', 'name': 'MADRIGALE'}, {'id': 'HSVRNABL', 'name': 'AQUILA D ORO'}, {'id': 'HSVRNAKE', 'name': 'CITY'}, {'id': 'HSVRNALM', 'name': 'PRIMAVERA'}, {'id': 'HSVRNAKI', 'name': 'DESENZANO'}, {'id': 'HSVRNAMG', 'name': 'LA PASSEGGIATA'}, {'id': 'HSVRNAKF', 'name': 'PICCOLA VELA'}, {'id': 'HSVRNAKZ', 'name': 'ESTEE'}, {'id': 'HSVRNAHM', 'name': 'CORTINA'}, {'id': 'HSVRNABS', 'name': 'BISESTI'}, {'id': 'HSVRNAEA', 'name': 'BENACO'}, {'id': 'HSVRNACV', 'name': 'SPORT HOTEL OLIMPO'}, {'id': 'HSVRNANC', 'name': 'REMAT'}, {'id': 'HSVRNAGL', 'name': 'BOFFENIGO SMALL - BEAUTIFUL'}, {'id': 'HSVRNACS', 'name': 'ITALIA'}, {'id': 'HSVRNACU', 'name': 'PARK HOTEL OASI'}, {'id': 'HSVRNAGF', 'name': 'EXCELSIOR LE TERRAZZE'}, {'id': 'HSVRNAHT', 'name': 'VILLA CA NOVA'}, {'id': 'HSVRNAFJ', 'name': 'LA PERLA'}, {'id': 'HSVRNAJV', 'name': 'CORTE PONTIGLIARDO'}, {'id': 'HSVRNAJY', 'name': 'PALAZZO DELLA SCALA RESIDENCE HOTEL'}, {'id': 'HSVRNAMT', 'name': 'ALEXANDER'}, {'id': 'HSVRNALQ', 'name': 'ILMA'}, {'id': 'HSVRNALT', 'name': 'GARDEN'}, {'id': 'HSVRNAGI', 'name': 'VILLA ROMANTICA'}, {'id': 'HSVRNABU', 'name': 'PARC HOTEL EDEN'}, {'id': 'HSVRNAID', 'name': 'OASI BEACH'}, {'id': 'HSVRNAHD', 'name': 'MALCESINE'}, {'id': 'HSVRNAOI', 'name': 'CATULLO'}, {'id': 'HSVRNAIA', 'name': 'ALBERGO VILLA EDERA'}, {'id': 'HSVRNAIR', 'name': 'CASA MARINELLA'}, {'id': 'HSVRNAHG', 'name': 'PARK HOTEL QUERCETO'}, {'id': 'HSVRNAOJ', 'name': 'ITALIA'}, {'id': 'HSVRNAIB', 'name': '6 PORTE GUESTHOUSE'}, {'id': 'HSVRNAMA', 'name': 'LA ROCCA'}, {'id': 'HSVRNAIQ', 'name': 'FORNACI'}, {'id': 'HSVRNAIX', 'name': 'THE ZIBA HOTEL - SPA'}, {'id': 'HSVRNAEG', 'name': 'BELLA ITALIA HBI'}, {'id': 'HSVRNADD', 'name': 'GREEN PARK HOTEL'}, {'id': 'HSVRNAEN', 'name': 'GOLF RESIDENZA'}, {'id': 'HSVRNAIG', 'name': 'DUCALE'}, {'id': 'HSVRNAIH', 'name': 'IL GRANAIO'}, {'id': 'HSVRNAOV', 'name': 'LA MURAGLIA'}, {'id': 'HSVRNADB', 'name': 'CAMPAGNOLA'}, {'id': 'HSVRNAFO', 'name': 'VILLA ENRICA'}, {'id': 'HSVRNADA', 'name': 'AMBASSADOR SUITE HOTEL'}, {'id': 'HSVRNAEW', 'name': 'GABRY'}, {'id': 'HSVRNAJE', 'name': 'GARNI CANARINO'}, {'id': 'HSVRNAOF', 'name': 'RUDY'}, {'id': 'HSVRNAFS', 'name': 'GARDA SPORTING CLUB HOTEL'}, {'id': 'HSVRNABI', 'name': 'LA PERLA'}, {'id': 'HSVRNAFF', 'name': 'LUISE FEELING HOTEL'}, {'id': 'HSVRNAAD', 'name': 'MIRAGE'}, {'id': 'HSVRNAFL', 'name': 'GARDA TONELLIHOTELS'}, {'id': 'HSVRNACZ', 'name': 'ASTORIA PARK HOTEL'}, {'id': 'HSVRNAJS', 'name': 'CRISTINA'}, {'id': 'HSVRNADM', 'name': \"LEON D'ORO\"}, {'id': 'HSVRNAEB', 'name': 'STADIO HOTEL RISTORANTE'}, {'id': 'HSVRNAMN', 'name': 'ALLA CAMPAGNA FLOWERS HOTEL'}, {'id': 'HSVRNALR', 'name': 'CITY'}, {'id': 'HSVRNALX', 'name': 'LAGUNA'}, {'id': 'HSVRNAKU', 'name': 'PARK HOTEL JOLANDA'}, {'id': 'HSVRNAMD', 'name': 'BELVEDERE'}, {'id': 'HSVRNAMM', 'name': 'MONTE TONDO BED - BREAKFAST'}, {'id': 'HSVRNAHX', 'name': 'RELAIS RESIDENCE SAN ROCCO'}, {'id': 'HSVRNAEH', 'name': 'INTERNAZIONALE'}, {'id': 'HSVRNAHN', 'name': 'VILLA GIRASOLE BED - BREAKFAST'}, {'id': 'HSVRNAAN', 'name': 'GARDESANA'}, {'id': 'HSVRNANO', 'name': 'PAI'}, {'id': 'HSVRNAMX', 'name': 'CORTE DEL PAGGIO'}, {'id': 'HSVRNADR', 'name': 'VERONA'}, {'id': 'HSVRNABZ', 'name': 'ANTICA PORTA LEONA'}, {'id': 'HSVRNAGO', 'name': 'BOLOGNA'}, {'id': 'HSVRNANI', 'name': 'ELEFANTE PARK HOTEL'}, {'id': 'HSVRNANU', 'name': 'DELSER MANOR HOUSE HOTEL'}, {'id': 'HSVRNANL', 'name': 'GIULIETTA E ROMEO'}, {'id': 'HSVRNALW', 'name': 'HVB PALACE HOTEL - RESIDENCE VILLA BARTO'}, {'id': 'HSVRNANV', 'name': 'ALBERGO CORTE ANTICA'}, {'id': 'HSVRNANJ', 'name': 'EUROPA'}, {'id': 'HSVRNADQ', 'name': 'ANTARES SPORT BEAUTY - WELLNESS'}, {'id': 'IQVRNSIR', 'name': 'HOTEL SIRMIONE'}, {'id': 'IRVRNZKW', 'name': 'AIRPORTHOTEL VERONA CONGRESS AND RELAX'}, {'id': 'LWVRN175', 'name': 'LIDO PALACE'}, {'id': 'LWVRN144', 'name': 'PALAZZO ARZAGA SPA GOLF RESORT'}, {'id': 'OIVRNF0A', 'name': 'PICCOLO HOTEL NOGARA'}, {'id': 'OIVRNB5Y', 'name': 'HOTEL GIBERTI'}, {'id': 'OIVRNB60', 'name': 'HOTEL SAN PIETRO'}, {'id': 'ONVRNSAC', 'name': 'HOTEL SACCARDI QUADRANTE EUROPA'}, {'id': 'ONVRNHCP', 'name': 'HOTEL CASA POLI - MANTOVA'}, {'id': 'ONVRNOAS', 'name': 'OASI WELLNESS & SPA - RIVA DEL GARDA'}, {'id': 'ONVRNHAV', 'name': 'HOTEL ARMANDO'}, {'id': 'PHVRNPVI', 'name': 'PALAZZO VICTORIA'}, {'id': 'RTVRNMER', 'name': 'MERCURE NEROCUBO ROVERETO'}, {'id': 'SXVRNSAN', 'name': 'HOTEL SAN LUCA'}, {'id': 'UZVRN819', 'name': 'HOTEL GARNI ORCHIDEA-GARDA LAKE'}, {'id': 'VPVRN309', 'name': 'TENUTA LE CAVE'}, {'id': 'WBVRNQUA', 'name': 'HOTEL VILLA DEL QUAR'}, {'id': 'WVVRN259', 'name': 'HOTEL CA MURA'}, {'id': 'WVVRN822', 'name': 'CORTE SAN LUCA APTS.'}, {'id': 'WVVRNREG', 'name': 'REGAL HOTEL RESIDENCE'}, {'id': 'WVVRNMRL', 'name': 'HOTEL MONREAL'}, {'id': 'WVVRN142', 'name': 'HOTEL DEL PORTO'}, {'id': 'WVVRN456', 'name': 'HOTEL BUONCONSIGLIO'}, {'id': 'WVVRN115', 'name': 'HOTEL TURISMO'}, {'id': 'WVVRN092', 'name': 'HOTEL FIERA'}, {'id': 'WVVRNMIL', 'name': 'HOTEL MILANO'}, {'id': 'WVVRNRES', 'name': \"RESIDENCE CA' DEL LAGO\"}, {'id': 'WVVRN747', 'name': 'HOTEL VERONESI LA TORRE'}, {'id': 'YXVRNVIL', 'name': 'VILLA MALASPINA HOTEL'}, {'id': 'YXVRNORI', 'name': 'ORIONE HOTEL'}, {'id': 'YXVRNWES', 'name': 'WEST POINT HOTEL'}, {'id': 'YXVRN796', 'name': 'HOTEL ABC MANTOVA'}, {'id': 'YXVRNHAG', 'name': 'HOTEL ADIGE'}, {'id': 'YXVRNGHR', 'name': 'CHERVO SPA RESORT'}, {'id': 'YXVRN652', 'name': 'HOTEL ROXY PLAZA'}, {'id': 'YXVRNSUD', 'name': 'SUD POINT HOTEL'}, {'id': 'YXVRNMAR', 'name': 'HOTEL SAN MARCO'}, {'id': 'YXVRNMON', 'name': 'MONACO HOTEL'}, {'id': 'YXVRNHPP', 'name': 'HOTEL PORTA PALIO'}]\n"
          ]
        },
        {
          "output_type": "stream",
          "name": "stderr",
          "text": [
            "ERROR:__main__:Failed to fetch hotel offers: 400, Response: {\"errors\":[{\"code\":3664,\"title\":\"NO ROOMS AVAILABLE AT REQUESTED PROPERTY\",\"status\":400,\"detail\":\"Provider Error - NO ROOMS AVAILABLE AT REQUESTED PROPERTY\",\"source\":{\"parameter\":\"hotelIds=HSVRNADA,HSVRNADM,HSVRNAEB,HSVRNAFF,HSVRNAFJ,HSVRNAGF,HSVRNAJE\"}},{\"code\":1257,\"title\":\"INVALID PROPERTY CODE\",\"status\":400,\"detail\":\"Provider Error - INVALID PROPERTY CODE\",\"source\":{\"parameter\":\"hotelIds=HSVRNAAD,HSVRNABI,HSVRNABU,HSVRNACS,HSVRNACU,HSVRNACZ,HSVRNADB,HSVRNADD,HSVRNAEG,HSVRNAEN,HSVRNAEW,HSVRNAFL,HSVRNAFO,HSVRNAFS,HSVRNAGI,HSVRNAGL,HSVRNAHD,HSVRNAHG,HSVRNAHT,HSVRNAIA,HSVRNAIB,HSVRNAID,HSVRNAIG,HSVRNAIH,HSVRNAIQ,HSVRNAIR,HSVRNAIX,HSVRNAJS,HSVRNAJV,HSVRNAJY,HSVRNAKU,HSVRNALQ,HSVRNALR,HSVRNALT,HSVRNALX,HSVRNAMA,HSVRNAMD,HSVRNAMN,HSVRNAMT,HSVRNAOF,HSVRNAOI,HSVRNAOJ,HSVRNAOV\"}}]}\n",
            "ERROR:__main__:Failed to fetch hotel offers: 400, Response: {\"errors\":[{\"code\":3494,\"title\":\"ROOM OR RATE NOT AVAILABLE OR RESTRICTED\",\"status\":400,\"detail\":\"Provider Error - ROOM OR RATE NOT AVAILABLE OR RESTRICTED\",\"source\":{\"parameter\":\"hotelIds=ONVRNHAV,ONVRNHCP,ONVRNOAS,ONVRNSAC,SXVRNSAN\"}},{\"code\":1257,\"title\":\"INVALID PROPERTY CODE\",\"status\":400,\"detail\":\"Provider Error - INVALID PROPERTY CODE\",\"source\":{\"parameter\":\"hotelIds=HSVRNAAN,HSVRNABZ,HSVRNAEH,HSVRNAGO,HSVRNAHN,HSVRNAHX,HSVRNAMM,HSVRNAMX,HSVRNANI,HSVRNANJ,HSVRNANO,HSVRNANU,IRVRNZKW,LWVRN144,LWVRN175,PHVRNPVI,RTVRNMER,WBVRNQUA,WVVRN142,YXVRN796,YXVRNHAG,YXVRNVIL,YXVRNWES\"}},{\"code\":11,\"title\":\"UNABLE TO PROCESS\",\"status\":400,\"detail\":\"Provider Error - UNABLE TO PROCESS\",\"source\":{\"parameter\":\"hotelIds=IQVRNSIR\"}},{\"code\":3664,\"title\":\"NO ROOMS AVAILABLE AT REQUESTED PROPERTY\",\"status\":400,\"detail\":\"Provider Error - NO ROOMS AVAILABLE AT REQUESTED PROPERTY\",\"source\":{\"parameter\":\"hotelIds=HSVRNADQ,HSVRNADR,HSVRNALW,HSVRNANL,HSVRNANV,OIVRNB5Y,OIVRNB60,OIVRNF0A,VPVRN309,WVVRN092,WVVRN115,WVVRN259,WVVRN456,WVVRN747,WVVRN822,WVVRNMIL,WVVRNMRL,WVVRNREG,WVVRNRES,YXVRNORI\"}}]}\n",
            "ERROR:__main__:Failed to fetch hotel offers: 400, Response: {\"errors\":[{\"code\":1257,\"title\":\"INVALID PROPERTY CODE\",\"status\":400,\"detail\":\"Provider Error - INVALID PROPERTY CODE\",\"source\":{\"parameter\":\"hotelIds=YXVRN652,YXVRNGHR,YXVRNHPP,YXVRNMAR,YXVRNMON,YXVRNSUD\"}}]}\n",
            "ERROR:__main__:Failed to fetch flights: 400, Response: {\"errors\":[{\"status\":400,\"code\":4926,\"title\":\"INVALID DATA RECEIVED\",\"detail\":\"This location code is unknown\"}]}\n"
          ]
        },
        {
          "output_type": "stream",
          "name": "stdout",
          "text": [
            "[{'id': 'ACVCE394', 'name': 'MARCO POLO'}, {'id': 'BAVCEBLN', 'name': 'BOSCOLO BELLINI'}, {'id': 'BWVCE308', 'name': 'BW HOTEL CANON D ORO - CONEGLIANO'}, {'id': 'BWVCE163', 'name': 'BEST WESTERN PARK HOTEL'}, {'id': 'BWVCE315', 'name': 'BEST WESTERN HOTEL AIRVENICE-QUARTO D AL'}, {'id': 'BWVCE276', 'name': 'BW PARK HOTEL CONTINENTAL'}, {'id': 'BWVCE334', 'name': 'BW TITIAN INNHOTEL VENICE APT-TESSERA'}, {'id': 'BWVCE238', 'name': 'BW PREMIER SANT ELENA'}, {'id': 'BWVCE157', 'name': 'BEST WESTERN HTL MONTECARLO'}, {'id': 'BWVCE034', 'name': 'BEST WESTERN ALBERGO SAN MARCO'}, {'id': 'BWVCE261', 'name': 'BEST WESTERN HOTEL OLIMPIA'}, {'id': 'BWVCE067', 'name': 'BEST WESTERN BIASUTTI HOTELS'}, {'id': 'BWVCE152', 'name': 'BEST WESTERN HOTEL BOLOGNA'}, {'id': 'BWVCE294', 'name': 'BEST WESTERN PLUS QUID HOTEL'}, {'id': 'BWVCE042', 'name': 'BEST WESTERN HOTEL BISANZIO'}, {'id': 'BWVCE203', 'name': 'BEST WESTERN HOTEL ALA'}, {'id': 'BXVCECON', 'name': 'CONTINENTAL HOTEL'}, {'id': 'CHVCEH09', 'name': 'HOTEL GARIBALDI - MESTRE'}, {'id': 'CHVCEHMO', 'name': 'HOTEL MODERNO'}, {'id': 'CIVCE034', 'name': 'COMFORT HOTEL DIANA'}, {'id': 'CPVCE675', 'name': 'CROWNE PLAZA VENICE EAST'}, {'id': 'CYVCECYC', 'name': 'COURTYARD VENICE ARPT MARRIOTT'}, {'id': 'DSVCECAP', 'name': 'CA PISANI'}, {'id': 'EPVCEHPG', 'name': 'HOTEL PALAZZO GIOVANELLI'}, {'id': 'EPVCECAN', 'name': \"CA'NIGRA LAGOON RESORT\"}, {'id': 'FGVCEAPV', 'name': 'HOTEL AL PINO VERDE - CAMPOSAMPIERO'}, {'id': 'FGVCEDAN', 'name': 'HOTEL DANUBIO-JESOLO'}, {'id': 'FGVCEHLR', 'name': 'HOTEL LORELEY-JESOLO LIDO'}, {'id': 'FGVCERAD', 'name': 'HOTEL RELAIS ALCOVA DEL DOGE-MIRA'}, {'id': 'FGVCEHVC', 'name': 'HOTEL VILLA CONDULMER - MOGLIANO VENETO'}, {'id': 'FGVCELUP', 'name': 'HOTEL VILLA LUPPIS-PASIANO DI PORDENONE'}, {'id': 'FGVCE362', 'name': 'PARK HOTEL JUNIOR-QUARTO DALTINO'}, {'id': 'FGVCECBA', 'name': 'COLOMBINA HOTEL-VENEZIA'}, {'id': 'FGVCEAIP', 'name': 'PARK HOTEL AI PINI'}, {'id': 'FGVCERUS', 'name': 'HOTEL RUSSOTT-VENEZIA MESTRE'}, {'id': 'FGVCEPAG', 'name': 'HOTEL PAGANELLI'}, {'id': 'FGVCEZUS', 'name': \"DOMINA HOME CA'ZUSTO\"}, {'id': 'FGVCEFON', 'name': 'ALBERGO QUATTRO FONTANE'}, {'id': 'GZVCE543', 'name': 'HOTEL CASANOVA'}, {'id': 'GZVCECAA', 'name': 'HOTEL CA ARCO ANTICO'}, {'id': 'GZVCE977', 'name': 'HOTEL LOCANDA CANAL'}, {'id': 'HAVCEELI', 'name': 'ELITE - MESTRE'}, {'id': 'HAVCEPIA', 'name': 'HOTEL PIAVE HOTEL'}, {'id': 'HAVCECAP', 'name': 'CAPITAL HOTEL-ROVIGO'}, {'id': 'HAVCECAN', 'name': 'CANAL & WALTER'}, {'id': 'HAVCEHOL', 'name': 'HOLIDAY HOTEL - FAVARO VENETO'}, {'id': 'HAVCEGOR', 'name': 'GORIZIA A LA VALIGIA'}, {'id': 'HAVCEFOR', 'name': 'LA FORCOLA'}, {'id': 'HAVCETIN', 'name': 'TINTORETTO'}, {'id': 'HAVCETRE', 'name': 'TRE ARCHI'}, {'id': 'HAVCEALV', 'name': 'HOTEL CA ALVISE'}, {'id': 'HAVCECAD', 'name': 'HOTEL CA DEI CONTI'}, {'id': 'HAVCEH13', 'name': 'HOTEL MARCONI'}, {'id': 'HAVCENID', 'name': 'HOTEL AL NIDO DI GIULIETTA E ROMEO'}, {'id': 'HIVCE9F8', 'name': 'HOLIDAY INN MESTRE-MARGHERA'}, {'id': 'HOVCECEF', 'name': 'BLUE DREAM HOTEL'}, {'id': 'HSVCEACR', 'name': 'FORMULA INTERNATIONAL'}, {'id': 'HSVCEALO', 'name': 'AL FOGHER'}, {'id': 'HSVCEARI', 'name': 'ANTICA LOCANDA AL GAMBERO'}, {'id': 'HSVCEAJK', 'name': 'RIVIERA'}, {'id': 'HSVCEAJM', 'name': 'AMADEUS'}, {'id': 'HSVCEARF', 'name': 'VENEZIA 2000'}, {'id': 'HSVCEANG', 'name': 'RUSSO PALACE HOTEL'}, {'id': 'HSVCEAPN', 'name': 'BEL SITO E BERLINO'}, {'id': 'HSVCEAKB', 'name': 'LA MERIDIANA'}, {'id': 'HSVCEAGT', 'name': 'AL CANAL REGIO'}, {'id': 'HSVCEARO', 'name': 'PALACE HOTEL REGINA'}, {'id': 'HSVCEANK', 'name': 'PARIGI'}, {'id': 'HSVCEAPT', 'name': 'PALACE'}, {'id': 'HSVCEAIL', 'name': 'SAN GIORGIO'}, {'id': 'HSVCEAFR', 'name': 'AGRITURISMO DI LA DAL FIUME'}, {'id': 'HSVCEAEF', 'name': 'ASTORIA'}, {'id': 'HSVCEAWJ', 'name': 'CA DI VALLE'}, {'id': 'HSVCEAWL', 'name': 'CASA PER FERIE OPERA BEATO G. NASCIMBENI'}, {'id': 'HSVCEAWI', 'name': 'FORTUNA'}, {'id': 'HSVCEAPK', 'name': 'A CASA DI PAOLA'}, {'id': 'HSVCEAGB', 'name': 'EUROREST'}, {'id': 'HSVCEAHZ', 'name': 'CASA A COLORI VENEZIA'}, {'id': 'HSVCEAQB', 'name': 'LORY'}, {'id': 'HSVCEAVI', 'name': 'COUNTRY HOUSE COUNTRY CLUB'}, {'id': 'HSVCEARJ', 'name': 'VILLA GIULIETTA'}, {'id': 'HSVCEASP', 'name': 'SPLENDID TERME DI GALZIGNANO'}, {'id': 'HSVCEATG', 'name': 'COPPE'}, {'id': 'HSVCEATX', 'name': 'BAIA DEL MAR SUITE HOTEL'}, {'id': 'HSVCEALC', 'name': 'DANTE'}, {'id': 'HSVCEAGW', 'name': 'ASTROMARE'}, {'id': 'HSVCEABX', 'name': 'RIVAMARE'}, {'id': 'HSVCEAEI', 'name': 'JESULUM'}, {'id': 'HSVCEACD', 'name': 'LONDON'}, {'id': 'HSVCEADI', 'name': 'ROSANNA'}, {'id': 'HSVCEABW', 'name': 'VINA DEL MAR PINETA'}, {'id': 'HSVCEACG', 'name': 'NAZIONALE'}, {'id': 'HSVCEATT', 'name': 'GERMANIA'}, {'id': 'HSVCEALF', 'name': 'BELLEVUE - RESORT'}, {'id': 'HSVCEAHL', 'name': 'TROVATORE'}, {'id': 'HSVCEABB', 'name': 'AMBASCIATA'}, {'id': 'HSVCEADY', 'name': 'SAN CARLO'}, {'id': 'HSVCEAFB', 'name': 'GUIDI'}, {'id': 'HSVCEACB', 'name': 'DELLE ROSE'}, {'id': 'HSVCEAIP', 'name': 'KAPPA'}, {'id': 'HSVCEACH', 'name': 'CLUB'}, {'id': 'HSVCEADL', 'name': 'ISOLA DI CAPRERA'}, {'id': 'HSVCEAEC', 'name': 'BASE HOTEL TO WORK'}, {'id': 'HSVCEAHF', 'name': 'ALLA BOTTE'}, {'id': 'HSVCEAPA', 'name': 'MILAN'}, {'id': 'HSVCEAHU', 'name': 'VENICE RESORT'}, {'id': 'HSVCEAPG', 'name': 'SCALA'}, {'id': 'HSVCEARU', 'name': 'LOCANDA STURION'}, {'id': 'HSVCEAMP', 'name': 'EDEN'}, {'id': 'HSVCEAKN', 'name': 'GRANDE ALBERGO AUSONIA - HUNGARIA'}, {'id': 'HSVCEATD', 'name': 'CA DEL BORGO'}, {'id': 'HSVCEAMV', 'name': 'ALLE GUGLIE'}, {'id': 'HSVCEASF', 'name': 'LOCANDA POSTE VECIE'}, {'id': 'HSVCEAKM', 'name': 'FALIER'}, {'id': 'HSVCEAQX', 'name': 'PALAZZO SELVADEGO'}, {'id': 'HSVCEAPH', 'name': 'AL GAZZETTINO'}, {'id': 'HSVCEARS', 'name': 'CASA SUL MOLO LOCANDA'}, {'id': 'HSVCEAQT', 'name': 'PANTALON'}, {'id': 'HSVCEARL', 'name': 'PALAZZO GUARDI'}, {'id': 'HSVCEARP', 'name': 'LE VILLE DEL LIDO'}, {'id': 'HSVCEATR', 'name': 'VILLA PANNONIA'}, {'id': 'HSVCEASE', 'name': 'RIGEL'}, {'id': 'HSVCEANM', 'name': 'VILLA LAGUNA ALL SUITES'}, {'id': 'HSVCEAKX', 'name': 'VILLA CIPRO'}, {'id': 'HSVCEATQ', 'name': 'TIVOLI'}, {'id': 'HSVCEASY', 'name': 'CA PEDROCCHI'}, {'id': 'HSVCEATM', 'name': 'SETTIMO CIELO - BLOOM B-B'}, {'id': 'HSVCEAIE', 'name': 'SAN LIO T.H. GUEST HOUSE - 1 CAT.'}, {'id': 'HSVCEAIC', 'name': \"CA' BRAGADIN CARABBA - CHARMING INN\"}, {'id': 'HSVCEABN', 'name': 'CASA COSMO'}, {'id': 'HSVCEAUA', 'name': 'ORION'}, {'id': 'HSVCEABM', 'name': 'KOSHER HOUSE GIARDINO DEI MELOGRANI'}, {'id': 'HSVCEAHJ', 'name': 'LA PERGOLA DI VENEZIA'}, {'id': 'HSVCEATW', 'name': \"CA' GOTTARDI\"}, {'id': 'KYVCERUZ', 'name': 'PHW RUZZINI PALACE HOTEL'}, {'id': 'LWVCE170', 'name': 'BAUER PALLADIO HOTEL AND  SPA'}, {'id': 'LWVCE148', 'name': 'LUNA HOTEL BAGLIONI VENICE'}, {'id': 'LXVCELPA', 'name': 'LIASSIDI PALACE'}, {'id': 'LXVCEPSA', 'name': 'PALAZZO SANT ANGELO SUL CANAL'}, {'id': 'LXVCECAS', 'name': 'CA SAGREDO HOTEL'}, {'id': 'MCVCEJWM', 'name': 'JW MARRIOTT VENICE RESORT SPA'}, {'id': 'OIVCEBQW', 'name': 'HOTEL AL VIVIT - MESTRE'}, {'id': 'OIVCEHDD', 'name': 'HOTEL RIVIERA DEI DOGI - MIRA'}, {'id': 'OIVCEVIL', 'name': 'VILLA MARCELLO GIUSTINIAN - MOGLIANO VEN'}, {'id': 'OIVCEEUP', 'name': 'ANNIA PARK HOTEL - TESSERA'}, {'id': 'OIVCEDHT', 'name': 'LOCANDA ANTICO FIORE'}, {'id': 'OIVCEF21', 'name': 'HOTEL CERTOSA - VENEZIA'}, {'id': 'ONVCEHVO', 'name': 'HOTEL VILLA ORIO'}, {'id': 'ONVCEANG', 'name': 'HOTEL FLEURS DE ZERMATT-FOSSO'}, {'id': 'ONVCEHVC', 'name': 'HOTEL VILLA COSTANZA'}, {'id': 'ONVCEHLA', 'name': 'HOTEL LOCANDA AL PIAVE-SAN DONA DI PIAVE'}, {'id': 'ONVCEALI', 'name': 'HOTEL VILLA ALIGHIERI'}, {'id': 'ONVCEFLO', 'name': 'HOTEL FLORA'}, {'id': 'ONVCELUG', 'name': 'HOTEL LUGANO TORRETTA-VENEZIA'}, {'id': 'PHVCEMET', 'name': 'METROPOLE HOTEL PREFERRED BOUT'}, {'id': 'RTVCEMGA', 'name': 'LAGARE HOTEL VENEZIA - VENEZIA ISOLA DI '}, {'id': 'RTVCENOV', 'name': 'NOVOTEL VENEZIA MESTRE'}, {'id': 'SCVCE101', 'name': 'HOTEL VILLA ADELE-MARGHERA'}, {'id': 'SXVCEABA', 'name': 'HOTEL AMBASCIATORI-MESTRE'}, {'id': 'SXVCETRI', 'name': 'HOTEL TRITONE'}, {'id': 'SYVCESPL', 'name': 'STARHOTELS  SPLENDID VENICE'}, {'id': 'UIVCEAPH', 'name': 'ANTONY PALACE HOTEL'}, {'id': 'UIVCEGIO', 'name': 'GIORGIONE HOTEL'}, {'id': 'UZVCE811', 'name': 'HOTEL AL PORTICO'}, {'id': 'UZVCE812', 'name': 'LOCANDA ANTICA VENEZIA'}, {'id': 'UZVCE212', 'name': 'LANTERNA DI MARCO POLO HOTEL'}, {'id': 'UZVCE948', 'name': 'NOTTURNO HOTEL SAN ZULIAN'}, {'id': 'UZVCE466', 'name': 'LA SCALA PALACE'}, {'id': 'WBVCE431', 'name': 'HOTEL LONDRA PALACE'}, {'id': 'WVVCE498', 'name': 'HOTEL ALL ORSO - RONCADE TREVISO'}, {'id': 'WVVCE826', 'name': 'VILLA F'}, {'id': 'WVVCETIV', 'name': 'HOTEL SCANDINAVIA'}, {'id': 'WWVCEVVC', 'name': 'HOTEL VILLA CIPRIANI'}, {'id': 'XLVCEMON', 'name': 'HOTEL MONACO AND GRAND CANAL'}, {'id': 'XNVCEVEX', 'name': 'HOTEL EXCELSIOR'}, {'id': 'YHVCEFHJ', 'name': 'FALKENSTEINER HOTEL JESOLO'}, {'id': 'YHVCEVIL', 'name': 'VILLA BRAIDA'}, {'id': 'YXVCEHAL', 'name': 'HOTEL AL CAMIN'}, {'id': 'YXVCEADG', 'name': 'HOTEL AMALFI'}, {'id': 'YXVCED9T', 'name': 'HOTEL GREIF LIGNANO'}, {'id': 'YXVCE248', 'name': 'SWISS INT VILLA PATRIARCA'}, {'id': 'YXVCEITA', 'name': 'GRAND ITALIA HOTEL'}, {'id': 'YXVCE565', 'name': 'HOTEL LE TEGNUE'}, {'id': 'YXVCECGR', 'name': 'CANAL GRANDE HOTEL'}, {'id': 'YXVCEDUO', 'name': 'DUODO PALACE HOTEL'}, {'id': 'YXVCEHVI', 'name': 'VILLA IGEA HOTEL'}, {'id': 'YXVCEFOS', 'name': 'FOSCARI PALACE'}, {'id': 'YXVCEADL', 'name': 'AI DUE LEONI'}, {'id': 'YXVCECAF', 'name': 'HOTEL CA FORMENTA'}, {'id': 'YXVCEACR', 'name': 'ALLA CORTE ROSSA'}, {'id': 'YXVCEADV', 'name': 'AL DUCA DI VENEZIA'}, {'id': 'YXVCEPAN', 'name': 'HOTEL PANORAMA VCE'}, {'id': 'YXVCECAP', 'name': 'HOTEL CA PAGAN'}, {'id': 'YXVCEACC', 'name': 'ACCA HOTEL'}, {'id': 'YXVCEHVP', 'name': 'HOTEL VILLA PARCO'}, {'id': 'YXVCEMCH', 'name': 'SWISS INTL MICHELANGELO'}, {'id': 'YXVCEBER', 'name': 'BELLEVUE SUITES ST MARK SQUARE'}, {'id': 'YXVCEPBH', 'name': 'PALACE BONVECCHIATI'}]\n"
          ]
        },
        {
          "output_type": "stream",
          "name": "stderr",
          "text": [
            "ERROR:__main__:Failed to fetch hotel offers: 400, Response: {\"errors\":[{\"code\":4070,\"title\":\"UNABLE TO PROCESS - CONTACT HELP DESK\",\"status\":400,\"detail\":\"Provider Error - UNABLE TO PROCESS - CONTACT HELP DESK\",\"source\":{\"parameter\":\"hotelIds=HIVCE9F8\"}},{\"code\":1257,\"title\":\"INVALID PROPERTY CODE\",\"status\":400,\"detail\":\"Provider Error - INVALID PROPERTY CODE\",\"source\":{\"parameter\":\"hotelIds=HOVCECEF,HSVCEABB,HSVCEABW,HSVCEABX,HSVCEACB,HSVCEACD,HSVCEACG,HSVCEACR,HSVCEADI,HSVCEADY,HSVCEAEI,HSVCEAFB,HSVCEAFR,HSVCEAGT,HSVCEAGW,HSVCEAHL,HSVCEAHZ,HSVCEAIL,HSVCEAIP,HSVCEAJK,HSVCEAJM,HSVCEAKB,HSVCEALC,HSVCEALF,HSVCEANG,HSVCEANK,HSVCEAPK,HSVCEAPT,HSVCEAQB,HSVCEARF,HSVCEARI,HSVCEARJ,HSVCEARO,HSVCEASP,HSVCEATG,HSVCEATT,HSVCEATX,HSVCEAWI,HSVCEAWJ,HSVCEAWL\"}},{\"code\":3664,\"title\":\"NO ROOMS AVAILABLE AT REQUESTED PROPERTY\",\"status\":400,\"detail\":\"Provider Error - NO ROOMS AVAILABLE AT REQUESTED PROPERTY\",\"source\":{\"parameter\":\"hotelIds=HAVCEALV,HAVCECAD,HAVCEH13,HAVCENID,HSVCEAEF,HSVCEAGB,HSVCEALO,HSVCEAPN,HSVCEAVI\"}}]}\n",
            "ERROR:__main__:Failed to fetch flights: 400, Response: {\"errors\":[{\"status\":400,\"code\":4926,\"title\":\"INVALID DATA RECEIVED\",\"detail\":\"This location code is unknown\"}]}\n"
          ]
        },
        {
          "output_type": "stream",
          "name": "stdout",
          "text": [
            "[{'id': 'ARFLRFIR', 'name': 'AC BY MARRIOTT HOTEL FIRENZE'}, {'id': 'BWFLR309', 'name': 'BEST WESTERN HOTEL RIVER'}, {'id': 'BWFLR267', 'name': 'BW HOTEL PALAZZO OGNISSANTI'}, {'id': 'BWFLR158', 'name': 'BEST WESTERN GRAND HOTEL ADRIATICO'}, {'id': 'CHFLRHMT', 'name': 'HOTEL MARTELLI'}, {'id': 'CHFLRHRH', 'name': 'RESIDENCE HILDA'}, {'id': 'CHFLRH38', 'name': 'HOTEL PRIVILEGE'}, {'id': 'CHFLRH49', 'name': 'HOTEL ANNABELLA'}, {'id': 'CHFLRHCE', 'name': 'HOTEL I CEDRI'}, {'id': 'DHFLRANY', 'name': 'C-HOTELS THE STYLE FLORENCE'}, {'id': 'DSFLRCON', 'name': 'CONTINENTALE'}, {'id': 'EPFLR625', 'name': 'RELAIS VILLA BELPOGGIO'}, {'id': 'EPFLRMON', 'name': 'UNA PALAZZO MANNAIONI'}, {'id': 'EUFLRVTO', 'name': 'VILLA TOLOMEI HOTEL & RESORT'}, {'id': 'FGFLRH01', 'name': 'HOTEL BALESTRI'}, {'id': 'FGFLRBIL', 'name': 'AFFITTACAMERE CASA BILLI'}, {'id': 'GAFLRAUG', 'name': 'GALLERY HOTEL ART'}, {'id': 'GIFLR424', 'name': 'HILTON GRDN INN FLORENCE NOVOLI'}, {'id': 'GZFLROLI', 'name': 'HOTEL OLIMPIA'}, {'id': 'GZFLRHCI', 'name': 'HOTEL CIMABUE'}, {'id': 'GZFLR243', 'name': 'HOTEL ALBION'}, {'id': 'GZFLR703', 'name': 'HOTEL MORANDI ALLA CROCETTA'}, {'id': 'GZFLRCAR', 'name': 'HOTEL VILLA CARLOTA'}, {'id': 'GZFLRH22', 'name': 'HOTEL SEMPIONE'}, {'id': 'GZFLR051', 'name': 'HOTEL BOTTICELLI'}, {'id': 'GZFLR694', 'name': 'HOTEL MERIDIANA'}, {'id': 'GZFLRBBP', 'name': 'B AND B LA PIAZZETTA'}, {'id': 'HAFLRVEC', 'name': 'PALAZZO VECCHIO'}, {'id': 'HAFLRVIA', 'name': 'VILLA DE RONDINI-FIRENZE'}, {'id': 'HAFLRASC', 'name': 'ASCOT'}, {'id': 'HAFLRCAP', 'name': 'HOTEL VILLA CAPPUGI'}, {'id': 'HOFLR117', 'name': 'RELAIS VIGNALE'}, {'id': 'HSFLRAOW', 'name': 'PARK HOTEL RIPAVERDE'}, {'id': 'HSFLRARS', 'name': 'ALINARI'}, {'id': 'HSFLRAPH', 'name': 'CORTE DEI MEDICI'}, {'id': 'HSFLRABM', 'name': \"L'ULTIMO MULINO\"}, {'id': 'HSFLRABB', 'name': 'ASTORIA'}, {'id': 'HSFLRAFQ', 'name': 'LA COLLEGIATA'}, {'id': 'HSFLRAAO', 'name': 'PAGGERIA MEDICEA'}, {'id': 'HSFLRADI', 'name': 'RELAIS VILLA IL SASSO'}, {'id': 'HSFLRAJN', 'name': 'MARRANI'}, {'id': 'HSFLRAGD', 'name': 'LA SELVA'}, {'id': 'HSFLRAQK', 'name': 'LOCANDA DEI BARONI ANTICA DIMORA'}, {'id': 'HSFLRAGB', 'name': 'WEST FLORENCE'}, {'id': 'HSFLRAAU', 'name': 'CENTRO'}, {'id': 'HSFLRADP', 'name': 'LOCANDA LE PIAZZE'}, {'id': 'HSFLRAGX', 'name': 'VILLA LA BORGHETTA'}, {'id': 'HSFLRASV', 'name': 'BLACK 5 FLORENCE SUITE'}, {'id': 'HSFLRAEF', 'name': 'TOGETHER FLORENCE INN'}, {'id': 'HSFLRASS', 'name': \"1865 RESIDENZA D'EPOCA\"}, {'id': 'HSFLRAGK', 'name': 'DEI MACCHIAIOLI'}, {'id': 'HSFLRAHS', 'name': 'PARK PALACE'}, {'id': 'HSFLRARE', 'name': 'PALAZZO RUSPOLI B-B'}, {'id': 'HSFLRAQX', 'name': 'AXIAL'}, {'id': 'HSFLRAOG', 'name': 'DELLA ROBBIA'}, {'id': 'HSFLRAPA', 'name': 'LIDO'}, {'id': 'HSFLRAJH', 'name': 'ART ATELIER'}, {'id': 'HSFLRAPD', 'name': 'RITA MAJOR'}, {'id': 'HSFLRAOK', 'name': 'TRINITY APARTMENTS'}, {'id': 'HSFLRAOM', 'name': 'NILHOTEL'}, {'id': 'HSFLRARU', 'name': 'LA MONGOLFIERA RESIDENZE'}, {'id': 'HSFLRAQB', 'name': 'EDEN'}, {'id': 'HSFLRAQM', 'name': 'JANE'}, {'id': 'HSFLRAMP', 'name': 'ANNALENA'}, {'id': 'HSFLRAJX', 'name': 'SAN GAGGIO HOUSE B-B'}, {'id': 'HSFLRAQR', 'name': 'RESIDENCE MICHELANGIOLO'}, {'id': 'HSFLRAQA', 'name': 'VILLA BIANCA'}, {'id': 'HSFLRAQH', 'name': 'BORGO SANT IPPOLITO COUNTRY HOTEL'}, {'id': 'HSFLRALJ', 'name': 'LOCANDA IL GALLO LOGIS'}, {'id': 'HSFLRAAV', 'name': 'IL CASELLO COUNTRY HOUSE'}, {'id': 'HSFLRAGQ', 'name': 'VILLA AMBROSINA'}, {'id': 'HSFLRAHE', 'name': 'RESIDENZA DEL GRANDUCA'}, {'id': 'HSFLRAFM', 'name': 'AMBROSIANO'}, {'id': 'HSFLRADL', 'name': 'MINERVA PALACE'}, {'id': 'HSFLRAEC', 'name': 'ALASSIO'}, {'id': 'HSFLRABT', 'name': 'LA PIA'}, {'id': 'HSFLRAEJ', 'name': 'BOSTON'}, {'id': 'HSFLRAUA', 'name': 'MIRO'}, {'id': 'HSFLRAAJ', 'name': 'TORRETTA'}, {'id': 'HSFLRACA', 'name': 'PANORAMIC GRAND HOTEL'}, {'id': 'HSFLRACG', 'name': 'TAMERICI E PRINCIPE GRAND HOTEL'}, {'id': 'HSFLRADU', 'name': 'IL MOLINO DEL PONTE'}, {'id': 'HSFLRAFN', 'name': 'VILLA GIORGIA ALBERGO IN COLLINA'}, {'id': 'HSFLRAAZ', 'name': 'VILLA IL TREBBIOLO'}, {'id': 'HSFLRACH', 'name': 'DATINI'}, {'id': 'HSFLRAFA', 'name': 'I CILIEGI'}, {'id': 'HSFLRAUH', 'name': 'VILLA I BARRONCI'}, {'id': 'HSFLRAGG', 'name': 'VILLA DUCCI'}, {'id': 'HSFLRAAL', 'name': 'SOVESTRO'}, {'id': 'HSFLRABQ', 'name': 'LE VOLPAIE'}, {'id': 'HSFLRAEV', 'name': 'VILLA GUARNASCHELLI'}, {'id': 'HSFLRAEI', 'name': 'MARZIA'}, {'id': 'HSFLRASL', 'name': 'UNA HOTEL POGGIO DEI MEDICI GOLF - RESOR'}, {'id': 'HSFLRATG', 'name': 'VILLA PICCOLA SIENA'}, {'id': 'HSFLRASU', 'name': 'CHIANTI VILLAGE MORROCCO'}, {'id': 'HSFLRAFX', 'name': 'FATTORIA QUERCETO'}, {'id': 'LWFLR163', 'name': 'CASTELLO  DEL NERO'}, {'id': 'LXFLRVAR', 'name': 'VILLA ARMENA'}, {'id': 'LXFLRJKP', 'name': 'JK PLACE FIRENZE'}, {'id': 'OIFLREJU', 'name': 'GARIBALDIS HOTEL RELAIS ET CHARME'}, {'id': 'OIFLRD1Q', 'name': 'HOTEL MICHELANGELO-MONTECATINI-TERME'}, {'id': 'OIFLRD99', 'name': 'GRAND HOTEL NIZZA ET SUISSE'}, {'id': 'OIFLRD21', 'name': 'HOTEL BONIFACIO'}, {'id': 'ONFLRKRI', 'name': 'HOTEL KRISTAL'}, {'id': 'ONFLRPAL', 'name': 'MSNSUITES PALAZZO DEI CIOMPI-FIRENZE'}, {'id': 'ONFLRDLP', 'name': 'HOTEL DE LA PACE'}, {'id': 'ONFLR250', 'name': 'HOTEL VILLA LIANA'}, {'id': 'PHFLRPVH', 'name': 'PALAZZO VECCHIETTI PREFERRED B'}, {'id': 'PHFLRMSH', 'name': 'MONTEBELLO SPLENDID PREFERRED'}, {'id': 'RTFLRVOR', 'name': 'VILLA OLMI RESORT-BAGNO A RIPOLI'}, {'id': 'RTFLRSOF', 'name': 'CERRETANI FIRENZE (EX SOFITEL)'}, {'id': 'RTFLREST', 'name': 'IBIS FIRENZE PRATO EST'}, {'id': 'RTFLRAPT', 'name': 'NOVOTEL FIRENZE NORD AEROPORTO'}, {'id': 'SXFLRPLA', 'name': 'PLAZA HOTEL LUCCHESI'}, {'id': 'SYFLRMIC', 'name': 'STARHOTELS MICHELANGELO'}, {'id': 'SYFLRMRO', 'name': 'STARHOTELS TUSCANY'}, {'id': 'SYFLRSTA', 'name': 'STARHOTELS VESPUCCI'}, {'id': 'TAFLRBET', 'name': 'HOTEL VILLA BETANIA'}, {'id': 'TSFLR286', 'name': 'HOTEL IL GUELFO BIANCO'}, {'id': 'UIFLREXE', 'name': 'EXECUTIVE HOTEL'}, {'id': 'UIFLRVLL', 'name': 'VILLA FIESOLE HOTEL'}, {'id': 'UIFLRHCL', 'name': 'C-HOTELS CLUB'}, {'id': 'UIFLRPRS', 'name': 'PARIS HOTEL'}, {'id': 'UIFLRCLA', 'name': 'HOTEL HOME FLORENCE'}, {'id': 'UIFLRBER', 'name': 'HOTEL BERNINI PALACE'}, {'id': 'UIFLR123', 'name': 'HOTEL LAURUS AL DUOMO'}, {'id': 'UIFLRARZ', 'name': 'ARIZONA HOTEL'}, {'id': 'UIFLRSGP', 'name': 'SAN GALLO PALACE HOTEL'}, {'id': 'UIFLRC2H', 'name': 'MACHIAVELLI PALACE HOTEL'}, {'id': 'UIFLREIX', 'name': 'FIRST HOTEL'}, {'id': 'UZFLR138', 'name': 'VILLA GIOTTO PARK HOTEL - BIVIGLIANO'}, {'id': 'UZFLRART', 'name': 'ART HOTEL MIRO'}, {'id': 'UZFLRH39', 'name': 'HOTEL GRIFONE'}, {'id': 'UZFLRCRO', 'name': 'CROCE DI MALTA HOTEL'}, {'id': 'VPFLR310', 'name': 'RELAIS UFFIZI'}, {'id': 'WBFLR302', 'name': 'GRAND HOTEL VILLA CORA'}, {'id': 'WBFLRBOR', 'name': 'HOTEL RELAIS BORGO SAN FELICE'}, {'id': 'WIFLR043', 'name': 'THE WESTIN EXCELSIOR FLORENCE'}, {'id': 'WVFLRORO', 'name': 'HOTEL L OROLOGIO'}, {'id': 'WVFLRGTO', 'name': 'GOLDEN TOWER FIRENZE'}, {'id': 'WVFLRMIN', 'name': 'GRAND HOTEL MINERVA'}, {'id': 'WVFLR471', 'name': 'BED AND BREAKFAST EUROHOME'}, {'id': 'WVFLR549', 'name': 'HOTEL MONTREAL'}, {'id': 'WVFLR400', 'name': 'ALAMANNI HOTEL'}, {'id': 'WVFLRAHO', 'name': 'ROOM MATE ISABELLA'}, {'id': 'WVFLRCAR', 'name': 'ROOM MATE LUCA'}, {'id': 'WVFLRLEM', 'name': 'HOTEL CASA LEMMI'}, {'id': 'XLFLRABR', 'name': 'VILLASANPAOLO WELLNESS E RELAX'}, {'id': 'XRFLR045', 'name': 'THE ST REGIS FLORENCE'}, {'id': 'YXFLR8RJ', 'name': 'HOTEL MINERVA AREZZO'}, {'id': 'YXFLRPOG', 'name': 'POGGIO CENNINA'}, {'id': 'YXFLRVDP', 'name': 'VILLA DI PIAZZANO'}, {'id': 'YXFLRNAZ', 'name': 'HOTEL DELLE NAZIONI FLORENCE'}, {'id': 'YXFLRH27', 'name': 'HOTEL GIOIA'}, {'id': 'YXFLRH44', 'name': 'HOTEL MEDICI'}, {'id': 'YXFLRH03', 'name': 'HOTEL ARIELE'}, {'id': 'YXFLRKUR', 'name': 'HOTEL KURSAAL AND AUSONIA'}, {'id': 'YXFLRHDF', 'name': 'HOTEL DELTA FLORENCE'}, {'id': 'YXFLRC20', 'name': 'PALAZZO RICASOLI'}, {'id': 'YXFLRH56', 'name': 'HOTEL LA GIOCONDA FLORENCE'}, {'id': 'YXFLR834', 'name': 'ORTO DE MEDICI'}, {'id': 'YXFLRHMG', 'name': 'RAPALLO HOTEL'}, {'id': 'YXFLRH14', 'name': 'HOTEL COSIMO DE MEDICI'}, {'id': 'YXFLR154', 'name': 'HOTEL CARAVAGGIO'}, {'id': 'YXFLRBN5', 'name': 'HOTEL COLOMBA'}, {'id': 'YXFLRGIG', 'name': 'HOTEL GIGLIO'}, {'id': 'YXFLRSIH', 'name': 'SILLA HOTEL'}, {'id': 'YXFLRHBE', 'name': 'HOTEL BEATRICE'}, {'id': 'YXFLRBAH', 'name': 'BORGHESE PALACE ART HOTEL'}, {'id': 'YXFLR482', 'name': 'EMBASSY HOTEL'}, {'id': 'YXFLR444', 'name': 'I PARIGI CORBINELLI'}, {'id': 'YXFLRHDC', 'name': 'HOTEL SPAGNA'}, {'id': 'YXFLRTDB', 'name': 'TORRE DI BELLOSGUAR'}, {'id': 'YXFLRH29', 'name': 'HOTEL CITY'}, {'id': 'YXFLRHDR', 'name': 'HOTEL DE ROSE PALACE'}, {'id': 'YXFLRTOR', 'name': 'ANTICA TORRE TORNABUONI 1'}, {'id': 'YXFLR424', 'name': 'DEMIDOFF COUNTRY RESORT'}, {'id': 'YXFLRSTA', 'name': 'HOTEL VILLA STANLEY - SESTO FI'}, {'id': 'YXFLR842', 'name': 'BORGO DI CORTEFREDA HOTEL RELA'}, {'id': 'YXFLRH25', 'name': 'HOTEL FEDORA'}, {'id': 'YXFLRBRU', 'name': 'HOTEL BRUNELLESCHI'}, {'id': 'YXFLRH06', 'name': 'HOTEL GOLF FLORENCE'}, {'id': 'YXFLRROV', 'name': 'RELAIS DELLA ROVERE'}]\n"
          ]
        },
        {
          "output_type": "stream",
          "name": "stderr",
          "text": [
            "INFO:werkzeug:127.0.0.1 - - [15/Mar/2025 19:24:22] \"GET / HTTP/1.1\" 200 -\n",
            "ERROR:__main__:Failed to fetch hotel offers: 400, Response: {\"errors\":[{\"code\":3289,\"title\":\"RATE NOT AVAILABLE FOR REQUESTED DATES\",\"status\":400,\"detail\":\"Provider Error - RATE NOT AVAILABLE FOR REQUESTED DATES\",\"source\":{\"parameter\":\"hotelIds=YXFLR444,YXFLRBAH,YXFLRGIG,YXFLRH06,YXFLRTDB\"}},{\"code\":1257,\"title\":\"INVALID PROPERTY CODE\",\"status\":400,\"detail\":\"Provider Error - INVALID PROPERTY CODE\",\"source\":{\"parameter\":\"hotelIds=YXFLR154,YXFLR424,YXFLR482,YXFLR834,YXFLR842,YXFLRBN5,YXFLRBRU,YXFLRH03,YXFLRH14,YXFLRH25,YXFLRH27,YXFLRH29,YXFLRH44,YXFLRH56,YXFLRHBE,YXFLRHDC,YXFLRHDR,YXFLRHMG,YXFLRKUR,YXFLRROV,YXFLRSIH,YXFLRSTA,YXFLRTOR\"}},{\"code\":3664,\"title\":\"NO ROOMS AVAILABLE AT REQUESTED PROPERTY\",\"status\":400,\"detail\":\"Provider Error - NO ROOMS AVAILABLE AT REQUESTED PROPERTY\",\"source\":{\"parameter\":\"hotelIds=YXFLRC20,YXFLRHDF,YXFLRNAZ,YXFLRPOG,YXFLRVDP\"}}]}\n",
            "ERROR:__main__:Failed to fetch flights: 400, Response: {\"errors\":[{\"status\":400,\"code\":4926,\"title\":\"INVALID DATA RECEIVED\",\"detail\":\"This location code is unknown\"}]}\n",
            "INFO:werkzeug:127.0.0.1 - - [15/Mar/2025 19:24:47] \"POST /selecionar_cidade HTTP/1.1\" 200 -\n"
          ]
        },
        {
          "output_type": "stream",
          "name": "stdout",
          "text": [
            "Imagens encontradas: {'Verona': ['https://pixabay.com/get/g493893a1ce06cdbfd5701e2f6e7be491e97f2837e810d80af78d9ecdf846087d8f387df18f0028305845004c50d21ff1e1b4dce354b2e9b5d73a57dae9f0e7ef_1280.jpg', 'https://pixabay.com/get/g6203cfd36e5e2e6c64635aa17f5e9c20403771a6e96267bc256892d0cef4f009d799c32fdaa7b0eca6d8798f5ff5cc45ce4a6683e5ac0f9ea3a5f97d78f1cb91_1280.jpg', 'https://pixabay.com/get/gf998ba2526480a7a47d5f361b0803b6bf57ba473150d076544695bf2d4ca7bd676dc4229012c91123072c7892c5b5c6a19d6df01d971ea3f4889c50eceb5e9c3_1280.jpg', 'https://pixabay.com/get/ga7375e63c2a41b0c88fb88761db54c6e45fa8c7a6088cc60172d1ad20ef8fa48042475fd066c2f92e88be9864cf2a59637f8c7ceea51303dce09bb80958e3466_1280.jpg', 'https://pixabay.com/get/gfea37aee67dfd1225d1009e2058b81e9f7435abe15641c2a12a9b50ddb449317e72d229eeeba8bfc82a5c29e26fd2d8a2f3ccc85a7d955dc36346400e8aef7f2_1280.jpg'], 'Venice': ['https://pixabay.com/get/g4659b245a826273e8b050655b3f557022b4ad0c9c595e18c51a472440c84da34ea8ec96a90bd5013912af7ce5b5ef4ba1e18f7393a544fbba9000eb738281c39_1280.jpg', 'https://pixabay.com/get/g18eb09cdfee790dbe7b25cd80b14f4383d8da6d8ae9008bd9f39b88183ce8d6f5efb9c07f521dc10328a4f3ad53ba71d707620f0d585513fa9b6a4ea4c92e794_1280.jpg', 'https://pixabay.com/get/ge0914b2b67ce85782273d081cb8c45d6edbb511d6cd1f9c1314558ed0c4431c0dad6c6f85577bfc8e6ba155298e6d786dcbbaa2262647a7b548bc0e8e7d0fedb_1280.jpg', 'https://pixabay.com/get/g9ed6bda23dc1880144c40d42e08c758a65b1eae7c145fb67b2ddaaf8ca5449724628bd3d2e4ad4739b0c1ac0c7cbea415dced2e5efabe33f4b21a61dd9cfadbb_1280.jpg', 'https://pixabay.com/get/gdf1dc98fd51255b51ef74d09a3f51fc673c76eadf83fecb612f6150daffd909728d3047ed2778847afef1527ef763c8574539177efa5c139143bbda2b84d1dc9_1280.jpg'], 'Florence': ['https://pixabay.com/get/gc263c0557056d566f64fbbc5a2dcd3362a7756a9abc6f6db28fbb030ab8801af2a3c3c7c24a65ecda64788fd89515c211f153ed4ec46da2e317e0c0071eca810_1280.jpg', 'https://pixabay.com/get/g7ad8b50de8aaa976c3f889569d20245e0f168a8cceefe89e351512a04ba208bb55fb3f57be1bfee22964d90e323e740853d40997139d7e858a34b535060002a0_1280.jpg', 'https://pixabay.com/get/g3194811f34607499eda4e214be71596d90f960848701ad993e29cad66e372ff86d5e6435cf1c5e8547f590f3bf7b1512bfe383f51ce7f8721518c2912af6aada_1280.jpg', 'https://pixabay.com/get/gac5928aa169c8062fb708e6a743715210066f366866ca16392ec6b0ff8ab806559a4ad94e83b81fb7ff585f0b1e5d97aa8248f62b88fe9f5762cd02d12d903b8_1280.jpg', 'https://pixabay.com/get/gb553e8d4638181dec792dc5f101050fe889fab75d8dccd4b425b6d3b7a1dc0dc6f610e87e0792e8950e3de8b3e003a760fe6251d0f369da3f98d09dd450336fd_1280.jpg']}\n"
          ]
        },
        {
          "output_type": "stream",
          "name": "stderr",
          "text": [
            "INFO:werkzeug:127.0.0.1 - - [15/Mar/2025 19:24:58] \"POST / HTTP/1.1\" 200 -\n",
            "INFO:werkzeug:127.0.0.1 - - [15/Mar/2025 19:24:58] \"\u001b[36mGET /static/HI9M.gif HTTP/1.1\u001b[0m\" 304 -\n"
          ]
        },
        {
          "output_type": "stream",
          "name": "stdout",
          "text": [
            "Dolomita Itália  Liste 3 de destinos turísticos, incluindo: - Informe cidades com serviço regular de voos que sejam proximas às atracoes destacadas: Nome da Cidade e seu codigo IATA em parentesis: (exemplo: 'San Juan (SJU)'). - Principais atrações e atividades. use no maximo 1000 palavras de forma que resuma bem o pedido do usuario.\n",
            "\n",
            "1. **Veneza (VCE) - Cidade de Veneza**\n",
            "   Veneza é uma cidade única no mundo, conhecida por seus canais, pontes e edifícios de estilo veneziano. Ao longo do Canal Grande, é possível encontrar palácios de estilo renascentista e barroco, como o Palácio Ducal e a Basílica de São Marcos. Outras atrações incluem a Ilha de San Giorgio Maggiore, com sua igreja e o Campanile, a ilha de San Giorgio Maggiore, e a Ilha de Murano, conhecida pela produção de vidro de qualidade.\n",
            "\n",
            "2. **Florença (FLR) - Cidade de Florença**\n",
            "   Florença é uma cidade repleta de história e arte, conhecida como a \"Criadouro da Renascença\". A Piazza del Duomo é a principal atração, com a Catedral de Santa Maria del Fiore, a Torre Giotto e o Baptisterio. Outras atrações incluem o Palácio Pitti, com suas belas artes e a Galeria Uffizi, que contém obras de artistas renascentistas como Botticelli, Leonardo da Vinci e Michelangelo.\n",
            "\n",
            "3. **Roma (FCO) - Cidade de Roma**\n",
            "   Roma é uma cidade rica em história e cultura, conhecida por sua arquitetura antiga e moderna. A Coliseu é uma das principais atrações, com sua história e tamanho imponente. Outras atrações incluem o Foro Romano, o Panteão e a Basílica de São Pedro. A Cidade do Vaticano é uma cidade independente, com a Basílica de São Pedro, a Cúria e o Museu Vaticano.\n",
            "origem IATA: RMA\n",
            "[{'id': 'ACVCE394', 'name': 'MARCO POLO'}, {'id': 'BAVCEBLN', 'name': 'BOSCOLO BELLINI'}, {'id': 'BWVCE308', 'name': 'BW HOTEL CANON D ORO - CONEGLIANO'}, {'id': 'BWVCE163', 'name': 'BEST WESTERN PARK HOTEL'}, {'id': 'BWVCE315', 'name': 'BEST WESTERN HOTEL AIRVENICE-QUARTO D AL'}, {'id': 'BWVCE276', 'name': 'BW PARK HOTEL CONTINENTAL'}, {'id': 'BWVCE334', 'name': 'BW TITIAN INNHOTEL VENICE APT-TESSERA'}, {'id': 'BWVCE238', 'name': 'BW PREMIER SANT ELENA'}, {'id': 'BWVCE157', 'name': 'BEST WESTERN HTL MONTECARLO'}, {'id': 'BWVCE034', 'name': 'BEST WESTERN ALBERGO SAN MARCO'}, {'id': 'BWVCE261', 'name': 'BEST WESTERN HOTEL OLIMPIA'}, {'id': 'BWVCE067', 'name': 'BEST WESTERN BIASUTTI HOTELS'}, {'id': 'BWVCE152', 'name': 'BEST WESTERN HOTEL BOLOGNA'}, {'id': 'BWVCE294', 'name': 'BEST WESTERN PLUS QUID HOTEL'}, {'id': 'BWVCE042', 'name': 'BEST WESTERN HOTEL BISANZIO'}, {'id': 'BWVCE203', 'name': 'BEST WESTERN HOTEL ALA'}, {'id': 'BXVCECON', 'name': 'CONTINENTAL HOTEL'}, {'id': 'CHVCEH09', 'name': 'HOTEL GARIBALDI - MESTRE'}, {'id': 'CHVCEHMO', 'name': 'HOTEL MODERNO'}, {'id': 'CIVCE034', 'name': 'COMFORT HOTEL DIANA'}, {'id': 'CPVCE675', 'name': 'CROWNE PLAZA VENICE EAST'}, {'id': 'CYVCECYC', 'name': 'COURTYARD VENICE ARPT MARRIOTT'}, {'id': 'DSVCECAP', 'name': 'CA PISANI'}, {'id': 'EPVCEHPG', 'name': 'HOTEL PALAZZO GIOVANELLI'}, {'id': 'EPVCECAN', 'name': \"CA'NIGRA LAGOON RESORT\"}, {'id': 'FGVCEAPV', 'name': 'HOTEL AL PINO VERDE - CAMPOSAMPIERO'}, {'id': 'FGVCEDAN', 'name': 'HOTEL DANUBIO-JESOLO'}, {'id': 'FGVCEHLR', 'name': 'HOTEL LORELEY-JESOLO LIDO'}, {'id': 'FGVCERAD', 'name': 'HOTEL RELAIS ALCOVA DEL DOGE-MIRA'}, {'id': 'FGVCEHVC', 'name': 'HOTEL VILLA CONDULMER - MOGLIANO VENETO'}, {'id': 'FGVCELUP', 'name': 'HOTEL VILLA LUPPIS-PASIANO DI PORDENONE'}, {'id': 'FGVCE362', 'name': 'PARK HOTEL JUNIOR-QUARTO DALTINO'}, {'id': 'FGVCECBA', 'name': 'COLOMBINA HOTEL-VENEZIA'}, {'id': 'FGVCEAIP', 'name': 'PARK HOTEL AI PINI'}, {'id': 'FGVCERUS', 'name': 'HOTEL RUSSOTT-VENEZIA MESTRE'}, {'id': 'FGVCEPAG', 'name': 'HOTEL PAGANELLI'}, {'id': 'FGVCEZUS', 'name': \"DOMINA HOME CA'ZUSTO\"}, {'id': 'FGVCEFON', 'name': 'ALBERGO QUATTRO FONTANE'}, {'id': 'GZVCE543', 'name': 'HOTEL CASANOVA'}, {'id': 'GZVCECAA', 'name': 'HOTEL CA ARCO ANTICO'}, {'id': 'GZVCE977', 'name': 'HOTEL LOCANDA CANAL'}, {'id': 'HAVCEELI', 'name': 'ELITE - MESTRE'}, {'id': 'HAVCEPIA', 'name': 'HOTEL PIAVE HOTEL'}, {'id': 'HAVCECAP', 'name': 'CAPITAL HOTEL-ROVIGO'}, {'id': 'HAVCECAN', 'name': 'CANAL & WALTER'}, {'id': 'HAVCEHOL', 'name': 'HOLIDAY HOTEL - FAVARO VENETO'}, {'id': 'HAVCEGOR', 'name': 'GORIZIA A LA VALIGIA'}, {'id': 'HAVCEFOR', 'name': 'LA FORCOLA'}, {'id': 'HAVCETIN', 'name': 'TINTORETTO'}, {'id': 'HAVCETRE', 'name': 'TRE ARCHI'}, {'id': 'HAVCEALV', 'name': 'HOTEL CA ALVISE'}, {'id': 'HAVCECAD', 'name': 'HOTEL CA DEI CONTI'}, {'id': 'HAVCEH13', 'name': 'HOTEL MARCONI'}, {'id': 'HAVCENID', 'name': 'HOTEL AL NIDO DI GIULIETTA E ROMEO'}, {'id': 'HIVCE9F8', 'name': 'HOLIDAY INN MESTRE-MARGHERA'}, {'id': 'HOVCECEF', 'name': 'BLUE DREAM HOTEL'}, {'id': 'HSVCEACR', 'name': 'FORMULA INTERNATIONAL'}, {'id': 'HSVCEALO', 'name': 'AL FOGHER'}, {'id': 'HSVCEARI', 'name': 'ANTICA LOCANDA AL GAMBERO'}, {'id': 'HSVCEAJK', 'name': 'RIVIERA'}, {'id': 'HSVCEAJM', 'name': 'AMADEUS'}, {'id': 'HSVCEARF', 'name': 'VENEZIA 2000'}, {'id': 'HSVCEANG', 'name': 'RUSSO PALACE HOTEL'}, {'id': 'HSVCEAPN', 'name': 'BEL SITO E BERLINO'}, {'id': 'HSVCEAKB', 'name': 'LA MERIDIANA'}, {'id': 'HSVCEAGT', 'name': 'AL CANAL REGIO'}, {'id': 'HSVCEARO', 'name': 'PALACE HOTEL REGINA'}, {'id': 'HSVCEANK', 'name': 'PARIGI'}, {'id': 'HSVCEAPT', 'name': 'PALACE'}, {'id': 'HSVCEAIL', 'name': 'SAN GIORGIO'}, {'id': 'HSVCEAFR', 'name': 'AGRITURISMO DI LA DAL FIUME'}, {'id': 'HSVCEAEF', 'name': 'ASTORIA'}, {'id': 'HSVCEAWJ', 'name': 'CA DI VALLE'}, {'id': 'HSVCEAWL', 'name': 'CASA PER FERIE OPERA BEATO G. NASCIMBENI'}, {'id': 'HSVCEAWI', 'name': 'FORTUNA'}, {'id': 'HSVCEAPK', 'name': 'A CASA DI PAOLA'}, {'id': 'HSVCEAGB', 'name': 'EUROREST'}, {'id': 'HSVCEAHZ', 'name': 'CASA A COLORI VENEZIA'}, {'id': 'HSVCEAQB', 'name': 'LORY'}, {'id': 'HSVCEAVI', 'name': 'COUNTRY HOUSE COUNTRY CLUB'}, {'id': 'HSVCEARJ', 'name': 'VILLA GIULIETTA'}, {'id': 'HSVCEASP', 'name': 'SPLENDID TERME DI GALZIGNANO'}, {'id': 'HSVCEATG', 'name': 'COPPE'}, {'id': 'HSVCEATX', 'name': 'BAIA DEL MAR SUITE HOTEL'}, {'id': 'HSVCEALC', 'name': 'DANTE'}, {'id': 'HSVCEAGW', 'name': 'ASTROMARE'}, {'id': 'HSVCEABX', 'name': 'RIVAMARE'}, {'id': 'HSVCEAEI', 'name': 'JESULUM'}, {'id': 'HSVCEACD', 'name': 'LONDON'}, {'id': 'HSVCEADI', 'name': 'ROSANNA'}, {'id': 'HSVCEABW', 'name': 'VINA DEL MAR PINETA'}, {'id': 'HSVCEACG', 'name': 'NAZIONALE'}, {'id': 'HSVCEATT', 'name': 'GERMANIA'}, {'id': 'HSVCEALF', 'name': 'BELLEVUE - RESORT'}, {'id': 'HSVCEAHL', 'name': 'TROVATORE'}, {'id': 'HSVCEABB', 'name': 'AMBASCIATA'}, {'id': 'HSVCEADY', 'name': 'SAN CARLO'}, {'id': 'HSVCEAFB', 'name': 'GUIDI'}, {'id': 'HSVCEACB', 'name': 'DELLE ROSE'}, {'id': 'HSVCEAIP', 'name': 'KAPPA'}, {'id': 'HSVCEACH', 'name': 'CLUB'}, {'id': 'HSVCEADL', 'name': 'ISOLA DI CAPRERA'}, {'id': 'HSVCEAEC', 'name': 'BASE HOTEL TO WORK'}, {'id': 'HSVCEAHF', 'name': 'ALLA BOTTE'}, {'id': 'HSVCEAPA', 'name': 'MILAN'}, {'id': 'HSVCEAHU', 'name': 'VENICE RESORT'}, {'id': 'HSVCEAPG', 'name': 'SCALA'}, {'id': 'HSVCEARU', 'name': 'LOCANDA STURION'}, {'id': 'HSVCEAMP', 'name': 'EDEN'}, {'id': 'HSVCEAKN', 'name': 'GRANDE ALBERGO AUSONIA - HUNGARIA'}, {'id': 'HSVCEATD', 'name': 'CA DEL BORGO'}, {'id': 'HSVCEAMV', 'name': 'ALLE GUGLIE'}, {'id': 'HSVCEASF', 'name': 'LOCANDA POSTE VECIE'}, {'id': 'HSVCEAKM', 'name': 'FALIER'}, {'id': 'HSVCEAQX', 'name': 'PALAZZO SELVADEGO'}, {'id': 'HSVCEAPH', 'name': 'AL GAZZETTINO'}, {'id': 'HSVCEARS', 'name': 'CASA SUL MOLO LOCANDA'}, {'id': 'HSVCEAQT', 'name': 'PANTALON'}, {'id': 'HSVCEARL', 'name': 'PALAZZO GUARDI'}, {'id': 'HSVCEARP', 'name': 'LE VILLE DEL LIDO'}, {'id': 'HSVCEATR', 'name': 'VILLA PANNONIA'}, {'id': 'HSVCEASE', 'name': 'RIGEL'}, {'id': 'HSVCEANM', 'name': 'VILLA LAGUNA ALL SUITES'}, {'id': 'HSVCEAKX', 'name': 'VILLA CIPRO'}, {'id': 'HSVCEATQ', 'name': 'TIVOLI'}, {'id': 'HSVCEASY', 'name': 'CA PEDROCCHI'}, {'id': 'HSVCEATM', 'name': 'SETTIMO CIELO - BLOOM B-B'}, {'id': 'HSVCEAIE', 'name': 'SAN LIO T.H. GUEST HOUSE - 1 CAT.'}, {'id': 'HSVCEAIC', 'name': \"CA' BRAGADIN CARABBA - CHARMING INN\"}, {'id': 'HSVCEABN', 'name': 'CASA COSMO'}, {'id': 'HSVCEAUA', 'name': 'ORION'}, {'id': 'HSVCEABM', 'name': 'KOSHER HOUSE GIARDINO DEI MELOGRANI'}, {'id': 'HSVCEAHJ', 'name': 'LA PERGOLA DI VENEZIA'}, {'id': 'HSVCEATW', 'name': \"CA' GOTTARDI\"}, {'id': 'KYVCERUZ', 'name': 'PHW RUZZINI PALACE HOTEL'}, {'id': 'LWVCE170', 'name': 'BAUER PALLADIO HOTEL AND  SPA'}, {'id': 'LWVCE148', 'name': 'LUNA HOTEL BAGLIONI VENICE'}, {'id': 'LXVCELPA', 'name': 'LIASSIDI PALACE'}, {'id': 'LXVCEPSA', 'name': 'PALAZZO SANT ANGELO SUL CANAL'}, {'id': 'LXVCECAS', 'name': 'CA SAGREDO HOTEL'}, {'id': 'MCVCEJWM', 'name': 'JW MARRIOTT VENICE RESORT SPA'}, {'id': 'OIVCEBQW', 'name': 'HOTEL AL VIVIT - MESTRE'}, {'id': 'OIVCEHDD', 'name': 'HOTEL RIVIERA DEI DOGI - MIRA'}, {'id': 'OIVCEVIL', 'name': 'VILLA MARCELLO GIUSTINIAN - MOGLIANO VEN'}, {'id': 'OIVCEEUP', 'name': 'ANNIA PARK HOTEL - TESSERA'}, {'id': 'OIVCEDHT', 'name': 'LOCANDA ANTICO FIORE'}, {'id': 'OIVCEF21', 'name': 'HOTEL CERTOSA - VENEZIA'}, {'id': 'ONVCEHVO', 'name': 'HOTEL VILLA ORIO'}, {'id': 'ONVCEANG', 'name': 'HOTEL FLEURS DE ZERMATT-FOSSO'}, {'id': 'ONVCEHVC', 'name': 'HOTEL VILLA COSTANZA'}, {'id': 'ONVCEHLA', 'name': 'HOTEL LOCANDA AL PIAVE-SAN DONA DI PIAVE'}, {'id': 'ONVCEALI', 'name': 'HOTEL VILLA ALIGHIERI'}, {'id': 'ONVCEFLO', 'name': 'HOTEL FLORA'}, {'id': 'ONVCELUG', 'name': 'HOTEL LUGANO TORRETTA-VENEZIA'}, {'id': 'PHVCEMET', 'name': 'METROPOLE HOTEL PREFERRED BOUT'}, {'id': 'RTVCEMGA', 'name': 'LAGARE HOTEL VENEZIA - VENEZIA ISOLA DI '}, {'id': 'RTVCENOV', 'name': 'NOVOTEL VENEZIA MESTRE'}, {'id': 'SCVCE101', 'name': 'HOTEL VILLA ADELE-MARGHERA'}, {'id': 'SXVCEABA', 'name': 'HOTEL AMBASCIATORI-MESTRE'}, {'id': 'SXVCETRI', 'name': 'HOTEL TRITONE'}, {'id': 'SYVCESPL', 'name': 'STARHOTELS  SPLENDID VENICE'}, {'id': 'UIVCEAPH', 'name': 'ANTONY PALACE HOTEL'}, {'id': 'UIVCEGIO', 'name': 'GIORGIONE HOTEL'}, {'id': 'UZVCE811', 'name': 'HOTEL AL PORTICO'}, {'id': 'UZVCE812', 'name': 'LOCANDA ANTICA VENEZIA'}, {'id': 'UZVCE212', 'name': 'LANTERNA DI MARCO POLO HOTEL'}, {'id': 'UZVCE948', 'name': 'NOTTURNO HOTEL SAN ZULIAN'}, {'id': 'UZVCE466', 'name': 'LA SCALA PALACE'}, {'id': 'WBVCE431', 'name': 'HOTEL LONDRA PALACE'}, {'id': 'WVVCE498', 'name': 'HOTEL ALL ORSO - RONCADE TREVISO'}, {'id': 'WVVCE826', 'name': 'VILLA F'}, {'id': 'WVVCETIV', 'name': 'HOTEL SCANDINAVIA'}, {'id': 'WWVCEVVC', 'name': 'HOTEL VILLA CIPRIANI'}, {'id': 'XLVCEMON', 'name': 'HOTEL MONACO AND GRAND CANAL'}, {'id': 'XNVCEVEX', 'name': 'HOTEL EXCELSIOR'}, {'id': 'YHVCEFHJ', 'name': 'FALKENSTEINER HOTEL JESOLO'}, {'id': 'YHVCEVIL', 'name': 'VILLA BRAIDA'}, {'id': 'YXVCEHAL', 'name': 'HOTEL AL CAMIN'}, {'id': 'YXVCEADG', 'name': 'HOTEL AMALFI'}, {'id': 'YXVCED9T', 'name': 'HOTEL GREIF LIGNANO'}, {'id': 'YXVCE248', 'name': 'SWISS INT VILLA PATRIARCA'}, {'id': 'YXVCEITA', 'name': 'GRAND ITALIA HOTEL'}, {'id': 'YXVCE565', 'name': 'HOTEL LE TEGNUE'}, {'id': 'YXVCECGR', 'name': 'CANAL GRANDE HOTEL'}, {'id': 'YXVCEDUO', 'name': 'DUODO PALACE HOTEL'}, {'id': 'YXVCEHVI', 'name': 'VILLA IGEA HOTEL'}, {'id': 'YXVCEFOS', 'name': 'FOSCARI PALACE'}, {'id': 'YXVCEADL', 'name': 'AI DUE LEONI'}, {'id': 'YXVCECAF', 'name': 'HOTEL CA FORMENTA'}, {'id': 'YXVCEACR', 'name': 'ALLA CORTE ROSSA'}, {'id': 'YXVCEADV', 'name': 'AL DUCA DI VENEZIA'}, {'id': 'YXVCEPAN', 'name': 'HOTEL PANORAMA VCE'}, {'id': 'YXVCECAP', 'name': 'HOTEL CA PAGAN'}, {'id': 'YXVCEACC', 'name': 'ACCA HOTEL'}, {'id': 'YXVCEHVP', 'name': 'HOTEL VILLA PARCO'}, {'id': 'YXVCEMCH', 'name': 'SWISS INTL MICHELANGELO'}, {'id': 'YXVCEBER', 'name': 'BELLEVUE SUITES ST MARK SQUARE'}, {'id': 'YXVCEPBH', 'name': 'PALACE BONVECCHIATI'}]\n"
          ]
        },
        {
          "output_type": "stream",
          "name": "stderr",
          "text": [
            "ERROR:__main__:Failed to fetch hotel offers: 400, Response: {\"errors\":[{\"code\":4070,\"title\":\"UNABLE TO PROCESS - CONTACT HELP DESK\",\"status\":400,\"detail\":\"Provider Error - UNABLE TO PROCESS - CONTACT HELP DESK\",\"source\":{\"parameter\":\"hotelIds=HIVCE9F8\"}},{\"code\":1257,\"title\":\"INVALID PROPERTY CODE\",\"status\":400,\"detail\":\"Provider Error - INVALID PROPERTY CODE\",\"source\":{\"parameter\":\"hotelIds=HOVCECEF,HSVCEABB,HSVCEABW,HSVCEABX,HSVCEACB,HSVCEACD,HSVCEACG,HSVCEACR,HSVCEADI,HSVCEADY,HSVCEAEI,HSVCEAFB,HSVCEAFR,HSVCEAGT,HSVCEAGW,HSVCEAHL,HSVCEAHZ,HSVCEAIL,HSVCEAIP,HSVCEAJK,HSVCEAJM,HSVCEAKB,HSVCEALC,HSVCEALF,HSVCEANG,HSVCEANK,HSVCEAPK,HSVCEAPT,HSVCEAQB,HSVCEARF,HSVCEARI,HSVCEARJ,HSVCEARO,HSVCEASP,HSVCEATG,HSVCEATT,HSVCEATX,HSVCEAWI,HSVCEAWJ,HSVCEAWL\"}},{\"code\":3664,\"title\":\"NO ROOMS AVAILABLE AT REQUESTED PROPERTY\",\"status\":400,\"detail\":\"Provider Error - NO ROOMS AVAILABLE AT REQUESTED PROPERTY\",\"source\":{\"parameter\":\"hotelIds=HAVCEALV,HAVCECAD,HAVCEH13,HAVCENID,HSVCEAEF,HSVCEAGB,HSVCEALO,HSVCEAPN,HSVCEAVI\"}}]}\n",
            "WARNING:__main__:No flight data found for RMA -> VCE\n"
          ]
        },
        {
          "output_type": "stream",
          "name": "stdout",
          "text": [
            "[{'id': 'ARFLRFIR', 'name': 'AC BY MARRIOTT HOTEL FIRENZE'}, {'id': 'BWFLR309', 'name': 'BEST WESTERN HOTEL RIVER'}, {'id': 'BWFLR267', 'name': 'BW HOTEL PALAZZO OGNISSANTI'}, {'id': 'BWFLR158', 'name': 'BEST WESTERN GRAND HOTEL ADRIATICO'}, {'id': 'CHFLRHMT', 'name': 'HOTEL MARTELLI'}, {'id': 'CHFLRHRH', 'name': 'RESIDENCE HILDA'}, {'id': 'CHFLRH38', 'name': 'HOTEL PRIVILEGE'}, {'id': 'CHFLRH49', 'name': 'HOTEL ANNABELLA'}, {'id': 'CHFLRHCE', 'name': 'HOTEL I CEDRI'}, {'id': 'DHFLRANY', 'name': 'C-HOTELS THE STYLE FLORENCE'}, {'id': 'DSFLRCON', 'name': 'CONTINENTALE'}, {'id': 'EPFLR625', 'name': 'RELAIS VILLA BELPOGGIO'}, {'id': 'EPFLRMON', 'name': 'UNA PALAZZO MANNAIONI'}, {'id': 'EUFLRVTO', 'name': 'VILLA TOLOMEI HOTEL & RESORT'}, {'id': 'FGFLRH01', 'name': 'HOTEL BALESTRI'}, {'id': 'FGFLRBIL', 'name': 'AFFITTACAMERE CASA BILLI'}, {'id': 'GAFLRAUG', 'name': 'GALLERY HOTEL ART'}, {'id': 'GIFLR424', 'name': 'HILTON GRDN INN FLORENCE NOVOLI'}, {'id': 'GZFLROLI', 'name': 'HOTEL OLIMPIA'}, {'id': 'GZFLRHCI', 'name': 'HOTEL CIMABUE'}, {'id': 'GZFLR243', 'name': 'HOTEL ALBION'}, {'id': 'GZFLR703', 'name': 'HOTEL MORANDI ALLA CROCETTA'}, {'id': 'GZFLRCAR', 'name': 'HOTEL VILLA CARLOTA'}, {'id': 'GZFLRH22', 'name': 'HOTEL SEMPIONE'}, {'id': 'GZFLR051', 'name': 'HOTEL BOTTICELLI'}, {'id': 'GZFLR694', 'name': 'HOTEL MERIDIANA'}, {'id': 'GZFLRBBP', 'name': 'B AND B LA PIAZZETTA'}, {'id': 'HAFLRVEC', 'name': 'PALAZZO VECCHIO'}, {'id': 'HAFLRVIA', 'name': 'VILLA DE RONDINI-FIRENZE'}, {'id': 'HAFLRASC', 'name': 'ASCOT'}, {'id': 'HAFLRCAP', 'name': 'HOTEL VILLA CAPPUGI'}, {'id': 'HOFLR117', 'name': 'RELAIS VIGNALE'}, {'id': 'HSFLRAOW', 'name': 'PARK HOTEL RIPAVERDE'}, {'id': 'HSFLRARS', 'name': 'ALINARI'}, {'id': 'HSFLRAPH', 'name': 'CORTE DEI MEDICI'}, {'id': 'HSFLRABM', 'name': \"L'ULTIMO MULINO\"}, {'id': 'HSFLRABB', 'name': 'ASTORIA'}, {'id': 'HSFLRAFQ', 'name': 'LA COLLEGIATA'}, {'id': 'HSFLRAAO', 'name': 'PAGGERIA MEDICEA'}, {'id': 'HSFLRADI', 'name': 'RELAIS VILLA IL SASSO'}, {'id': 'HSFLRAJN', 'name': 'MARRANI'}, {'id': 'HSFLRAGD', 'name': 'LA SELVA'}, {'id': 'HSFLRAQK', 'name': 'LOCANDA DEI BARONI ANTICA DIMORA'}, {'id': 'HSFLRAGB', 'name': 'WEST FLORENCE'}, {'id': 'HSFLRAAU', 'name': 'CENTRO'}, {'id': 'HSFLRADP', 'name': 'LOCANDA LE PIAZZE'}, {'id': 'HSFLRAGX', 'name': 'VILLA LA BORGHETTA'}, {'id': 'HSFLRASV', 'name': 'BLACK 5 FLORENCE SUITE'}, {'id': 'HSFLRAEF', 'name': 'TOGETHER FLORENCE INN'}, {'id': 'HSFLRASS', 'name': \"1865 RESIDENZA D'EPOCA\"}, {'id': 'HSFLRAGK', 'name': 'DEI MACCHIAIOLI'}, {'id': 'HSFLRAHS', 'name': 'PARK PALACE'}, {'id': 'HSFLRARE', 'name': 'PALAZZO RUSPOLI B-B'}, {'id': 'HSFLRAQX', 'name': 'AXIAL'}, {'id': 'HSFLRAOG', 'name': 'DELLA ROBBIA'}, {'id': 'HSFLRAPA', 'name': 'LIDO'}, {'id': 'HSFLRAJH', 'name': 'ART ATELIER'}, {'id': 'HSFLRAPD', 'name': 'RITA MAJOR'}, {'id': 'HSFLRAOK', 'name': 'TRINITY APARTMENTS'}, {'id': 'HSFLRAOM', 'name': 'NILHOTEL'}, {'id': 'HSFLRARU', 'name': 'LA MONGOLFIERA RESIDENZE'}, {'id': 'HSFLRAQB', 'name': 'EDEN'}, {'id': 'HSFLRAQM', 'name': 'JANE'}, {'id': 'HSFLRAMP', 'name': 'ANNALENA'}, {'id': 'HSFLRAJX', 'name': 'SAN GAGGIO HOUSE B-B'}, {'id': 'HSFLRAQR', 'name': 'RESIDENCE MICHELANGIOLO'}, {'id': 'HSFLRAQA', 'name': 'VILLA BIANCA'}, {'id': 'HSFLRAQH', 'name': 'BORGO SANT IPPOLITO COUNTRY HOTEL'}, {'id': 'HSFLRALJ', 'name': 'LOCANDA IL GALLO LOGIS'}, {'id': 'HSFLRAAV', 'name': 'IL CASELLO COUNTRY HOUSE'}, {'id': 'HSFLRAGQ', 'name': 'VILLA AMBROSINA'}, {'id': 'HSFLRAHE', 'name': 'RESIDENZA DEL GRANDUCA'}, {'id': 'HSFLRAFM', 'name': 'AMBROSIANO'}, {'id': 'HSFLRADL', 'name': 'MINERVA PALACE'}, {'id': 'HSFLRAEC', 'name': 'ALASSIO'}, {'id': 'HSFLRABT', 'name': 'LA PIA'}, {'id': 'HSFLRAEJ', 'name': 'BOSTON'}, {'id': 'HSFLRAUA', 'name': 'MIRO'}, {'id': 'HSFLRAAJ', 'name': 'TORRETTA'}, {'id': 'HSFLRACA', 'name': 'PANORAMIC GRAND HOTEL'}, {'id': 'HSFLRACG', 'name': 'TAMERICI E PRINCIPE GRAND HOTEL'}, {'id': 'HSFLRADU', 'name': 'IL MOLINO DEL PONTE'}, {'id': 'HSFLRAFN', 'name': 'VILLA GIORGIA ALBERGO IN COLLINA'}, {'id': 'HSFLRAAZ', 'name': 'VILLA IL TREBBIOLO'}, {'id': 'HSFLRACH', 'name': 'DATINI'}, {'id': 'HSFLRAFA', 'name': 'I CILIEGI'}, {'id': 'HSFLRAUH', 'name': 'VILLA I BARRONCI'}, {'id': 'HSFLRAGG', 'name': 'VILLA DUCCI'}, {'id': 'HSFLRAAL', 'name': 'SOVESTRO'}, {'id': 'HSFLRABQ', 'name': 'LE VOLPAIE'}, {'id': 'HSFLRAEV', 'name': 'VILLA GUARNASCHELLI'}, {'id': 'HSFLRAEI', 'name': 'MARZIA'}, {'id': 'HSFLRASL', 'name': 'UNA HOTEL POGGIO DEI MEDICI GOLF - RESOR'}, {'id': 'HSFLRATG', 'name': 'VILLA PICCOLA SIENA'}, {'id': 'HSFLRASU', 'name': 'CHIANTI VILLAGE MORROCCO'}, {'id': 'HSFLRAFX', 'name': 'FATTORIA QUERCETO'}, {'id': 'LWFLR163', 'name': 'CASTELLO  DEL NERO'}, {'id': 'LXFLRVAR', 'name': 'VILLA ARMENA'}, {'id': 'LXFLRJKP', 'name': 'JK PLACE FIRENZE'}, {'id': 'OIFLREJU', 'name': 'GARIBALDIS HOTEL RELAIS ET CHARME'}, {'id': 'OIFLRD1Q', 'name': 'HOTEL MICHELANGELO-MONTECATINI-TERME'}, {'id': 'OIFLRD99', 'name': 'GRAND HOTEL NIZZA ET SUISSE'}, {'id': 'OIFLRD21', 'name': 'HOTEL BONIFACIO'}, {'id': 'ONFLRKRI', 'name': 'HOTEL KRISTAL'}, {'id': 'ONFLRPAL', 'name': 'MSNSUITES PALAZZO DEI CIOMPI-FIRENZE'}, {'id': 'ONFLRDLP', 'name': 'HOTEL DE LA PACE'}, {'id': 'ONFLR250', 'name': 'HOTEL VILLA LIANA'}, {'id': 'PHFLRPVH', 'name': 'PALAZZO VECCHIETTI PREFERRED B'}, {'id': 'PHFLRMSH', 'name': 'MONTEBELLO SPLENDID PREFERRED'}, {'id': 'RTFLRVOR', 'name': 'VILLA OLMI RESORT-BAGNO A RIPOLI'}, {'id': 'RTFLRSOF', 'name': 'CERRETANI FIRENZE (EX SOFITEL)'}, {'id': 'RTFLREST', 'name': 'IBIS FIRENZE PRATO EST'}, {'id': 'RTFLRAPT', 'name': 'NOVOTEL FIRENZE NORD AEROPORTO'}, {'id': 'SXFLRPLA', 'name': 'PLAZA HOTEL LUCCHESI'}, {'id': 'SYFLRMIC', 'name': 'STARHOTELS MICHELANGELO'}, {'id': 'SYFLRMRO', 'name': 'STARHOTELS TUSCANY'}, {'id': 'SYFLRSTA', 'name': 'STARHOTELS VESPUCCI'}, {'id': 'TAFLRBET', 'name': 'HOTEL VILLA BETANIA'}, {'id': 'TSFLR286', 'name': 'HOTEL IL GUELFO BIANCO'}, {'id': 'UIFLREXE', 'name': 'EXECUTIVE HOTEL'}, {'id': 'UIFLRVLL', 'name': 'VILLA FIESOLE HOTEL'}, {'id': 'UIFLRHCL', 'name': 'C-HOTELS CLUB'}, {'id': 'UIFLRPRS', 'name': 'PARIS HOTEL'}, {'id': 'UIFLRCLA', 'name': 'HOTEL HOME FLORENCE'}, {'id': 'UIFLRBER', 'name': 'HOTEL BERNINI PALACE'}, {'id': 'UIFLR123', 'name': 'HOTEL LAURUS AL DUOMO'}, {'id': 'UIFLRARZ', 'name': 'ARIZONA HOTEL'}, {'id': 'UIFLRSGP', 'name': 'SAN GALLO PALACE HOTEL'}, {'id': 'UIFLRC2H', 'name': 'MACHIAVELLI PALACE HOTEL'}, {'id': 'UIFLREIX', 'name': 'FIRST HOTEL'}, {'id': 'UZFLR138', 'name': 'VILLA GIOTTO PARK HOTEL - BIVIGLIANO'}, {'id': 'UZFLRART', 'name': 'ART HOTEL MIRO'}, {'id': 'UZFLRH39', 'name': 'HOTEL GRIFONE'}, {'id': 'UZFLRCRO', 'name': 'CROCE DI MALTA HOTEL'}, {'id': 'VPFLR310', 'name': 'RELAIS UFFIZI'}, {'id': 'WBFLR302', 'name': 'GRAND HOTEL VILLA CORA'}, {'id': 'WBFLRBOR', 'name': 'HOTEL RELAIS BORGO SAN FELICE'}, {'id': 'WIFLR043', 'name': 'THE WESTIN EXCELSIOR FLORENCE'}, {'id': 'WVFLRORO', 'name': 'HOTEL L OROLOGIO'}, {'id': 'WVFLRGTO', 'name': 'GOLDEN TOWER FIRENZE'}, {'id': 'WVFLRMIN', 'name': 'GRAND HOTEL MINERVA'}, {'id': 'WVFLR471', 'name': 'BED AND BREAKFAST EUROHOME'}, {'id': 'WVFLR549', 'name': 'HOTEL MONTREAL'}, {'id': 'WVFLR400', 'name': 'ALAMANNI HOTEL'}, {'id': 'WVFLRAHO', 'name': 'ROOM MATE ISABELLA'}, {'id': 'WVFLRCAR', 'name': 'ROOM MATE LUCA'}, {'id': 'WVFLRLEM', 'name': 'HOTEL CASA LEMMI'}, {'id': 'XLFLRABR', 'name': 'VILLASANPAOLO WELLNESS E RELAX'}, {'id': 'XRFLR045', 'name': 'THE ST REGIS FLORENCE'}, {'id': 'YXFLR8RJ', 'name': 'HOTEL MINERVA AREZZO'}, {'id': 'YXFLRPOG', 'name': 'POGGIO CENNINA'}, {'id': 'YXFLRVDP', 'name': 'VILLA DI PIAZZANO'}, {'id': 'YXFLRNAZ', 'name': 'HOTEL DELLE NAZIONI FLORENCE'}, {'id': 'YXFLRH27', 'name': 'HOTEL GIOIA'}, {'id': 'YXFLRH44', 'name': 'HOTEL MEDICI'}, {'id': 'YXFLRH03', 'name': 'HOTEL ARIELE'}, {'id': 'YXFLRKUR', 'name': 'HOTEL KURSAAL AND AUSONIA'}, {'id': 'YXFLRHDF', 'name': 'HOTEL DELTA FLORENCE'}, {'id': 'YXFLRC20', 'name': 'PALAZZO RICASOLI'}, {'id': 'YXFLRH56', 'name': 'HOTEL LA GIOCONDA FLORENCE'}, {'id': 'YXFLR834', 'name': 'ORTO DE MEDICI'}, {'id': 'YXFLRHMG', 'name': 'RAPALLO HOTEL'}, {'id': 'YXFLRH14', 'name': 'HOTEL COSIMO DE MEDICI'}, {'id': 'YXFLR154', 'name': 'HOTEL CARAVAGGIO'}, {'id': 'YXFLRBN5', 'name': 'HOTEL COLOMBA'}, {'id': 'YXFLRGIG', 'name': 'HOTEL GIGLIO'}, {'id': 'YXFLRSIH', 'name': 'SILLA HOTEL'}, {'id': 'YXFLRHBE', 'name': 'HOTEL BEATRICE'}, {'id': 'YXFLRBAH', 'name': 'BORGHESE PALACE ART HOTEL'}, {'id': 'YXFLR482', 'name': 'EMBASSY HOTEL'}, {'id': 'YXFLR444', 'name': 'I PARIGI CORBINELLI'}, {'id': 'YXFLRHDC', 'name': 'HOTEL SPAGNA'}, {'id': 'YXFLRTDB', 'name': 'TORRE DI BELLOSGUAR'}, {'id': 'YXFLRH29', 'name': 'HOTEL CITY'}, {'id': 'YXFLRHDR', 'name': 'HOTEL DE ROSE PALACE'}, {'id': 'YXFLRTOR', 'name': 'ANTICA TORRE TORNABUONI 1'}, {'id': 'YXFLR424', 'name': 'DEMIDOFF COUNTRY RESORT'}, {'id': 'YXFLRSTA', 'name': 'HOTEL VILLA STANLEY - SESTO FI'}, {'id': 'YXFLR842', 'name': 'BORGO DI CORTEFREDA HOTEL RELA'}, {'id': 'YXFLRH25', 'name': 'HOTEL FEDORA'}, {'id': 'YXFLRBRU', 'name': 'HOTEL BRUNELLESCHI'}, {'id': 'YXFLRH06', 'name': 'HOTEL GOLF FLORENCE'}, {'id': 'YXFLRROV', 'name': 'RELAIS DELLA ROVERE'}]\n"
          ]
        },
        {
          "output_type": "stream",
          "name": "stderr",
          "text": [
            "ERROR:__main__:Failed to fetch hotel offers: 400, Response: {\"errors\":[{\"code\":3289,\"title\":\"RATE NOT AVAILABLE FOR REQUESTED DATES\",\"status\":400,\"detail\":\"Provider Error - RATE NOT AVAILABLE FOR REQUESTED DATES\",\"source\":{\"parameter\":\"hotelIds=YXFLR444,YXFLRBAH,YXFLRGIG,YXFLRH06,YXFLRTDB\"}},{\"code\":1257,\"title\":\"INVALID PROPERTY CODE\",\"status\":400,\"detail\":\"Provider Error - INVALID PROPERTY CODE\",\"source\":{\"parameter\":\"hotelIds=YXFLR154,YXFLR424,YXFLR482,YXFLR834,YXFLR842,YXFLRBN5,YXFLRBRU,YXFLRH03,YXFLRH14,YXFLRH25,YXFLRH27,YXFLRH29,YXFLRH44,YXFLRH56,YXFLRHBE,YXFLRHDC,YXFLRHDR,YXFLRHMG,YXFLRKUR,YXFLRROV,YXFLRSIH,YXFLRSTA,YXFLRTOR\"}},{\"code\":3664,\"title\":\"NO ROOMS AVAILABLE AT REQUESTED PROPERTY\",\"status\":400,\"detail\":\"Provider Error - NO ROOMS AVAILABLE AT REQUESTED PROPERTY\",\"source\":{\"parameter\":\"hotelIds=YXFLRC20,YXFLRHDF,YXFLRNAZ,YXFLRPOG,YXFLRVDP\"}}]}\n",
            "WARNING:__main__:No flight data found for RMA -> FLR\n"
          ]
        },
        {
          "output_type": "stream",
          "name": "stdout",
          "text": [
            "[{'id': 'BWFCO270', 'name': 'BEST WESTERN HTL RIVIERA'}, {'id': 'BWFCO336', 'name': 'BEST WESTERN HTL ROME AIRPORT'}, {'id': 'CHFCOHCE', 'name': 'HOTEL CENTER 1-2-3'}, {'id': 'CIFCO058', 'name': 'COMFORT HOTEL ROMA AIRPORT FIUMICINO'}, {'id': 'DSFCOARG', 'name': 'ARGENTARIO RESORT GOLF AND SPA'}, {'id': 'DSFCOSAD', 'name': 'SEXTANTIO SANTO STEFANO'}, {'id': 'GZFCO086', 'name': 'HOTEL VILLA ROSA'}, {'id': 'GZFCO850', 'name': 'VENETIA PALACE HOTEL'}, {'id': 'GZFCOTDA', 'name': 'TENUTA DELL ARGENTO'}, {'id': 'HAFCORIM', 'name': 'RIMINI HOTEL'}, {'id': 'HOFCOSFH', 'name': 'IL SAN FRANCESCO HOTEL'}, {'id': 'HSFCOAAS', 'name': 'VILLA MARGHERITA'}, {'id': 'MCFCOAUM', 'name': 'ROME MARRIOTT PARK HOTEL'}, {'id': 'QIFCO067', 'name': 'QUALITY HOTEL GREEN PALACE'}, {'id': 'UZFCO391', 'name': 'PALACE HOTEL RELAIS FALISIO'}, {'id': 'UZFCO050', 'name': 'ENEA HOTEL APRILIA-APRILIA'}, {'id': 'WBFCO830', 'name': 'HOTEL RAPHAEL'}, {'id': 'WVFCO548', 'name': 'EURO HOUSE AIRPORT INN'}, {'id': 'WVFCOALL', 'name': 'ALLE TAMERICI HOTEL'}, {'id': 'WWFCO041', 'name': 'THE CHURCH PALACE'}, {'id': 'WWFCO040', 'name': 'THE CHURCH VILLAGE'}, {'id': 'YXFCO505', 'name': 'ROSES HOTEL DE LA VILLE'}, {'id': 'YXFCOLCH', 'name': 'HOTEL LA CONCHIGLIA'}, {'id': 'YXFCOHLC', 'name': 'LOCANDA CAIROLI HOTEL'}, {'id': 'YXFCOHDR', 'name': 'HOTEL DE ROME'}, {'id': 'YXFCOSOL', 'name': 'HOTEL SOLE AL PANTHEON'}, {'id': 'YXFCOARH', 'name': 'AURELIANO HOTEL'}, {'id': 'YXFCOFLH', 'name': 'FLORIDA HOTEL'}, {'id': 'YXFCOHWI', 'name': 'WINDROSE HOTEL'}, {'id': 'YXFCOAPR', 'name': 'PALAZZO ROSPIGLIOSI'}, {'id': 'YXFCOPDS', 'name': 'PIAZZA DI SPAGNA'}, {'id': 'YXFCOHOA', 'name': 'HOTEL AUGUSTUS'}, {'id': 'YXFCOASC', 'name': 'SANTA CHIARA HOTEL'}, {'id': 'YXFCO099', 'name': 'HOTEL CORSI ROMA FIUMICINO'}]\n"
          ]
        },
        {
          "output_type": "stream",
          "name": "stderr",
          "text": [
            "WARNING:__main__:No flight data found for RMA -> FCO\n",
            "INFO:werkzeug:127.0.0.1 - - [15/Mar/2025 19:26:16] \"POST /selecionar_cidade HTTP/1.1\" 200 -\n"
          ]
        },
        {
          "output_type": "stream",
          "name": "stdout",
          "text": [
            "Imagens encontradas: {'Veneza': ['https://pixabay.com/get/g11e304d129e4cdb14e971c50f5eff0cf2067e0ce4043e1e750bfc6fd4dbc5b2f4892abd68083e4f0f303f98f5606e58e2008fda10aa734d73b8f03af1f6da14f_1280.jpg', 'https://pixabay.com/get/g4b1f114bdb73e4f8f8edfd3aa46a9e0ebc7bfa4e9ed4e264129fff80f5baf855e94c401d3005190792d03f92e62b0c2440c1d81146724d614316dd982aeb91aa_1280.jpg', 'https://pixabay.com/get/gcdecefda53cbd5363374b5f57a01fd11438f15afcf1af83a563dc2e2485de78c17b27655cda3cf860f25b30803ec6e06fe742328b696a458df3522788cd9b6db_1280.jpg', 'https://pixabay.com/get/g40a4b19892e1ad5b8377381c4f3212eb204f13d84ebafcf90844df17aac4340b2bbc122b900305362cce91e5e9630d38ab8023e10ec370fe21306b7deccf42da_1280.jpg', 'https://pixabay.com/get/ga3329c8784e6f5b4c3f7e68a318cb943385c9f48659b491b3d25da6e6fb8b61d31933d369bf92e601c31321054bb5ba1eb6e0a48390bfb00064dd23fde8da574_1280.jpg'], 'Florença': ['https://pixabay.com/get/g55f1240262f344d94923b02aa68fc9112af637cb2f45b85ae47ec81a5328add10282962249bc80090ed6384345e74850489b54627430af6e07f98500197bacad_1280.jpg', 'https://pixabay.com/get/gddfd3f83c83b705eaccff404611d1f573dfdec8109de3a30bfab1dfcbcf70b55bfe220886692487c9966e735d185f1c80f0c6b0526ced9e46ea0dffe9516225b_1280.jpg', 'https://pixabay.com/get/g3eabe9fdbf0adcc60d635c5e307a718cad12a1bc28ff5c48096ccbfc06f8ba294488d5275a89bfd0ed9586d1f844469a0bb7c12632dfbd2739379d3930c07320_1280.jpg', 'https://pixabay.com/get/g5f75058040d273462643f1b1fed32808d3a2b8ca4cbaba54e71e51db2f7e7df1a9393956adcad1b1c1682af79f4ddc75b5f547330e09c05b8c8776920988e806_1280.jpg', 'https://pixabay.com/get/g3d9404a30f0cc1ec345e9f7c424cd5f1632ce3c9c042cb36b27551c10f991c4c7098d49a0e2bebc3dec1853cc5558447841496dd9e6de459e081cc392a7fdae4_1280.jpg'], 'Roma': ['https://pixabay.com/get/geddf13e32e72bbf429978958b5570000a09d8aeb4e8a64ae49e6ee6ddc17b7a57ce26d02e3f0b14eb078e50ddee2a5028f3a1761d094bf04f66992c87dc1c2fe_1280.jpg', 'https://pixabay.com/get/g45ae6f0205dc1a08e3344d7b37947376864c38e6e0c2c7a68ae9465625381be31f68c7a96f594357dccffe79ea0780bc5c24014931aea63a65c19cf3bc7a944e_1280.jpg', 'https://pixabay.com/get/ge0a1cf9a1c7c8901b2cbd359a633987b57d0035e1269b14e9d1e75758fdbdf2e040d6ff5df43c57b2349deb1f6ca7755e609705b8ee8692809f6cf8937e115f3_1280.jpg', 'https://pixabay.com/get/gcba1ee9fe82c8b35c378b91f8a8db6abb295c0b21e72efbec4ca8679450150c965a5d59594f25c7da8ceac160f1e78d619bed1099d48d2dfa890b55bdf9d841d_1280.jpg', 'https://pixabay.com/get/g7f61fbb94490519666f757ef4453d068592a88b2c90083fdc33168f61deddebaf8b614905588b99ec5faa2a3b88474da8c2a93a0a5f88672dad29fd5f271053c_1280.jpg']}\n"
          ]
        },
        {
          "output_type": "stream",
          "name": "stderr",
          "text": [
            "INFO:werkzeug:127.0.0.1 - - [15/Mar/2025 19:26:27] \"GET / HTTP/1.1\" 200 -\n"
          ]
        },
        {
          "output_type": "stream",
          "name": "stdout",
          "text": [
            "Dolomita Itália  Liste 3 de destinos turísticos, incluindo: - Informe cidades com serviço regular de voos que sejam proximas às atracoes destacadas: Nome da Cidade e seu codigo IATA em parentesis: (exemplo: 'San Juan (SJU)'). - Principais atrações e atividades. use no maximo 1000 palavras de forma que resuma bem o pedido do usuario:\n",
            "\n",
            "1. Cidade: Venezia (VCE)\n",
            "   Attractions:\n",
            "   - St. Mark's Square (Piazza San Marco): This iconic square is home to several important landmarks, including St. Mark's Basilica, the Doge's Palace, and the Campanile.\n",
            "   - Grand Canal: Take a gondola ride along this famous waterway to see the city's stunning architecture.\n",
            "   - Rialto Bridge: This iconic bridge offers stunning views of the Grand Canal and the city.\n",
            "\n",
            "2. Cidade: Firenze (FLR)\n",
            "   Attractions:\n",
            "   - Uffizi Gallery: Home to Botticelli's \"The Birth of Venus\" and other famous works, this gallery is a must-visit for art lovers.\n",
            "   - Florence Cathedral (Duomo): Climb the dome for panoramic views of the city, or simply admire its stunning architecture from the ground.\n",
            "   - Ponte Vecchio: This medieval bridge is lined with shops, and offers a charming view of the Arno River.\n",
            "\n",
            "3. Cidade: Roma (FCO)\n",
            "   Attractions:\n",
            "   - Colosseum: This ancient amphitheater is one of the most famous landmarks in the world.\n",
            "   - Vatican City: Visit the Sistine Chapel to see Michelangelo's famous frescoes, and tour St. Peter's Basilica for stunning architecture and art.\n",
            "   - Trevi Fountain: Throw a coin in this iconic fountain for good luck, and take a moment to appreciate its beautiful design.\n",
            "origem IATA: VRN\n",
            "[{'id': 'ACVCE394', 'name': 'MARCO POLO'}, {'id': 'BAVCEBLN', 'name': 'BOSCOLO BELLINI'}, {'id': 'BWVCE308', 'name': 'BW HOTEL CANON D ORO - CONEGLIANO'}, {'id': 'BWVCE163', 'name': 'BEST WESTERN PARK HOTEL'}, {'id': 'BWVCE315', 'name': 'BEST WESTERN HOTEL AIRVENICE-QUARTO D AL'}, {'id': 'BWVCE276', 'name': 'BW PARK HOTEL CONTINENTAL'}, {'id': 'BWVCE334', 'name': 'BW TITIAN INNHOTEL VENICE APT-TESSERA'}, {'id': 'BWVCE238', 'name': 'BW PREMIER SANT ELENA'}, {'id': 'BWVCE157', 'name': 'BEST WESTERN HTL MONTECARLO'}, {'id': 'BWVCE034', 'name': 'BEST WESTERN ALBERGO SAN MARCO'}, {'id': 'BWVCE261', 'name': 'BEST WESTERN HOTEL OLIMPIA'}, {'id': 'BWVCE067', 'name': 'BEST WESTERN BIASUTTI HOTELS'}, {'id': 'BWVCE152', 'name': 'BEST WESTERN HOTEL BOLOGNA'}, {'id': 'BWVCE294', 'name': 'BEST WESTERN PLUS QUID HOTEL'}, {'id': 'BWVCE042', 'name': 'BEST WESTERN HOTEL BISANZIO'}, {'id': 'BWVCE203', 'name': 'BEST WESTERN HOTEL ALA'}, {'id': 'BXVCECON', 'name': 'CONTINENTAL HOTEL'}, {'id': 'CHVCEH09', 'name': 'HOTEL GARIBALDI - MESTRE'}, {'id': 'CHVCEHMO', 'name': 'HOTEL MODERNO'}, {'id': 'CIVCE034', 'name': 'COMFORT HOTEL DIANA'}, {'id': 'CPVCE675', 'name': 'CROWNE PLAZA VENICE EAST'}, {'id': 'CYVCECYC', 'name': 'COURTYARD VENICE ARPT MARRIOTT'}, {'id': 'DSVCECAP', 'name': 'CA PISANI'}, {'id': 'EPVCEHPG', 'name': 'HOTEL PALAZZO GIOVANELLI'}, {'id': 'EPVCECAN', 'name': \"CA'NIGRA LAGOON RESORT\"}, {'id': 'FGVCEAPV', 'name': 'HOTEL AL PINO VERDE - CAMPOSAMPIERO'}, {'id': 'FGVCEDAN', 'name': 'HOTEL DANUBIO-JESOLO'}, {'id': 'FGVCEHLR', 'name': 'HOTEL LORELEY-JESOLO LIDO'}, {'id': 'FGVCERAD', 'name': 'HOTEL RELAIS ALCOVA DEL DOGE-MIRA'}, {'id': 'FGVCEHVC', 'name': 'HOTEL VILLA CONDULMER - MOGLIANO VENETO'}, {'id': 'FGVCELUP', 'name': 'HOTEL VILLA LUPPIS-PASIANO DI PORDENONE'}, {'id': 'FGVCE362', 'name': 'PARK HOTEL JUNIOR-QUARTO DALTINO'}, {'id': 'FGVCECBA', 'name': 'COLOMBINA HOTEL-VENEZIA'}, {'id': 'FGVCEAIP', 'name': 'PARK HOTEL AI PINI'}, {'id': 'FGVCERUS', 'name': 'HOTEL RUSSOTT-VENEZIA MESTRE'}, {'id': 'FGVCEPAG', 'name': 'HOTEL PAGANELLI'}, {'id': 'FGVCEZUS', 'name': \"DOMINA HOME CA'ZUSTO\"}, {'id': 'FGVCEFON', 'name': 'ALBERGO QUATTRO FONTANE'}, {'id': 'GZVCE543', 'name': 'HOTEL CASANOVA'}, {'id': 'GZVCECAA', 'name': 'HOTEL CA ARCO ANTICO'}, {'id': 'GZVCE977', 'name': 'HOTEL LOCANDA CANAL'}, {'id': 'HAVCEELI', 'name': 'ELITE - MESTRE'}, {'id': 'HAVCEPIA', 'name': 'HOTEL PIAVE HOTEL'}, {'id': 'HAVCECAP', 'name': 'CAPITAL HOTEL-ROVIGO'}, {'id': 'HAVCECAN', 'name': 'CANAL & WALTER'}, {'id': 'HAVCEHOL', 'name': 'HOLIDAY HOTEL - FAVARO VENETO'}, {'id': 'HAVCEGOR', 'name': 'GORIZIA A LA VALIGIA'}, {'id': 'HAVCEFOR', 'name': 'LA FORCOLA'}, {'id': 'HAVCETIN', 'name': 'TINTORETTO'}, {'id': 'HAVCETRE', 'name': 'TRE ARCHI'}, {'id': 'HAVCEALV', 'name': 'HOTEL CA ALVISE'}, {'id': 'HAVCECAD', 'name': 'HOTEL CA DEI CONTI'}, {'id': 'HAVCEH13', 'name': 'HOTEL MARCONI'}, {'id': 'HAVCENID', 'name': 'HOTEL AL NIDO DI GIULIETTA E ROMEO'}, {'id': 'HIVCE9F8', 'name': 'HOLIDAY INN MESTRE-MARGHERA'}, {'id': 'HOVCECEF', 'name': 'BLUE DREAM HOTEL'}, {'id': 'HSVCEACR', 'name': 'FORMULA INTERNATIONAL'}, {'id': 'HSVCEALO', 'name': 'AL FOGHER'}, {'id': 'HSVCEARI', 'name': 'ANTICA LOCANDA AL GAMBERO'}, {'id': 'HSVCEAJK', 'name': 'RIVIERA'}, {'id': 'HSVCEAJM', 'name': 'AMADEUS'}, {'id': 'HSVCEARF', 'name': 'VENEZIA 2000'}, {'id': 'HSVCEANG', 'name': 'RUSSO PALACE HOTEL'}, {'id': 'HSVCEAPN', 'name': 'BEL SITO E BERLINO'}, {'id': 'HSVCEAKB', 'name': 'LA MERIDIANA'}, {'id': 'HSVCEAGT', 'name': 'AL CANAL REGIO'}, {'id': 'HSVCEARO', 'name': 'PALACE HOTEL REGINA'}, {'id': 'HSVCEANK', 'name': 'PARIGI'}, {'id': 'HSVCEAPT', 'name': 'PALACE'}, {'id': 'HSVCEAIL', 'name': 'SAN GIORGIO'}, {'id': 'HSVCEAFR', 'name': 'AGRITURISMO DI LA DAL FIUME'}, {'id': 'HSVCEAEF', 'name': 'ASTORIA'}, {'id': 'HSVCEAWJ', 'name': 'CA DI VALLE'}, {'id': 'HSVCEAWL', 'name': 'CASA PER FERIE OPERA BEATO G. NASCIMBENI'}, {'id': 'HSVCEAWI', 'name': 'FORTUNA'}, {'id': 'HSVCEAPK', 'name': 'A CASA DI PAOLA'}, {'id': 'HSVCEAGB', 'name': 'EUROREST'}, {'id': 'HSVCEAHZ', 'name': 'CASA A COLORI VENEZIA'}, {'id': 'HSVCEAQB', 'name': 'LORY'}, {'id': 'HSVCEAVI', 'name': 'COUNTRY HOUSE COUNTRY CLUB'}, {'id': 'HSVCEARJ', 'name': 'VILLA GIULIETTA'}, {'id': 'HSVCEASP', 'name': 'SPLENDID TERME DI GALZIGNANO'}, {'id': 'HSVCEATG', 'name': 'COPPE'}, {'id': 'HSVCEATX', 'name': 'BAIA DEL MAR SUITE HOTEL'}, {'id': 'HSVCEALC', 'name': 'DANTE'}, {'id': 'HSVCEAGW', 'name': 'ASTROMARE'}, {'id': 'HSVCEABX', 'name': 'RIVAMARE'}, {'id': 'HSVCEAEI', 'name': 'JESULUM'}, {'id': 'HSVCEACD', 'name': 'LONDON'}, {'id': 'HSVCEADI', 'name': 'ROSANNA'}, {'id': 'HSVCEABW', 'name': 'VINA DEL MAR PINETA'}, {'id': 'HSVCEACG', 'name': 'NAZIONALE'}, {'id': 'HSVCEATT', 'name': 'GERMANIA'}, {'id': 'HSVCEALF', 'name': 'BELLEVUE - RESORT'}, {'id': 'HSVCEAHL', 'name': 'TROVATORE'}, {'id': 'HSVCEABB', 'name': 'AMBASCIATA'}, {'id': 'HSVCEADY', 'name': 'SAN CARLO'}, {'id': 'HSVCEAFB', 'name': 'GUIDI'}, {'id': 'HSVCEACB', 'name': 'DELLE ROSE'}, {'id': 'HSVCEAIP', 'name': 'KAPPA'}, {'id': 'HSVCEACH', 'name': 'CLUB'}, {'id': 'HSVCEADL', 'name': 'ISOLA DI CAPRERA'}, {'id': 'HSVCEAEC', 'name': 'BASE HOTEL TO WORK'}, {'id': 'HSVCEAHF', 'name': 'ALLA BOTTE'}, {'id': 'HSVCEAPA', 'name': 'MILAN'}, {'id': 'HSVCEAHU', 'name': 'VENICE RESORT'}, {'id': 'HSVCEAPG', 'name': 'SCALA'}, {'id': 'HSVCEARU', 'name': 'LOCANDA STURION'}, {'id': 'HSVCEAMP', 'name': 'EDEN'}, {'id': 'HSVCEAKN', 'name': 'GRANDE ALBERGO AUSONIA - HUNGARIA'}, {'id': 'HSVCEATD', 'name': 'CA DEL BORGO'}, {'id': 'HSVCEAMV', 'name': 'ALLE GUGLIE'}, {'id': 'HSVCEASF', 'name': 'LOCANDA POSTE VECIE'}, {'id': 'HSVCEAKM', 'name': 'FALIER'}, {'id': 'HSVCEAQX', 'name': 'PALAZZO SELVADEGO'}, {'id': 'HSVCEAPH', 'name': 'AL GAZZETTINO'}, {'id': 'HSVCEARS', 'name': 'CASA SUL MOLO LOCANDA'}, {'id': 'HSVCEAQT', 'name': 'PANTALON'}, {'id': 'HSVCEARL', 'name': 'PALAZZO GUARDI'}, {'id': 'HSVCEARP', 'name': 'LE VILLE DEL LIDO'}, {'id': 'HSVCEATR', 'name': 'VILLA PANNONIA'}, {'id': 'HSVCEASE', 'name': 'RIGEL'}, {'id': 'HSVCEANM', 'name': 'VILLA LAGUNA ALL SUITES'}, {'id': 'HSVCEAKX', 'name': 'VILLA CIPRO'}, {'id': 'HSVCEATQ', 'name': 'TIVOLI'}, {'id': 'HSVCEASY', 'name': 'CA PEDROCCHI'}, {'id': 'HSVCEATM', 'name': 'SETTIMO CIELO - BLOOM B-B'}, {'id': 'HSVCEAIE', 'name': 'SAN LIO T.H. GUEST HOUSE - 1 CAT.'}, {'id': 'HSVCEAIC', 'name': \"CA' BRAGADIN CARABBA - CHARMING INN\"}, {'id': 'HSVCEABN', 'name': 'CASA COSMO'}, {'id': 'HSVCEAUA', 'name': 'ORION'}, {'id': 'HSVCEABM', 'name': 'KOSHER HOUSE GIARDINO DEI MELOGRANI'}, {'id': 'HSVCEAHJ', 'name': 'LA PERGOLA DI VENEZIA'}, {'id': 'HSVCEATW', 'name': \"CA' GOTTARDI\"}, {'id': 'KYVCERUZ', 'name': 'PHW RUZZINI PALACE HOTEL'}, {'id': 'LWVCE170', 'name': 'BAUER PALLADIO HOTEL AND  SPA'}, {'id': 'LWVCE148', 'name': 'LUNA HOTEL BAGLIONI VENICE'}, {'id': 'LXVCELPA', 'name': 'LIASSIDI PALACE'}, {'id': 'LXVCEPSA', 'name': 'PALAZZO SANT ANGELO SUL CANAL'}, {'id': 'LXVCECAS', 'name': 'CA SAGREDO HOTEL'}, {'id': 'MCVCEJWM', 'name': 'JW MARRIOTT VENICE RESORT SPA'}, {'id': 'OIVCEBQW', 'name': 'HOTEL AL VIVIT - MESTRE'}, {'id': 'OIVCEHDD', 'name': 'HOTEL RIVIERA DEI DOGI - MIRA'}, {'id': 'OIVCEVIL', 'name': 'VILLA MARCELLO GIUSTINIAN - MOGLIANO VEN'}, {'id': 'OIVCEEUP', 'name': 'ANNIA PARK HOTEL - TESSERA'}, {'id': 'OIVCEDHT', 'name': 'LOCANDA ANTICO FIORE'}, {'id': 'OIVCEF21', 'name': 'HOTEL CERTOSA - VENEZIA'}, {'id': 'ONVCEHVO', 'name': 'HOTEL VILLA ORIO'}, {'id': 'ONVCEANG', 'name': 'HOTEL FLEURS DE ZERMATT-FOSSO'}, {'id': 'ONVCEHVC', 'name': 'HOTEL VILLA COSTANZA'}, {'id': 'ONVCEHLA', 'name': 'HOTEL LOCANDA AL PIAVE-SAN DONA DI PIAVE'}, {'id': 'ONVCEALI', 'name': 'HOTEL VILLA ALIGHIERI'}, {'id': 'ONVCEFLO', 'name': 'HOTEL FLORA'}, {'id': 'ONVCELUG', 'name': 'HOTEL LUGANO TORRETTA-VENEZIA'}, {'id': 'PHVCEMET', 'name': 'METROPOLE HOTEL PREFERRED BOUT'}, {'id': 'RTVCEMGA', 'name': 'LAGARE HOTEL VENEZIA - VENEZIA ISOLA DI '}, {'id': 'RTVCENOV', 'name': 'NOVOTEL VENEZIA MESTRE'}, {'id': 'SCVCE101', 'name': 'HOTEL VILLA ADELE-MARGHERA'}, {'id': 'SXVCEABA', 'name': 'HOTEL AMBASCIATORI-MESTRE'}, {'id': 'SXVCETRI', 'name': 'HOTEL TRITONE'}, {'id': 'SYVCESPL', 'name': 'STARHOTELS  SPLENDID VENICE'}, {'id': 'UIVCEAPH', 'name': 'ANTONY PALACE HOTEL'}, {'id': 'UIVCEGIO', 'name': 'GIORGIONE HOTEL'}, {'id': 'UZVCE811', 'name': 'HOTEL AL PORTICO'}, {'id': 'UZVCE812', 'name': 'LOCANDA ANTICA VENEZIA'}, {'id': 'UZVCE212', 'name': 'LANTERNA DI MARCO POLO HOTEL'}, {'id': 'UZVCE948', 'name': 'NOTTURNO HOTEL SAN ZULIAN'}, {'id': 'UZVCE466', 'name': 'LA SCALA PALACE'}, {'id': 'WBVCE431', 'name': 'HOTEL LONDRA PALACE'}, {'id': 'WVVCE498', 'name': 'HOTEL ALL ORSO - RONCADE TREVISO'}, {'id': 'WVVCE826', 'name': 'VILLA F'}, {'id': 'WVVCETIV', 'name': 'HOTEL SCANDINAVIA'}, {'id': 'WWVCEVVC', 'name': 'HOTEL VILLA CIPRIANI'}, {'id': 'XLVCEMON', 'name': 'HOTEL MONACO AND GRAND CANAL'}, {'id': 'XNVCEVEX', 'name': 'HOTEL EXCELSIOR'}, {'id': 'YHVCEFHJ', 'name': 'FALKENSTEINER HOTEL JESOLO'}, {'id': 'YHVCEVIL', 'name': 'VILLA BRAIDA'}, {'id': 'YXVCEHAL', 'name': 'HOTEL AL CAMIN'}, {'id': 'YXVCEADG', 'name': 'HOTEL AMALFI'}, {'id': 'YXVCED9T', 'name': 'HOTEL GREIF LIGNANO'}, {'id': 'YXVCE248', 'name': 'SWISS INT VILLA PATRIARCA'}, {'id': 'YXVCEITA', 'name': 'GRAND ITALIA HOTEL'}, {'id': 'YXVCE565', 'name': 'HOTEL LE TEGNUE'}, {'id': 'YXVCECGR', 'name': 'CANAL GRANDE HOTEL'}, {'id': 'YXVCEDUO', 'name': 'DUODO PALACE HOTEL'}, {'id': 'YXVCEHVI', 'name': 'VILLA IGEA HOTEL'}, {'id': 'YXVCEFOS', 'name': 'FOSCARI PALACE'}, {'id': 'YXVCEADL', 'name': 'AI DUE LEONI'}, {'id': 'YXVCECAF', 'name': 'HOTEL CA FORMENTA'}, {'id': 'YXVCEACR', 'name': 'ALLA CORTE ROSSA'}, {'id': 'YXVCEADV', 'name': 'AL DUCA DI VENEZIA'}, {'id': 'YXVCEPAN', 'name': 'HOTEL PANORAMA VCE'}, {'id': 'YXVCECAP', 'name': 'HOTEL CA PAGAN'}, {'id': 'YXVCEACC', 'name': 'ACCA HOTEL'}, {'id': 'YXVCEHVP', 'name': 'HOTEL VILLA PARCO'}, {'id': 'YXVCEMCH', 'name': 'SWISS INTL MICHELANGELO'}, {'id': 'YXVCEBER', 'name': 'BELLEVUE SUITES ST MARK SQUARE'}, {'id': 'YXVCEPBH', 'name': 'PALACE BONVECCHIATI'}]\n"
          ]
        },
        {
          "output_type": "stream",
          "name": "stderr",
          "text": [
            "ERROR:__main__:Failed to fetch hotel offers: 400, Response: {\"errors\":[{\"code\":4070,\"title\":\"UNABLE TO PROCESS - CONTACT HELP DESK\",\"status\":400,\"detail\":\"Provider Error - UNABLE TO PROCESS - CONTACT HELP DESK\",\"source\":{\"parameter\":\"hotelIds=HIVCE9F8\"}},{\"code\":1257,\"title\":\"INVALID PROPERTY CODE\",\"status\":400,\"detail\":\"Provider Error - INVALID PROPERTY CODE\",\"source\":{\"parameter\":\"hotelIds=HOVCECEF,HSVCEABB,HSVCEABW,HSVCEABX,HSVCEACB,HSVCEACD,HSVCEACG,HSVCEACR,HSVCEADI,HSVCEADY,HSVCEAEI,HSVCEAFB,HSVCEAFR,HSVCEAGT,HSVCEAGW,HSVCEAHL,HSVCEAHZ,HSVCEAIL,HSVCEAIP,HSVCEAJK,HSVCEAJM,HSVCEAKB,HSVCEALC,HSVCEALF,HSVCEANG,HSVCEANK,HSVCEAPK,HSVCEAPT,HSVCEAQB,HSVCEARF,HSVCEARI,HSVCEARJ,HSVCEARO,HSVCEASP,HSVCEATG,HSVCEATT,HSVCEATX,HSVCEAWI,HSVCEAWJ,HSVCEAWL\"}},{\"code\":3664,\"title\":\"NO ROOMS AVAILABLE AT REQUESTED PROPERTY\",\"status\":400,\"detail\":\"Provider Error - NO ROOMS AVAILABLE AT REQUESTED PROPERTY\",\"source\":{\"parameter\":\"hotelIds=HAVCEALV,HAVCECAD,HAVCEH13,HAVCENID,HSVCEAEF,HSVCEAGB,HSVCEALO,HSVCEAPN,HSVCEAVI\"}}]}\n",
            "WARNING:__main__:No flight data found for VRN -> VCE\n"
          ]
        },
        {
          "output_type": "stream",
          "name": "stdout",
          "text": [
            "[{'id': 'ARFLRFIR', 'name': 'AC BY MARRIOTT HOTEL FIRENZE'}, {'id': 'BWFLR309', 'name': 'BEST WESTERN HOTEL RIVER'}, {'id': 'BWFLR267', 'name': 'BW HOTEL PALAZZO OGNISSANTI'}, {'id': 'BWFLR158', 'name': 'BEST WESTERN GRAND HOTEL ADRIATICO'}, {'id': 'CHFLRHMT', 'name': 'HOTEL MARTELLI'}, {'id': 'CHFLRHRH', 'name': 'RESIDENCE HILDA'}, {'id': 'CHFLRH38', 'name': 'HOTEL PRIVILEGE'}, {'id': 'CHFLRH49', 'name': 'HOTEL ANNABELLA'}, {'id': 'CHFLRHCE', 'name': 'HOTEL I CEDRI'}, {'id': 'DHFLRANY', 'name': 'C-HOTELS THE STYLE FLORENCE'}, {'id': 'DSFLRCON', 'name': 'CONTINENTALE'}, {'id': 'EPFLR625', 'name': 'RELAIS VILLA BELPOGGIO'}, {'id': 'EPFLRMON', 'name': 'UNA PALAZZO MANNAIONI'}, {'id': 'EUFLRVTO', 'name': 'VILLA TOLOMEI HOTEL & RESORT'}, {'id': 'FGFLRH01', 'name': 'HOTEL BALESTRI'}, {'id': 'FGFLRBIL', 'name': 'AFFITTACAMERE CASA BILLI'}, {'id': 'GAFLRAUG', 'name': 'GALLERY HOTEL ART'}, {'id': 'GIFLR424', 'name': 'HILTON GRDN INN FLORENCE NOVOLI'}, {'id': 'GZFLROLI', 'name': 'HOTEL OLIMPIA'}, {'id': 'GZFLRHCI', 'name': 'HOTEL CIMABUE'}, {'id': 'GZFLR243', 'name': 'HOTEL ALBION'}, {'id': 'GZFLR703', 'name': 'HOTEL MORANDI ALLA CROCETTA'}, {'id': 'GZFLRCAR', 'name': 'HOTEL VILLA CARLOTA'}, {'id': 'GZFLRH22', 'name': 'HOTEL SEMPIONE'}, {'id': 'GZFLR051', 'name': 'HOTEL BOTTICELLI'}, {'id': 'GZFLR694', 'name': 'HOTEL MERIDIANA'}, {'id': 'GZFLRBBP', 'name': 'B AND B LA PIAZZETTA'}, {'id': 'HAFLRVEC', 'name': 'PALAZZO VECCHIO'}, {'id': 'HAFLRVIA', 'name': 'VILLA DE RONDINI-FIRENZE'}, {'id': 'HAFLRASC', 'name': 'ASCOT'}, {'id': 'HAFLRCAP', 'name': 'HOTEL VILLA CAPPUGI'}, {'id': 'HOFLR117', 'name': 'RELAIS VIGNALE'}, {'id': 'HSFLRAOW', 'name': 'PARK HOTEL RIPAVERDE'}, {'id': 'HSFLRARS', 'name': 'ALINARI'}, {'id': 'HSFLRAPH', 'name': 'CORTE DEI MEDICI'}, {'id': 'HSFLRABM', 'name': \"L'ULTIMO MULINO\"}, {'id': 'HSFLRABB', 'name': 'ASTORIA'}, {'id': 'HSFLRAFQ', 'name': 'LA COLLEGIATA'}, {'id': 'HSFLRAAO', 'name': 'PAGGERIA MEDICEA'}, {'id': 'HSFLRADI', 'name': 'RELAIS VILLA IL SASSO'}, {'id': 'HSFLRAJN', 'name': 'MARRANI'}, {'id': 'HSFLRAGD', 'name': 'LA SELVA'}, {'id': 'HSFLRAQK', 'name': 'LOCANDA DEI BARONI ANTICA DIMORA'}, {'id': 'HSFLRAGB', 'name': 'WEST FLORENCE'}, {'id': 'HSFLRAAU', 'name': 'CENTRO'}, {'id': 'HSFLRADP', 'name': 'LOCANDA LE PIAZZE'}, {'id': 'HSFLRAGX', 'name': 'VILLA LA BORGHETTA'}, {'id': 'HSFLRASV', 'name': 'BLACK 5 FLORENCE SUITE'}, {'id': 'HSFLRAEF', 'name': 'TOGETHER FLORENCE INN'}, {'id': 'HSFLRASS', 'name': \"1865 RESIDENZA D'EPOCA\"}, {'id': 'HSFLRAGK', 'name': 'DEI MACCHIAIOLI'}, {'id': 'HSFLRAHS', 'name': 'PARK PALACE'}, {'id': 'HSFLRARE', 'name': 'PALAZZO RUSPOLI B-B'}, {'id': 'HSFLRAQX', 'name': 'AXIAL'}, {'id': 'HSFLRAOG', 'name': 'DELLA ROBBIA'}, {'id': 'HSFLRAPA', 'name': 'LIDO'}, {'id': 'HSFLRAJH', 'name': 'ART ATELIER'}, {'id': 'HSFLRAPD', 'name': 'RITA MAJOR'}, {'id': 'HSFLRAOK', 'name': 'TRINITY APARTMENTS'}, {'id': 'HSFLRAOM', 'name': 'NILHOTEL'}, {'id': 'HSFLRARU', 'name': 'LA MONGOLFIERA RESIDENZE'}, {'id': 'HSFLRAQB', 'name': 'EDEN'}, {'id': 'HSFLRAQM', 'name': 'JANE'}, {'id': 'HSFLRAMP', 'name': 'ANNALENA'}, {'id': 'HSFLRAJX', 'name': 'SAN GAGGIO HOUSE B-B'}, {'id': 'HSFLRAQR', 'name': 'RESIDENCE MICHELANGIOLO'}, {'id': 'HSFLRAQA', 'name': 'VILLA BIANCA'}, {'id': 'HSFLRAQH', 'name': 'BORGO SANT IPPOLITO COUNTRY HOTEL'}, {'id': 'HSFLRALJ', 'name': 'LOCANDA IL GALLO LOGIS'}, {'id': 'HSFLRAAV', 'name': 'IL CASELLO COUNTRY HOUSE'}, {'id': 'HSFLRAGQ', 'name': 'VILLA AMBROSINA'}, {'id': 'HSFLRAHE', 'name': 'RESIDENZA DEL GRANDUCA'}, {'id': 'HSFLRAFM', 'name': 'AMBROSIANO'}, {'id': 'HSFLRADL', 'name': 'MINERVA PALACE'}, {'id': 'HSFLRAEC', 'name': 'ALASSIO'}, {'id': 'HSFLRABT', 'name': 'LA PIA'}, {'id': 'HSFLRAEJ', 'name': 'BOSTON'}, {'id': 'HSFLRAUA', 'name': 'MIRO'}, {'id': 'HSFLRAAJ', 'name': 'TORRETTA'}, {'id': 'HSFLRACA', 'name': 'PANORAMIC GRAND HOTEL'}, {'id': 'HSFLRACG', 'name': 'TAMERICI E PRINCIPE GRAND HOTEL'}, {'id': 'HSFLRADU', 'name': 'IL MOLINO DEL PONTE'}, {'id': 'HSFLRAFN', 'name': 'VILLA GIORGIA ALBERGO IN COLLINA'}, {'id': 'HSFLRAAZ', 'name': 'VILLA IL TREBBIOLO'}, {'id': 'HSFLRACH', 'name': 'DATINI'}, {'id': 'HSFLRAFA', 'name': 'I CILIEGI'}, {'id': 'HSFLRAUH', 'name': 'VILLA I BARRONCI'}, {'id': 'HSFLRAGG', 'name': 'VILLA DUCCI'}, {'id': 'HSFLRAAL', 'name': 'SOVESTRO'}, {'id': 'HSFLRABQ', 'name': 'LE VOLPAIE'}, {'id': 'HSFLRAEV', 'name': 'VILLA GUARNASCHELLI'}, {'id': 'HSFLRAEI', 'name': 'MARZIA'}, {'id': 'HSFLRASL', 'name': 'UNA HOTEL POGGIO DEI MEDICI GOLF - RESOR'}, {'id': 'HSFLRATG', 'name': 'VILLA PICCOLA SIENA'}, {'id': 'HSFLRASU', 'name': 'CHIANTI VILLAGE MORROCCO'}, {'id': 'HSFLRAFX', 'name': 'FATTORIA QUERCETO'}, {'id': 'LWFLR163', 'name': 'CASTELLO  DEL NERO'}, {'id': 'LXFLRVAR', 'name': 'VILLA ARMENA'}, {'id': 'LXFLRJKP', 'name': 'JK PLACE FIRENZE'}, {'id': 'OIFLREJU', 'name': 'GARIBALDIS HOTEL RELAIS ET CHARME'}, {'id': 'OIFLRD1Q', 'name': 'HOTEL MICHELANGELO-MONTECATINI-TERME'}, {'id': 'OIFLRD99', 'name': 'GRAND HOTEL NIZZA ET SUISSE'}, {'id': 'OIFLRD21', 'name': 'HOTEL BONIFACIO'}, {'id': 'ONFLRKRI', 'name': 'HOTEL KRISTAL'}, {'id': 'ONFLRPAL', 'name': 'MSNSUITES PALAZZO DEI CIOMPI-FIRENZE'}, {'id': 'ONFLRDLP', 'name': 'HOTEL DE LA PACE'}, {'id': 'ONFLR250', 'name': 'HOTEL VILLA LIANA'}, {'id': 'PHFLRPVH', 'name': 'PALAZZO VECCHIETTI PREFERRED B'}, {'id': 'PHFLRMSH', 'name': 'MONTEBELLO SPLENDID PREFERRED'}, {'id': 'RTFLRVOR', 'name': 'VILLA OLMI RESORT-BAGNO A RIPOLI'}, {'id': 'RTFLRSOF', 'name': 'CERRETANI FIRENZE (EX SOFITEL)'}, {'id': 'RTFLREST', 'name': 'IBIS FIRENZE PRATO EST'}, {'id': 'RTFLRAPT', 'name': 'NOVOTEL FIRENZE NORD AEROPORTO'}, {'id': 'SXFLRPLA', 'name': 'PLAZA HOTEL LUCCHESI'}, {'id': 'SYFLRMIC', 'name': 'STARHOTELS MICHELANGELO'}, {'id': 'SYFLRMRO', 'name': 'STARHOTELS TUSCANY'}, {'id': 'SYFLRSTA', 'name': 'STARHOTELS VESPUCCI'}, {'id': 'TAFLRBET', 'name': 'HOTEL VILLA BETANIA'}, {'id': 'TSFLR286', 'name': 'HOTEL IL GUELFO BIANCO'}, {'id': 'UIFLREXE', 'name': 'EXECUTIVE HOTEL'}, {'id': 'UIFLRVLL', 'name': 'VILLA FIESOLE HOTEL'}, {'id': 'UIFLRHCL', 'name': 'C-HOTELS CLUB'}, {'id': 'UIFLRPRS', 'name': 'PARIS HOTEL'}, {'id': 'UIFLRCLA', 'name': 'HOTEL HOME FLORENCE'}, {'id': 'UIFLRBER', 'name': 'HOTEL BERNINI PALACE'}, {'id': 'UIFLR123', 'name': 'HOTEL LAURUS AL DUOMO'}, {'id': 'UIFLRARZ', 'name': 'ARIZONA HOTEL'}, {'id': 'UIFLRSGP', 'name': 'SAN GALLO PALACE HOTEL'}, {'id': 'UIFLRC2H', 'name': 'MACHIAVELLI PALACE HOTEL'}, {'id': 'UIFLREIX', 'name': 'FIRST HOTEL'}, {'id': 'UZFLR138', 'name': 'VILLA GIOTTO PARK HOTEL - BIVIGLIANO'}, {'id': 'UZFLRART', 'name': 'ART HOTEL MIRO'}, {'id': 'UZFLRH39', 'name': 'HOTEL GRIFONE'}, {'id': 'UZFLRCRO', 'name': 'CROCE DI MALTA HOTEL'}, {'id': 'VPFLR310', 'name': 'RELAIS UFFIZI'}, {'id': 'WBFLR302', 'name': 'GRAND HOTEL VILLA CORA'}, {'id': 'WBFLRBOR', 'name': 'HOTEL RELAIS BORGO SAN FELICE'}, {'id': 'WIFLR043', 'name': 'THE WESTIN EXCELSIOR FLORENCE'}, {'id': 'WVFLRORO', 'name': 'HOTEL L OROLOGIO'}, {'id': 'WVFLRGTO', 'name': 'GOLDEN TOWER FIRENZE'}, {'id': 'WVFLRMIN', 'name': 'GRAND HOTEL MINERVA'}, {'id': 'WVFLR471', 'name': 'BED AND BREAKFAST EUROHOME'}, {'id': 'WVFLR549', 'name': 'HOTEL MONTREAL'}, {'id': 'WVFLR400', 'name': 'ALAMANNI HOTEL'}, {'id': 'WVFLRAHO', 'name': 'ROOM MATE ISABELLA'}, {'id': 'WVFLRCAR', 'name': 'ROOM MATE LUCA'}, {'id': 'WVFLRLEM', 'name': 'HOTEL CASA LEMMI'}, {'id': 'XLFLRABR', 'name': 'VILLASANPAOLO WELLNESS E RELAX'}, {'id': 'XRFLR045', 'name': 'THE ST REGIS FLORENCE'}, {'id': 'YXFLR8RJ', 'name': 'HOTEL MINERVA AREZZO'}, {'id': 'YXFLRPOG', 'name': 'POGGIO CENNINA'}, {'id': 'YXFLRVDP', 'name': 'VILLA DI PIAZZANO'}, {'id': 'YXFLRNAZ', 'name': 'HOTEL DELLE NAZIONI FLORENCE'}, {'id': 'YXFLRH27', 'name': 'HOTEL GIOIA'}, {'id': 'YXFLRH44', 'name': 'HOTEL MEDICI'}, {'id': 'YXFLRH03', 'name': 'HOTEL ARIELE'}, {'id': 'YXFLRKUR', 'name': 'HOTEL KURSAAL AND AUSONIA'}, {'id': 'YXFLRHDF', 'name': 'HOTEL DELTA FLORENCE'}, {'id': 'YXFLRC20', 'name': 'PALAZZO RICASOLI'}, {'id': 'YXFLRH56', 'name': 'HOTEL LA GIOCONDA FLORENCE'}, {'id': 'YXFLR834', 'name': 'ORTO DE MEDICI'}, {'id': 'YXFLRHMG', 'name': 'RAPALLO HOTEL'}, {'id': 'YXFLRH14', 'name': 'HOTEL COSIMO DE MEDICI'}, {'id': 'YXFLR154', 'name': 'HOTEL CARAVAGGIO'}, {'id': 'YXFLRBN5', 'name': 'HOTEL COLOMBA'}, {'id': 'YXFLRGIG', 'name': 'HOTEL GIGLIO'}, {'id': 'YXFLRSIH', 'name': 'SILLA HOTEL'}, {'id': 'YXFLRHBE', 'name': 'HOTEL BEATRICE'}, {'id': 'YXFLRBAH', 'name': 'BORGHESE PALACE ART HOTEL'}, {'id': 'YXFLR482', 'name': 'EMBASSY HOTEL'}, {'id': 'YXFLR444', 'name': 'I PARIGI CORBINELLI'}, {'id': 'YXFLRHDC', 'name': 'HOTEL SPAGNA'}, {'id': 'YXFLRTDB', 'name': 'TORRE DI BELLOSGUAR'}, {'id': 'YXFLRH29', 'name': 'HOTEL CITY'}, {'id': 'YXFLRHDR', 'name': 'HOTEL DE ROSE PALACE'}, {'id': 'YXFLRTOR', 'name': 'ANTICA TORRE TORNABUONI 1'}, {'id': 'YXFLR424', 'name': 'DEMIDOFF COUNTRY RESORT'}, {'id': 'YXFLRSTA', 'name': 'HOTEL VILLA STANLEY - SESTO FI'}, {'id': 'YXFLR842', 'name': 'BORGO DI CORTEFREDA HOTEL RELA'}, {'id': 'YXFLRH25', 'name': 'HOTEL FEDORA'}, {'id': 'YXFLRBRU', 'name': 'HOTEL BRUNELLESCHI'}, {'id': 'YXFLRH06', 'name': 'HOTEL GOLF FLORENCE'}, {'id': 'YXFLRROV', 'name': 'RELAIS DELLA ROVERE'}]\n"
          ]
        },
        {
          "output_type": "stream",
          "name": "stderr",
          "text": [
            "ERROR:__main__:Failed to fetch hotel offers: 400, Response: {\"errors\":[{\"code\":3289,\"title\":\"RATE NOT AVAILABLE FOR REQUESTED DATES\",\"status\":400,\"detail\":\"Provider Error - RATE NOT AVAILABLE FOR REQUESTED DATES\",\"source\":{\"parameter\":\"hotelIds=YXFLR444,YXFLRBAH,YXFLRGIG,YXFLRH06,YXFLRTDB\"}},{\"code\":1257,\"title\":\"INVALID PROPERTY CODE\",\"status\":400,\"detail\":\"Provider Error - INVALID PROPERTY CODE\",\"source\":{\"parameter\":\"hotelIds=YXFLR154,YXFLR424,YXFLR482,YXFLR834,YXFLR842,YXFLRBN5,YXFLRBRU,YXFLRH03,YXFLRH14,YXFLRH25,YXFLRH27,YXFLRH29,YXFLRH44,YXFLRH56,YXFLRHBE,YXFLRHDC,YXFLRHDR,YXFLRHMG,YXFLRKUR,YXFLRROV,YXFLRSIH,YXFLRSTA,YXFLRTOR\"}},{\"code\":3664,\"title\":\"NO ROOMS AVAILABLE AT REQUESTED PROPERTY\",\"status\":400,\"detail\":\"Provider Error - NO ROOMS AVAILABLE AT REQUESTED PROPERTY\",\"source\":{\"parameter\":\"hotelIds=YXFLRC20,YXFLRHDF,YXFLRNAZ,YXFLRPOG,YXFLRVDP\"}}]}\n"
          ]
        },
        {
          "output_type": "stream",
          "name": "stdout",
          "text": [
            "[{'id': 'BWFCO270', 'name': 'BEST WESTERN HTL RIVIERA'}, {'id': 'BWFCO336', 'name': 'BEST WESTERN HTL ROME AIRPORT'}, {'id': 'CHFCOHCE', 'name': 'HOTEL CENTER 1-2-3'}, {'id': 'CIFCO058', 'name': 'COMFORT HOTEL ROMA AIRPORT FIUMICINO'}, {'id': 'DSFCOARG', 'name': 'ARGENTARIO RESORT GOLF AND SPA'}, {'id': 'DSFCOSAD', 'name': 'SEXTANTIO SANTO STEFANO'}, {'id': 'GZFCO086', 'name': 'HOTEL VILLA ROSA'}, {'id': 'GZFCO850', 'name': 'VENETIA PALACE HOTEL'}, {'id': 'GZFCOTDA', 'name': 'TENUTA DELL ARGENTO'}, {'id': 'HAFCORIM', 'name': 'RIMINI HOTEL'}, {'id': 'HOFCOSFH', 'name': 'IL SAN FRANCESCO HOTEL'}, {'id': 'HSFCOAAS', 'name': 'VILLA MARGHERITA'}, {'id': 'MCFCOAUM', 'name': 'ROME MARRIOTT PARK HOTEL'}, {'id': 'QIFCO067', 'name': 'QUALITY HOTEL GREEN PALACE'}, {'id': 'UZFCO391', 'name': 'PALACE HOTEL RELAIS FALISIO'}, {'id': 'UZFCO050', 'name': 'ENEA HOTEL APRILIA-APRILIA'}, {'id': 'WBFCO830', 'name': 'HOTEL RAPHAEL'}, {'id': 'WVFCO548', 'name': 'EURO HOUSE AIRPORT INN'}, {'id': 'WVFCOALL', 'name': 'ALLE TAMERICI HOTEL'}, {'id': 'WWFCO041', 'name': 'THE CHURCH PALACE'}, {'id': 'WWFCO040', 'name': 'THE CHURCH VILLAGE'}, {'id': 'YXFCO505', 'name': 'ROSES HOTEL DE LA VILLE'}, {'id': 'YXFCOLCH', 'name': 'HOTEL LA CONCHIGLIA'}, {'id': 'YXFCOHLC', 'name': 'LOCANDA CAIROLI HOTEL'}, {'id': 'YXFCOHDR', 'name': 'HOTEL DE ROME'}, {'id': 'YXFCOSOL', 'name': 'HOTEL SOLE AL PANTHEON'}, {'id': 'YXFCOARH', 'name': 'AURELIANO HOTEL'}, {'id': 'YXFCOFLH', 'name': 'FLORIDA HOTEL'}, {'id': 'YXFCOHWI', 'name': 'WINDROSE HOTEL'}, {'id': 'YXFCOAPR', 'name': 'PALAZZO ROSPIGLIOSI'}, {'id': 'YXFCOPDS', 'name': 'PIAZZA DI SPAGNA'}, {'id': 'YXFCOHOA', 'name': 'HOTEL AUGUSTUS'}, {'id': 'YXFCOASC', 'name': 'SANTA CHIARA HOTEL'}, {'id': 'YXFCO099', 'name': 'HOTEL CORSI ROMA FIUMICINO'}]\n"
          ]
        },
        {
          "output_type": "stream",
          "name": "stderr",
          "text": [
            "WARNING:__main__:No flight data found for VRN -> FCO\n",
            "INFO:werkzeug:127.0.0.1 - - [15/Mar/2025 19:29:08] \"POST / HTTP/1.1\" 200 -\n"
          ]
        },
        {
          "output_type": "stream",
          "name": "stdout",
          "text": [
            "Quero conhecer as dolomitas na Itália  Liste 3 de destinos turísticos, incluindo: - Informe cidades com serviço regular de voos que sejam proximas às atracoes destacadas: Nome da Cidade e seu codigo IATA em parentesis: (exemplo: 'San Juan (SJU)'). - Principais atrações e atividades. use no maximo 1000 palavras de forma que resuma bem o pedido do usuario. - Dicas de hotéis para ficar na região. use no maximo 200 palavras de forma que resuma bem o pedido do usuario.\n",
            "\n",
            "Destinos turísticos para conhecer as Dolomitas na Itália:\n",
            "\n",
            "1. Bolzano (BZO)\n",
            "   - Principais Atrações e Atividades: Museu de Arqueologia Ötzi, Passeio pela Cidade Velha, Centro Culturale della Dolomiti, e acesso a vários caminhos de passeio nas Dolomitas.\n",
            "   - Dicas de Hotéis: Hotel Adler Thermae, Hotel Laurin, Hotel Astoria.\n",
            "\n",
            "2. Cortina d'Ampezzo (DOL)\n",
            "   - Principais Atrações e Atividades: Passeio pela Cidade Velha, Tivoli, e várias opções de esqui alpino, caminhos de passeio nas Dolomitas, e acesso ao parque nacional de Paneveggio.\n",
            "   - Dicas de Hotéis: Hotel Cristallo, Hotel Belvedere, Hotel Rosa Alpina.\n",
            "\n",
            "3. Trento (TRE)\n",
            "   - Principais Atrações e Atividades: Museo di Scienza Naturale, Castello del Buonconsiglio, e acesso a vários caminhos de passeio nas Dolomitas.\n",
            "   - Dicas de Hotéis: Hotel Du Parc, Hotel Splendid, Hotel Sirmione.\n",
            "origem IATA: VRN\n",
            "[{'id': 'DSBZOGRF', 'name': 'HOTEL GREIF'}, {'id': 'DSBZOVMR', 'name': 'VIGILIUS MOUNTAIN RESORT'}, {'id': 'FGBZO001', 'name': 'DOMINA HOME MIRAMONTI'}, {'id': 'HSBZOAAQ', 'name': 'MOSERALM BERGHOTEL'}, {'id': 'HSBZOAMX', 'name': 'ASTRA'}, {'id': 'HSBZOAAW', 'name': 'MARGHERITA'}, {'id': 'HSBZOADH', 'name': 'MIRAVALLE'}, {'id': 'HSBZOACP', 'name': 'ADRIANA'}, {'id': 'HSBZOAKC', 'name': 'GARDEN'}, {'id': 'HSBZOAIT', 'name': 'STAMSERHOF'}, {'id': 'HSBZOAOS', 'name': 'ANTHOLZERHOF'}, {'id': 'HSBZOAHH', 'name': 'ELEFANT'}, {'id': 'HSBZOAIB', 'name': 'REZIA'}, {'id': 'HSBZOACS', 'name': 'ANTELAO'}, {'id': 'HSBZOAJO', 'name': 'POST GRIES RESTAURANT'}, {'id': 'HSBZOAKF', 'name': 'ARTS HOTEL'}, {'id': 'HSBZOABV', 'name': 'PREMSTALLER'}, {'id': 'HSBZOAKO', 'name': 'REGINA A.'}, {'id': 'HSBZOAHG', 'name': 'THE VISTA HOTEL'}, {'id': 'HSBZOADN', 'name': 'MILLANDERHOF'}, {'id': 'HSBZOAMB', 'name': 'HOTEL TRAUBE AN D.BISCHOFGAERTEN'}, {'id': 'HSBZOADQ', 'name': 'DOMINIK AM PARK'}, {'id': 'HSBZOAFL', 'name': 'GOLDENE KRONE VITAL STADTHOTEL'}, {'id': 'HSBZOADX', 'name': 'LANGGENHOF'}, {'id': 'HSBZOAER', 'name': 'ANDREAS HOFER'}, {'id': 'HSBZOAFS', 'name': 'POST'}, {'id': 'HSBZOAKE', 'name': 'MAJESTIC ALPINE WELLNESS RESORT'}, {'id': 'HSBZOACV', 'name': 'AZALEA PARK HOTEL'}, {'id': 'HSBZOAJP', 'name': 'MIRAVALLE'}, {'id': 'HSBZOAGV', 'name': 'ARGENTINA'}, {'id': 'HSBZOADW', 'name': 'MENARDI'}, {'id': 'HSBZOAQE', 'name': 'KOLFUSCHGERHOF'}, {'id': 'HSBZOAHR', 'name': 'LAMBRECHTSHOF'}, {'id': 'HSBZOAKI', 'name': 'OBERWIRT'}, {'id': 'HSBZOAJI', 'name': 'PARC HOTEL MIRAMONTI'}, {'id': 'HSBZOAPZ', 'name': 'LADY MARIA HOTEL'}, {'id': 'HSBZOAPJ', 'name': 'PENSION GARNI SONIA'}, {'id': 'HSBZOADD', 'name': 'BURGFRIEDEN'}, {'id': 'HSBZOAIW', 'name': 'ALPENFRIEDE'}, {'id': 'HSBZOALT', 'name': 'ORSO GRIGIO GRAUER BAER'}, {'id': 'HSBZOABJ', 'name': 'HILPOLD PENSION'}, {'id': 'HSBZOAOE', 'name': 'BRAUNSBERGERHOF'}, {'id': 'HSBZOAGC', 'name': 'IDEAL PARK'}, {'id': 'HSBZOACY', 'name': 'ALEXANDER'}, {'id': 'HSBZOAAN', 'name': 'PARE'}, {'id': 'HSBZOAAR', 'name': 'CONCORDIA'}, {'id': 'HSBZOANP', 'name': 'TOURING'}, {'id': 'HSBZOABC', 'name': 'TIROLER ADLER'}, {'id': 'HSBZOAIR', 'name': 'GASTHOF EDELWEISS'}, {'id': 'HSBZOACJ', 'name': 'SITTNERHOF'}, {'id': 'HSBZOAMM', 'name': 'MONTANI'}, {'id': 'HSBZOAEH', 'name': 'GRIMMHOF'}, {'id': 'HSBZOAEK', 'name': 'REINHILD'}, {'id': 'HSBZOALR', 'name': 'PACHER NEUSTIFT'}, {'id': 'HSBZOAHA', 'name': 'EMMA'}, {'id': 'HSBZOADR', 'name': 'ALPENHOF'}, {'id': 'HSBZOAGU', 'name': 'OBEREGGEN HOTEL - REITERHOF'}, {'id': 'HSBZOAOI', 'name': \"AGSTNER'S HOTEL RAINEGG\"}, {'id': 'HSBZOAAM', 'name': 'WINKLWIESE APPARTHOTEL'}, {'id': 'HSBZOABZ', 'name': 'ALP CRON MOARHOF'}, {'id': 'HSBZOABE', 'name': 'ALPINHOTEL KEIL'}, {'id': 'HSBZOAMW', 'name': 'OLAGA'}, {'id': 'HSBZOAQF', 'name': 'DIGON'}, {'id': 'HSBZOANC', 'name': 'SPORTHOTEL HELL'}, {'id': 'HSBZOAID', 'name': 'CASTELIR SUITE HOTEL'}, {'id': 'HSBZOAGO', 'name': 'ROTWAND HOTEL RESTAURANT'}, {'id': 'HSBZOABP', 'name': 'GRAN BAITA VILLA MITZI HOTEL - RESORT'}, {'id': 'HSBZOAHT', 'name': 'PENSION PRACK'}, {'id': 'HSBZOADB', 'name': 'WIESERHOF NATURHOTEL'}, {'id': 'HSBZOAFO', 'name': 'WEIHRERHOF'}, {'id': 'HSBZOAHM', 'name': 'GENIESSERHOTEL TIROLERHOF'}, {'id': 'HSBZOAIG', 'name': 'ALBERGO CAVALLINO BIANCO'}, {'id': 'HSBZOAGZ', 'name': 'MAIR ZU HOF NATURRESIDENZ'}, {'id': 'HSBZOAQC', 'name': 'SMART HOTEL SASLONG'}, {'id': 'HSBZOAGF', 'name': 'MONACO SPORT'}, {'id': 'HSBZOAAD', 'name': 'ALLE PIRAMIDI'}, {'id': 'HSBZOAFE', 'name': 'NIGRITELLA'}, {'id': 'HSBZOADA', 'name': 'GRAN BAITA SPORTHOTEL'}, {'id': 'HSBZOARG', 'name': 'TORGGLERHOF'}, {'id': 'HSBZOAFJ', 'name': 'CIASA SALARES'}, {'id': 'HSBZOAIX', 'name': 'LA STUA'}, {'id': 'HSBZOARD', 'name': 'STOCKER'}, {'id': 'HSBZOAPS', 'name': 'GARNI ERNA BED - BREAKFAST'}, {'id': 'HSBZOAHX', 'name': 'EMMA'}, {'id': 'HSBZOARK', 'name': 'PICHLERHOF PENSION'}, {'id': 'HSBZOAOZ', 'name': 'SONJA'}, {'id': 'HSBZOARH', 'name': 'MARLET'}, {'id': 'HSBZOAKJ', 'name': 'RESIDENCE TERENTIS'}, {'id': 'HSBZOAFY', 'name': 'VAJOLET'}, {'id': 'HSBZOAHQ', 'name': 'REICHEGGER'}, {'id': 'HSBZOAGL', 'name': 'LODENWIRT AKTIV - VITALHOTEL'}, {'id': 'HSBZOAJV', 'name': 'SEEHOF'}, {'id': 'HSBZOADT', 'name': 'ENGEL - SPA - RESORT'}, {'id': 'HSBZOABO', 'name': 'ADLER'}, {'id': 'HSBZOAPE', 'name': 'ZANON'}, {'id': 'IQBZOCIT', 'name': \"STADT HOTEL CITTA'\"}, {'id': 'IQBZOMOT', 'name': 'HOTEL MOTA'}, {'id': 'LXBZOPMI', 'name': 'PARK HOTEL MIGNON'}, {'id': 'ONBZOPWE', 'name': 'PARKHOTEL WERTH'}, {'id': 'ONBZOOSW', 'name': 'HOTEL OSWALD'}, {'id': 'SIBZO462', 'name': 'FOUR POINTS BOLZANO'}, {'id': 'UZBZO556', 'name': 'HAUS GITSCHBERG'}, {'id': 'UZBZO506', 'name': 'HOTEL GARNI LUDWIG'}, {'id': 'WBBZOT40', 'name': 'HOTEL CASTEL FRAGSBURG'}, {'id': 'WBBZOT36', 'name': 'HOTEL GARDENA GRODNERHOF'}, {'id': 'WBBZORAH', 'name': 'HOTEL AND SPA ROSA ALPINA'}, {'id': 'WBBZOAUE', 'name': 'AUENER HOF'}, {'id': 'WWBZOPAR', 'name': 'PARKHOTEL LAURIN'}, {'id': 'YHBZOCZ6', 'name': 'FALKENSTEINERHOTEL ANTHOLZ'}, {'id': 'YHBZO863', 'name': 'HOTEL SCHOENBLICK'}, {'id': 'YHBZOEHR', 'name': 'FALKENSTEINER EHRENBURGERHOF'}, {'id': 'YHBZOKAS', 'name': 'FALKENSTEINER LAMM KASTELRUTH'}, {'id': 'YHBZOSON', 'name': 'FALKENSTEINER SONNENPARADIES'}, {'id': 'YHBZOFAL', 'name': 'FALKENSTEINERHOF'}, {'id': 'YXBZO156', 'name': 'ALPI HOTEL'}, {'id': 'YXBZOPLU', 'name': 'POSTHOTEL'}, {'id': 'YXBZOHRF', 'name': 'HOTEL RESIDENCE FLORA'}]\n"
          ]
        },
        {
          "output_type": "stream",
          "name": "stderr",
          "text": [
            "ERROR:__main__:Failed to fetch hotel offers: 400, Response: {\"errors\":[{\"code\":1351,\"title\":\"VERIFY CHAIN/REP CODE\",\"status\":400,\"detail\":\"Provider Error - VERIFY CHAIN/REP CODE\",\"source\":{\"parameter\":\"hotelIds=FGBZO001\"}},{\"code\":1257,\"title\":\"INVALID PROPERTY CODE\",\"status\":400,\"detail\":\"Provider Error - INVALID PROPERTY CODE\",\"source\":{\"parameter\":\"hotelIds=HSBZOAAN,HSBZOAAQ,HSBZOAAR,HSBZOAAW,HSBZOABC,HSBZOABJ,HSBZOABV,HSBZOACP,HSBZOACS,HSBZOACV,HSBZOACY,HSBZOADH,HSBZOADQ,HSBZOADW,HSBZOADX,HSBZOAER,HSBZOAGC,HSBZOAGV,HSBZOAHG,HSBZOAHR,HSBZOAIB,HSBZOAIR,HSBZOAIT,HSBZOAIW,HSBZOAJI,HSBZOAKC,HSBZOAKE,HSBZOAKF,HSBZOAKI,HSBZOAKO,HSBZOALT,HSBZOAMB,HSBZOAMX,HSBZOANP,HSBZOAOE,HSBZOAOS,HSBZOAPJ,HSBZOAPZ,HSBZOAQE\"}},{\"code\":3664,\"title\":\"NO ROOMS AVAILABLE AT REQUESTED PROPERTY\",\"status\":400,\"detail\":\"Provider Error - NO ROOMS AVAILABLE AT REQUESTED PROPERTY\",\"source\":{\"parameter\":\"hotelIds=DSBZOGRF,DSBZOVMR,HSBZOACJ,HSBZOADD,HSBZOADN,HSBZOAFL,HSBZOAFS,HSBZOAHH,HSBZOAJO,HSBZOAJP\"}}]}\n",
            "ERROR:__main__:Failed to fetch hotel offers: 400, Response: {\"errors\":[{\"code\":1257,\"title\":\"INVALID PROPERTY CODE\",\"status\":400,\"detail\":\"Provider Error - INVALID PROPERTY CODE\",\"source\":{\"parameter\":\"hotelIds=HSBZOAAM,HSBZOABE,HSBZOABP,HSBZOABZ,HSBZOADA,HSBZOADB,HSBZOADR,HSBZOADT,HSBZOAEK,HSBZOAFE,HSBZOAFJ,HSBZOAFO,HSBZOAGF,HSBZOAGL,HSBZOAGU,HSBZOAGZ,HSBZOAHA,HSBZOAHM,HSBZOAHQ,HSBZOAHT,HSBZOAID,HSBZOAIG,HSBZOAIX,HSBZOAJV,HSBZOAKJ,HSBZOALR,HSBZOAMM,HSBZOAMW,HSBZOANC,HSBZOAOI,HSBZOAOZ,HSBZOAPE,HSBZOAPS,HSBZOAQC,HSBZOAQF,HSBZOARD,HSBZOARG,HSBZOARH,HSBZOARK,LXBZOPMI\"}},{\"code\":3494,\"title\":\"ROOM OR RATE NOT AVAILABLE OR RESTRICTED\",\"status\":400,\"detail\":\"Provider Error - ROOM OR RATE NOT AVAILABLE OR RESTRICTED\",\"source\":{\"parameter\":\"hotelIds=ONBZOOSW,ONBZOPWE\"}},{\"code\":3664,\"title\":\"NO ROOMS AVAILABLE AT REQUESTED PROPERTY\",\"status\":400,\"detail\":\"Provider Error - NO ROOMS AVAILABLE AT REQUESTED PROPERTY\",\"source\":{\"parameter\":\"hotelIds=HSBZOAAD,HSBZOABO,HSBZOAEH,HSBZOAFY,HSBZOAGO,HSBZOAHX\"}},{\"code\":11,\"title\":\"UNABLE TO PROCESS\",\"status\":400,\"detail\":\"Provider Error - UNABLE TO PROCESS\",\"source\":{\"parameter\":\"hotelIds=IQBZOCIT,IQBZOMOT\"}}]}\n",
            "ERROR:__main__:Failed to fetch hotel offers: 400, Response: {\"errors\":[{\"code\":3664,\"title\":\"NO ROOMS AVAILABLE AT REQUESTED PROPERTY\",\"status\":400,\"detail\":\"Provider Error - NO ROOMS AVAILABLE AT REQUESTED PROPERTY\",\"source\":{\"parameter\":\"hotelIds=SIBZO462\"}},{\"code\":1257,\"title\":\"INVALID PROPERTY CODE\",\"status\":400,\"detail\":\"Provider Error - INVALID PROPERTY CODE\",\"source\":{\"parameter\":\"hotelIds=WBBZOAUE,WBBZORAH,WBBZOT36,WBBZOT40,WWBZOPAR,YXBZO156,YXBZOHRF,YXBZOPLU\"}}]}\n",
            "WARNING:__main__:No flight data found for VRN -> BZO\n"
          ]
        },
        {
          "output_type": "stream",
          "name": "stdout",
          "text": [
            "[{'id': 'ACDOLD25', 'name': 'ALMORIA'}, {'id': 'BWDOL593', 'name': 'BEST WESTERN LE CHEVAL BLANC'}, {'id': 'CZDOL432', 'name': 'COMFORT SUITES DEAUVILLE SUD'}, {'id': 'EUDOLHJ8', 'name': 'DOMAINE DE VILLERS-VILLERS SUR MER'}, {'id': 'FGDOLCAB', 'name': 'LA CLOSERIE CABOURG'}, {'id': 'FGDOLNOR', 'name': 'NORMANDY BARRIERE'}, {'id': 'FGDOLGOL', 'name': 'HOTEL DU GOLF BARRIERE'}, {'id': 'HSDOLAAR', 'name': 'AUBERGE DE LA FERME DES AULNETTES LOGIS'}, {'id': 'HSDOLABJ', 'name': 'LE LION D OR LOGIS'}, {'id': 'HSDOLAAW', 'name': 'BELLEVUE'}, {'id': 'LWDOL622', 'name': 'ROYAL BARRIERE'}, {'id': 'NNDOLC02', 'name': 'CAMPANILE DEAUVILLE - SAINT ARNOULT'}, {'id': 'NNDOLTRO', 'name': 'KYRIAD PRESTIGE DEAUVILLE TROUVILLE'}, {'id': 'NNDOLC01', 'name': 'CAMPANILE HONFLEUR - LA RIVI?RE SAINT SA'}, {'id': 'RTDOLYAC', 'name': 'MERCURE DEAUVILLE YACHT CL 3*'}, {'id': 'RTDOLMER', 'name': 'MERCURE HONFLEUR 3*'}, {'id': 'RTDOLVSM', 'name': 'IBIS STYLES DEAUVILLE VILLERS'}, {'id': 'VPDOL175', 'name': 'MANOIR DE LA POTERIE & SPA'}, {'id': 'WBDOLLFS', 'name': 'LA FERME SAINT SIMEON'}]\n"
          ]
        },
        {
          "output_type": "stream",
          "name": "stderr",
          "text": [
            "WARNING:__main__:No flight data found for VRN -> DOL\n"
          ]
        },
        {
          "output_type": "stream",
          "name": "stdout",
          "text": [
            "Dolomita Itália  Liste 3 de destinos turísticos, incluindo: - Informe cidades com serviço regular de voos que sejam proximas às atracoes destacadas: Nome da Cidade e seu codigo IATA em parentesis: (exemplo: 'San Juan (SJU)'). - Principais atrações e atividades. use no maximo 1000 palavras de forma que resuma bem o pedido do usuario.\n",
            "\n",
            "1. Venezia (VCE)\n",
            "   - Principal atracção: Canal Grande\n",
            "     O Canal Grande é um dos lugares mais emblemáticos da Itália, conhecido por seus canais e suas ponteadas cidades de arquitetura veneziana. Navegar pelo canal em gondolas é uma experiência única e inesquecível.\n",
            "\n",
            "   - Outras atrações: Basílica de São Marcos, Ponte de Rialto, Doge's Palace\n",
            "     A Basílica de São Marcos é uma das mais famosas igrejas do mundo, com suas mosaicos de ouro e marfim e suas colunas de mármore. O Ponte de Rialto é o mais antigo e famoso dos pontes que atravessam o Canal Grande. O Palácio do Doge é uma das mais importantes fortalezas europeias e foi a sede do governo da República de Veneza.\n",
            "\n",
            "2. Amalfi (Napoli (NAP) ou Roma (FCO))\n",
            "   - Principal atracção: Cidade de Positano\n",
            "     Positano é uma das cidades mais bonitas da costa amalfitana, conhecida por suas casas coloridas, suas praias de areia e suas lojas de moda.\n",
            "\n",
            "   - Outras atrações: Catedral de Amalfi, Praia de Marina Grande\n",
            "     A Catedral de Amalfi é um dos mais belos exemplos de arquitetura normanda no sul da Itália. A Praia de Marina Grande é uma das praias mais populares da cidade, com seu mar de águas claras e sua beleza natural.\n",
            "\n",
            "3. Milão (MXP ou LIN)\n",
            "   - Principal atracção: Catedral de Milão\n",
            "     A Catedral de Milão é uma das mais famosas catedrais do mundo, conhecida por sua arquitetura gótica e por abrigar a estátua de São Bento.\n",
            "\n",
            "   - Outras atrações: Piazza del Duomo, Teatro alla Scala\n",
            "     A Piazza del Duomo é uma das praças mais bonitas de Milão, conhecida por suas igrejas e por ser o local onde está a Catedral de Milão. O Teatro alla Scala é um dos mais famosos teatros de ópera do mundo, conhecido por abrigar grandes artistas e por apresentar grandes produções.\n",
            "origem IATA: VRN\n"
          ]
        },
        {
          "output_type": "stream",
          "name": "stderr",
          "text": [
            "ERROR:__main__:Failed to fetch hotels: 400, Response: {\"errors\":[{\"code\":895,\"detail\":\"Nothing found for the requested criteria\",\"status\":400,\"title\":\"NOTHING FOUND FOR REQUESTED CITY\"}]}\n"
          ]
        },
        {
          "output_type": "stream",
          "name": "stdout",
          "text": [
            "[{'id': 'ACVCE394', 'name': 'MARCO POLO'}, {'id': 'BAVCEBLN', 'name': 'BOSCOLO BELLINI'}, {'id': 'BWVCE308', 'name': 'BW HOTEL CANON D ORO - CONEGLIANO'}, {'id': 'BWVCE163', 'name': 'BEST WESTERN PARK HOTEL'}, {'id': 'BWVCE315', 'name': 'BEST WESTERN HOTEL AIRVENICE-QUARTO D AL'}, {'id': 'BWVCE276', 'name': 'BW PARK HOTEL CONTINENTAL'}, {'id': 'BWVCE334', 'name': 'BW TITIAN INNHOTEL VENICE APT-TESSERA'}, {'id': 'BWVCE238', 'name': 'BW PREMIER SANT ELENA'}, {'id': 'BWVCE157', 'name': 'BEST WESTERN HTL MONTECARLO'}, {'id': 'BWVCE034', 'name': 'BEST WESTERN ALBERGO SAN MARCO'}, {'id': 'BWVCE261', 'name': 'BEST WESTERN HOTEL OLIMPIA'}, {'id': 'BWVCE067', 'name': 'BEST WESTERN BIASUTTI HOTELS'}, {'id': 'BWVCE152', 'name': 'BEST WESTERN HOTEL BOLOGNA'}, {'id': 'BWVCE294', 'name': 'BEST WESTERN PLUS QUID HOTEL'}, {'id': 'BWVCE042', 'name': 'BEST WESTERN HOTEL BISANZIO'}, {'id': 'BWVCE203', 'name': 'BEST WESTERN HOTEL ALA'}, {'id': 'BXVCECON', 'name': 'CONTINENTAL HOTEL'}, {'id': 'CHVCEH09', 'name': 'HOTEL GARIBALDI - MESTRE'}, {'id': 'CHVCEHMO', 'name': 'HOTEL MODERNO'}, {'id': 'CIVCE034', 'name': 'COMFORT HOTEL DIANA'}, {'id': 'CPVCE675', 'name': 'CROWNE PLAZA VENICE EAST'}, {'id': 'CYVCECYC', 'name': 'COURTYARD VENICE ARPT MARRIOTT'}, {'id': 'DSVCECAP', 'name': 'CA PISANI'}, {'id': 'EPVCEHPG', 'name': 'HOTEL PALAZZO GIOVANELLI'}, {'id': 'EPVCECAN', 'name': \"CA'NIGRA LAGOON RESORT\"}, {'id': 'FGVCEAPV', 'name': 'HOTEL AL PINO VERDE - CAMPOSAMPIERO'}, {'id': 'FGVCEDAN', 'name': 'HOTEL DANUBIO-JESOLO'}, {'id': 'FGVCEHLR', 'name': 'HOTEL LORELEY-JESOLO LIDO'}, {'id': 'FGVCERAD', 'name': 'HOTEL RELAIS ALCOVA DEL DOGE-MIRA'}, {'id': 'FGVCEHVC', 'name': 'HOTEL VILLA CONDULMER - MOGLIANO VENETO'}, {'id': 'FGVCELUP', 'name': 'HOTEL VILLA LUPPIS-PASIANO DI PORDENONE'}, {'id': 'FGVCE362', 'name': 'PARK HOTEL JUNIOR-QUARTO DALTINO'}, {'id': 'FGVCECBA', 'name': 'COLOMBINA HOTEL-VENEZIA'}, {'id': 'FGVCEAIP', 'name': 'PARK HOTEL AI PINI'}, {'id': 'FGVCERUS', 'name': 'HOTEL RUSSOTT-VENEZIA MESTRE'}, {'id': 'FGVCEPAG', 'name': 'HOTEL PAGANELLI'}, {'id': 'FGVCEZUS', 'name': \"DOMINA HOME CA'ZUSTO\"}, {'id': 'FGVCEFON', 'name': 'ALBERGO QUATTRO FONTANE'}, {'id': 'GZVCE543', 'name': 'HOTEL CASANOVA'}, {'id': 'GZVCECAA', 'name': 'HOTEL CA ARCO ANTICO'}, {'id': 'GZVCE977', 'name': 'HOTEL LOCANDA CANAL'}, {'id': 'HAVCEELI', 'name': 'ELITE - MESTRE'}, {'id': 'HAVCEPIA', 'name': 'HOTEL PIAVE HOTEL'}, {'id': 'HAVCECAP', 'name': 'CAPITAL HOTEL-ROVIGO'}, {'id': 'HAVCECAN', 'name': 'CANAL & WALTER'}, {'id': 'HAVCEHOL', 'name': 'HOLIDAY HOTEL - FAVARO VENETO'}, {'id': 'HAVCEGOR', 'name': 'GORIZIA A LA VALIGIA'}, {'id': 'HAVCEFOR', 'name': 'LA FORCOLA'}, {'id': 'HAVCETIN', 'name': 'TINTORETTO'}, {'id': 'HAVCETRE', 'name': 'TRE ARCHI'}, {'id': 'HAVCEALV', 'name': 'HOTEL CA ALVISE'}, {'id': 'HAVCECAD', 'name': 'HOTEL CA DEI CONTI'}, {'id': 'HAVCEH13', 'name': 'HOTEL MARCONI'}, {'id': 'HAVCENID', 'name': 'HOTEL AL NIDO DI GIULIETTA E ROMEO'}, {'id': 'HIVCE9F8', 'name': 'HOLIDAY INN MESTRE-MARGHERA'}, {'id': 'HOVCECEF', 'name': 'BLUE DREAM HOTEL'}, {'id': 'HSVCEACR', 'name': 'FORMULA INTERNATIONAL'}, {'id': 'HSVCEALO', 'name': 'AL FOGHER'}, {'id': 'HSVCEARI', 'name': 'ANTICA LOCANDA AL GAMBERO'}, {'id': 'HSVCEAJK', 'name': 'RIVIERA'}, {'id': 'HSVCEAJM', 'name': 'AMADEUS'}, {'id': 'HSVCEARF', 'name': 'VENEZIA 2000'}, {'id': 'HSVCEANG', 'name': 'RUSSO PALACE HOTEL'}, {'id': 'HSVCEAPN', 'name': 'BEL SITO E BERLINO'}, {'id': 'HSVCEAKB', 'name': 'LA MERIDIANA'}, {'id': 'HSVCEAGT', 'name': 'AL CANAL REGIO'}, {'id': 'HSVCEARO', 'name': 'PALACE HOTEL REGINA'}, {'id': 'HSVCEANK', 'name': 'PARIGI'}, {'id': 'HSVCEAPT', 'name': 'PALACE'}, {'id': 'HSVCEAIL', 'name': 'SAN GIORGIO'}, {'id': 'HSVCEAFR', 'name': 'AGRITURISMO DI LA DAL FIUME'}, {'id': 'HSVCEAEF', 'name': 'ASTORIA'}, {'id': 'HSVCEAWJ', 'name': 'CA DI VALLE'}, {'id': 'HSVCEAWL', 'name': 'CASA PER FERIE OPERA BEATO G. NASCIMBENI'}, {'id': 'HSVCEAWI', 'name': 'FORTUNA'}, {'id': 'HSVCEAPK', 'name': 'A CASA DI PAOLA'}, {'id': 'HSVCEAGB', 'name': 'EUROREST'}, {'id': 'HSVCEAHZ', 'name': 'CASA A COLORI VENEZIA'}, {'id': 'HSVCEAQB', 'name': 'LORY'}, {'id': 'HSVCEAVI', 'name': 'COUNTRY HOUSE COUNTRY CLUB'}, {'id': 'HSVCEARJ', 'name': 'VILLA GIULIETTA'}, {'id': 'HSVCEASP', 'name': 'SPLENDID TERME DI GALZIGNANO'}, {'id': 'HSVCEATG', 'name': 'COPPE'}, {'id': 'HSVCEATX', 'name': 'BAIA DEL MAR SUITE HOTEL'}, {'id': 'HSVCEALC', 'name': 'DANTE'}, {'id': 'HSVCEAGW', 'name': 'ASTROMARE'}, {'id': 'HSVCEABX', 'name': 'RIVAMARE'}, {'id': 'HSVCEAEI', 'name': 'JESULUM'}, {'id': 'HSVCEACD', 'name': 'LONDON'}, {'id': 'HSVCEADI', 'name': 'ROSANNA'}, {'id': 'HSVCEABW', 'name': 'VINA DEL MAR PINETA'}, {'id': 'HSVCEACG', 'name': 'NAZIONALE'}, {'id': 'HSVCEATT', 'name': 'GERMANIA'}, {'id': 'HSVCEALF', 'name': 'BELLEVUE - RESORT'}, {'id': 'HSVCEAHL', 'name': 'TROVATORE'}, {'id': 'HSVCEABB', 'name': 'AMBASCIATA'}, {'id': 'HSVCEADY', 'name': 'SAN CARLO'}, {'id': 'HSVCEAFB', 'name': 'GUIDI'}, {'id': 'HSVCEACB', 'name': 'DELLE ROSE'}, {'id': 'HSVCEAIP', 'name': 'KAPPA'}, {'id': 'HSVCEACH', 'name': 'CLUB'}, {'id': 'HSVCEADL', 'name': 'ISOLA DI CAPRERA'}, {'id': 'HSVCEAEC', 'name': 'BASE HOTEL TO WORK'}, {'id': 'HSVCEAHF', 'name': 'ALLA BOTTE'}, {'id': 'HSVCEAPA', 'name': 'MILAN'}, {'id': 'HSVCEAHU', 'name': 'VENICE RESORT'}, {'id': 'HSVCEAPG', 'name': 'SCALA'}, {'id': 'HSVCEARU', 'name': 'LOCANDA STURION'}, {'id': 'HSVCEAMP', 'name': 'EDEN'}, {'id': 'HSVCEAKN', 'name': 'GRANDE ALBERGO AUSONIA - HUNGARIA'}, {'id': 'HSVCEATD', 'name': 'CA DEL BORGO'}, {'id': 'HSVCEAMV', 'name': 'ALLE GUGLIE'}, {'id': 'HSVCEASF', 'name': 'LOCANDA POSTE VECIE'}, {'id': 'HSVCEAKM', 'name': 'FALIER'}, {'id': 'HSVCEAQX', 'name': 'PALAZZO SELVADEGO'}, {'id': 'HSVCEAPH', 'name': 'AL GAZZETTINO'}, {'id': 'HSVCEARS', 'name': 'CASA SUL MOLO LOCANDA'}, {'id': 'HSVCEAQT', 'name': 'PANTALON'}, {'id': 'HSVCEARL', 'name': 'PALAZZO GUARDI'}, {'id': 'HSVCEARP', 'name': 'LE VILLE DEL LIDO'}, {'id': 'HSVCEATR', 'name': 'VILLA PANNONIA'}, {'id': 'HSVCEASE', 'name': 'RIGEL'}, {'id': 'HSVCEANM', 'name': 'VILLA LAGUNA ALL SUITES'}, {'id': 'HSVCEAKX', 'name': 'VILLA CIPRO'}, {'id': 'HSVCEATQ', 'name': 'TIVOLI'}, {'id': 'HSVCEASY', 'name': 'CA PEDROCCHI'}, {'id': 'HSVCEATM', 'name': 'SETTIMO CIELO - BLOOM B-B'}, {'id': 'HSVCEAIE', 'name': 'SAN LIO T.H. GUEST HOUSE - 1 CAT.'}, {'id': 'HSVCEAIC', 'name': \"CA' BRAGADIN CARABBA - CHARMING INN\"}, {'id': 'HSVCEABN', 'name': 'CASA COSMO'}, {'id': 'HSVCEAUA', 'name': 'ORION'}, {'id': 'HSVCEABM', 'name': 'KOSHER HOUSE GIARDINO DEI MELOGRANI'}, {'id': 'HSVCEAHJ', 'name': 'LA PERGOLA DI VENEZIA'}, {'id': 'HSVCEATW', 'name': \"CA' GOTTARDI\"}, {'id': 'KYVCERUZ', 'name': 'PHW RUZZINI PALACE HOTEL'}, {'id': 'LWVCE170', 'name': 'BAUER PALLADIO HOTEL AND  SPA'}, {'id': 'LWVCE148', 'name': 'LUNA HOTEL BAGLIONI VENICE'}, {'id': 'LXVCELPA', 'name': 'LIASSIDI PALACE'}, {'id': 'LXVCEPSA', 'name': 'PALAZZO SANT ANGELO SUL CANAL'}, {'id': 'LXVCECAS', 'name': 'CA SAGREDO HOTEL'}, {'id': 'MCVCEJWM', 'name': 'JW MARRIOTT VENICE RESORT SPA'}, {'id': 'OIVCEBQW', 'name': 'HOTEL AL VIVIT - MESTRE'}, {'id': 'OIVCEHDD', 'name': 'HOTEL RIVIERA DEI DOGI - MIRA'}, {'id': 'OIVCEVIL', 'name': 'VILLA MARCELLO GIUSTINIAN - MOGLIANO VEN'}, {'id': 'OIVCEEUP', 'name': 'ANNIA PARK HOTEL - TESSERA'}, {'id': 'OIVCEDHT', 'name': 'LOCANDA ANTICO FIORE'}, {'id': 'OIVCEF21', 'name': 'HOTEL CERTOSA - VENEZIA'}, {'id': 'ONVCEHVO', 'name': 'HOTEL VILLA ORIO'}, {'id': 'ONVCEANG', 'name': 'HOTEL FLEURS DE ZERMATT-FOSSO'}, {'id': 'ONVCEHVC', 'name': 'HOTEL VILLA COSTANZA'}, {'id': 'ONVCEHLA', 'name': 'HOTEL LOCANDA AL PIAVE-SAN DONA DI PIAVE'}, {'id': 'ONVCEALI', 'name': 'HOTEL VILLA ALIGHIERI'}, {'id': 'ONVCEFLO', 'name': 'HOTEL FLORA'}, {'id': 'ONVCELUG', 'name': 'HOTEL LUGANO TORRETTA-VENEZIA'}, {'id': 'PHVCEMET', 'name': 'METROPOLE HOTEL PREFERRED BOUT'}, {'id': 'RTVCEMGA', 'name': 'LAGARE HOTEL VENEZIA - VENEZIA ISOLA DI '}, {'id': 'RTVCENOV', 'name': 'NOVOTEL VENEZIA MESTRE'}, {'id': 'SCVCE101', 'name': 'HOTEL VILLA ADELE-MARGHERA'}, {'id': 'SXVCEABA', 'name': 'HOTEL AMBASCIATORI-MESTRE'}, {'id': 'SXVCETRI', 'name': 'HOTEL TRITONE'}, {'id': 'SYVCESPL', 'name': 'STARHOTELS  SPLENDID VENICE'}, {'id': 'UIVCEAPH', 'name': 'ANTONY PALACE HOTEL'}, {'id': 'UIVCEGIO', 'name': 'GIORGIONE HOTEL'}, {'id': 'UZVCE811', 'name': 'HOTEL AL PORTICO'}, {'id': 'UZVCE812', 'name': 'LOCANDA ANTICA VENEZIA'}, {'id': 'UZVCE212', 'name': 'LANTERNA DI MARCO POLO HOTEL'}, {'id': 'UZVCE948', 'name': 'NOTTURNO HOTEL SAN ZULIAN'}, {'id': 'UZVCE466', 'name': 'LA SCALA PALACE'}, {'id': 'WBVCE431', 'name': 'HOTEL LONDRA PALACE'}, {'id': 'WVVCE498', 'name': 'HOTEL ALL ORSO - RONCADE TREVISO'}, {'id': 'WVVCE826', 'name': 'VILLA F'}, {'id': 'WVVCETIV', 'name': 'HOTEL SCANDINAVIA'}, {'id': 'WWVCEVVC', 'name': 'HOTEL VILLA CIPRIANI'}, {'id': 'XLVCEMON', 'name': 'HOTEL MONACO AND GRAND CANAL'}, {'id': 'XNVCEVEX', 'name': 'HOTEL EXCELSIOR'}, {'id': 'YHVCEFHJ', 'name': 'FALKENSTEINER HOTEL JESOLO'}, {'id': 'YHVCEVIL', 'name': 'VILLA BRAIDA'}, {'id': 'YXVCEHAL', 'name': 'HOTEL AL CAMIN'}, {'id': 'YXVCEADG', 'name': 'HOTEL AMALFI'}, {'id': 'YXVCED9T', 'name': 'HOTEL GREIF LIGNANO'}, {'id': 'YXVCE248', 'name': 'SWISS INT VILLA PATRIARCA'}, {'id': 'YXVCEITA', 'name': 'GRAND ITALIA HOTEL'}, {'id': 'YXVCE565', 'name': 'HOTEL LE TEGNUE'}, {'id': 'YXVCECGR', 'name': 'CANAL GRANDE HOTEL'}, {'id': 'YXVCEDUO', 'name': 'DUODO PALACE HOTEL'}, {'id': 'YXVCEHVI', 'name': 'VILLA IGEA HOTEL'}, {'id': 'YXVCEFOS', 'name': 'FOSCARI PALACE'}, {'id': 'YXVCEADL', 'name': 'AI DUE LEONI'}, {'id': 'YXVCECAF', 'name': 'HOTEL CA FORMENTA'}, {'id': 'YXVCEACR', 'name': 'ALLA CORTE ROSSA'}, {'id': 'YXVCEADV', 'name': 'AL DUCA DI VENEZIA'}, {'id': 'YXVCEPAN', 'name': 'HOTEL PANORAMA VCE'}, {'id': 'YXVCECAP', 'name': 'HOTEL CA PAGAN'}, {'id': 'YXVCEACC', 'name': 'ACCA HOTEL'}, {'id': 'YXVCEHVP', 'name': 'HOTEL VILLA PARCO'}, {'id': 'YXVCEMCH', 'name': 'SWISS INTL MICHELANGELO'}, {'id': 'YXVCEBER', 'name': 'BELLEVUE SUITES ST MARK SQUARE'}, {'id': 'YXVCEPBH', 'name': 'PALACE BONVECCHIATI'}]\n"
          ]
        },
        {
          "output_type": "stream",
          "name": "stderr",
          "text": [
            "INFO:werkzeug:127.0.0.1 - - [15/Mar/2025 19:29:37] \"POST / HTTP/1.1\" 200 -\n",
            "INFO:werkzeug:127.0.0.1 - - [15/Mar/2025 19:29:43] \"GET / HTTP/1.1\" 200 -\n",
            "ERROR:__main__:Failed to fetch hotel offers: 400, Response: {\"errors\":[{\"code\":4070,\"title\":\"UNABLE TO PROCESS - CONTACT HELP DESK\",\"status\":400,\"detail\":\"Provider Error - UNABLE TO PROCESS - CONTACT HELP DESK\",\"source\":{\"parameter\":\"hotelIds=HIVCE9F8\"}},{\"code\":1257,\"title\":\"INVALID PROPERTY CODE\",\"status\":400,\"detail\":\"Provider Error - INVALID PROPERTY CODE\",\"source\":{\"parameter\":\"hotelIds=HOVCECEF,HSVCEABB,HSVCEABW,HSVCEABX,HSVCEACB,HSVCEACD,HSVCEACG,HSVCEACR,HSVCEADI,HSVCEADY,HSVCEAEI,HSVCEAFB,HSVCEAFR,HSVCEAGT,HSVCEAGW,HSVCEAHL,HSVCEAHZ,HSVCEAIL,HSVCEAIP,HSVCEAJK,HSVCEAJM,HSVCEAKB,HSVCEALC,HSVCEALF,HSVCEANG,HSVCEANK,HSVCEAPK,HSVCEAPT,HSVCEAQB,HSVCEARF,HSVCEARI,HSVCEARJ,HSVCEARO,HSVCEASP,HSVCEATG,HSVCEATT,HSVCEATX,HSVCEAWI,HSVCEAWJ,HSVCEAWL\"}},{\"code\":3664,\"title\":\"NO ROOMS AVAILABLE AT REQUESTED PROPERTY\",\"status\":400,\"detail\":\"Provider Error - NO ROOMS AVAILABLE AT REQUESTED PROPERTY\",\"source\":{\"parameter\":\"hotelIds=HAVCEALV,HAVCECAD,HAVCEH13,HAVCENID,HSVCEAEF,HSVCEAGB,HSVCEALO,HSVCEAPN,HSVCEAVI\"}}]}\n",
            "WARNING:__main__:No flight data found for VRN -> VCE\n"
          ]
        },
        {
          "output_type": "stream",
          "name": "stdout",
          "text": [
            "[{'id': 'BRNAPBRB', 'name': 'RENAISSANCE NAPLES HOTEL'}, {'id': 'BWNAP260', 'name': 'BEST WESTERN HTL DEI PRINCIPAT'}, {'id': 'BWNAP269', 'name': 'BEST WESTERN HOTEL LA PERLA'}, {'id': 'BWNAP162', 'name': 'BEST WESTERN REGINA PALACE TERME'}, {'id': 'BWNAP247', 'name': 'BEST WESTERN HOTEL PLAZA'}, {'id': 'BWNAP100', 'name': 'BW HOTEL SAN GERMANO'}, {'id': 'BWNAP050', 'name': 'BEST WESTERN HOTEL PARADISO'}, {'id': 'BWNAP215', 'name': 'BEST WESTERN HOTEL FERRARI'}, {'id': 'BWNAP352', 'name': 'BEST WESTERN SUITES RESIDENCE'}, {'id': 'BWNAP222', 'name': 'BW HOTEL LA SOLARA - SORRENTO'}, {'id': 'CHNAPHGA', 'name': 'HOTEL GARDEN NAPOLI'}, {'id': 'CHNAPHDE', 'name': 'HOTEL DES ARTISTES'}, {'id': 'CHNAPHCO', 'name': 'HOTEL COLOMBO'}, {'id': 'DSNAPRMH', 'name': 'ROMEO HOTEL'}, {'id': 'EUNAPITB', 'name': 'BOTANICO SAN LAZZARO-MAIORI'}, {'id': 'FGNAPNIC', 'name': 'CLASSHOTEL NAPOLI-MARIGLIANO'}, {'id': 'FGNAPREB', 'name': 'HOTEL NUOVO REBECCHINO'}, {'id': 'FGNAPIDE', 'name': 'HOTEL IDEAL'}, {'id': 'FGNAPPZE', 'name': 'PALAZZO ESEDRA'}, {'id': 'FGNAPENS', 'name': 'HOTEL GOLDEN'}, {'id': 'FGNAPLEC', 'name': 'LE CHEMINEE BUSINESS'}, {'id': 'FGNAPPRS', 'name': 'PARTENOPE RELAIS'}, {'id': 'FGNAPCAR', 'name': 'HOTEL CARAVAGGIO'}, {'id': 'FGNAPREA', 'name': 'HOTEL DEL REAL ORTO BOTANICO'}, {'id': 'FGNAPSER', 'name': 'HOTEL SERIUS'}, {'id': 'FGNAPMIL', 'name': 'MILLENNIUM GOLD HOTEL'}, {'id': 'FGNAPERA', 'name': 'HOTEL ERACLE'}, {'id': 'FGNAPPCG', 'name': 'HOTEL POSEIDON BY CLASS HOTEL GROUP'}, {'id': 'GZNAPHSE', 'name': 'HOTEL SERAPO'}, {'id': 'GZNAPW48', 'name': 'HOTEL SAN MAURO'}, {'id': 'HINAP250', 'name': 'HOLIDAY INN'}, {'id': 'HLNAP100', 'name': 'HILTON SORRENTO PALACE - SORRENTO'}, {'id': 'HSNAPAJF', 'name': 'QUADRIFOGLIO'}, {'id': 'HSNAPAHA', 'name': 'NIDO DEGLI DEI'}, {'id': 'HSNAPADD', 'name': 'FONTANA'}, {'id': 'HSNAPAKL', 'name': 'PARK HOTEL'}, {'id': 'HSNAPAAX', 'name': 'CASA CAPRILE'}, {'id': 'HSNAPACO', 'name': 'WEBER AMBASSADOR'}, {'id': 'HSNAPANP', 'name': 'CORALBA'}, {'id': 'HSNAPAKU', 'name': 'CITY HOTEL'}, {'id': 'HSNAPAFZ', 'name': 'VENUS PARK HOTEL'}, {'id': 'HSNAPAKE', 'name': 'MIRALAGO CENTRO BENESSERE'}, {'id': 'HSNAPAIA', 'name': 'AURHOTEL'}, {'id': 'HSNAPABC', 'name': 'HERCULANEUM B-B'}, {'id': 'HSNAPAHB', 'name': 'PREMIERE'}, {'id': 'HSNAPAFL', 'name': 'LA FAYETTE'}, {'id': 'HSNAPAEM', 'name': 'VILLA DURRUELI'}, {'id': 'HSNAPAFF', 'name': 'MIRAMARE PARK HOTEL'}, {'id': 'HSNAPADT', 'name': 'VILLA THOMAS'}, {'id': 'HSNAPACC', 'name': 'MIRAMARE E CASTELLO'}, {'id': 'HSNAPAGI', 'name': 'SANTA MARIA'}, {'id': 'HSNAPAMG', 'name': 'IBED NAPOLI BED - BREAKFAST'}, {'id': 'HSNAPAGU', 'name': 'LE ORCHIDEE'}, {'id': 'HSNAPAID', 'name': 'PLATAMON B-B B-B'}, {'id': 'HSNAPAHH', 'name': 'CARAFA DI MADDALONI BED-BREAKFAST'}, {'id': 'HSNAPACY', 'name': 'SCHILIZZI HOTEL'}, {'id': 'HSNAPACU', 'name': 'MERGELLINA HOSTEL'}, {'id': 'HSNAPAIK', 'name': 'PRATI'}, {'id': 'HSNAPALB', 'name': 'PLEBISCITO HOTEL RESIDENCE APARTHOTEL'}, {'id': 'HSNAPAIR', 'name': 'EXECUTIVE SEA HOTELS'}, {'id': 'HSNAPAMA', 'name': 'LA LOCANDA DELL ARTE B-B'}, {'id': 'HSNAPAIN', 'name': 'NEAPOLIS'}, {'id': 'HSNAPAJE', 'name': 'BUONO'}, {'id': 'HSNAPAJJ', 'name': 'GARIBALDI'}, {'id': 'HSNAPAKZ', 'name': 'ATTICO PARTENOPEO B-B'}, {'id': 'HSNAPAJO', 'name': 'PIAZZA BELLINI'}, {'id': 'HSNAPAKJ', 'name': 'COSTANTINOPOLI 104'}, {'id': 'HSNAPAIM', 'name': 'IL CONVENTO'}, {'id': 'HSNAPAJU', 'name': 'LE STANZE DEL VICERE'}, {'id': 'HSNAPAAT', 'name': 'VISAGI'}, {'id': 'HSNAPAFI', 'name': 'DIANA POMPEI'}, {'id': 'HSNAPADW', 'name': 'EUROPA'}, {'id': 'HSNAPADG', 'name': 'AGAVE HOTEL RESIDENCE INN'}, {'id': 'HSNAPAGL', 'name': 'MINI'}, {'id': 'HSNAPAHG', 'name': 'IL PINO'}, {'id': 'HSNAPAFE', 'name': 'MARAD'}, {'id': 'HSNAPAMK', 'name': 'MARY'}, {'id': 'HSNAPAHD', 'name': \"LLOYD'S BAIA\"}, {'id': 'IQNAPPAL', 'name': 'HOTEL PALUMBO'}, {'id': 'IQNAPVFR', 'name': 'HOTEL VILLA FRAULO'}, {'id': 'LWNAP132', 'name': 'SANTA CATERINA'}, {'id': 'LWNAP146', 'name': 'GRAND HOTEL VESUVIO'}, {'id': 'LWNAP225', 'name': 'LE SIRENUSE'}, {'id': 'LXNAPGAP', 'name': 'GRAND HOTEL PARKERS'}, {'id': 'OENAP101', 'name': 'BELMOND HOTEL CARUSO'}, {'id': 'OINAPSMH', 'name': 'SAN MARCO HOTEL'}, {'id': 'OINAPF10', 'name': 'HOTEL SAN GIORGIO'}, {'id': 'ONNAPHEU', 'name': 'EUROPA HOTEL-ARZANO'}, {'id': 'ONNAPGRA', 'name': 'GRAND HOTEL LA PANORAMICA'}, {'id': 'ONNAPAND', 'name': 'ANDRIS HOTEL'}, {'id': 'ONNAPCRI', 'name': 'HOTEL CRISTINA'}, {'id': 'ONNAPANP', 'name': 'HOTEL SAN PIETRO'}, {'id': 'ONNAPBAR', 'name': 'HOTEL BARBATO'}, {'id': 'ONNAPLAP', 'name': 'HOTEL LA PACE'}, {'id': 'ONNAPHVE', 'name': 'HOTEL VERGILIUS BILLIA'}, {'id': 'ONNAPRPH', 'name': 'RANCH PALACE HOTEL'}, {'id': 'ONNAPCOS', 'name': 'COSTA HOTEL - POMPEI'}, {'id': 'ONNAPVSR', 'name': 'VILLA SIGNORINI RELAIS-ERCOLANO'}, {'id': 'ONNAPBAJ', 'name': 'BAJAMAR HOTEL & RISTORANTE'}, {'id': 'PHNAPGHC', 'name': 'GRAND HOTEL CONVENTO DI AMALFI'}, {'id': 'PHNAPARI', 'name': 'LALBERGO DELLA REGINA ISABELLA'}, {'id': 'PHNAPPAL', 'name': 'PALAZZO AVINO PREFERRED HOTELS'}, {'id': 'RANAP463', 'name': 'RAMADA NAPLES'}, {'id': 'RTNAPMER', 'name': 'MERCURE ANGIOINO NAPOLI CTR 4*'}, {'id': 'RTNAPGAR', 'name': 'IBIS STYLES NAPOLI GARIBALDI'}, {'id': 'SCNAP106', 'name': 'HOTEL CONCA DORO-POSITANO'}, {'id': 'SXNAPGHO', 'name': 'GRAND HOTEL ORIENTE'}, {'id': 'UNNAPPAL', 'name': 'UNAHOTELS NAPOLI'}, {'id': 'UZNAP198', 'name': 'NOTTURNO ITALIANO HOTEL SPLENDID'}, {'id': 'WBNAPDON', 'name': 'DON ALFONSO 1890'}, {'id': 'WVNAPCEN', 'name': 'HOTEL CENTRALE'}, {'id': 'WVNAP054', 'name': 'HOTEL LA PERGOLA'}, {'id': 'WVNAP896', 'name': 'HOTEL DORIA'}, {'id': 'WVNAP063', 'name': 'HOTEL IL GIRASOLE'}, {'id': 'WVNAP282', 'name': 'HOTEL PLAZA'}, {'id': 'WVNAPMEC', 'name': 'HOTEL MEC'}, {'id': 'WVNAPVIC', 'name': 'HOTEL VICTORIA MAIORINO'}, {'id': 'WVNAP011', 'name': 'HOTEL SAN PIETRO'}, {'id': 'WVNAPFRA', 'name': 'HOTEL SAN FRANCESCO'}, {'id': 'WVNAPMIR', 'name': 'HOTEL MIRAVALLE'}, {'id': 'WVNAPFLO', 'name': 'HOTEL FLORIDIANA'}, {'id': 'WVNAPREX', 'name': 'HOTEL REX'}, {'id': 'WVNAPSUI', 'name': 'HOTEL SUITE ESEDRA'}, {'id': 'WVNAPEB2', 'name': 'HOTEL CORRERA 241'}, {'id': 'WVNAPLPC', 'name': 'HOTEL OLIMPICO'}, {'id': 'WVNAPREG', 'name': 'HOTEL PUNTA REGINA'}, {'id': 'WVNAPCCO', 'name': 'HOTEL BUCA DI BACCO'}, {'id': 'WVNAPFIO', 'name': 'HOTEL LE FIORIERE'}, {'id': 'WVNAPHOV', 'name': 'HOTEL COSMOS'}, {'id': 'WVNAP068', 'name': 'HOTEL MAJESTIC PALACE SANT AGNELLO'}, {'id': 'WVNAP329', 'name': 'B AND B IL MIRTO BIANCO'}, {'id': 'WVNAPHAV', 'name': 'ASTORIA HOTEL'}, {'id': 'WVNAP280', 'name': 'HOTEL LE ANCORE'}, {'id': 'WVNAPLUC', 'name': 'HOTEL LA LUCERTOLA'}, {'id': 'XLNAPLUC', 'name': 'GRAND HOTEL SANTA LUCIA SUMMIT'}, {'id': 'XLNAPCOV', 'name': 'COVO DEI SARACENI SUMMIT HOTEL'}, {'id': 'YHNAPCON', 'name': 'ROYAL CONTINENTAL'}, {'id': 'YXNAPHVF', 'name': 'HOTEL VILLA FRANCA POSITANO'}, {'id': 'YXNAP550', 'name': 'SOLOFRA PALACE HOTEL   RESORTS'}, {'id': 'YXNAPSGT', 'name': 'SAN GIORGIO TERME'}, {'id': 'YXNAPGRA', 'name': 'GRAND HOTEL EUROPA'}, {'id': 'YXNAPCKY', 'name': 'HOTEL SAN FRANCESCO AL MONTE'}, {'id': 'YXNAP991', 'name': 'HOTEL LEOPARDI'}, {'id': 'YXNAPMAG', 'name': 'HOTEL MAGRIS'}, {'id': 'YXNAPH01', 'name': 'MIRAMARE HOTEL'}, {'id': 'YXNAP563', 'name': 'H2C NAPOLI 4STAR'}, {'id': 'YXNAPTIE', 'name': 'HOTEL TIEMPO'}, {'id': 'YXNAPBNL', 'name': 'CHIAJA HOTEL CHARME'}, {'id': 'YXNAPPAL', 'name': 'PALAZZO TURCHINI'}, {'id': 'YXNAP229', 'name': 'HOTEL VILLA CAPODIMONTE'}, {'id': 'YXNAPHSB', 'name': 'HOTEL SANTA BRIGIDA'}, {'id': 'YXNAP363', 'name': 'HOTEL JOYFULL'}, {'id': 'YXNAPAKI', 'name': 'HOTEL AUGUSTUS'}, {'id': 'YXNAPUFO', 'name': 'HOTEL RUFOLO'}, {'id': 'YXNAPEPG', 'name': 'EUROPA PALACE GH'}, {'id': 'YXNAPCLG', 'name': 'CAPO LA GALA HOTEL'}, {'id': 'YXNAPBUK', 'name': 'GH HERMITAGE'}, {'id': 'YXNAP100', 'name': 'EDEN ROC SUITES POSITANO'}]\n"
          ]
        },
        {
          "output_type": "stream",
          "name": "stderr",
          "text": [
            "ERROR:__main__:Failed to fetch hotel offers: 400, Response: {\"errors\":[{\"code\":3664,\"title\":\"NO ROOMS AVAILABLE AT REQUESTED PROPERTY\",\"status\":400,\"detail\":\"Provider Error - NO ROOMS AVAILABLE AT REQUESTED PROPERTY\",\"source\":{\"parameter\":\"hotelIds=YXNAP100,YXNAPCLG\"}},{\"code\":1257,\"title\":\"INVALID PROPERTY CODE\",\"status\":400,\"detail\":\"Provider Error - INVALID PROPERTY CODE\",\"source\":{\"parameter\":\"hotelIds=YXNAP363,YXNAPAKI,YXNAPBUK,YXNAPEPG,YXNAPHSB,YXNAPUFO\"}}]}\n"
          ]
        },
        {
          "output_type": "stream",
          "name": "stdout",
          "text": [
            "Dolomita Itália  Liste 3 de destinos turísticos, incluindo: - Informe cidades com serviço regular de voos que sejam proximas às atracoes destacadas: Nome da Cidade e seu codigo IATA em parentesis: (exemplo: 'San Juan (SJU)'). - Principais atrações e atividades. use no maximo 1000 palavras de forma que resuma bem o pedido do usuario.\n",
            "\n",
            "Itália possui uma variedade impressionante de destinos turísticos, destacando-se o Parque Nacional Dolomitas. As cidades mais próximas com serviço regular de voos são:\n",
            "\n",
            "1. Bolzano (BZO): Situa-se no coração das Dolomitas e oferece uma ampla gama de atividades. Atracções notáveis incluem a Catedral de Bolzano, o Museu Arqueológico Otzi e o Parque de Bolzano.\n",
            "2. Trento (TRE): Localizada no vale do rio Adige, Trento é uma cidade histórica e culturalmente rica. Destacam-se a Catedral de Trento, o Castelo de Buonconsiglio e o Museu diocesano.\n",
            "3. Verona (VRN): A cidade da Romeu e Julieta oferece uma combinação de história, arte e romantismo. Atracções notáveis incluem o Anfiteatro Romano, a Ponte de Pênsil e a Casa de Romeu e Julieta.\n",
            "\n",
            "As principais atrações e atividades no Parque Nacional Dolomitas são:\n",
            "\n",
            "1. Hiking: As montanhas poderosas e belas das Dolomitas oferecem um desafio para os mais aventurosos e um paraíso para os amantes da natureza.\n",
            "2. Mountain Biking: As estradas e pistas de bicicletas nas Dolomitas permitem aos ciclistas uma experiência incrível e desafiadora.\n",
            "3. Climbing: As vertiginosas e espetaculares paredes das Dolomitas são um paraíso para escaladores.\n",
            "4. Skiing: Durante o inverno, as estradas de esqui nas Dolomitas se tornam o destino perfeito para os amantes da neve.\n",
            "5. Via Ferratas: As via ferratas nas Dolomitas são um desafio físico e mental para os que buscam uma experiência inesquecível.\n",
            "6. Paragliding: A paisagem espetacular das Dolomitas oferece uma oportunidade incrível para os paragliders.\n",
            "7. Photography: A beleza das Dolomitas oferece uma oportunidade perfeita para os amantes da fotografia.\n",
            "8. Wildlife Spotting: As Dolomitas são um habitat para uma variedade de espécies animais, incluindo o Urso de Brown e o Alce das Dolomitas.\n",
            "9. Cultural Sites: As cidades próximas ao Parque Nacional Dolomitas oferecem uma ampla gama de atracções culturais, como catedrais, castelos e museus.\n",
            "10. Food and Wine: A comida e o vinho italianos oferecem uma experiência gastronômica inesquecível para os visitantes.\n",
            "origem IATA: VRN\n"
          ]
        },
        {
          "output_type": "stream",
          "name": "stderr",
          "text": [
            "INFO:werkzeug:127.0.0.1 - - [15/Mar/2025 19:29:58] \"POST / HTTP/1.1\" 200 -\n"
          ]
        },
        {
          "output_type": "stream",
          "name": "stdout",
          "text": [
            "[{'id': 'DSBZOGRF', 'name': 'HOTEL GREIF'}, {'id': 'DSBZOVMR', 'name': 'VIGILIUS MOUNTAIN RESORT'}, {'id': 'FGBZO001', 'name': 'DOMINA HOME MIRAMONTI'}, {'id': 'HSBZOAAQ', 'name': 'MOSERALM BERGHOTEL'}, {'id': 'HSBZOAMX', 'name': 'ASTRA'}, {'id': 'HSBZOAAW', 'name': 'MARGHERITA'}, {'id': 'HSBZOADH', 'name': 'MIRAVALLE'}, {'id': 'HSBZOACP', 'name': 'ADRIANA'}, {'id': 'HSBZOAKC', 'name': 'GARDEN'}, {'id': 'HSBZOAIT', 'name': 'STAMSERHOF'}, {'id': 'HSBZOAOS', 'name': 'ANTHOLZERHOF'}, {'id': 'HSBZOAHH', 'name': 'ELEFANT'}, {'id': 'HSBZOAIB', 'name': 'REZIA'}, {'id': 'HSBZOACS', 'name': 'ANTELAO'}, {'id': 'HSBZOAJO', 'name': 'POST GRIES RESTAURANT'}, {'id': 'HSBZOAKF', 'name': 'ARTS HOTEL'}, {'id': 'HSBZOABV', 'name': 'PREMSTALLER'}, {'id': 'HSBZOAKO', 'name': 'REGINA A.'}, {'id': 'HSBZOAHG', 'name': 'THE VISTA HOTEL'}, {'id': 'HSBZOADN', 'name': 'MILLANDERHOF'}, {'id': 'HSBZOAMB', 'name': 'HOTEL TRAUBE AN D.BISCHOFGAERTEN'}, {'id': 'HSBZOADQ', 'name': 'DOMINIK AM PARK'}, {'id': 'HSBZOAFL', 'name': 'GOLDENE KRONE VITAL STADTHOTEL'}, {'id': 'HSBZOADX', 'name': 'LANGGENHOF'}, {'id': 'HSBZOAER', 'name': 'ANDREAS HOFER'}, {'id': 'HSBZOAFS', 'name': 'POST'}, {'id': 'HSBZOAKE', 'name': 'MAJESTIC ALPINE WELLNESS RESORT'}, {'id': 'HSBZOACV', 'name': 'AZALEA PARK HOTEL'}, {'id': 'HSBZOAJP', 'name': 'MIRAVALLE'}, {'id': 'HSBZOAGV', 'name': 'ARGENTINA'}, {'id': 'HSBZOADW', 'name': 'MENARDI'}, {'id': 'HSBZOAQE', 'name': 'KOLFUSCHGERHOF'}, {'id': 'HSBZOAHR', 'name': 'LAMBRECHTSHOF'}, {'id': 'HSBZOAKI', 'name': 'OBERWIRT'}, {'id': 'HSBZOAJI', 'name': 'PARC HOTEL MIRAMONTI'}, {'id': 'HSBZOAPZ', 'name': 'LADY MARIA HOTEL'}, {'id': 'HSBZOAPJ', 'name': 'PENSION GARNI SONIA'}, {'id': 'HSBZOADD', 'name': 'BURGFRIEDEN'}, {'id': 'HSBZOAIW', 'name': 'ALPENFRIEDE'}, {'id': 'HSBZOALT', 'name': 'ORSO GRIGIO GRAUER BAER'}, {'id': 'HSBZOABJ', 'name': 'HILPOLD PENSION'}, {'id': 'HSBZOAOE', 'name': 'BRAUNSBERGERHOF'}, {'id': 'HSBZOAGC', 'name': 'IDEAL PARK'}, {'id': 'HSBZOACY', 'name': 'ALEXANDER'}, {'id': 'HSBZOAAN', 'name': 'PARE'}, {'id': 'HSBZOAAR', 'name': 'CONCORDIA'}, {'id': 'HSBZOANP', 'name': 'TOURING'}, {'id': 'HSBZOABC', 'name': 'TIROLER ADLER'}, {'id': 'HSBZOAIR', 'name': 'GASTHOF EDELWEISS'}, {'id': 'HSBZOACJ', 'name': 'SITTNERHOF'}, {'id': 'HSBZOAMM', 'name': 'MONTANI'}, {'id': 'HSBZOAEH', 'name': 'GRIMMHOF'}, {'id': 'HSBZOAEK', 'name': 'REINHILD'}, {'id': 'HSBZOALR', 'name': 'PACHER NEUSTIFT'}, {'id': 'HSBZOAHA', 'name': 'EMMA'}, {'id': 'HSBZOADR', 'name': 'ALPENHOF'}, {'id': 'HSBZOAGU', 'name': 'OBEREGGEN HOTEL - REITERHOF'}, {'id': 'HSBZOAOI', 'name': \"AGSTNER'S HOTEL RAINEGG\"}, {'id': 'HSBZOAAM', 'name': 'WINKLWIESE APPARTHOTEL'}, {'id': 'HSBZOABZ', 'name': 'ALP CRON MOARHOF'}, {'id': 'HSBZOABE', 'name': 'ALPINHOTEL KEIL'}, {'id': 'HSBZOAMW', 'name': 'OLAGA'}, {'id': 'HSBZOAQF', 'name': 'DIGON'}, {'id': 'HSBZOANC', 'name': 'SPORTHOTEL HELL'}, {'id': 'HSBZOAID', 'name': 'CASTELIR SUITE HOTEL'}, {'id': 'HSBZOAGO', 'name': 'ROTWAND HOTEL RESTAURANT'}, {'id': 'HSBZOABP', 'name': 'GRAN BAITA VILLA MITZI HOTEL - RESORT'}, {'id': 'HSBZOAHT', 'name': 'PENSION PRACK'}, {'id': 'HSBZOADB', 'name': 'WIESERHOF NATURHOTEL'}, {'id': 'HSBZOAFO', 'name': 'WEIHRERHOF'}, {'id': 'HSBZOAHM', 'name': 'GENIESSERHOTEL TIROLERHOF'}, {'id': 'HSBZOAIG', 'name': 'ALBERGO CAVALLINO BIANCO'}, {'id': 'HSBZOAGZ', 'name': 'MAIR ZU HOF NATURRESIDENZ'}, {'id': 'HSBZOAQC', 'name': 'SMART HOTEL SASLONG'}, {'id': 'HSBZOAGF', 'name': 'MONACO SPORT'}, {'id': 'HSBZOAAD', 'name': 'ALLE PIRAMIDI'}, {'id': 'HSBZOAFE', 'name': 'NIGRITELLA'}, {'id': 'HSBZOADA', 'name': 'GRAN BAITA SPORTHOTEL'}, {'id': 'HSBZOARG', 'name': 'TORGGLERHOF'}, {'id': 'HSBZOAFJ', 'name': 'CIASA SALARES'}, {'id': 'HSBZOAIX', 'name': 'LA STUA'}, {'id': 'HSBZOARD', 'name': 'STOCKER'}, {'id': 'HSBZOAPS', 'name': 'GARNI ERNA BED - BREAKFAST'}, {'id': 'HSBZOAHX', 'name': 'EMMA'}, {'id': 'HSBZOARK', 'name': 'PICHLERHOF PENSION'}, {'id': 'HSBZOAOZ', 'name': 'SONJA'}, {'id': 'HSBZOARH', 'name': 'MARLET'}, {'id': 'HSBZOAKJ', 'name': 'RESIDENCE TERENTIS'}, {'id': 'HSBZOAFY', 'name': 'VAJOLET'}, {'id': 'HSBZOAHQ', 'name': 'REICHEGGER'}, {'id': 'HSBZOAGL', 'name': 'LODENWIRT AKTIV - VITALHOTEL'}, {'id': 'HSBZOAJV', 'name': 'SEEHOF'}, {'id': 'HSBZOADT', 'name': 'ENGEL - SPA - RESORT'}, {'id': 'HSBZOABO', 'name': 'ADLER'}, {'id': 'HSBZOAPE', 'name': 'ZANON'}, {'id': 'IQBZOCIT', 'name': \"STADT HOTEL CITTA'\"}, {'id': 'IQBZOMOT', 'name': 'HOTEL MOTA'}, {'id': 'LXBZOPMI', 'name': 'PARK HOTEL MIGNON'}, {'id': 'ONBZOPWE', 'name': 'PARKHOTEL WERTH'}, {'id': 'ONBZOOSW', 'name': 'HOTEL OSWALD'}, {'id': 'SIBZO462', 'name': 'FOUR POINTS BOLZANO'}, {'id': 'UZBZO556', 'name': 'HAUS GITSCHBERG'}, {'id': 'UZBZO506', 'name': 'HOTEL GARNI LUDWIG'}, {'id': 'WBBZOT40', 'name': 'HOTEL CASTEL FRAGSBURG'}, {'id': 'WBBZOT36', 'name': 'HOTEL GARDENA GRODNERHOF'}, {'id': 'WBBZORAH', 'name': 'HOTEL AND SPA ROSA ALPINA'}, {'id': 'WBBZOAUE', 'name': 'AUENER HOF'}, {'id': 'WWBZOPAR', 'name': 'PARKHOTEL LAURIN'}, {'id': 'YHBZOCZ6', 'name': 'FALKENSTEINERHOTEL ANTHOLZ'}, {'id': 'YHBZO863', 'name': 'HOTEL SCHOENBLICK'}, {'id': 'YHBZOEHR', 'name': 'FALKENSTEINER EHRENBURGERHOF'}, {'id': 'YHBZOKAS', 'name': 'FALKENSTEINER LAMM KASTELRUTH'}, {'id': 'YHBZOSON', 'name': 'FALKENSTEINER SONNENPARADIES'}, {'id': 'YHBZOFAL', 'name': 'FALKENSTEINERHOF'}, {'id': 'YXBZO156', 'name': 'ALPI HOTEL'}, {'id': 'YXBZOPLU', 'name': 'POSTHOTEL'}, {'id': 'YXBZOHRF', 'name': 'HOTEL RESIDENCE FLORA'}]\n",
            "[{'id': 'BWFCO270', 'name': 'BEST WESTERN HTL RIVIERA'}, {'id': 'BWFCO336', 'name': 'BEST WESTERN HTL ROME AIRPORT'}, {'id': 'CHFCOHCE', 'name': 'HOTEL CENTER 1-2-3'}, {'id': 'CIFCO058', 'name': 'COMFORT HOTEL ROMA AIRPORT FIUMICINO'}, {'id': 'DSFCOARG', 'name': 'ARGENTARIO RESORT GOLF AND SPA'}, {'id': 'DSFCOSAD', 'name': 'SEXTANTIO SANTO STEFANO'}, {'id': 'GZFCO086', 'name': 'HOTEL VILLA ROSA'}, {'id': 'GZFCO850', 'name': 'VENETIA PALACE HOTEL'}, {'id': 'GZFCOTDA', 'name': 'TENUTA DELL ARGENTO'}, {'id': 'HAFCORIM', 'name': 'RIMINI HOTEL'}, {'id': 'HOFCOSFH', 'name': 'IL SAN FRANCESCO HOTEL'}, {'id': 'HSFCOAAS', 'name': 'VILLA MARGHERITA'}, {'id': 'MCFCOAUM', 'name': 'ROME MARRIOTT PARK HOTEL'}, {'id': 'QIFCO067', 'name': 'QUALITY HOTEL GREEN PALACE'}, {'id': 'UZFCO391', 'name': 'PALACE HOTEL RELAIS FALISIO'}, {'id': 'UZFCO050', 'name': 'ENEA HOTEL APRILIA-APRILIA'}, {'id': 'WBFCO830', 'name': 'HOTEL RAPHAEL'}, {'id': 'WVFCO548', 'name': 'EURO HOUSE AIRPORT INN'}, {'id': 'WVFCOALL', 'name': 'ALLE TAMERICI HOTEL'}, {'id': 'WWFCO041', 'name': 'THE CHURCH PALACE'}, {'id': 'WWFCO040', 'name': 'THE CHURCH VILLAGE'}, {'id': 'YXFCO505', 'name': 'ROSES HOTEL DE LA VILLE'}, {'id': 'YXFCOLCH', 'name': 'HOTEL LA CONCHIGLIA'}, {'id': 'YXFCOHLC', 'name': 'LOCANDA CAIROLI HOTEL'}, {'id': 'YXFCOHDR', 'name': 'HOTEL DE ROME'}, {'id': 'YXFCOSOL', 'name': 'HOTEL SOLE AL PANTHEON'}, {'id': 'YXFCOARH', 'name': 'AURELIANO HOTEL'}, {'id': 'YXFCOFLH', 'name': 'FLORIDA HOTEL'}, {'id': 'YXFCOHWI', 'name': 'WINDROSE HOTEL'}, {'id': 'YXFCOAPR', 'name': 'PALAZZO ROSPIGLIOSI'}, {'id': 'YXFCOPDS', 'name': 'PIAZZA DI SPAGNA'}, {'id': 'YXFCOHOA', 'name': 'HOTEL AUGUSTUS'}, {'id': 'YXFCOASC', 'name': 'SANTA CHIARA HOTEL'}, {'id': 'YXFCO099', 'name': 'HOTEL CORSI ROMA FIUMICINO'}]\n"
          ]
        },
        {
          "output_type": "stream",
          "name": "stderr",
          "text": [
            "ERROR:__main__:Failed to fetch hotel offers: 400, Response: {\"errors\":[{\"code\":1351,\"title\":\"VERIFY CHAIN/REP CODE\",\"status\":400,\"detail\":\"Provider Error - VERIFY CHAIN/REP CODE\",\"source\":{\"parameter\":\"hotelIds=FGBZO001\"}},{\"code\":1257,\"title\":\"INVALID PROPERTY CODE\",\"status\":400,\"detail\":\"Provider Error - INVALID PROPERTY CODE\",\"source\":{\"parameter\":\"hotelIds=HSBZOAAN,HSBZOAAQ,HSBZOAAR,HSBZOAAW,HSBZOABC,HSBZOABJ,HSBZOABV,HSBZOACP,HSBZOACS,HSBZOACV,HSBZOACY,HSBZOADH,HSBZOADQ,HSBZOADW,HSBZOADX,HSBZOAER,HSBZOAGC,HSBZOAGV,HSBZOAHG,HSBZOAHR,HSBZOAIB,HSBZOAIR,HSBZOAIT,HSBZOAIW,HSBZOAJI,HSBZOAKC,HSBZOAKE,HSBZOAKF,HSBZOAKI,HSBZOAKO,HSBZOALT,HSBZOAMB,HSBZOAMX,HSBZOANP,HSBZOAOE,HSBZOAOS,HSBZOAPJ,HSBZOAPZ,HSBZOAQE\"}},{\"code\":3664,\"title\":\"NO ROOMS AVAILABLE AT REQUESTED PROPERTY\",\"status\":400,\"detail\":\"Provider Error - NO ROOMS AVAILABLE AT REQUESTED PROPERTY\",\"source\":{\"parameter\":\"hotelIds=DSBZOGRF,DSBZOVMR,HSBZOACJ,HSBZOADD,HSBZOADN,HSBZOAFL,HSBZOAFS,HSBZOAHH,HSBZOAJO,HSBZOAJP\"}}]}\n",
            "ERROR:__main__:Failed to fetch hotel offers: 400, Response: {\"errors\":[{\"code\":1257,\"title\":\"INVALID PROPERTY CODE\",\"status\":400,\"detail\":\"Provider Error - INVALID PROPERTY CODE\",\"source\":{\"parameter\":\"hotelIds=HSBZOAAM,HSBZOABE,HSBZOABP,HSBZOABZ,HSBZOADA,HSBZOADB,HSBZOADR,HSBZOADT,HSBZOAEK,HSBZOAFE,HSBZOAFJ,HSBZOAFO,HSBZOAGF,HSBZOAGL,HSBZOAGU,HSBZOAGZ,HSBZOAHA,HSBZOAHM,HSBZOAHQ,HSBZOAHT,HSBZOAID,HSBZOAIG,HSBZOAIX,HSBZOAJV,HSBZOAKJ,HSBZOALR,HSBZOAMM,HSBZOAMW,HSBZOANC,HSBZOAOI,HSBZOAOZ,HSBZOAPE,HSBZOAPS,HSBZOAQC,HSBZOAQF,HSBZOARD,HSBZOARG,HSBZOARH,HSBZOARK,LXBZOPMI\"}},{\"code\":3494,\"title\":\"ROOM OR RATE NOT AVAILABLE OR RESTRICTED\",\"status\":400,\"detail\":\"Provider Error - ROOM OR RATE NOT AVAILABLE OR RESTRICTED\",\"source\":{\"parameter\":\"hotelIds=ONBZOOSW,ONBZOPWE\"}},{\"code\":3664,\"title\":\"NO ROOMS AVAILABLE AT REQUESTED PROPERTY\",\"status\":400,\"detail\":\"Provider Error - NO ROOMS AVAILABLE AT REQUESTED PROPERTY\",\"source\":{\"parameter\":\"hotelIds=HSBZOAAD,HSBZOABO,HSBZOAEH,HSBZOAFY,HSBZOAGO,HSBZOAHX\"}},{\"code\":11,\"title\":\"UNABLE TO PROCESS\",\"status\":400,\"detail\":\"Provider Error - UNABLE TO PROCESS\",\"source\":{\"parameter\":\"hotelIds=IQBZOCIT,IQBZOMOT\"}}]}\n",
            "ERROR:__main__:Failed to fetch hotel offers: 400, Response: {\"errors\":[{\"code\":3664,\"title\":\"NO ROOMS AVAILABLE AT REQUESTED PROPERTY\",\"status\":400,\"detail\":\"Provider Error - NO ROOMS AVAILABLE AT REQUESTED PROPERTY\",\"source\":{\"parameter\":\"hotelIds=SIBZO462\"}},{\"code\":1257,\"title\":\"INVALID PROPERTY CODE\",\"status\":400,\"detail\":\"Provider Error - INVALID PROPERTY CODE\",\"source\":{\"parameter\":\"hotelIds=WBBZOAUE,WBBZORAH,WBBZOT36,WBBZOT40,WWBZOPAR,YXBZO156,YXBZOHRF,YXBZOPLU\"}}]}\n",
            "WARNING:__main__:No flight data found for VRN -> FCO\n",
            "WARNING:__main__:No flight data found for VRN -> BZO\n",
            "ERROR:__main__:Failed to fetch hotels: 400, Response: {\"errors\":[{\"code\":895,\"detail\":\"Nothing found for the requested criteria\",\"status\":400,\"title\":\"NOTHING FOUND FOR REQUESTED CITY\"}]}\n"
          ]
        },
        {
          "output_type": "stream",
          "name": "stdout",
          "text": [
            "Dolomita Itália  Liste 3 de destinos turísticos, incluindo: - Informe cidades com serviço regular de voos que sejam proximas às atracoes destacadas: Nome da Cidade e seu codigo IATA em parentesis: (exemplo: 'San Juan (SJU)'). - Principais atrações e atividades. use no maximo 1000 palavras de forma que resuma bem o pedido do usuario. - Recomendações de hotéis, restaurantes e eventos culturais. use no maximo 500 palavras de forma que resuma bem o pedido do usuario.\n",
            "\n",
            "Itália é um dos destinos turísticos mais desejados do mundo, com várias cidades famosas por suas belas arquiteturas, comida, história e cultura. Três destinos turísticos notáveis na Itália são a cidade de Verona, a região de Bolzano e a cidade de Milão.\n",
            "\n",
            "* Verona (VRN) é uma cidade histórica situada no norte da Itália, conhecida por ser o local da história de Romeu e Julieta. A cidade oferece várias atrações, incluindo o famoso Castelo de Verona, a Praça das Eras, a Basílica de São Anastácio e o Teatro Romano. Além disso, a cidade é conhecida por suas belas igrejas, museus e lojas. Recomendações de hotéis incluem o Hotel Villa Rustica, o Hotel J.W. Marriott e o Hotel Adriatico. Alguns restaurantes recomendados são Osteria all'Orso, La Cantina del Vino e Trattoria al Pompi. Eventos culturais incluem o Festival de Verona, que apresenta espetáculos de ópera durante o verão.\n",
            "* Bolzano (BZO) é uma cidade localizada no norte da Itália, no Tirol do Sul. A cidade é conhecida por ser o local do Museu de Múmia de Ötzi, um homem de gelo preservado por milênios. Além disso, a cidade oferece várias atrações, incluindo o Castelo de Bolzano, a Praça do Mercado, a Catedral de Bolzano e o Museu Diocesano. Recomendações de hotéis incluem o Hotel Laurin, o Hotel Astoria e o Hotel Alpina Dolomites. Alguns restaurantes recomendados são Osteria Al Duca d'Este, La Stüa de Michil e Alpenrose. Eventos culturais incluem o Festival de Bolzano, que apresenta espetáculos de música e artes cênicas durante o verão.\n",
            "* Milão (MXP) é a segunda maior cidade da Itália e é conhecida por ser o centro da indústria de moda italiana. A cidade oferece várias atrações, incluindo a Catedral de Milão, a Galleria Vittorio Emanuele II, a Sala da Paz e a Basílica de São Ambrogio. Além disso, a cidade é conhecida por suas belas igrejas, museus e lojas. Recomendações de hotéis incluem o Four Seasons Hotel Milano, o Bulgari Hotel Milano e o Mandarin Oriental, Milano. Alguns restaurantes recomendados são Osteria del Cuculo, La Rinascente e Osteria del Telefono. Eventos culturais incluem a Expo 2015, que foi realizada em Milão em 2015.\n",
            "origem IATA: VRN\n"
          ]
        },
        {
          "output_type": "stream",
          "name": "stderr",
          "text": [
            "INFO:werkzeug:127.0.0.1 - - [15/Mar/2025 19:30:02] \"POST / HTTP/1.1\" 200 -\n"
          ]
        },
        {
          "output_type": "stream",
          "name": "stdout",
          "text": [
            "[{'id': 'BWVRN284', 'name': 'BEST WESTERN HOTEL CRISTALLO'}, {'id': 'BWVRN250', 'name': 'BEST WESTERN ANTICO TERMINE'}, {'id': 'BWVRN264', 'name': 'BEST WESTERN SOAVE HOTEL'}, {'id': 'BWVRN326', 'name': 'BEST WESTERN CTC HOTEL VERONA'}, {'id': 'BWVRN068', 'name': 'BEST WESTERN HOTEL FIRENZE'}, {'id': 'BWVRN088', 'name': 'BEST WESTERN PLUS HOTEL DE CAPULETI'}, {'id': 'CHVRNHMO', 'name': 'MONTRESOR HOTEL TOWER'}, {'id': 'CHVRNHMA', 'name': 'HOTEL MAXIM'}, {'id': 'CHVRNH02', 'name': 'HOTEL LEOPARDI - VERONA'}, {'id': 'CHVRNMHP', 'name': 'MONTRESOR HOTEL PALACE'}, {'id': 'DHVRNADL', 'name': 'VILLA MALASPINA'}, {'id': 'FGVRN468', 'name': 'CLASSHOTEL MANTOVA'}, {'id': 'FGVRN001', 'name': 'ONEMHOTEL-SAN PAOLO'}, {'id': 'FGVRNCAN', 'name': 'HOTEL IL CANOVA-SANDRIGO'}, {'id': 'FGVRNAPL', 'name': 'HOTEL ANTICA PORTA LEONA'}, {'id': 'FGVRNBRA', 'name': 'HOTEL BRANDOLI'}, {'id': 'FGVRNNOV', 'name': 'HOTEL NOVO ROSSI'}, {'id': 'FGVRNA09', 'name': 'ALLIANCE HOTEL VERONA'}, {'id': 'FGVRNLDR', 'name': 'ROSEO HOTEL LEON DDORO'}, {'id': 'HSVRNAAX', 'name': 'VILLA DEL SOGNO'}, {'id': 'HSVRNABV', 'name': 'SAN GIORGIO'}, {'id': 'HSVRNANY', 'name': 'DUE COLONNE'}, {'id': 'HSVRNALA', 'name': 'LOCANDA MOSCAL'}, {'id': 'HSVRNALG', 'name': 'CA DEL PONTE'}, {'id': 'HSVRNAJL', 'name': 'VILLA DELLE ROSE'}, {'id': 'HSVRNAQL', 'name': 'ALBERGO DA PIPPO'}, {'id': 'HSVRNAOL', 'name': 'CA MASAWALSA'}, {'id': 'HSVRNANE', 'name': 'TAORMINA'}, {'id': 'HSVRNAEM', 'name': 'GRITTI PARC HOTEL'}, {'id': 'HSVRNAJJ', 'name': 'CAESIUS THERMAE'}, {'id': 'HSVRNAAB', 'name': 'SPORTSMAN'}, {'id': 'HSVRNAIT', 'name': 'ROSMARI'}, {'id': 'HSVRNAEK', 'name': 'PARC HOTEL'}, {'id': 'HSVRNAOC', 'name': 'KAIROS GARDA HOTEL'}, {'id': 'HSVRNAJO', 'name': 'VILLA CORDEVIGO WINE RELAIS'}, {'id': 'HSVRNAMK', 'name': 'AL SOLE'}, {'id': 'HSVRNAKV', 'name': 'PANORAMA'}, {'id': 'HSVRNAQJ', 'name': 'MADRIGALE'}, {'id': 'HSVRNABL', 'name': 'AQUILA D ORO'}, {'id': 'HSVRNAKE', 'name': 'CITY'}, {'id': 'HSVRNALM', 'name': 'PRIMAVERA'}, {'id': 'HSVRNAKI', 'name': 'DESENZANO'}, {'id': 'HSVRNAMG', 'name': 'LA PASSEGGIATA'}, {'id': 'HSVRNAKF', 'name': 'PICCOLA VELA'}, {'id': 'HSVRNAKZ', 'name': 'ESTEE'}, {'id': 'HSVRNAHM', 'name': 'CORTINA'}, {'id': 'HSVRNABS', 'name': 'BISESTI'}, {'id': 'HSVRNAEA', 'name': 'BENACO'}, {'id': 'HSVRNACV', 'name': 'SPORT HOTEL OLIMPO'}, {'id': 'HSVRNANC', 'name': 'REMAT'}, {'id': 'HSVRNAGL', 'name': 'BOFFENIGO SMALL - BEAUTIFUL'}, {'id': 'HSVRNACS', 'name': 'ITALIA'}, {'id': 'HSVRNACU', 'name': 'PARK HOTEL OASI'}, {'id': 'HSVRNAGF', 'name': 'EXCELSIOR LE TERRAZZE'}, {'id': 'HSVRNAHT', 'name': 'VILLA CA NOVA'}, {'id': 'HSVRNAFJ', 'name': 'LA PERLA'}, {'id': 'HSVRNAJV', 'name': 'CORTE PONTIGLIARDO'}, {'id': 'HSVRNAJY', 'name': 'PALAZZO DELLA SCALA RESIDENCE HOTEL'}, {'id': 'HSVRNAMT', 'name': 'ALEXANDER'}, {'id': 'HSVRNALQ', 'name': 'ILMA'}, {'id': 'HSVRNALT', 'name': 'GARDEN'}, {'id': 'HSVRNAGI', 'name': 'VILLA ROMANTICA'}, {'id': 'HSVRNABU', 'name': 'PARC HOTEL EDEN'}, {'id': 'HSVRNAID', 'name': 'OASI BEACH'}, {'id': 'HSVRNAHD', 'name': 'MALCESINE'}, {'id': 'HSVRNAOI', 'name': 'CATULLO'}, {'id': 'HSVRNAIA', 'name': 'ALBERGO VILLA EDERA'}, {'id': 'HSVRNAIR', 'name': 'CASA MARINELLA'}, {'id': 'HSVRNAHG', 'name': 'PARK HOTEL QUERCETO'}, {'id': 'HSVRNAOJ', 'name': 'ITALIA'}, {'id': 'HSVRNAIB', 'name': '6 PORTE GUESTHOUSE'}, {'id': 'HSVRNAMA', 'name': 'LA ROCCA'}, {'id': 'HSVRNAIQ', 'name': 'FORNACI'}, {'id': 'HSVRNAIX', 'name': 'THE ZIBA HOTEL - SPA'}, {'id': 'HSVRNAEG', 'name': 'BELLA ITALIA HBI'}, {'id': 'HSVRNADD', 'name': 'GREEN PARK HOTEL'}, {'id': 'HSVRNAEN', 'name': 'GOLF RESIDENZA'}, {'id': 'HSVRNAIG', 'name': 'DUCALE'}, {'id': 'HSVRNAIH', 'name': 'IL GRANAIO'}, {'id': 'HSVRNAOV', 'name': 'LA MURAGLIA'}, {'id': 'HSVRNADB', 'name': 'CAMPAGNOLA'}, {'id': 'HSVRNAFO', 'name': 'VILLA ENRICA'}, {'id': 'HSVRNADA', 'name': 'AMBASSADOR SUITE HOTEL'}, {'id': 'HSVRNAEW', 'name': 'GABRY'}, {'id': 'HSVRNAJE', 'name': 'GARNI CANARINO'}, {'id': 'HSVRNAOF', 'name': 'RUDY'}, {'id': 'HSVRNAFS', 'name': 'GARDA SPORTING CLUB HOTEL'}, {'id': 'HSVRNABI', 'name': 'LA PERLA'}, {'id': 'HSVRNAFF', 'name': 'LUISE FEELING HOTEL'}, {'id': 'HSVRNAAD', 'name': 'MIRAGE'}, {'id': 'HSVRNAFL', 'name': 'GARDA TONELLIHOTELS'}, {'id': 'HSVRNACZ', 'name': 'ASTORIA PARK HOTEL'}, {'id': 'HSVRNAJS', 'name': 'CRISTINA'}, {'id': 'HSVRNADM', 'name': \"LEON D'ORO\"}, {'id': 'HSVRNAEB', 'name': 'STADIO HOTEL RISTORANTE'}, {'id': 'HSVRNAMN', 'name': 'ALLA CAMPAGNA FLOWERS HOTEL'}, {'id': 'HSVRNALR', 'name': 'CITY'}, {'id': 'HSVRNALX', 'name': 'LAGUNA'}, {'id': 'HSVRNAKU', 'name': 'PARK HOTEL JOLANDA'}, {'id': 'HSVRNAMD', 'name': 'BELVEDERE'}, {'id': 'HSVRNAMM', 'name': 'MONTE TONDO BED - BREAKFAST'}, {'id': 'HSVRNAHX', 'name': 'RELAIS RESIDENCE SAN ROCCO'}, {'id': 'HSVRNAEH', 'name': 'INTERNAZIONALE'}, {'id': 'HSVRNAHN', 'name': 'VILLA GIRASOLE BED - BREAKFAST'}, {'id': 'HSVRNAAN', 'name': 'GARDESANA'}, {'id': 'HSVRNANO', 'name': 'PAI'}, {'id': 'HSVRNAMX', 'name': 'CORTE DEL PAGGIO'}, {'id': 'HSVRNADR', 'name': 'VERONA'}, {'id': 'HSVRNABZ', 'name': 'ANTICA PORTA LEONA'}, {'id': 'HSVRNAGO', 'name': 'BOLOGNA'}, {'id': 'HSVRNANI', 'name': 'ELEFANTE PARK HOTEL'}, {'id': 'HSVRNANU', 'name': 'DELSER MANOR HOUSE HOTEL'}, {'id': 'HSVRNANL', 'name': 'GIULIETTA E ROMEO'}, {'id': 'HSVRNALW', 'name': 'HVB PALACE HOTEL - RESIDENCE VILLA BARTO'}, {'id': 'HSVRNANV', 'name': 'ALBERGO CORTE ANTICA'}, {'id': 'HSVRNANJ', 'name': 'EUROPA'}, {'id': 'HSVRNADQ', 'name': 'ANTARES SPORT BEAUTY - WELLNESS'}, {'id': 'IQVRNSIR', 'name': 'HOTEL SIRMIONE'}, {'id': 'IRVRNZKW', 'name': 'AIRPORTHOTEL VERONA CONGRESS AND RELAX'}, {'id': 'LWVRN175', 'name': 'LIDO PALACE'}, {'id': 'LWVRN144', 'name': 'PALAZZO ARZAGA SPA GOLF RESORT'}, {'id': 'OIVRNF0A', 'name': 'PICCOLO HOTEL NOGARA'}, {'id': 'OIVRNB5Y', 'name': 'HOTEL GIBERTI'}, {'id': 'OIVRNB60', 'name': 'HOTEL SAN PIETRO'}, {'id': 'ONVRNSAC', 'name': 'HOTEL SACCARDI QUADRANTE EUROPA'}, {'id': 'ONVRNHCP', 'name': 'HOTEL CASA POLI - MANTOVA'}, {'id': 'ONVRNOAS', 'name': 'OASI WELLNESS & SPA - RIVA DEL GARDA'}, {'id': 'ONVRNHAV', 'name': 'HOTEL ARMANDO'}, {'id': 'PHVRNPVI', 'name': 'PALAZZO VICTORIA'}, {'id': 'RTVRNMER', 'name': 'MERCURE NEROCUBO ROVERETO'}, {'id': 'SXVRNSAN', 'name': 'HOTEL SAN LUCA'}, {'id': 'UZVRN819', 'name': 'HOTEL GARNI ORCHIDEA-GARDA LAKE'}, {'id': 'VPVRN309', 'name': 'TENUTA LE CAVE'}, {'id': 'WBVRNQUA', 'name': 'HOTEL VILLA DEL QUAR'}, {'id': 'WVVRN259', 'name': 'HOTEL CA MURA'}, {'id': 'WVVRN822', 'name': 'CORTE SAN LUCA APTS.'}, {'id': 'WVVRNREG', 'name': 'REGAL HOTEL RESIDENCE'}, {'id': 'WVVRNMRL', 'name': 'HOTEL MONREAL'}, {'id': 'WVVRN142', 'name': 'HOTEL DEL PORTO'}, {'id': 'WVVRN456', 'name': 'HOTEL BUONCONSIGLIO'}, {'id': 'WVVRN115', 'name': 'HOTEL TURISMO'}, {'id': 'WVVRN092', 'name': 'HOTEL FIERA'}, {'id': 'WVVRNMIL', 'name': 'HOTEL MILANO'}, {'id': 'WVVRNRES', 'name': \"RESIDENCE CA' DEL LAGO\"}, {'id': 'WVVRN747', 'name': 'HOTEL VERONESI LA TORRE'}, {'id': 'YXVRNVIL', 'name': 'VILLA MALASPINA HOTEL'}, {'id': 'YXVRNORI', 'name': 'ORIONE HOTEL'}, {'id': 'YXVRNWES', 'name': 'WEST POINT HOTEL'}, {'id': 'YXVRN796', 'name': 'HOTEL ABC MANTOVA'}, {'id': 'YXVRNHAG', 'name': 'HOTEL ADIGE'}, {'id': 'YXVRNGHR', 'name': 'CHERVO SPA RESORT'}, {'id': 'YXVRN652', 'name': 'HOTEL ROXY PLAZA'}, {'id': 'YXVRNSUD', 'name': 'SUD POINT HOTEL'}, {'id': 'YXVRNMAR', 'name': 'HOTEL SAN MARCO'}, {'id': 'YXVRNMON', 'name': 'MONACO HOTEL'}, {'id': 'YXVRNHPP', 'name': 'HOTEL PORTA PALIO'}]\n",
            "[{'id': 'BWVRN284', 'name': 'BEST WESTERN HOTEL CRISTALLO'}, {'id': 'BWVRN250', 'name': 'BEST WESTERN ANTICO TERMINE'}, {'id': 'BWVRN264', 'name': 'BEST WESTERN SOAVE HOTEL'}, {'id': 'BWVRN326', 'name': 'BEST WESTERN CTC HOTEL VERONA'}, {'id': 'BWVRN068', 'name': 'BEST WESTERN HOTEL FIRENZE'}, {'id': 'BWVRN088', 'name': 'BEST WESTERN PLUS HOTEL DE CAPULETI'}, {'id': 'CHVRNHMO', 'name': 'MONTRESOR HOTEL TOWER'}, {'id': 'CHVRNHMA', 'name': 'HOTEL MAXIM'}, {'id': 'CHVRNH02', 'name': 'HOTEL LEOPARDI - VERONA'}, {'id': 'CHVRNMHP', 'name': 'MONTRESOR HOTEL PALACE'}, {'id': 'DHVRNADL', 'name': 'VILLA MALASPINA'}, {'id': 'FGVRN468', 'name': 'CLASSHOTEL MANTOVA'}, {'id': 'FGVRN001', 'name': 'ONEMHOTEL-SAN PAOLO'}, {'id': 'FGVRNCAN', 'name': 'HOTEL IL CANOVA-SANDRIGO'}, {'id': 'FGVRNAPL', 'name': 'HOTEL ANTICA PORTA LEONA'}, {'id': 'FGVRNBRA', 'name': 'HOTEL BRANDOLI'}, {'id': 'FGVRNNOV', 'name': 'HOTEL NOVO ROSSI'}, {'id': 'FGVRNA09', 'name': 'ALLIANCE HOTEL VERONA'}, {'id': 'FGVRNLDR', 'name': 'ROSEO HOTEL LEON DDORO'}, {'id': 'HSVRNAAX', 'name': 'VILLA DEL SOGNO'}, {'id': 'HSVRNABV', 'name': 'SAN GIORGIO'}, {'id': 'HSVRNANY', 'name': 'DUE COLONNE'}, {'id': 'HSVRNALA', 'name': 'LOCANDA MOSCAL'}, {'id': 'HSVRNALG', 'name': 'CA DEL PONTE'}, {'id': 'HSVRNAJL', 'name': 'VILLA DELLE ROSE'}, {'id': 'HSVRNAQL', 'name': 'ALBERGO DA PIPPO'}, {'id': 'HSVRNAOL', 'name': 'CA MASAWALSA'}, {'id': 'HSVRNANE', 'name': 'TAORMINA'}, {'id': 'HSVRNAEM', 'name': 'GRITTI PARC HOTEL'}, {'id': 'HSVRNAJJ', 'name': 'CAESIUS THERMAE'}, {'id': 'HSVRNAAB', 'name': 'SPORTSMAN'}, {'id': 'HSVRNAIT', 'name': 'ROSMARI'}, {'id': 'HSVRNAEK', 'name': 'PARC HOTEL'}, {'id': 'HSVRNAOC', 'name': 'KAIROS GARDA HOTEL'}, {'id': 'HSVRNAJO', 'name': 'VILLA CORDEVIGO WINE RELAIS'}, {'id': 'HSVRNAMK', 'name': 'AL SOLE'}, {'id': 'HSVRNAKV', 'name': 'PANORAMA'}, {'id': 'HSVRNAQJ', 'name': 'MADRIGALE'}, {'id': 'HSVRNABL', 'name': 'AQUILA D ORO'}, {'id': 'HSVRNAKE', 'name': 'CITY'}, {'id': 'HSVRNALM', 'name': 'PRIMAVERA'}, {'id': 'HSVRNAKI', 'name': 'DESENZANO'}, {'id': 'HSVRNAMG', 'name': 'LA PASSEGGIATA'}, {'id': 'HSVRNAKF', 'name': 'PICCOLA VELA'}, {'id': 'HSVRNAKZ', 'name': 'ESTEE'}, {'id': 'HSVRNAHM', 'name': 'CORTINA'}, {'id': 'HSVRNABS', 'name': 'BISESTI'}, {'id': 'HSVRNAEA', 'name': 'BENACO'}, {'id': 'HSVRNACV', 'name': 'SPORT HOTEL OLIMPO'}, {'id': 'HSVRNANC', 'name': 'REMAT'}, {'id': 'HSVRNAGL', 'name': 'BOFFENIGO SMALL - BEAUTIFUL'}, {'id': 'HSVRNACS', 'name': 'ITALIA'}, {'id': 'HSVRNACU', 'name': 'PARK HOTEL OASI'}, {'id': 'HSVRNAGF', 'name': 'EXCELSIOR LE TERRAZZE'}, {'id': 'HSVRNAHT', 'name': 'VILLA CA NOVA'}, {'id': 'HSVRNAFJ', 'name': 'LA PERLA'}, {'id': 'HSVRNAJV', 'name': 'CORTE PONTIGLIARDO'}, {'id': 'HSVRNAJY', 'name': 'PALAZZO DELLA SCALA RESIDENCE HOTEL'}, {'id': 'HSVRNAMT', 'name': 'ALEXANDER'}, {'id': 'HSVRNALQ', 'name': 'ILMA'}, {'id': 'HSVRNALT', 'name': 'GARDEN'}, {'id': 'HSVRNAGI', 'name': 'VILLA ROMANTICA'}, {'id': 'HSVRNABU', 'name': 'PARC HOTEL EDEN'}, {'id': 'HSVRNAID', 'name': 'OASI BEACH'}, {'id': 'HSVRNAHD', 'name': 'MALCESINE'}, {'id': 'HSVRNAOI', 'name': 'CATULLO'}, {'id': 'HSVRNAIA', 'name': 'ALBERGO VILLA EDERA'}, {'id': 'HSVRNAIR', 'name': 'CASA MARINELLA'}, {'id': 'HSVRNAHG', 'name': 'PARK HOTEL QUERCETO'}, {'id': 'HSVRNAOJ', 'name': 'ITALIA'}, {'id': 'HSVRNAIB', 'name': '6 PORTE GUESTHOUSE'}, {'id': 'HSVRNAMA', 'name': 'LA ROCCA'}, {'id': 'HSVRNAIQ', 'name': 'FORNACI'}, {'id': 'HSVRNAIX', 'name': 'THE ZIBA HOTEL - SPA'}, {'id': 'HSVRNAEG', 'name': 'BELLA ITALIA HBI'}, {'id': 'HSVRNADD', 'name': 'GREEN PARK HOTEL'}, {'id': 'HSVRNAEN', 'name': 'GOLF RESIDENZA'}, {'id': 'HSVRNAIG', 'name': 'DUCALE'}, {'id': 'HSVRNAIH', 'name': 'IL GRANAIO'}, {'id': 'HSVRNAOV', 'name': 'LA MURAGLIA'}, {'id': 'HSVRNADB', 'name': 'CAMPAGNOLA'}, {'id': 'HSVRNAFO', 'name': 'VILLA ENRICA'}, {'id': 'HSVRNADA', 'name': 'AMBASSADOR SUITE HOTEL'}, {'id': 'HSVRNAEW', 'name': 'GABRY'}, {'id': 'HSVRNAJE', 'name': 'GARNI CANARINO'}, {'id': 'HSVRNAOF', 'name': 'RUDY'}, {'id': 'HSVRNAFS', 'name': 'GARDA SPORTING CLUB HOTEL'}, {'id': 'HSVRNABI', 'name': 'LA PERLA'}, {'id': 'HSVRNAFF', 'name': 'LUISE FEELING HOTEL'}, {'id': 'HSVRNAAD', 'name': 'MIRAGE'}, {'id': 'HSVRNAFL', 'name': 'GARDA TONELLIHOTELS'}, {'id': 'HSVRNACZ', 'name': 'ASTORIA PARK HOTEL'}, {'id': 'HSVRNAJS', 'name': 'CRISTINA'}, {'id': 'HSVRNADM', 'name': \"LEON D'ORO\"}, {'id': 'HSVRNAEB', 'name': 'STADIO HOTEL RISTORANTE'}, {'id': 'HSVRNAMN', 'name': 'ALLA CAMPAGNA FLOWERS HOTEL'}, {'id': 'HSVRNALR', 'name': 'CITY'}, {'id': 'HSVRNALX', 'name': 'LAGUNA'}, {'id': 'HSVRNAKU', 'name': 'PARK HOTEL JOLANDA'}, {'id': 'HSVRNAMD', 'name': 'BELVEDERE'}, {'id': 'HSVRNAMM', 'name': 'MONTE TONDO BED - BREAKFAST'}, {'id': 'HSVRNAHX', 'name': 'RELAIS RESIDENCE SAN ROCCO'}, {'id': 'HSVRNAEH', 'name': 'INTERNAZIONALE'}, {'id': 'HSVRNAHN', 'name': 'VILLA GIRASOLE BED - BREAKFAST'}, {'id': 'HSVRNAAN', 'name': 'GARDESANA'}, {'id': 'HSVRNANO', 'name': 'PAI'}, {'id': 'HSVRNAMX', 'name': 'CORTE DEL PAGGIO'}, {'id': 'HSVRNADR', 'name': 'VERONA'}, {'id': 'HSVRNABZ', 'name': 'ANTICA PORTA LEONA'}, {'id': 'HSVRNAGO', 'name': 'BOLOGNA'}, {'id': 'HSVRNANI', 'name': 'ELEFANTE PARK HOTEL'}, {'id': 'HSVRNANU', 'name': 'DELSER MANOR HOUSE HOTEL'}, {'id': 'HSVRNANL', 'name': 'GIULIETTA E ROMEO'}, {'id': 'HSVRNALW', 'name': 'HVB PALACE HOTEL - RESIDENCE VILLA BARTO'}, {'id': 'HSVRNANV', 'name': 'ALBERGO CORTE ANTICA'}, {'id': 'HSVRNANJ', 'name': 'EUROPA'}, {'id': 'HSVRNADQ', 'name': 'ANTARES SPORT BEAUTY - WELLNESS'}, {'id': 'IQVRNSIR', 'name': 'HOTEL SIRMIONE'}, {'id': 'IRVRNZKW', 'name': 'AIRPORTHOTEL VERONA CONGRESS AND RELAX'}, {'id': 'LWVRN175', 'name': 'LIDO PALACE'}, {'id': 'LWVRN144', 'name': 'PALAZZO ARZAGA SPA GOLF RESORT'}, {'id': 'OIVRNF0A', 'name': 'PICCOLO HOTEL NOGARA'}, {'id': 'OIVRNB5Y', 'name': 'HOTEL GIBERTI'}, {'id': 'OIVRNB60', 'name': 'HOTEL SAN PIETRO'}, {'id': 'ONVRNSAC', 'name': 'HOTEL SACCARDI QUADRANTE EUROPA'}, {'id': 'ONVRNHCP', 'name': 'HOTEL CASA POLI - MANTOVA'}, {'id': 'ONVRNOAS', 'name': 'OASI WELLNESS & SPA - RIVA DEL GARDA'}, {'id': 'ONVRNHAV', 'name': 'HOTEL ARMANDO'}, {'id': 'PHVRNPVI', 'name': 'PALAZZO VICTORIA'}, {'id': 'RTVRNMER', 'name': 'MERCURE NEROCUBO ROVERETO'}, {'id': 'SXVRNSAN', 'name': 'HOTEL SAN LUCA'}, {'id': 'UZVRN819', 'name': 'HOTEL GARNI ORCHIDEA-GARDA LAKE'}, {'id': 'VPVRN309', 'name': 'TENUTA LE CAVE'}, {'id': 'WBVRNQUA', 'name': 'HOTEL VILLA DEL QUAR'}, {'id': 'WVVRN259', 'name': 'HOTEL CA MURA'}, {'id': 'WVVRN822', 'name': 'CORTE SAN LUCA APTS.'}, {'id': 'WVVRNREG', 'name': 'REGAL HOTEL RESIDENCE'}, {'id': 'WVVRNMRL', 'name': 'HOTEL MONREAL'}, {'id': 'WVVRN142', 'name': 'HOTEL DEL PORTO'}, {'id': 'WVVRN456', 'name': 'HOTEL BUONCONSIGLIO'}, {'id': 'WVVRN115', 'name': 'HOTEL TURISMO'}, {'id': 'WVVRN092', 'name': 'HOTEL FIERA'}, {'id': 'WVVRNMIL', 'name': 'HOTEL MILANO'}, {'id': 'WVVRNRES', 'name': \"RESIDENCE CA' DEL LAGO\"}, {'id': 'WVVRN747', 'name': 'HOTEL VERONESI LA TORRE'}, {'id': 'YXVRNVIL', 'name': 'VILLA MALASPINA HOTEL'}, {'id': 'YXVRNORI', 'name': 'ORIONE HOTEL'}, {'id': 'YXVRNWES', 'name': 'WEST POINT HOTEL'}, {'id': 'YXVRN796', 'name': 'HOTEL ABC MANTOVA'}, {'id': 'YXVRNHAG', 'name': 'HOTEL ADIGE'}, {'id': 'YXVRNGHR', 'name': 'CHERVO SPA RESORT'}, {'id': 'YXVRN652', 'name': 'HOTEL ROXY PLAZA'}, {'id': 'YXVRNSUD', 'name': 'SUD POINT HOTEL'}, {'id': 'YXVRNMAR', 'name': 'HOTEL SAN MARCO'}, {'id': 'YXVRNMON', 'name': 'MONACO HOTEL'}, {'id': 'YXVRNHPP', 'name': 'HOTEL PORTA PALIO'}]\n"
          ]
        },
        {
          "output_type": "stream",
          "name": "stderr",
          "text": [
            "ERROR:__main__:Failed to fetch hotel offers: 400, Response: {\"errors\":[{\"code\":3494,\"title\":\"ROOM OR RATE NOT AVAILABLE OR RESTRICTED\",\"status\":400,\"detail\":\"Provider Error - ROOM OR RATE NOT AVAILABLE OR RESTRICTED\",\"source\":{\"parameter\":\"hotelIds=ONVRNHAV,ONVRNHCP,ONVRNOAS,ONVRNSAC,SXVRNSAN\"}},{\"code\":1257,\"title\":\"INVALID PROPERTY CODE\",\"status\":400,\"detail\":\"Provider Error - INVALID PROPERTY CODE\",\"source\":{\"parameter\":\"hotelIds=HSVRNAAN,HSVRNABZ,HSVRNAEH,HSVRNAGO,HSVRNAHN,HSVRNAHX,HSVRNAMM,HSVRNAMX,HSVRNANI,HSVRNANJ,HSVRNANO,HSVRNANU,IRVRNZKW,LWVRN144,LWVRN175,PHVRNPVI,RTVRNMER,WBVRNQUA,WVVRN142,YXVRN796,YXVRNHAG,YXVRNVIL,YXVRNWES\"}},{\"code\":11,\"title\":\"UNABLE TO PROCESS\",\"status\":400,\"detail\":\"Provider Error - UNABLE TO PROCESS\",\"source\":{\"parameter\":\"hotelIds=IQVRNSIR\"}},{\"code\":3664,\"title\":\"NO ROOMS AVAILABLE AT REQUESTED PROPERTY\",\"status\":400,\"detail\":\"Provider Error - NO ROOMS AVAILABLE AT REQUESTED PROPERTY\",\"source\":{\"parameter\":\"hotelIds=HSVRNADQ,HSVRNADR,HSVRNALW,HSVRNANL,HSVRNANV,OIVRNB5Y,OIVRNB60,OIVRNF0A,VPVRN309,WVVRN092,WVVRN115,WVVRN259,WVVRN456,WVVRN747,WVVRN822,WVVRNMIL,WVVRNMRL,WVVRNREG,WVVRNRES,YXVRNORI\"}}]}\n",
            "ERROR:__main__:Failed to fetch hotel offers: 400, Response: {\"errors\":[{\"code\":3494,\"title\":\"ROOM OR RATE NOT AVAILABLE OR RESTRICTED\",\"status\":400,\"detail\":\"Provider Error - ROOM OR RATE NOT AVAILABLE OR RESTRICTED\",\"source\":{\"parameter\":\"hotelIds=ONVRNHAV,ONVRNHCP,ONVRNOAS,ONVRNSAC,SXVRNSAN\"}},{\"code\":1257,\"title\":\"INVALID PROPERTY CODE\",\"status\":400,\"detail\":\"Provider Error - INVALID PROPERTY CODE\",\"source\":{\"parameter\":\"hotelIds=HSVRNAAN,HSVRNABZ,HSVRNAEH,HSVRNAGO,HSVRNAHN,HSVRNAHX,HSVRNAMM,HSVRNAMX,HSVRNANI,HSVRNANJ,HSVRNANO,HSVRNANU,IRVRNZKW,LWVRN144,LWVRN175,PHVRNPVI,RTVRNMER,WBVRNQUA,WVVRN142,YXVRN796,YXVRNHAG,YXVRNVIL,YXVRNWES\"}},{\"code\":11,\"title\":\"UNABLE TO PROCESS\",\"status\":400,\"detail\":\"Provider Error - UNABLE TO PROCESS\",\"source\":{\"parameter\":\"hotelIds=IQVRNSIR\"}},{\"code\":3664,\"title\":\"NO ROOMS AVAILABLE AT REQUESTED PROPERTY\",\"status\":400,\"detail\":\"Provider Error - NO ROOMS AVAILABLE AT REQUESTED PROPERTY\",\"source\":{\"parameter\":\"hotelIds=HSVRNADQ,HSVRNADR,HSVRNALW,HSVRNANL,HSVRNANV,OIVRNB5Y,OIVRNB60,OIVRNF0A,VPVRN309,WVVRN092,WVVRN115,WVVRN259,WVVRN456,WVVRN747,WVVRN822,WVVRNMIL,WVVRNMRL,WVVRNREG,WVVRNRES,YXVRNORI\"}}]}\n",
            "ERROR:__main__:Failed to fetch hotel offers: 400, Response: {\"errors\":[{\"code\":1257,\"title\":\"INVALID PROPERTY CODE\",\"status\":400,\"detail\":\"Provider Error - INVALID PROPERTY CODE\",\"source\":{\"parameter\":\"hotelIds=YXVRN652,YXVRNGHR,YXVRNHPP,YXVRNMAR,YXVRNMON,YXVRNSUD\"}}]}\n",
            "ERROR:__main__:Failed to fetch hotel offers: 400, Response: {\"errors\":[{\"code\":1257,\"title\":\"INVALID PROPERTY CODE\",\"status\":400,\"detail\":\"Provider Error - INVALID PROPERTY CODE\",\"source\":{\"parameter\":\"hotelIds=YXVRN652,YXVRNGHR,YXVRNHPP,YXVRNMAR,YXVRNMON,YXVRNSUD\"}}]}\n",
            "ERROR:__main__:Failed to fetch flights: 400, Response: {\"errors\":[{\"status\":400,\"code\":4926,\"title\":\"INVALID DATA RECEIVED\",\"detail\":\"The multiple O/D overlap\"}]}\n",
            "ERROR:__main__:Failed to fetch flights: 400, Response: {\"errors\":[{\"status\":400,\"code\":4926,\"title\":\"INVALID DATA RECEIVED\",\"detail\":\"The multiple O/D overlap\"}]}\n"
          ]
        },
        {
          "output_type": "stream",
          "name": "stdout",
          "text": [
            "[{'id': 'DSBZOGRF', 'name': 'HOTEL GREIF'}, {'id': 'DSBZOVMR', 'name': 'VIGILIUS MOUNTAIN RESORT'}, {'id': 'FGBZO001', 'name': 'DOMINA HOME MIRAMONTI'}, {'id': 'HSBZOAAQ', 'name': 'MOSERALM BERGHOTEL'}, {'id': 'HSBZOAMX', 'name': 'ASTRA'}, {'id': 'HSBZOAAW', 'name': 'MARGHERITA'}, {'id': 'HSBZOADH', 'name': 'MIRAVALLE'}, {'id': 'HSBZOACP', 'name': 'ADRIANA'}, {'id': 'HSBZOAKC', 'name': 'GARDEN'}, {'id': 'HSBZOAIT', 'name': 'STAMSERHOF'}, {'id': 'HSBZOAOS', 'name': 'ANTHOLZERHOF'}, {'id': 'HSBZOAHH', 'name': 'ELEFANT'}, {'id': 'HSBZOAIB', 'name': 'REZIA'}, {'id': 'HSBZOACS', 'name': 'ANTELAO'}, {'id': 'HSBZOAJO', 'name': 'POST GRIES RESTAURANT'}, {'id': 'HSBZOAKF', 'name': 'ARTS HOTEL'}, {'id': 'HSBZOABV', 'name': 'PREMSTALLER'}, {'id': 'HSBZOAKO', 'name': 'REGINA A.'}, {'id': 'HSBZOAHG', 'name': 'THE VISTA HOTEL'}, {'id': 'HSBZOADN', 'name': 'MILLANDERHOF'}, {'id': 'HSBZOAMB', 'name': 'HOTEL TRAUBE AN D.BISCHOFGAERTEN'}, {'id': 'HSBZOADQ', 'name': 'DOMINIK AM PARK'}, {'id': 'HSBZOAFL', 'name': 'GOLDENE KRONE VITAL STADTHOTEL'}, {'id': 'HSBZOADX', 'name': 'LANGGENHOF'}, {'id': 'HSBZOAER', 'name': 'ANDREAS HOFER'}, {'id': 'HSBZOAFS', 'name': 'POST'}, {'id': 'HSBZOAKE', 'name': 'MAJESTIC ALPINE WELLNESS RESORT'}, {'id': 'HSBZOACV', 'name': 'AZALEA PARK HOTEL'}, {'id': 'HSBZOAJP', 'name': 'MIRAVALLE'}, {'id': 'HSBZOAGV', 'name': 'ARGENTINA'}, {'id': 'HSBZOADW', 'name': 'MENARDI'}, {'id': 'HSBZOAQE', 'name': 'KOLFUSCHGERHOF'}, {'id': 'HSBZOAHR', 'name': 'LAMBRECHTSHOF'}, {'id': 'HSBZOAKI', 'name': 'OBERWIRT'}, {'id': 'HSBZOAJI', 'name': 'PARC HOTEL MIRAMONTI'}, {'id': 'HSBZOAPZ', 'name': 'LADY MARIA HOTEL'}, {'id': 'HSBZOAPJ', 'name': 'PENSION GARNI SONIA'}, {'id': 'HSBZOADD', 'name': 'BURGFRIEDEN'}, {'id': 'HSBZOAIW', 'name': 'ALPENFRIEDE'}, {'id': 'HSBZOALT', 'name': 'ORSO GRIGIO GRAUER BAER'}, {'id': 'HSBZOABJ', 'name': 'HILPOLD PENSION'}, {'id': 'HSBZOAOE', 'name': 'BRAUNSBERGERHOF'}, {'id': 'HSBZOAGC', 'name': 'IDEAL PARK'}, {'id': 'HSBZOACY', 'name': 'ALEXANDER'}, {'id': 'HSBZOAAN', 'name': 'PARE'}, {'id': 'HSBZOAAR', 'name': 'CONCORDIA'}, {'id': 'HSBZOANP', 'name': 'TOURING'}, {'id': 'HSBZOABC', 'name': 'TIROLER ADLER'}, {'id': 'HSBZOAIR', 'name': 'GASTHOF EDELWEISS'}, {'id': 'HSBZOACJ', 'name': 'SITTNERHOF'}, {'id': 'HSBZOAMM', 'name': 'MONTANI'}, {'id': 'HSBZOAEH', 'name': 'GRIMMHOF'}, {'id': 'HSBZOAEK', 'name': 'REINHILD'}, {'id': 'HSBZOALR', 'name': 'PACHER NEUSTIFT'}, {'id': 'HSBZOAHA', 'name': 'EMMA'}, {'id': 'HSBZOADR', 'name': 'ALPENHOF'}, {'id': 'HSBZOAGU', 'name': 'OBEREGGEN HOTEL - REITERHOF'}, {'id': 'HSBZOAOI', 'name': \"AGSTNER'S HOTEL RAINEGG\"}, {'id': 'HSBZOAAM', 'name': 'WINKLWIESE APPARTHOTEL'}, {'id': 'HSBZOABZ', 'name': 'ALP CRON MOARHOF'}, {'id': 'HSBZOABE', 'name': 'ALPINHOTEL KEIL'}, {'id': 'HSBZOAMW', 'name': 'OLAGA'}, {'id': 'HSBZOAQF', 'name': 'DIGON'}, {'id': 'HSBZOANC', 'name': 'SPORTHOTEL HELL'}, {'id': 'HSBZOAID', 'name': 'CASTELIR SUITE HOTEL'}, {'id': 'HSBZOAGO', 'name': 'ROTWAND HOTEL RESTAURANT'}, {'id': 'HSBZOABP', 'name': 'GRAN BAITA VILLA MITZI HOTEL - RESORT'}, {'id': 'HSBZOAHT', 'name': 'PENSION PRACK'}, {'id': 'HSBZOADB', 'name': 'WIESERHOF NATURHOTEL'}, {'id': 'HSBZOAFO', 'name': 'WEIHRERHOF'}, {'id': 'HSBZOAHM', 'name': 'GENIESSERHOTEL TIROLERHOF'}, {'id': 'HSBZOAIG', 'name': 'ALBERGO CAVALLINO BIANCO'}, {'id': 'HSBZOAGZ', 'name': 'MAIR ZU HOF NATURRESIDENZ'}, {'id': 'HSBZOAQC', 'name': 'SMART HOTEL SASLONG'}, {'id': 'HSBZOAGF', 'name': 'MONACO SPORT'}, {'id': 'HSBZOAAD', 'name': 'ALLE PIRAMIDI'}, {'id': 'HSBZOAFE', 'name': 'NIGRITELLA'}, {'id': 'HSBZOADA', 'name': 'GRAN BAITA SPORTHOTEL'}, {'id': 'HSBZOARG', 'name': 'TORGGLERHOF'}, {'id': 'HSBZOAFJ', 'name': 'CIASA SALARES'}, {'id': 'HSBZOAIX', 'name': 'LA STUA'}, {'id': 'HSBZOARD', 'name': 'STOCKER'}, {'id': 'HSBZOAPS', 'name': 'GARNI ERNA BED - BREAKFAST'}, {'id': 'HSBZOAHX', 'name': 'EMMA'}, {'id': 'HSBZOARK', 'name': 'PICHLERHOF PENSION'}, {'id': 'HSBZOAOZ', 'name': 'SONJA'}, {'id': 'HSBZOARH', 'name': 'MARLET'}, {'id': 'HSBZOAKJ', 'name': 'RESIDENCE TERENTIS'}, {'id': 'HSBZOAFY', 'name': 'VAJOLET'}, {'id': 'HSBZOAHQ', 'name': 'REICHEGGER'}, {'id': 'HSBZOAGL', 'name': 'LODENWIRT AKTIV - VITALHOTEL'}, {'id': 'HSBZOAJV', 'name': 'SEEHOF'}, {'id': 'HSBZOADT', 'name': 'ENGEL - SPA - RESORT'}, {'id': 'HSBZOABO', 'name': 'ADLER'}, {'id': 'HSBZOAPE', 'name': 'ZANON'}, {'id': 'IQBZOCIT', 'name': \"STADT HOTEL CITTA'\"}, {'id': 'IQBZOMOT', 'name': 'HOTEL MOTA'}, {'id': 'LXBZOPMI', 'name': 'PARK HOTEL MIGNON'}, {'id': 'ONBZOPWE', 'name': 'PARKHOTEL WERTH'}, {'id': 'ONBZOOSW', 'name': 'HOTEL OSWALD'}, {'id': 'SIBZO462', 'name': 'FOUR POINTS BOLZANO'}, {'id': 'UZBZO556', 'name': 'HAUS GITSCHBERG'}, {'id': 'UZBZO506', 'name': 'HOTEL GARNI LUDWIG'}, {'id': 'WBBZOT40', 'name': 'HOTEL CASTEL FRAGSBURG'}, {'id': 'WBBZOT36', 'name': 'HOTEL GARDENA GRODNERHOF'}, {'id': 'WBBZORAH', 'name': 'HOTEL AND SPA ROSA ALPINA'}, {'id': 'WBBZOAUE', 'name': 'AUENER HOF'}, {'id': 'WWBZOPAR', 'name': 'PARKHOTEL LAURIN'}, {'id': 'YHBZOCZ6', 'name': 'FALKENSTEINERHOTEL ANTHOLZ'}, {'id': 'YHBZO863', 'name': 'HOTEL SCHOENBLICK'}, {'id': 'YHBZOEHR', 'name': 'FALKENSTEINER EHRENBURGERHOF'}, {'id': 'YHBZOKAS', 'name': 'FALKENSTEINER LAMM KASTELRUTH'}, {'id': 'YHBZOSON', 'name': 'FALKENSTEINER SONNENPARADIES'}, {'id': 'YHBZOFAL', 'name': 'FALKENSTEINERHOF'}, {'id': 'YXBZO156', 'name': 'ALPI HOTEL'}, {'id': 'YXBZOPLU', 'name': 'POSTHOTEL'}, {'id': 'YXBZOHRF', 'name': 'HOTEL RESIDENCE FLORA'}]\n"
          ]
        },
        {
          "output_type": "stream",
          "name": "stderr",
          "text": [
            "ERROR:__main__:Failed to fetch hotel offers: 400, Response: {\"errors\":[{\"code\":1351,\"title\":\"VERIFY CHAIN/REP CODE\",\"status\":400,\"detail\":\"Provider Error - VERIFY CHAIN/REP CODE\",\"source\":{\"parameter\":\"hotelIds=FGBZO001\"}},{\"code\":1257,\"title\":\"INVALID PROPERTY CODE\",\"status\":400,\"detail\":\"Provider Error - INVALID PROPERTY CODE\",\"source\":{\"parameter\":\"hotelIds=HSBZOAAN,HSBZOAAQ,HSBZOAAR,HSBZOAAW,HSBZOABC,HSBZOABJ,HSBZOABV,HSBZOACP,HSBZOACS,HSBZOACV,HSBZOACY,HSBZOADH,HSBZOADQ,HSBZOADW,HSBZOADX,HSBZOAER,HSBZOAGC,HSBZOAGV,HSBZOAHG,HSBZOAHR,HSBZOAIB,HSBZOAIR,HSBZOAIT,HSBZOAIW,HSBZOAJI,HSBZOAKC,HSBZOAKE,HSBZOAKF,HSBZOAKI,HSBZOAKO,HSBZOALT,HSBZOAMB,HSBZOAMX,HSBZOANP,HSBZOAOE,HSBZOAOS,HSBZOAPJ,HSBZOAPZ,HSBZOAQE\"}},{\"code\":3664,\"title\":\"NO ROOMS AVAILABLE AT REQUESTED PROPERTY\",\"status\":400,\"detail\":\"Provider Error - NO ROOMS AVAILABLE AT REQUESTED PROPERTY\",\"source\":{\"parameter\":\"hotelIds=DSBZOGRF,DSBZOVMR,HSBZOACJ,HSBZOADD,HSBZOADN,HSBZOAFL,HSBZOAFS,HSBZOAHH,HSBZOAJO,HSBZOAJP\"}}]}\n",
            "INFO:werkzeug:127.0.0.1 - - [15/Mar/2025 19:30:12] \"POST / HTTP/1.1\" 200 -\n",
            "ERROR:__main__:Failed to fetch hotel offers: 400, Response: {\"errors\":[{\"code\":1257,\"title\":\"INVALID PROPERTY CODE\",\"status\":400,\"detail\":\"Provider Error - INVALID PROPERTY CODE\",\"source\":{\"parameter\":\"hotelIds=HSBZOAAM,HSBZOABE,HSBZOABP,HSBZOABZ,HSBZOADA,HSBZOADB,HSBZOADR,HSBZOADT,HSBZOAEK,HSBZOAFE,HSBZOAFJ,HSBZOAFO,HSBZOAGF,HSBZOAGL,HSBZOAGU,HSBZOAGZ,HSBZOAHA,HSBZOAHM,HSBZOAHQ,HSBZOAHT,HSBZOAID,HSBZOAIG,HSBZOAIX,HSBZOAJV,HSBZOAKJ,HSBZOALR,HSBZOAMM,HSBZOAMW,HSBZOANC,HSBZOAOI,HSBZOAOZ,HSBZOAPE,HSBZOAPS,HSBZOAQC,HSBZOAQF,HSBZOARD,HSBZOARG,HSBZOARH,HSBZOARK,LXBZOPMI\"}},{\"code\":3494,\"title\":\"ROOM OR RATE NOT AVAILABLE OR RESTRICTED\",\"status\":400,\"detail\":\"Provider Error - ROOM OR RATE NOT AVAILABLE OR RESTRICTED\",\"source\":{\"parameter\":\"hotelIds=ONBZOOSW,ONBZOPWE\"}},{\"code\":3664,\"title\":\"NO ROOMS AVAILABLE AT REQUESTED PROPERTY\",\"status\":400,\"detail\":\"Provider Error - NO ROOMS AVAILABLE AT REQUESTED PROPERTY\",\"source\":{\"parameter\":\"hotelIds=HSBZOAAD,HSBZOABO,HSBZOAEH,HSBZOAFY,HSBZOAGO,HSBZOAHX\"}},{\"code\":11,\"title\":\"UNABLE TO PROCESS\",\"status\":400,\"detail\":\"Provider Error - UNABLE TO PROCESS\",\"source\":{\"parameter\":\"hotelIds=IQBZOCIT,IQBZOMOT\"}}]}\n",
            "ERROR:__main__:Failed to fetch hotel offers: 400, Response: {\"errors\":[{\"code\":3664,\"title\":\"NO ROOMS AVAILABLE AT REQUESTED PROPERTY\",\"status\":400,\"detail\":\"Provider Error - NO ROOMS AVAILABLE AT REQUESTED PROPERTY\",\"source\":{\"parameter\":\"hotelIds=SIBZO462\"}},{\"code\":1257,\"title\":\"INVALID PROPERTY CODE\",\"status\":400,\"detail\":\"Provider Error - INVALID PROPERTY CODE\",\"source\":{\"parameter\":\"hotelIds=WBBZOAUE,WBBZORAH,WBBZOT36,WBBZOT40,WWBZOPAR,YXBZO156,YXBZOHRF,YXBZOPLU\"}}]}\n",
            "WARNING:__main__:No flight data found for VRN -> BZO\n"
          ]
        },
        {
          "output_type": "stream",
          "name": "stdout",
          "text": [
            "[{'id': 'BGMXP887', 'name': 'TEST PROPERTY FOR TECH FPCBGMXP887'}, {'id': 'BWMXP127', 'name': 'BEST WESTERN HOTEL CONTINENTAL-COMO'}, {'id': 'BWMXP235', 'name': 'BW CAVALIERI DELLA  CORONA'}, {'id': 'BWMXP221', 'name': 'BEST WESTERN JET HOTEL'}, {'id': 'GZMXPHMG', 'name': 'HOTEL MONTELAGO'}, {'id': 'HNMXP100', 'name': 'TEST PROPERTY FOR TECH FPC HNMXP100'}, {'id': 'HNMXP998', 'name': 'TEST PROPERTY FOR TECH FPC HNMXP998'}, {'id': 'HNMXP999', 'name': 'TEST PROPERTY FOR TECH FPC HNMXP999'}, {'id': 'HSMXPABK', 'name': 'HORTENSIA'}, {'id': 'HSMXPAAV', 'name': 'CAMPAGNA'}, {'id': 'HSMXPACB', 'name': 'ENGADINA'}, {'id': 'HSMXPACK', 'name': 'HOTEL 2C'}, {'id': 'HSMXPAAS', 'name': 'DELLA ROTONDA'}, {'id': 'HSMXPABQ', 'name': 'TRE LEONI'}, {'id': 'HSMXPABD', 'name': 'CITY'}, {'id': 'HSMXPABA', 'name': 'PALLANZA'}, {'id': 'HSMXPABH', 'name': 'BELVEDERE'}, {'id': 'IQMXP301', 'name': 'HOTEL BARCHETTA EXCELSIOR'}, {'id': 'IQMXPITM', 'name': 'HOTEL MODERNO'}, {'id': 'KHMXPHCR', 'name': 'HOTEL CRISTALLO'}, {'id': 'LXMXPGMG', 'name': 'GRAND HOTEL MAJESTIC'}, {'id': 'OIMXP100', 'name': 'TEST PROPERTY FOR TECH FPC OIMXP100'}, {'id': 'OIMXP998', 'name': 'TEST PROPERTY FOR TECH FPC OIMXP998'}, {'id': 'OIMXPD1M', 'name': 'HOTEL ELITIS - LEGNANO'}, {'id': 'ONMXPVDR', 'name': 'HOTEL VILLA DELLE ROSE'}, {'id': 'PHMXPGRA', 'name': 'GRAND HOTEL TREMEZZO PREFERRED'}, {'id': 'RAMXPNRN', 'name': 'RAMADA MALPENSA'}, {'id': 'RTMXPMAL', 'name': 'NOVOTEL MILAN MALPENSA AIRPORT'}, {'id': 'RTMXPHVT', 'name': 'GRAND HOTEL VILLA TORRETTA'}, {'id': 'RTMXPIBI', 'name': 'IBIS COMO'}, {'id': 'SIMXP138', 'name': 'SHERATON MALPENSA AIRPORT MILAN'}, {'id': 'SXMXPMET', 'name': 'METROPOLE AND SUISSE AU LAC - COMO'}, {'id': 'SXMXPFIR', 'name': 'FIRST HOTEL MALPENSA'}, {'id': 'TAMXP454', 'name': 'HOTEL CONCA AZZURRA-RANCO'}, {'id': 'UIMXPTER', 'name': 'ALBERGO TERMINUS HOTEL'}, {'id': 'UIMXPUHM', 'name': 'UNA HOTEL MALPENSA'}, {'id': 'UIMXPAEF', 'name': 'ATAHOTEL EXPO FIERA'}, {'id': 'WBMXPHER', 'name': 'HOTEL HERMITAGE AND SPA'}, {'id': 'WVMXP230', 'name': 'HOTEL ANCORA'}, {'id': 'WVMXP917', 'name': 'LUNA HOTEL MOTEL'}, {'id': 'XLMXPGHC', 'name': 'GRAND HOTEL DI COMO SUMMIT HOT'}, {'id': 'YXMXP350', 'name': 'HOTEL PINETA'}, {'id': 'YXMXP341', 'name': 'ASTORIA HOTEL'}, {'id': 'YXMXPLPH', 'name': 'LITTA PALACE LAINATE HOTEL'}, {'id': 'YXMXPRGR', 'name': 'LE ROBINIE GOLF RESORT'}, {'id': 'YXMXPLRB', 'name': 'HOTEL LE ROBINIE  GOLFINGOLF'}, {'id': 'YXMXP279', 'name': 'GRAND HOTEL DES ILES BORROMEES'}, {'id': 'YXMXP072', 'name': 'RELAIS SUL LAGO'}, {'id': 'YXMXPVAR', 'name': 'PALACE GRAND HOTEL VARESE'}, {'id': 'YXMXPHVM', 'name': 'HOTEL VILLA MALPENSA'}, {'id': 'YXMXP185', 'name': 'AIRPORT HOTEL MALPENSA'}, {'id': 'YXMXPHMI', 'name': 'MALPENSA INN HOTEL'}]\n"
          ]
        },
        {
          "output_type": "stream",
          "name": "stderr",
          "text": [
            "ERROR:__main__:Failed to fetch hotel offers: 400, Response: {\"errors\":[{\"code\":1257,\"title\":\"INVALID PROPERTY CODE\",\"status\":400,\"detail\":\"Provider Error - INVALID PROPERTY CODE\",\"source\":{\"parameter\":\"hotelIds=YXMXP185,YXMXPHMI\"}}]}\n",
            "WARNING:__main__:No flight data found for VRN -> MXP\n",
            "INFO:werkzeug:127.0.0.1 - - [15/Mar/2025 19:30:20] \"POST / HTTP/1.1\" 200 -\n"
          ]
        },
        {
          "output_type": "stream",
          "name": "stdout",
          "text": [
            "praias do nordeste Liste 3 de destinos turísticos, incluindo: - Informe cidades com serviço regular de voos que sejam proximas às atracoes destacadas: Nome da Cidade e seu codigo IATA em parentesis: (exemplo: 'San Juan (SJU)'). - Principais atrações e atividades. use no maximo 1000 palavras de forma que resuma bem o pedido do usuario.\n",
            "\n",
            "1. **Fortaleza (FOR)** - A capital cultural do estado do Ceará oferece uma combinação única de praias, arquitetura e cultura. A Praia do Futuro é uma das mais belas e tranquilas da região, com suas areias brancas e calmas, é ideal para relaxar e praticar esportes aquáticos. A Praia de Iracema é o local tradicional onde se concentram os principais hotéis e restaurantes da cidade, além do famoso Farol da Praia de Iracema. A Praia do Meio é outra opção para quem gosta de praias mais solitárias e desconhecidas.\n",
            "\n",
            "2. **Recife (REC)** - A capital do estado de Pernambuco é conhecida por sua arquitetura colonial e praias urbanas. A Praia Boa Viagem é uma das mais famosas, com suas areias finas e calmas, é ideal para relaxar e praticar esportes aquáticos. A Praia do Porto de Galinhas é outra opção, conhecida por suas areias quartzíticas, que se movem com o mar, criando um efeito único. A Praia do Futuro é outra opção, conhecida por seu mar agitado, é ideal para praticar surf.\n",
            "\n",
            "3. **Natal (NAT)** - A capital do estado do Rio Grande do Norte é conhecida por suas praias de areia fina e pelas suas belezas naturais. A Praia do Ponta Negra é uma das mais famosas, com suas areias finas e calmas, é ideal para relaxar e praticar esportes aquáticos. A Praia do Morro do Careca é outra opção, conhecida por suas areias quartzíticas, que se movem com o mar, criando um efeito único. A Praia dos Artistas é outra opção, conhecida por ser um local tradicional para artistas locais expor suas obras.\n",
            "origem IATA: RAO\n",
            "[{'id': 'CIFOR010', 'name': 'COMFORT HOTEL FORTALEZA'}, {'id': 'LTFORPMS', 'name': 'PRAIA MANSA SUITE HOTEL'}, {'id': 'ODFORTHO', 'name': 'POUSADA CAPITAO THOMAZ'}, {'id': 'ODFORVLM', 'name': 'VELA E MAR HOTEL'}, {'id': 'ODFORSPH', 'name': 'A SAMBURA PRAIA HOTEL'}, {'id': 'ODFORW64', 'name': 'HOTEL SPAZZIO FORTALEZA'}, {'id': 'ODFORABO', 'name': 'ADABA BLUE OCEAN FLAT'}, {'id': 'ODFORPNJ', 'name': 'POUSADA NAQUELA JERICOACOARA'}, {'id': 'ODFORCCR', 'name': 'CARMEL CHARME RESORT - AQUIRAZ'}, {'id': 'ODFORHLF', 'name': 'HOTEL LITORAL FORTALEZA'}, {'id': 'ODFORCMP', 'name': 'CARMEL MAGNA PRAIA HOTEL'}, {'id': 'QIFOR003', 'name': 'QUALITY HOTEL FORTALEZA'}, {'id': 'UIFOR382', 'name': 'LUZEIROS FORTALEZA HOTEL'}, {'id': 'WVFOR899', 'name': 'AQUAVILLE RESORT'}, {'id': 'WVFOR248', 'name': 'MAREIRO HOTEL'}, {'id': 'WVFOR008', 'name': 'SEARA PRAIA HOTEL'}, {'id': 'WVFOR616', 'name': 'HOTEL PRAIA CENTRO'}, {'id': 'WVFOR149', 'name': 'CARMEL EXPRESS HOTEL'}, {'id': 'WVFOR005', 'name': 'PONTA MAR HOTEL'}, {'id': 'WVFORFOR', 'name': 'HOTEL GRAN MARQUISE'}, {'id': 'XHFOR66X', 'name': 'KALAMARI HOTEL'}, {'id': 'XHFOR1GP', 'name': 'BEACH HOUSE HOTEL'}, {'id': 'XHFORR2V', 'name': 'CARMEL CHARME RESORT'}, {'id': 'XHFORSMO', 'name': 'HOTEL SOL LESTE'}, {'id': 'XHFORC2Z', 'name': 'POUSADA OCAS DO INDIO'}, {'id': 'XHFORA1E', 'name': 'BRUNO MARAMBAIA CHARME HOTEL'}, {'id': 'XHFORGMB', 'name': 'HOTEL IRACEMA'}, {'id': 'XHFORNI9', 'name': 'POUSADA VERANEIO'}, {'id': 'XHFOR7LG', 'name': 'RAIO DE SOL PRAIA HOTEL'}, {'id': 'XHFORLLW', 'name': 'IRACEMA TRAVEL'}, {'id': 'XHFORV62', 'name': 'RAH VILLA COSTEIRA'}, {'id': 'XHFOR1NC', 'name': 'MAREDOMUS HOTEL'}, {'id': 'XHFORSZ6', 'name': 'QUALITY HOTEL FORTALEZA'}, {'id': 'XHFOR84K', 'name': 'MAREIRO HOTEL'}, {'id': 'XHFORPNV', 'name': 'MAREIRO HOTEL'}, {'id': 'XHFORXJ7', 'name': 'MAREIRO HOTEL'}, {'id': 'XHFORITK', 'name': 'OTHON PALACE FORTALEZA'}, {'id': 'XHFOR88R', 'name': 'POUSADA LATITUDE'}, {'id': 'XHFORZH8', 'name': 'LUX HOTEL'}, {'id': 'XHFORGKP', 'name': 'ALPHA PRAIA HOTEL'}, {'id': 'XHFOR7OE', 'name': 'POUSADA PARAISO DO CUMBUCO'}, {'id': 'XHFOR6AN', 'name': 'ADABA MISTRAL HOTEL'}, {'id': 'XHFORJ32', 'name': 'TABAJARA FLAT'}, {'id': 'XHFOR0YV', 'name': 'MURANO BUSINESS HOTEL'}, {'id': 'XHFORWUJ', 'name': 'POUSADA COSTA MARINA'}, {'id': 'XHFOR1YI', 'name': 'ADABA BLUE OCEAN FLAT'}, {'id': 'XHFOR9PX', 'name': 'ELDORADO CAFE FORTALEZA'}, {'id': 'XHFORCPD', 'name': 'HOTEL AMERICAS'}, {'id': 'XHFORLIR', 'name': 'NAVEGANTES PRAIA HOTEL'}, {'id': 'XHFORAK3', 'name': 'HOTEL TRAIRI ATIVO'}, {'id': 'YXFORVGC', 'name': 'VILA GALE CUMBUCO'}, {'id': 'YXFORVIL', 'name': 'VILA GALE FORTALEZA'}]\n"
          ]
        },
        {
          "output_type": "stream",
          "name": "stderr",
          "text": [
            "ERROR:__main__:Failed to fetch hotel offers: 400, Response: {\"errors\":[{\"code\":10604,\"title\":\"INVALID OR MISSING DATA\",\"status\":400,\"detail\":\"Provider Error - INVALID OR MISSING DATA\",\"source\":{\"parameter\":\"hotelIds=UIFOR382\"}},{\"code\":1257,\"title\":\"INVALID PROPERTY CODE\",\"status\":400,\"detail\":\"Provider Error - INVALID PROPERTY CODE\",\"source\":{\"parameter\":\"hotelIds=CIFOR010,QIFOR003,WVFOR005,WVFOR008,WVFOR149,WVFOR248,WVFOR616,WVFOR899,XHFOR0YV,XHFOR1GP,XHFOR1NC,XHFOR1YI,XHFOR66X,XHFOR6AN,XHFOR7LG,XHFOR7OE,XHFOR84K,XHFOR88R,XHFOR9PX,XHFORA1E,XHFORAK3,XHFORC2Z,XHFORCPD,XHFORGKP,XHFORGMB,XHFORITK,XHFORJ32,XHFORLIR,XHFORLLW,XHFORNI9,XHFORPNV,XHFORR2V,XHFORSMO,XHFORSZ6,XHFORV62,XHFORWUJ,XHFORXJ7,XHFORZH8\"}},{\"code\":3664,\"title\":\"NO ROOMS AVAILABLE AT REQUESTED PROPERTY\",\"status\":400,\"detail\":\"Provider Error - NO ROOMS AVAILABLE AT REQUESTED PROPERTY\",\"source\":{\"parameter\":\"hotelIds=WVFORFOR\"}}]}\n",
            "ERROR:__main__:Failed to fetch hotel offers: 400, Response: {\"errors\":[{\"code\":1257,\"title\":\"INVALID PROPERTY CODE\",\"status\":400,\"detail\":\"Provider Error - INVALID PROPERTY CODE\",\"source\":{\"parameter\":\"hotelIds=YXFORVGC,YXFORVIL\"}}]}\n"
          ]
        },
        {
          "output_type": "stream",
          "name": "stdout",
          "text": [
            "[{'id': 'BWREC011', 'name': 'BEST WESTERN MANIBU RECIFE'}, {'id': 'CYRECCYC', 'name': 'COURTYARD RECIFE MARRIOTT'}, {'id': 'GTRECPAL', 'name': 'GOLDEN TULIP RECIFE PALACE'}, {'id': 'ODRECRMH', 'name': 'RECIFE MONTE HOTEL'}, {'id': 'ODRECFPG', 'name': 'HOTEL FAZENDA PORTAL DE GRAVATA'}, {'id': 'ODRECHDA', 'name': 'HOTEL DES ARTS'}, {'id': 'ODRECOMH', 'name': 'ONDA MAR HOTEL'}, {'id': 'SIREC783', 'name': 'SHERATON RESERVA DO PAIVA HTL'}, {'id': 'UIREC232', 'name': 'BEACH CLASS SUITES'}, {'id': 'WVREC365', 'name': 'VILLAGE PORTO DE GALINHAS'}, {'id': 'WVREC961', 'name': 'PORTO DE GALINHAS PRAIA HOTEL'}, {'id': 'WVREC901', 'name': 'ENOTEL ACQUA CLUB PORTO DE GALINHAS'}, {'id': 'WVREC711', 'name': 'ENOTEL RESORT AND SPA PORTO DE GALINHAS'}, {'id': 'WVREC261', 'name': 'KEMBALI HOTEL PORTO DE GALINHAS'}, {'id': 'WVREC733', 'name': 'INTERNACIONAL PALACE HOTEL'}, {'id': 'XHRECTFC', 'name': \"HOTEL CANARIU'S D'GAIBU\"}, {'id': 'XHREC4J6', 'name': 'POUSADA MARAMBAIA DO PORTO'}, {'id': 'XHRECK9A', 'name': 'POUSADA TABAJUBA'}, {'id': 'XHRECWYD', 'name': 'SUMMERVILLE BEACH RESORT'}, {'id': 'XHRECSQS', 'name': 'AGUAMARINHA POUSADA'}, {'id': 'XHRECUHA', 'name': 'POUSADA VILA DO GALO'}, {'id': 'XHRECA8R', 'name': 'POUSADA DO GALO'}, {'id': 'XHREC334', 'name': 'POUSADA CAPITAES DE AREIA'}, {'id': 'XHRECV2V', 'name': 'POUSADA PORTO DE GALINHAS'}, {'id': 'XHRECNXS', 'name': 'POUSADA VIVENDA DOS CORAIS'}, {'id': 'XHRECL7P', 'name': 'POUSADA ARRAIAL DO SOL'}, {'id': 'XHRECCP9', 'name': 'POUSADA CANTO DO MAR'}, {'id': 'XHREC2VT', 'name': 'POUSADA BON VIVANT'}, {'id': 'XHRECMXH', 'name': 'POUSADA FLATS SONHOS DO PORTO'}, {'id': 'XHRECY8L', 'name': 'POUSADA SAMBURA'}, {'id': 'XHRECTVD', 'name': 'PORTO DE GALINHAS PRAIA HOTEL'}, {'id': 'XHREC5AR', 'name': 'SUITE PORTO DOS CORAIS'}, {'id': 'XHRECUZQ', 'name': 'HOTEL VILLAGE PORTO DE GALINHAS'}, {'id': 'XHRECH7R', 'name': 'MARUPIARA HOTEL PORTO DE GALINHAS'}, {'id': 'XHRECPU1', 'name': 'POUSADA VILA DO PORTO'}, {'id': 'XHRECNRR', 'name': 'POUSADA MORADA AZUL'}, {'id': 'XHRECDEK', 'name': 'POUSADA TABAPITANGA'}, {'id': 'XHREC2B6', 'name': 'CASA BLANCA HOTEL BUSINESS & SPA'}, {'id': 'XHRECFSI', 'name': 'POUSADA BAOBA'}, {'id': 'XHRECQVJ', 'name': 'POUSADA LUSITANA'}, {'id': 'XHRECZN2', 'name': 'MARULHOS SUITES RESORTS'}, {'id': 'XHREC8T6', 'name': 'ENOTEL ACQUA CLUB PORTO DE GALINHAS'}, {'id': 'XHRECD5L', 'name': 'MARANTE PLAZA HOTEL'}, {'id': 'XHRECKA6', 'name': 'BEST WESTERN MANIBU RECIFE HOTEL'}, {'id': 'XHREC21L', 'name': 'ARCADA HOTEL E BISTRO'}, {'id': 'XHRECD55', 'name': 'HOTEL SAVEIRO'}, {'id': 'XHREC1OG', 'name': 'DAN INN MAR'}, {'id': 'XHRECLI6', 'name': 'BEACH CLASS SUITES'}, {'id': 'XHRECR86', 'name': 'GOLDEN TULIP RECIFE PALACE'}, {'id': 'XHRECV2U', 'name': 'ATLANTE PLAZA'}, {'id': 'XHREC8A8', 'name': 'RECIFE PRAIA HOTEL'}, {'id': 'XHRECESA', 'name': 'DES ARTS'}, {'id': 'XHREC1SY', 'name': 'CASTELINHO HOTEL'}, {'id': 'XHRECEAH', 'name': 'RECIFE MONTE HOTEL'}, {'id': 'XHREC2OZ', 'name': \"CANARIU'S PALACE HOTEL\"}, {'id': 'XHRECA3C', 'name': 'NACIONAL INN RECIFE'}, {'id': 'XHRECLAY', 'name': 'ANAHI HOTEL'}, {'id': 'XHREC6J8', 'name': 'POUSADA PRAIA DOS CARNEIROS'}, {'id': 'YXRECMAR', 'name': 'MARUPIARA HOTEL'}]\n"
          ]
        },
        {
          "output_type": "stream",
          "name": "stderr",
          "text": [
            "ERROR:__main__:Failed to fetch hotel offers: 400, Response: {\"errors\":[{\"code\":10604,\"title\":\"INVALID OR MISSING DATA\",\"status\":400,\"detail\":\"Provider Error - INVALID OR MISSING DATA\",\"source\":{\"parameter\":\"hotelIds=UIREC232\"}},{\"code\":1257,\"title\":\"INVALID PROPERTY CODE\",\"status\":400,\"detail\":\"Provider Error - INVALID PROPERTY CODE\",\"source\":{\"parameter\":\"hotelIds=BWREC011,CYRECCYC,GTRECPAL,SIREC783,WVREC261,WVREC365,WVREC711,WVREC901,WVREC961,XHREC1OG,XHREC21L,XHREC2B6,XHREC2VT,XHREC334,XHREC4J6,XHREC5AR,XHREC8T6,XHRECA8R,XHRECCP9,XHRECD55,XHRECD5L,XHRECDEK,XHRECFSI,XHRECH7R,XHRECK9A,XHRECKA6,XHRECL7P,XHRECLI6,XHRECMXH,XHRECNRR,XHRECNXS,XHRECPU1,XHRECQVJ,XHRECR86,XHRECSQS,XHRECTFC,XHRECTVD,XHRECUHA,XHRECUZQ,XHRECV2U,XHRECV2V,XHRECWYD,XHRECY8L,XHRECZN2\"}},{\"code\":3664,\"title\":\"NO ROOMS AVAILABLE AT REQUESTED PROPERTY\",\"status\":400,\"detail\":\"Provider Error - NO ROOMS AVAILABLE AT REQUESTED PROPERTY\",\"source\":{\"parameter\":\"hotelIds=WVREC733\"}}]}\n",
            "ERROR:__main__:Failed to fetch hotel offers: 400, Response: {\"errors\":[{\"code\":1257,\"title\":\"INVALID PROPERTY CODE\",\"status\":400,\"detail\":\"Provider Error - INVALID PROPERTY CODE\",\"source\":{\"parameter\":\"hotelIds=XHREC1SY,XHREC2OZ,XHREC6J8,XHREC8A8,XHRECA3C,XHRECEAH,XHRECESA,XHRECLAY,YXRECMAR\"}}]}\n"
          ]
        },
        {
          "output_type": "stream",
          "name": "stdout",
          "text": [
            "[{'id': 'BWNAT104', 'name': 'BW PREMIER MAJESTIC NATAL'}, {'id': 'HINAT24D', 'name': 'HOLIDAY INN NATAL'}, {'id': 'HSNATAAO', 'name': 'THALASSA HOTEL'}, {'id': 'KYNATROS', 'name': 'ROSA NAUTICA'}, {'id': 'ODNATANH', 'name': 'AQUARIA NATAL HOTEL'}, {'id': 'ODNATPOR', 'name': 'PORTO SUITES NATAL HOTEL'}, {'id': 'ODNATMBR', 'name': 'HOTEL MARSOL BEACH RESORT'}, {'id': 'ODNATVPH', 'name': 'VILLA PARK HOTEL'}, {'id': 'ODNATNAT', 'name': 'PONTA DO SOL PRAIA HOTEL'}, {'id': 'ODNATAHS', 'name': 'APART HOTEL SERANTES'}, {'id': 'ODNATBMH', 'name': 'BELLO MARE HOTEL'}, {'id': 'ODNATHTL', 'name': 'TIBAU LAGOA'}, {'id': 'ODNATANM', 'name': 'ARAM NATAL MAR HOTEL'}, {'id': 'ODNATBMA', 'name': 'BLUE MARLIN APARTMENTS'}, {'id': 'ODNATMPH', 'name': 'MIRADOR PRAIA HOTEL'}, {'id': 'ODNATPIZ', 'name': 'PIZZATO PRAIA HOTEL'}, {'id': 'ODNATKVS', 'name': 'KILOMBO VILLAS E SPA - TIBAU DO SUL'}, {'id': 'ONNATPOU', 'name': 'POUSADA TOCA DA CORUJA'}, {'id': 'QINAT058', 'name': 'QUALITY HOTEL AND SUITES NATAL'}, {'id': 'WVNAT273', 'name': 'ARAM RESIDENCE PRAIA'}, {'id': 'WVNAT615', 'name': 'HOTEL PARQUE DA COSTEIRA'}, {'id': 'WVNAT268', 'name': 'HOTEL MARINAS'}, {'id': 'XHNATJ4A', 'name': 'POUSADA PEIXE GALO'}, {'id': 'XHNAT943', 'name': 'NATAL DUNNAS HOTEL'}, {'id': 'XHNATZ7O', 'name': 'VILLA PARK HOTEL'}, {'id': 'XHNATVOA', 'name': 'ARAM RESIDENCE PRAIA HOTEL'}, {'id': 'XHNATV3Y', 'name': 'ATOL DAS ROCAS APART HOTEL'}, {'id': 'XHNAT72U', 'name': 'HOTEL BRUMA'}, {'id': 'XHNAT0M9', 'name': 'HOTEL PARQUE DA COSTEIRA'}, {'id': 'XHNAT5J9', 'name': 'QUALITY SUITES NATAL'}, {'id': 'XHNATUYY', 'name': 'BELLO MARE'}, {'id': 'XHNATZYG', 'name': 'HOTEL MARSOL BEACH RESORT'}, {'id': 'XHNATO4U', 'name': 'PIRAMIDE NATAL RESORT E CONVETION'}, {'id': 'XHNATG58', 'name': 'BLUE MARLIN APARTMENTS'}, {'id': 'XHNAT6T2', 'name': 'NOBILE SUITES PONTA NEGRA BEACH'}, {'id': 'XHNAT779', 'name': 'POUSADA FLOR DALIA'}, {'id': 'XHNATTTV', 'name': 'RIFOLES PRAIA HOTEL E RESORT'}, {'id': 'XHNATMVC', 'name': 'PONTALMAR PRAIA HOTEL'}, {'id': 'XHNATU24', 'name': 'ARAM PONTA NEGRA HOTEL'}, {'id': 'XHNAT1MU', 'name': 'BELA SILVIA FLAT'}, {'id': 'XHNATYKL', 'name': 'POUSADA CAICO'}, {'id': 'XHNATVV0', 'name': 'DIVI DIVI PRAIA HOTEL'}, {'id': 'XHNATFC2', 'name': 'PRAIAMAR NATAL HOTEL & CONVENTION'}, {'id': 'XHNAT5FV', 'name': 'MANARY PRAIA HOTEL'}, {'id': 'XHNATEWW', 'name': 'HOTEL OCEAN IMPERIUM'}, {'id': 'XHNATN2G', 'name': 'SAFARI HOTEL'}, {'id': 'XHNATXNC', 'name': 'PIZZATO PRAIA HOTEL'}, {'id': 'XHNATTN9', 'name': 'DUNNAS PARK HOTEL'}, {'id': 'XHNATBVD', 'name': 'PONTA DO SOL PRAIA HOTEL'}, {'id': 'XHNATJFK', 'name': 'LITTORAL MAXIMUM FLAT'}, {'id': 'XHNATWW6', 'name': 'HOTEL IMIRA PLAZA'}, {'id': 'XHNATX1E', 'name': 'PIPA PRIVILEGE BOUTIQUE HOTEL'}, {'id': 'XHNATE03', 'name': 'POUSADA PORTO DO SOL'}, {'id': 'XHNATGY1', 'name': 'POUSADA MARAJOARA'}, {'id': 'XHNAT7WJ', 'name': 'HOTEL PIPA ATLANTICO'}, {'id': 'XHNATE13', 'name': 'LAGOA ECO RESORT'}, {'id': 'XHNATQ0N', 'name': 'POUSADA COCO FRESCO'}, {'id': 'XHNATINL', 'name': 'POUSADA ALTO DA PIPA'}, {'id': 'XHNATGPB', 'name': 'POUSADA SOL E LUNA'}, {'id': 'XHNATDZH', 'name': 'POUSADA THALASSA HOTEL'}, {'id': 'XHNATFLJ', 'name': 'KILOMBO VILLAS & SPA'}, {'id': 'XHNATJMV', 'name': 'POUSADA PRAIA DO AMOR'}, {'id': 'XHNATXDK', 'name': 'POUSADA DOS GIRASSOIS'}, {'id': 'XHNATS7M', 'name': 'ZICATELA BEACH HOSTEL'}, {'id': 'XHNAT3AD', 'name': 'POUSADA TAMANDUA'}, {'id': 'YXNATIPN', 'name': 'INTERCITY PREMIUM NATAL'}, {'id': 'YXNATSNG', 'name': 'SERHS NATAL GRAND HOTEL'}, {'id': 'YXNATMAN', 'name': 'MANARY PRAIA HOTEL'}, {'id': 'YXNATCAR', 'name': 'PESTANA NATAL RESORT ALL INCLU'}, {'id': 'YXNATESM', 'name': 'ESMERALDA PRAIA HOTEL'}]\n"
          ]
        },
        {
          "output_type": "stream",
          "name": "stderr",
          "text": [
            "ERROR:__main__:Failed to fetch hotel offers: 400, Response: {\"errors\":[{\"code\":1257,\"title\":\"INVALID PROPERTY CODE\",\"status\":400,\"detail\":\"Provider Error - INVALID PROPERTY CODE\",\"source\":{\"parameter\":\"hotelIds=XHNAT3AD,XHNAT7WJ,XHNATDZH,XHNATE03,XHNATE13,XHNATFLJ,XHNATGPB,XHNATGY1,XHNATINL,XHNATJMV,XHNATQ0N,XHNATS7M,XHNATWW6,XHNATX1E,XHNATXDK,YXNATCAR,YXNATESM,YXNATIPN,YXNATMAN,YXNATSNG\"}}]}\n",
            "INFO:werkzeug:127.0.0.1 - - [15/Mar/2025 19:31:04] \"POST / HTTP/1.1\" 200 -\n",
            "INFO:werkzeug:127.0.0.1 - - [15/Mar/2025 19:33:07] \"GET / HTTP/1.1\" 200 -\n",
            "INFO:werkzeug:127.0.0.1 - - [15/Mar/2025 19:35:08] \"GET / HTTP/1.1\" 200 -\n",
            "INFO:werkzeug:127.0.0.1 - - [15/Mar/2025 19:35:10] \"\u001b[33mGET /favicon.ico HTTP/1.1\u001b[0m\" 404 -\n",
            "INFO:werkzeug:127.0.0.1 - - [15/Mar/2025 19:35:58] \"POST / HTTP/1.1\" 200 -\n",
            "INFO:werkzeug:127.0.0.1 - - [15/Mar/2025 19:36:36] \"POST / HTTP/1.1\" 200 -\n",
            "INFO:werkzeug:127.0.0.1 - - [15/Mar/2025 19:36:48] \"POST / HTTP/1.1\" 200 -\n",
            "INFO:werkzeug:127.0.0.1 - - [15/Mar/2025 19:36:58] \"POST / HTTP/1.1\" 200 -\n",
            "INFO:werkzeug:127.0.0.1 - - [15/Mar/2025 19:37:19] \"POST / HTTP/1.1\" 200 -\n",
            "INFO:werkzeug:127.0.0.1 - - [15/Mar/2025 19:37:20] \"GET /static/HI9M.gif HTTP/1.1\" 200 -\n"
          ]
        },
        {
          "output_type": "stream",
          "name": "stdout",
          "text": [
            "Quero conhecer cidades turísticas na Itália  Liste 3 de destinos turísticos, incluindo: - Informe cidades com serviço regular de voos que sejam proximas às atracoes destacadas: Nome da Cidade e seu codigo IATA em parentesis: (exemplo: 'San Juan (SJU)'). - Principais atrações e atividades. use no maximo 1000 palavras de forma que resuma bem o pedido do usuario.\n",
            "\n",
            "1. Roma (FCO)\n",
            "   Principais atrações:\n",
            "   - Coliseu (Colosseum): Este imponente anfiteatro de 80 mil espectadores foi construído em 80 d.C. e é um dos mais famosos símbolos da antiga Roma.\n",
            "   - Panteão (Pantheon): Este monumento foi construído em 125 d.C. e é considerado um dos edifícios mais antigos do mundo.\n",
            "   - Vaticano (Vatican City): A sede do Papa, a Cidade do Vaticano é um estado independente dentro de Roma. Atrai milhões de turistas por ano para ver a Basílica de São Pedro, a Cúpula de São Pedro e o Museu Vaticano.\n",
            "   - Fórum Romano: O Fórum Romano é o coração político e religioso da antiga Roma. Abriga ruínas importantes, como o Arco de Tito e o Templo de Saturno.\n",
            "\n",
            "2. Veneza (VCE)\n",
            "   Principais atrações:\n",
            "   - Canal Grande (Grand Canal): Este canal é o coração de Veneza, com uma série de edifícios de grande valor histórico.\n",
            "   - Piazza San Marco (Praça de São Marcos): É a principal praça de Veneza, com a Basílica de São Marcos, o Campanile de São Marcos e o Palácio Doge.\n",
            "   - Palácio de Escalona: Este palácio é um dos mais belos edifícios de Veneza, com uma fachada ricamente decorada com estátuas.\n",
            "   - Murana e Burano: Estas ilhas de Veneza são famosas por seus canais e suas casas coloridas.\n",
            "\n",
            "3. Florença (FLR)\n",
            "   Principais atrações:\n",
            "   - Catedral de Santa Maria del Fiore (Duomo): Esta catedral é um dos símbolos de Florença, com uma cúpula de 133,4 metros.\n",
            "   - Piazza della Signoria: Esta praça abriga a Ponte Vecchia e a Loggia de Palazzo Vecchio.\n",
            "   - Uffizi Gallery: Este museu é um dos mais importantes do mundo, com obras de artistas como Botticelli, Leonardo da Vinci e Michelangelo.\n",
            "   - Galleria dell'Accademia: Este museu é a casa da famosa estátua de David, de Michelangelo.\n",
            "   - Ponte Vecchio: Este antigo ponte é famoso por seus comércios de joalheria e relógios.\n",
            "origem IATA: RMA\n",
            "[{'id': 'BWFCO270', 'name': 'BEST WESTERN HTL RIVIERA'}, {'id': 'BWFCO336', 'name': 'BEST WESTERN HTL ROME AIRPORT'}, {'id': 'CHFCOHCE', 'name': 'HOTEL CENTER 1-2-3'}, {'id': 'CIFCO058', 'name': 'COMFORT HOTEL ROMA AIRPORT FIUMICINO'}, {'id': 'DSFCOARG', 'name': 'ARGENTARIO RESORT GOLF AND SPA'}, {'id': 'DSFCOSAD', 'name': 'SEXTANTIO SANTO STEFANO'}, {'id': 'GZFCO086', 'name': 'HOTEL VILLA ROSA'}, {'id': 'GZFCO850', 'name': 'VENETIA PALACE HOTEL'}, {'id': 'GZFCOTDA', 'name': 'TENUTA DELL ARGENTO'}, {'id': 'HAFCORIM', 'name': 'RIMINI HOTEL'}, {'id': 'HOFCOSFH', 'name': 'IL SAN FRANCESCO HOTEL'}, {'id': 'HSFCOAAS', 'name': 'VILLA MARGHERITA'}, {'id': 'MCFCOAUM', 'name': 'ROME MARRIOTT PARK HOTEL'}, {'id': 'QIFCO067', 'name': 'QUALITY HOTEL GREEN PALACE'}, {'id': 'UZFCO391', 'name': 'PALACE HOTEL RELAIS FALISIO'}, {'id': 'UZFCO050', 'name': 'ENEA HOTEL APRILIA-APRILIA'}, {'id': 'WBFCO830', 'name': 'HOTEL RAPHAEL'}, {'id': 'WVFCO548', 'name': 'EURO HOUSE AIRPORT INN'}, {'id': 'WVFCOALL', 'name': 'ALLE TAMERICI HOTEL'}, {'id': 'WWFCO041', 'name': 'THE CHURCH PALACE'}, {'id': 'WWFCO040', 'name': 'THE CHURCH VILLAGE'}, {'id': 'YXFCO505', 'name': 'ROSES HOTEL DE LA VILLE'}, {'id': 'YXFCOLCH', 'name': 'HOTEL LA CONCHIGLIA'}, {'id': 'YXFCOHLC', 'name': 'LOCANDA CAIROLI HOTEL'}, {'id': 'YXFCOHDR', 'name': 'HOTEL DE ROME'}, {'id': 'YXFCOSOL', 'name': 'HOTEL SOLE AL PANTHEON'}, {'id': 'YXFCOARH', 'name': 'AURELIANO HOTEL'}, {'id': 'YXFCOFLH', 'name': 'FLORIDA HOTEL'}, {'id': 'YXFCOHWI', 'name': 'WINDROSE HOTEL'}, {'id': 'YXFCOAPR', 'name': 'PALAZZO ROSPIGLIOSI'}, {'id': 'YXFCOPDS', 'name': 'PIAZZA DI SPAGNA'}, {'id': 'YXFCOHOA', 'name': 'HOTEL AUGUSTUS'}, {'id': 'YXFCOASC', 'name': 'SANTA CHIARA HOTEL'}, {'id': 'YXFCO099', 'name': 'HOTEL CORSI ROMA FIUMICINO'}]\n"
          ]
        },
        {
          "output_type": "stream",
          "name": "stderr",
          "text": [
            "WARNING:__main__:No flight data found for RMA -> FCO\n"
          ]
        },
        {
          "output_type": "stream",
          "name": "stdout",
          "text": [
            "[{'id': 'ACVCE394', 'name': 'MARCO POLO'}, {'id': 'BAVCEBLN', 'name': 'BOSCOLO BELLINI'}, {'id': 'BWVCE308', 'name': 'BW HOTEL CANON D ORO - CONEGLIANO'}, {'id': 'BWVCE163', 'name': 'BEST WESTERN PARK HOTEL'}, {'id': 'BWVCE315', 'name': 'BEST WESTERN HOTEL AIRVENICE-QUARTO D AL'}, {'id': 'BWVCE276', 'name': 'BW PARK HOTEL CONTINENTAL'}, {'id': 'BWVCE334', 'name': 'BW TITIAN INNHOTEL VENICE APT-TESSERA'}, {'id': 'BWVCE238', 'name': 'BW PREMIER SANT ELENA'}, {'id': 'BWVCE157', 'name': 'BEST WESTERN HTL MONTECARLO'}, {'id': 'BWVCE034', 'name': 'BEST WESTERN ALBERGO SAN MARCO'}, {'id': 'BWVCE261', 'name': 'BEST WESTERN HOTEL OLIMPIA'}, {'id': 'BWVCE067', 'name': 'BEST WESTERN BIASUTTI HOTELS'}, {'id': 'BWVCE152', 'name': 'BEST WESTERN HOTEL BOLOGNA'}, {'id': 'BWVCE294', 'name': 'BEST WESTERN PLUS QUID HOTEL'}, {'id': 'BWVCE042', 'name': 'BEST WESTERN HOTEL BISANZIO'}, {'id': 'BWVCE203', 'name': 'BEST WESTERN HOTEL ALA'}, {'id': 'BXVCECON', 'name': 'CONTINENTAL HOTEL'}, {'id': 'CHVCEH09', 'name': 'HOTEL GARIBALDI - MESTRE'}, {'id': 'CHVCEHMO', 'name': 'HOTEL MODERNO'}, {'id': 'CIVCE034', 'name': 'COMFORT HOTEL DIANA'}, {'id': 'CPVCE675', 'name': 'CROWNE PLAZA VENICE EAST'}, {'id': 'CYVCECYC', 'name': 'COURTYARD VENICE ARPT MARRIOTT'}, {'id': 'DSVCECAP', 'name': 'CA PISANI'}, {'id': 'EPVCEHPG', 'name': 'HOTEL PALAZZO GIOVANELLI'}, {'id': 'EPVCECAN', 'name': \"CA'NIGRA LAGOON RESORT\"}, {'id': 'FGVCEAPV', 'name': 'HOTEL AL PINO VERDE - CAMPOSAMPIERO'}, {'id': 'FGVCEDAN', 'name': 'HOTEL DANUBIO-JESOLO'}, {'id': 'FGVCEHLR', 'name': 'HOTEL LORELEY-JESOLO LIDO'}, {'id': 'FGVCERAD', 'name': 'HOTEL RELAIS ALCOVA DEL DOGE-MIRA'}, {'id': 'FGVCEHVC', 'name': 'HOTEL VILLA CONDULMER - MOGLIANO VENETO'}, {'id': 'FGVCELUP', 'name': 'HOTEL VILLA LUPPIS-PASIANO DI PORDENONE'}, {'id': 'FGVCE362', 'name': 'PARK HOTEL JUNIOR-QUARTO DALTINO'}, {'id': 'FGVCECBA', 'name': 'COLOMBINA HOTEL-VENEZIA'}, {'id': 'FGVCEAIP', 'name': 'PARK HOTEL AI PINI'}, {'id': 'FGVCERUS', 'name': 'HOTEL RUSSOTT-VENEZIA MESTRE'}, {'id': 'FGVCEPAG', 'name': 'HOTEL PAGANELLI'}, {'id': 'FGVCEZUS', 'name': \"DOMINA HOME CA'ZUSTO\"}, {'id': 'FGVCEFON', 'name': 'ALBERGO QUATTRO FONTANE'}, {'id': 'GZVCE543', 'name': 'HOTEL CASANOVA'}, {'id': 'GZVCECAA', 'name': 'HOTEL CA ARCO ANTICO'}, {'id': 'GZVCE977', 'name': 'HOTEL LOCANDA CANAL'}, {'id': 'HAVCEELI', 'name': 'ELITE - MESTRE'}, {'id': 'HAVCEPIA', 'name': 'HOTEL PIAVE HOTEL'}, {'id': 'HAVCECAP', 'name': 'CAPITAL HOTEL-ROVIGO'}, {'id': 'HAVCECAN', 'name': 'CANAL & WALTER'}, {'id': 'HAVCEHOL', 'name': 'HOLIDAY HOTEL - FAVARO VENETO'}, {'id': 'HAVCEGOR', 'name': 'GORIZIA A LA VALIGIA'}, {'id': 'HAVCEFOR', 'name': 'LA FORCOLA'}, {'id': 'HAVCETIN', 'name': 'TINTORETTO'}, {'id': 'HAVCETRE', 'name': 'TRE ARCHI'}, {'id': 'HAVCEALV', 'name': 'HOTEL CA ALVISE'}, {'id': 'HAVCECAD', 'name': 'HOTEL CA DEI CONTI'}, {'id': 'HAVCEH13', 'name': 'HOTEL MARCONI'}, {'id': 'HAVCENID', 'name': 'HOTEL AL NIDO DI GIULIETTA E ROMEO'}, {'id': 'HIVCE9F8', 'name': 'HOLIDAY INN MESTRE-MARGHERA'}, {'id': 'HOVCECEF', 'name': 'BLUE DREAM HOTEL'}, {'id': 'HSVCEACR', 'name': 'FORMULA INTERNATIONAL'}, {'id': 'HSVCEALO', 'name': 'AL FOGHER'}, {'id': 'HSVCEARI', 'name': 'ANTICA LOCANDA AL GAMBERO'}, {'id': 'HSVCEAJK', 'name': 'RIVIERA'}, {'id': 'HSVCEAJM', 'name': 'AMADEUS'}, {'id': 'HSVCEARF', 'name': 'VENEZIA 2000'}, {'id': 'HSVCEANG', 'name': 'RUSSO PALACE HOTEL'}, {'id': 'HSVCEAPN', 'name': 'BEL SITO E BERLINO'}, {'id': 'HSVCEAKB', 'name': 'LA MERIDIANA'}, {'id': 'HSVCEAGT', 'name': 'AL CANAL REGIO'}, {'id': 'HSVCEARO', 'name': 'PALACE HOTEL REGINA'}, {'id': 'HSVCEANK', 'name': 'PARIGI'}, {'id': 'HSVCEAPT', 'name': 'PALACE'}, {'id': 'HSVCEAIL', 'name': 'SAN GIORGIO'}, {'id': 'HSVCEAFR', 'name': 'AGRITURISMO DI LA DAL FIUME'}, {'id': 'HSVCEAEF', 'name': 'ASTORIA'}, {'id': 'HSVCEAWJ', 'name': 'CA DI VALLE'}, {'id': 'HSVCEAWL', 'name': 'CASA PER FERIE OPERA BEATO G. NASCIMBENI'}, {'id': 'HSVCEAWI', 'name': 'FORTUNA'}, {'id': 'HSVCEAPK', 'name': 'A CASA DI PAOLA'}, {'id': 'HSVCEAGB', 'name': 'EUROREST'}, {'id': 'HSVCEAHZ', 'name': 'CASA A COLORI VENEZIA'}, {'id': 'HSVCEAQB', 'name': 'LORY'}, {'id': 'HSVCEAVI', 'name': 'COUNTRY HOUSE COUNTRY CLUB'}, {'id': 'HSVCEARJ', 'name': 'VILLA GIULIETTA'}, {'id': 'HSVCEASP', 'name': 'SPLENDID TERME DI GALZIGNANO'}, {'id': 'HSVCEATG', 'name': 'COPPE'}, {'id': 'HSVCEATX', 'name': 'BAIA DEL MAR SUITE HOTEL'}, {'id': 'HSVCEALC', 'name': 'DANTE'}, {'id': 'HSVCEAGW', 'name': 'ASTROMARE'}, {'id': 'HSVCEABX', 'name': 'RIVAMARE'}, {'id': 'HSVCEAEI', 'name': 'JESULUM'}, {'id': 'HSVCEACD', 'name': 'LONDON'}, {'id': 'HSVCEADI', 'name': 'ROSANNA'}, {'id': 'HSVCEABW', 'name': 'VINA DEL MAR PINETA'}, {'id': 'HSVCEACG', 'name': 'NAZIONALE'}, {'id': 'HSVCEATT', 'name': 'GERMANIA'}, {'id': 'HSVCEALF', 'name': 'BELLEVUE - RESORT'}, {'id': 'HSVCEAHL', 'name': 'TROVATORE'}, {'id': 'HSVCEABB', 'name': 'AMBASCIATA'}, {'id': 'HSVCEADY', 'name': 'SAN CARLO'}, {'id': 'HSVCEAFB', 'name': 'GUIDI'}, {'id': 'HSVCEACB', 'name': 'DELLE ROSE'}, {'id': 'HSVCEAIP', 'name': 'KAPPA'}, {'id': 'HSVCEACH', 'name': 'CLUB'}, {'id': 'HSVCEADL', 'name': 'ISOLA DI CAPRERA'}, {'id': 'HSVCEAEC', 'name': 'BASE HOTEL TO WORK'}, {'id': 'HSVCEAHF', 'name': 'ALLA BOTTE'}, {'id': 'HSVCEAPA', 'name': 'MILAN'}, {'id': 'HSVCEAHU', 'name': 'VENICE RESORT'}, {'id': 'HSVCEAPG', 'name': 'SCALA'}, {'id': 'HSVCEARU', 'name': 'LOCANDA STURION'}, {'id': 'HSVCEAMP', 'name': 'EDEN'}, {'id': 'HSVCEAKN', 'name': 'GRANDE ALBERGO AUSONIA - HUNGARIA'}, {'id': 'HSVCEATD', 'name': 'CA DEL BORGO'}, {'id': 'HSVCEAMV', 'name': 'ALLE GUGLIE'}, {'id': 'HSVCEASF', 'name': 'LOCANDA POSTE VECIE'}, {'id': 'HSVCEAKM', 'name': 'FALIER'}, {'id': 'HSVCEAQX', 'name': 'PALAZZO SELVADEGO'}, {'id': 'HSVCEAPH', 'name': 'AL GAZZETTINO'}, {'id': 'HSVCEARS', 'name': 'CASA SUL MOLO LOCANDA'}, {'id': 'HSVCEAQT', 'name': 'PANTALON'}, {'id': 'HSVCEARL', 'name': 'PALAZZO GUARDI'}, {'id': 'HSVCEARP', 'name': 'LE VILLE DEL LIDO'}, {'id': 'HSVCEATR', 'name': 'VILLA PANNONIA'}, {'id': 'HSVCEASE', 'name': 'RIGEL'}, {'id': 'HSVCEANM', 'name': 'VILLA LAGUNA ALL SUITES'}, {'id': 'HSVCEAKX', 'name': 'VILLA CIPRO'}, {'id': 'HSVCEATQ', 'name': 'TIVOLI'}, {'id': 'HSVCEASY', 'name': 'CA PEDROCCHI'}, {'id': 'HSVCEATM', 'name': 'SETTIMO CIELO - BLOOM B-B'}, {'id': 'HSVCEAIE', 'name': 'SAN LIO T.H. GUEST HOUSE - 1 CAT.'}, {'id': 'HSVCEAIC', 'name': \"CA' BRAGADIN CARABBA - CHARMING INN\"}, {'id': 'HSVCEABN', 'name': 'CASA COSMO'}, {'id': 'HSVCEAUA', 'name': 'ORION'}, {'id': 'HSVCEABM', 'name': 'KOSHER HOUSE GIARDINO DEI MELOGRANI'}, {'id': 'HSVCEAHJ', 'name': 'LA PERGOLA DI VENEZIA'}, {'id': 'HSVCEATW', 'name': \"CA' GOTTARDI\"}, {'id': 'KYVCERUZ', 'name': 'PHW RUZZINI PALACE HOTEL'}, {'id': 'LWVCE170', 'name': 'BAUER PALLADIO HOTEL AND  SPA'}, {'id': 'LWVCE148', 'name': 'LUNA HOTEL BAGLIONI VENICE'}, {'id': 'LXVCELPA', 'name': 'LIASSIDI PALACE'}, {'id': 'LXVCEPSA', 'name': 'PALAZZO SANT ANGELO SUL CANAL'}, {'id': 'LXVCECAS', 'name': 'CA SAGREDO HOTEL'}, {'id': 'MCVCEJWM', 'name': 'JW MARRIOTT VENICE RESORT SPA'}, {'id': 'OIVCEBQW', 'name': 'HOTEL AL VIVIT - MESTRE'}, {'id': 'OIVCEHDD', 'name': 'HOTEL RIVIERA DEI DOGI - MIRA'}, {'id': 'OIVCEVIL', 'name': 'VILLA MARCELLO GIUSTINIAN - MOGLIANO VEN'}, {'id': 'OIVCEEUP', 'name': 'ANNIA PARK HOTEL - TESSERA'}, {'id': 'OIVCEDHT', 'name': 'LOCANDA ANTICO FIORE'}, {'id': 'OIVCEF21', 'name': 'HOTEL CERTOSA - VENEZIA'}, {'id': 'ONVCEHVO', 'name': 'HOTEL VILLA ORIO'}, {'id': 'ONVCEANG', 'name': 'HOTEL FLEURS DE ZERMATT-FOSSO'}, {'id': 'ONVCEHVC', 'name': 'HOTEL VILLA COSTANZA'}, {'id': 'ONVCEHLA', 'name': 'HOTEL LOCANDA AL PIAVE-SAN DONA DI PIAVE'}, {'id': 'ONVCEALI', 'name': 'HOTEL VILLA ALIGHIERI'}, {'id': 'ONVCEFLO', 'name': 'HOTEL FLORA'}, {'id': 'ONVCELUG', 'name': 'HOTEL LUGANO TORRETTA-VENEZIA'}, {'id': 'PHVCEMET', 'name': 'METROPOLE HOTEL PREFERRED BOUT'}, {'id': 'RTVCEMGA', 'name': 'LAGARE HOTEL VENEZIA - VENEZIA ISOLA DI '}, {'id': 'RTVCENOV', 'name': 'NOVOTEL VENEZIA MESTRE'}, {'id': 'SCVCE101', 'name': 'HOTEL VILLA ADELE-MARGHERA'}, {'id': 'SXVCEABA', 'name': 'HOTEL AMBASCIATORI-MESTRE'}, {'id': 'SXVCETRI', 'name': 'HOTEL TRITONE'}, {'id': 'SYVCESPL', 'name': 'STARHOTELS  SPLENDID VENICE'}, {'id': 'UIVCEAPH', 'name': 'ANTONY PALACE HOTEL'}, {'id': 'UIVCEGIO', 'name': 'GIORGIONE HOTEL'}, {'id': 'UZVCE811', 'name': 'HOTEL AL PORTICO'}, {'id': 'UZVCE812', 'name': 'LOCANDA ANTICA VENEZIA'}, {'id': 'UZVCE212', 'name': 'LANTERNA DI MARCO POLO HOTEL'}, {'id': 'UZVCE948', 'name': 'NOTTURNO HOTEL SAN ZULIAN'}, {'id': 'UZVCE466', 'name': 'LA SCALA PALACE'}, {'id': 'WBVCE431', 'name': 'HOTEL LONDRA PALACE'}, {'id': 'WVVCE498', 'name': 'HOTEL ALL ORSO - RONCADE TREVISO'}, {'id': 'WVVCE826', 'name': 'VILLA F'}, {'id': 'WVVCETIV', 'name': 'HOTEL SCANDINAVIA'}, {'id': 'WWVCEVVC', 'name': 'HOTEL VILLA CIPRIANI'}, {'id': 'XLVCEMON', 'name': 'HOTEL MONACO AND GRAND CANAL'}, {'id': 'XNVCEVEX', 'name': 'HOTEL EXCELSIOR'}, {'id': 'YHVCEFHJ', 'name': 'FALKENSTEINER HOTEL JESOLO'}, {'id': 'YHVCEVIL', 'name': 'VILLA BRAIDA'}, {'id': 'YXVCEHAL', 'name': 'HOTEL AL CAMIN'}, {'id': 'YXVCEADG', 'name': 'HOTEL AMALFI'}, {'id': 'YXVCED9T', 'name': 'HOTEL GREIF LIGNANO'}, {'id': 'YXVCE248', 'name': 'SWISS INT VILLA PATRIARCA'}, {'id': 'YXVCEITA', 'name': 'GRAND ITALIA HOTEL'}, {'id': 'YXVCE565', 'name': 'HOTEL LE TEGNUE'}, {'id': 'YXVCECGR', 'name': 'CANAL GRANDE HOTEL'}, {'id': 'YXVCEDUO', 'name': 'DUODO PALACE HOTEL'}, {'id': 'YXVCEHVI', 'name': 'VILLA IGEA HOTEL'}, {'id': 'YXVCEFOS', 'name': 'FOSCARI PALACE'}, {'id': 'YXVCEADL', 'name': 'AI DUE LEONI'}, {'id': 'YXVCECAF', 'name': 'HOTEL CA FORMENTA'}, {'id': 'YXVCEACR', 'name': 'ALLA CORTE ROSSA'}, {'id': 'YXVCEADV', 'name': 'AL DUCA DI VENEZIA'}, {'id': 'YXVCEPAN', 'name': 'HOTEL PANORAMA VCE'}, {'id': 'YXVCECAP', 'name': 'HOTEL CA PAGAN'}, {'id': 'YXVCEACC', 'name': 'ACCA HOTEL'}, {'id': 'YXVCEHVP', 'name': 'HOTEL VILLA PARCO'}, {'id': 'YXVCEMCH', 'name': 'SWISS INTL MICHELANGELO'}, {'id': 'YXVCEBER', 'name': 'BELLEVUE SUITES ST MARK SQUARE'}, {'id': 'YXVCEPBH', 'name': 'PALACE BONVECCHIATI'}]\n"
          ]
        },
        {
          "output_type": "stream",
          "name": "stderr",
          "text": [
            "ERROR:__main__:Failed to fetch hotel offers: 400, Response: {\"errors\":[{\"code\":4070,\"title\":\"UNABLE TO PROCESS - CONTACT HELP DESK\",\"status\":400,\"detail\":\"Provider Error - UNABLE TO PROCESS - CONTACT HELP DESK\",\"source\":{\"parameter\":\"hotelIds=HIVCE9F8\"}},{\"code\":1257,\"title\":\"INVALID PROPERTY CODE\",\"status\":400,\"detail\":\"Provider Error - INVALID PROPERTY CODE\",\"source\":{\"parameter\":\"hotelIds=HOVCECEF,HSVCEABB,HSVCEABW,HSVCEABX,HSVCEACB,HSVCEACD,HSVCEACG,HSVCEACR,HSVCEADI,HSVCEADY,HSVCEAEI,HSVCEAFB,HSVCEAFR,HSVCEAGT,HSVCEAGW,HSVCEAHL,HSVCEAHZ,HSVCEAIL,HSVCEAIP,HSVCEAJK,HSVCEAJM,HSVCEAKB,HSVCEALC,HSVCEALF,HSVCEANG,HSVCEANK,HSVCEAPK,HSVCEAPT,HSVCEAQB,HSVCEARF,HSVCEARI,HSVCEARJ,HSVCEARO,HSVCEASP,HSVCEATG,HSVCEATT,HSVCEATX,HSVCEAWI,HSVCEAWJ,HSVCEAWL\"}},{\"code\":3664,\"title\":\"NO ROOMS AVAILABLE AT REQUESTED PROPERTY\",\"status\":400,\"detail\":\"Provider Error - NO ROOMS AVAILABLE AT REQUESTED PROPERTY\",\"source\":{\"parameter\":\"hotelIds=HAVCEALV,HAVCECAD,HAVCEH13,HAVCENID,HSVCEAEF,HSVCEAGB,HSVCEALO,HSVCEAPN,HSVCEAVI\"}}]}\n",
            "WARNING:__main__:No flight data found for RMA -> VCE\n"
          ]
        },
        {
          "output_type": "stream",
          "name": "stdout",
          "text": [
            "[{'id': 'ARFLRFIR', 'name': 'AC BY MARRIOTT HOTEL FIRENZE'}, {'id': 'BWFLR309', 'name': 'BEST WESTERN HOTEL RIVER'}, {'id': 'BWFLR267', 'name': 'BW HOTEL PALAZZO OGNISSANTI'}, {'id': 'BWFLR158', 'name': 'BEST WESTERN GRAND HOTEL ADRIATICO'}, {'id': 'CHFLRHMT', 'name': 'HOTEL MARTELLI'}, {'id': 'CHFLRHRH', 'name': 'RESIDENCE HILDA'}, {'id': 'CHFLRH38', 'name': 'HOTEL PRIVILEGE'}, {'id': 'CHFLRH49', 'name': 'HOTEL ANNABELLA'}, {'id': 'CHFLRHCE', 'name': 'HOTEL I CEDRI'}, {'id': 'DHFLRANY', 'name': 'C-HOTELS THE STYLE FLORENCE'}, {'id': 'DSFLRCON', 'name': 'CONTINENTALE'}, {'id': 'EPFLR625', 'name': 'RELAIS VILLA BELPOGGIO'}, {'id': 'EPFLRMON', 'name': 'UNA PALAZZO MANNAIONI'}, {'id': 'EUFLRVTO', 'name': 'VILLA TOLOMEI HOTEL & RESORT'}, {'id': 'FGFLRH01', 'name': 'HOTEL BALESTRI'}, {'id': 'FGFLRBIL', 'name': 'AFFITTACAMERE CASA BILLI'}, {'id': 'GAFLRAUG', 'name': 'GALLERY HOTEL ART'}, {'id': 'GIFLR424', 'name': 'HILTON GRDN INN FLORENCE NOVOLI'}, {'id': 'GZFLROLI', 'name': 'HOTEL OLIMPIA'}, {'id': 'GZFLRHCI', 'name': 'HOTEL CIMABUE'}, {'id': 'GZFLR243', 'name': 'HOTEL ALBION'}, {'id': 'GZFLR703', 'name': 'HOTEL MORANDI ALLA CROCETTA'}, {'id': 'GZFLRCAR', 'name': 'HOTEL VILLA CARLOTA'}, {'id': 'GZFLRH22', 'name': 'HOTEL SEMPIONE'}, {'id': 'GZFLR051', 'name': 'HOTEL BOTTICELLI'}, {'id': 'GZFLR694', 'name': 'HOTEL MERIDIANA'}, {'id': 'GZFLRBBP', 'name': 'B AND B LA PIAZZETTA'}, {'id': 'HAFLRVEC', 'name': 'PALAZZO VECCHIO'}, {'id': 'HAFLRVIA', 'name': 'VILLA DE RONDINI-FIRENZE'}, {'id': 'HAFLRASC', 'name': 'ASCOT'}, {'id': 'HAFLRCAP', 'name': 'HOTEL VILLA CAPPUGI'}, {'id': 'HOFLR117', 'name': 'RELAIS VIGNALE'}, {'id': 'HSFLRAOW', 'name': 'PARK HOTEL RIPAVERDE'}, {'id': 'HSFLRARS', 'name': 'ALINARI'}, {'id': 'HSFLRAPH', 'name': 'CORTE DEI MEDICI'}, {'id': 'HSFLRABM', 'name': \"L'ULTIMO MULINO\"}, {'id': 'HSFLRABB', 'name': 'ASTORIA'}, {'id': 'HSFLRAFQ', 'name': 'LA COLLEGIATA'}, {'id': 'HSFLRAAO', 'name': 'PAGGERIA MEDICEA'}, {'id': 'HSFLRADI', 'name': 'RELAIS VILLA IL SASSO'}, {'id': 'HSFLRAJN', 'name': 'MARRANI'}, {'id': 'HSFLRAGD', 'name': 'LA SELVA'}, {'id': 'HSFLRAQK', 'name': 'LOCANDA DEI BARONI ANTICA DIMORA'}, {'id': 'HSFLRAGB', 'name': 'WEST FLORENCE'}, {'id': 'HSFLRAAU', 'name': 'CENTRO'}, {'id': 'HSFLRADP', 'name': 'LOCANDA LE PIAZZE'}, {'id': 'HSFLRAGX', 'name': 'VILLA LA BORGHETTA'}, {'id': 'HSFLRASV', 'name': 'BLACK 5 FLORENCE SUITE'}, {'id': 'HSFLRAEF', 'name': 'TOGETHER FLORENCE INN'}, {'id': 'HSFLRASS', 'name': \"1865 RESIDENZA D'EPOCA\"}, {'id': 'HSFLRAGK', 'name': 'DEI MACCHIAIOLI'}, {'id': 'HSFLRAHS', 'name': 'PARK PALACE'}, {'id': 'HSFLRARE', 'name': 'PALAZZO RUSPOLI B-B'}, {'id': 'HSFLRAQX', 'name': 'AXIAL'}, {'id': 'HSFLRAOG', 'name': 'DELLA ROBBIA'}, {'id': 'HSFLRAPA', 'name': 'LIDO'}, {'id': 'HSFLRAJH', 'name': 'ART ATELIER'}, {'id': 'HSFLRAPD', 'name': 'RITA MAJOR'}, {'id': 'HSFLRAOK', 'name': 'TRINITY APARTMENTS'}, {'id': 'HSFLRAOM', 'name': 'NILHOTEL'}, {'id': 'HSFLRARU', 'name': 'LA MONGOLFIERA RESIDENZE'}, {'id': 'HSFLRAQB', 'name': 'EDEN'}, {'id': 'HSFLRAQM', 'name': 'JANE'}, {'id': 'HSFLRAMP', 'name': 'ANNALENA'}, {'id': 'HSFLRAJX', 'name': 'SAN GAGGIO HOUSE B-B'}, {'id': 'HSFLRAQR', 'name': 'RESIDENCE MICHELANGIOLO'}, {'id': 'HSFLRAQA', 'name': 'VILLA BIANCA'}, {'id': 'HSFLRAQH', 'name': 'BORGO SANT IPPOLITO COUNTRY HOTEL'}, {'id': 'HSFLRALJ', 'name': 'LOCANDA IL GALLO LOGIS'}, {'id': 'HSFLRAAV', 'name': 'IL CASELLO COUNTRY HOUSE'}, {'id': 'HSFLRAGQ', 'name': 'VILLA AMBROSINA'}, {'id': 'HSFLRAHE', 'name': 'RESIDENZA DEL GRANDUCA'}, {'id': 'HSFLRAFM', 'name': 'AMBROSIANO'}, {'id': 'HSFLRADL', 'name': 'MINERVA PALACE'}, {'id': 'HSFLRAEC', 'name': 'ALASSIO'}, {'id': 'HSFLRABT', 'name': 'LA PIA'}, {'id': 'HSFLRAEJ', 'name': 'BOSTON'}, {'id': 'HSFLRAUA', 'name': 'MIRO'}, {'id': 'HSFLRAAJ', 'name': 'TORRETTA'}, {'id': 'HSFLRACA', 'name': 'PANORAMIC GRAND HOTEL'}, {'id': 'HSFLRACG', 'name': 'TAMERICI E PRINCIPE GRAND HOTEL'}, {'id': 'HSFLRADU', 'name': 'IL MOLINO DEL PONTE'}, {'id': 'HSFLRAFN', 'name': 'VILLA GIORGIA ALBERGO IN COLLINA'}, {'id': 'HSFLRAAZ', 'name': 'VILLA IL TREBBIOLO'}, {'id': 'HSFLRACH', 'name': 'DATINI'}, {'id': 'HSFLRAFA', 'name': 'I CILIEGI'}, {'id': 'HSFLRAUH', 'name': 'VILLA I BARRONCI'}, {'id': 'HSFLRAGG', 'name': 'VILLA DUCCI'}, {'id': 'HSFLRAAL', 'name': 'SOVESTRO'}, {'id': 'HSFLRABQ', 'name': 'LE VOLPAIE'}, {'id': 'HSFLRAEV', 'name': 'VILLA GUARNASCHELLI'}, {'id': 'HSFLRAEI', 'name': 'MARZIA'}, {'id': 'HSFLRASL', 'name': 'UNA HOTEL POGGIO DEI MEDICI GOLF - RESOR'}, {'id': 'HSFLRATG', 'name': 'VILLA PICCOLA SIENA'}, {'id': 'HSFLRASU', 'name': 'CHIANTI VILLAGE MORROCCO'}, {'id': 'HSFLRAFX', 'name': 'FATTORIA QUERCETO'}, {'id': 'LWFLR163', 'name': 'CASTELLO  DEL NERO'}, {'id': 'LXFLRVAR', 'name': 'VILLA ARMENA'}, {'id': 'LXFLRJKP', 'name': 'JK PLACE FIRENZE'}, {'id': 'OIFLREJU', 'name': 'GARIBALDIS HOTEL RELAIS ET CHARME'}, {'id': 'OIFLRD1Q', 'name': 'HOTEL MICHELANGELO-MONTECATINI-TERME'}, {'id': 'OIFLRD99', 'name': 'GRAND HOTEL NIZZA ET SUISSE'}, {'id': 'OIFLRD21', 'name': 'HOTEL BONIFACIO'}, {'id': 'ONFLRKRI', 'name': 'HOTEL KRISTAL'}, {'id': 'ONFLRPAL', 'name': 'MSNSUITES PALAZZO DEI CIOMPI-FIRENZE'}, {'id': 'ONFLRDLP', 'name': 'HOTEL DE LA PACE'}, {'id': 'ONFLR250', 'name': 'HOTEL VILLA LIANA'}, {'id': 'PHFLRPVH', 'name': 'PALAZZO VECCHIETTI PREFERRED B'}, {'id': 'PHFLRMSH', 'name': 'MONTEBELLO SPLENDID PREFERRED'}, {'id': 'RTFLRVOR', 'name': 'VILLA OLMI RESORT-BAGNO A RIPOLI'}, {'id': 'RTFLRSOF', 'name': 'CERRETANI FIRENZE (EX SOFITEL)'}, {'id': 'RTFLREST', 'name': 'IBIS FIRENZE PRATO EST'}, {'id': 'RTFLRAPT', 'name': 'NOVOTEL FIRENZE NORD AEROPORTO'}, {'id': 'SXFLRPLA', 'name': 'PLAZA HOTEL LUCCHESI'}, {'id': 'SYFLRMIC', 'name': 'STARHOTELS MICHELANGELO'}, {'id': 'SYFLRMRO', 'name': 'STARHOTELS TUSCANY'}, {'id': 'SYFLRSTA', 'name': 'STARHOTELS VESPUCCI'}, {'id': 'TAFLRBET', 'name': 'HOTEL VILLA BETANIA'}, {'id': 'TSFLR286', 'name': 'HOTEL IL GUELFO BIANCO'}, {'id': 'UIFLREXE', 'name': 'EXECUTIVE HOTEL'}, {'id': 'UIFLRVLL', 'name': 'VILLA FIESOLE HOTEL'}, {'id': 'UIFLRHCL', 'name': 'C-HOTELS CLUB'}, {'id': 'UIFLRPRS', 'name': 'PARIS HOTEL'}, {'id': 'UIFLRCLA', 'name': 'HOTEL HOME FLORENCE'}, {'id': 'UIFLRBER', 'name': 'HOTEL BERNINI PALACE'}, {'id': 'UIFLR123', 'name': 'HOTEL LAURUS AL DUOMO'}, {'id': 'UIFLRARZ', 'name': 'ARIZONA HOTEL'}, {'id': 'UIFLRSGP', 'name': 'SAN GALLO PALACE HOTEL'}, {'id': 'UIFLRC2H', 'name': 'MACHIAVELLI PALACE HOTEL'}, {'id': 'UIFLREIX', 'name': 'FIRST HOTEL'}, {'id': 'UZFLR138', 'name': 'VILLA GIOTTO PARK HOTEL - BIVIGLIANO'}, {'id': 'UZFLRART', 'name': 'ART HOTEL MIRO'}, {'id': 'UZFLRH39', 'name': 'HOTEL GRIFONE'}, {'id': 'UZFLRCRO', 'name': 'CROCE DI MALTA HOTEL'}, {'id': 'VPFLR310', 'name': 'RELAIS UFFIZI'}, {'id': 'WBFLR302', 'name': 'GRAND HOTEL VILLA CORA'}, {'id': 'WBFLRBOR', 'name': 'HOTEL RELAIS BORGO SAN FELICE'}, {'id': 'WIFLR043', 'name': 'THE WESTIN EXCELSIOR FLORENCE'}, {'id': 'WVFLRORO', 'name': 'HOTEL L OROLOGIO'}, {'id': 'WVFLRGTO', 'name': 'GOLDEN TOWER FIRENZE'}, {'id': 'WVFLRMIN', 'name': 'GRAND HOTEL MINERVA'}, {'id': 'WVFLR471', 'name': 'BED AND BREAKFAST EUROHOME'}, {'id': 'WVFLR549', 'name': 'HOTEL MONTREAL'}, {'id': 'WVFLR400', 'name': 'ALAMANNI HOTEL'}, {'id': 'WVFLRAHO', 'name': 'ROOM MATE ISABELLA'}, {'id': 'WVFLRCAR', 'name': 'ROOM MATE LUCA'}, {'id': 'WVFLRLEM', 'name': 'HOTEL CASA LEMMI'}, {'id': 'XLFLRABR', 'name': 'VILLASANPAOLO WELLNESS E RELAX'}, {'id': 'XRFLR045', 'name': 'THE ST REGIS FLORENCE'}, {'id': 'YXFLR8RJ', 'name': 'HOTEL MINERVA AREZZO'}, {'id': 'YXFLRPOG', 'name': 'POGGIO CENNINA'}, {'id': 'YXFLRVDP', 'name': 'VILLA DI PIAZZANO'}, {'id': 'YXFLRNAZ', 'name': 'HOTEL DELLE NAZIONI FLORENCE'}, {'id': 'YXFLRH27', 'name': 'HOTEL GIOIA'}, {'id': 'YXFLRH44', 'name': 'HOTEL MEDICI'}, {'id': 'YXFLRH03', 'name': 'HOTEL ARIELE'}, {'id': 'YXFLRKUR', 'name': 'HOTEL KURSAAL AND AUSONIA'}, {'id': 'YXFLRHDF', 'name': 'HOTEL DELTA FLORENCE'}, {'id': 'YXFLRC20', 'name': 'PALAZZO RICASOLI'}, {'id': 'YXFLRH56', 'name': 'HOTEL LA GIOCONDA FLORENCE'}, {'id': 'YXFLR834', 'name': 'ORTO DE MEDICI'}, {'id': 'YXFLRHMG', 'name': 'RAPALLO HOTEL'}, {'id': 'YXFLRH14', 'name': 'HOTEL COSIMO DE MEDICI'}, {'id': 'YXFLR154', 'name': 'HOTEL CARAVAGGIO'}, {'id': 'YXFLRBN5', 'name': 'HOTEL COLOMBA'}, {'id': 'YXFLRGIG', 'name': 'HOTEL GIGLIO'}, {'id': 'YXFLRSIH', 'name': 'SILLA HOTEL'}, {'id': 'YXFLRHBE', 'name': 'HOTEL BEATRICE'}, {'id': 'YXFLRBAH', 'name': 'BORGHESE PALACE ART HOTEL'}, {'id': 'YXFLR482', 'name': 'EMBASSY HOTEL'}, {'id': 'YXFLR444', 'name': 'I PARIGI CORBINELLI'}, {'id': 'YXFLRHDC', 'name': 'HOTEL SPAGNA'}, {'id': 'YXFLRTDB', 'name': 'TORRE DI BELLOSGUAR'}, {'id': 'YXFLRH29', 'name': 'HOTEL CITY'}, {'id': 'YXFLRHDR', 'name': 'HOTEL DE ROSE PALACE'}, {'id': 'YXFLRTOR', 'name': 'ANTICA TORRE TORNABUONI 1'}, {'id': 'YXFLR424', 'name': 'DEMIDOFF COUNTRY RESORT'}, {'id': 'YXFLRSTA', 'name': 'HOTEL VILLA STANLEY - SESTO FI'}, {'id': 'YXFLR842', 'name': 'BORGO DI CORTEFREDA HOTEL RELA'}, {'id': 'YXFLRH25', 'name': 'HOTEL FEDORA'}, {'id': 'YXFLRBRU', 'name': 'HOTEL BRUNELLESCHI'}, {'id': 'YXFLRH06', 'name': 'HOTEL GOLF FLORENCE'}, {'id': 'YXFLRROV', 'name': 'RELAIS DELLA ROVERE'}]\n"
          ]
        },
        {
          "output_type": "stream",
          "name": "stderr",
          "text": [
            "ERROR:__main__:Failed to fetch hotel offers: 400, Response: {\"errors\":[{\"code\":3289,\"title\":\"RATE NOT AVAILABLE FOR REQUESTED DATES\",\"status\":400,\"detail\":\"Provider Error - RATE NOT AVAILABLE FOR REQUESTED DATES\",\"source\":{\"parameter\":\"hotelIds=YXFLR444,YXFLRBAH,YXFLRGIG,YXFLRH06,YXFLRTDB\"}},{\"code\":1257,\"title\":\"INVALID PROPERTY CODE\",\"status\":400,\"detail\":\"Provider Error - INVALID PROPERTY CODE\",\"source\":{\"parameter\":\"hotelIds=YXFLR154,YXFLR424,YXFLR482,YXFLR834,YXFLR842,YXFLRBN5,YXFLRBRU,YXFLRH03,YXFLRH14,YXFLRH25,YXFLRH27,YXFLRH29,YXFLRH44,YXFLRH56,YXFLRHBE,YXFLRHDC,YXFLRHDR,YXFLRHMG,YXFLRKUR,YXFLRROV,YXFLRSIH,YXFLRSTA,YXFLRTOR\"}},{\"code\":3664,\"title\":\"NO ROOMS AVAILABLE AT REQUESTED PROPERTY\",\"status\":400,\"detail\":\"Provider Error - NO ROOMS AVAILABLE AT REQUESTED PROPERTY\",\"source\":{\"parameter\":\"hotelIds=YXFLRC20,YXFLRHDF,YXFLRNAZ,YXFLRPOG,YXFLRVDP\"}}]}\n",
            "WARNING:__main__:No flight data found for RMA -> FLR\n",
            "INFO:werkzeug:127.0.0.1 - - [15/Mar/2025 19:38:56] \"POST /selecionar_cidade HTTP/1.1\" 200 -\n"
          ]
        },
        {
          "output_type": "stream",
          "name": "stdout",
          "text": [
            "Imagens encontradas: {'Roma': ['https://pixabay.com/get/g7eaa4e36d7999e294cc06e4b60e819fd1f34c84729d04fdffba54363f8b2ac5d8fa0279c2885eee1cca53e6596ec6ddc79fc45a26c3285567d5c291cfc477273_1280.jpg', 'https://pixabay.com/get/g2a29fe7b2c0ff10d6fc2593094b5b0674bc30a638e6587134c99a9268fa4edf639de6e2126bbe246d7a63313730f87f0182233fd744f943f82a1ae466fd1ff95_1280.jpg', 'https://pixabay.com/get/g677ab634595962ef0634b25beda8d8f05ffc2901374f5cc1af0df5e9ae2ea902b84f4ed8b37f3dd2ecd1118bc9fefeb96684744dcf9af40931b860baa6216fb7_1280.jpg', 'https://pixabay.com/get/g5ac7ec56873386f7405743ad4919fd4c148442bce0d27ad5df0684269b5f92d3e0d98c48949817c9cf3eddefb4d31fb64234b28c7dc95b89f1321c9a39780694_1280.jpg', 'https://pixabay.com/get/g2bccced962dfa7e0e30112b5ab07b4f4aa07b715364eaa1d24cfaaffc01d5ad161b5ebd22114f2d661d613170b37c643e70889ce9a0ff37d9d0b466201592769_1280.jpg'], 'Veneza': ['https://pixabay.com/get/g95d873337c38951c09d56a88fe8d76fec4c412e52cfc01a8041b8d87533ccdd08ff7ad366b066312327847d7c2a87e63b22ab055a5fbdc2dd05e468fc41e2a04_1280.jpg', 'https://pixabay.com/get/gb63794a81c1741f662039cc4bd6ab72ac0b093f1a9f2e5f9ab85fe7d5c535e816a439ff88a45068a7113e11fa30627fc1d55641873d744b9c77774897b89f94b_1280.jpg', 'https://pixabay.com/get/g46b938ac79caf6c96e55277bf7498ecffc1b334c3a92b60c663c44990c2e7aea4ce446800841baaf0e93f6a4a78424f91edefa9d0fa5a49059a15618446fa0fa_1280.jpg', 'https://pixabay.com/get/gd3f1ca35fa464a3b75e60b08395c787300647380dd836a248f92976608ef3df71c44c1d057ad1c945614380c354d32d7233d9d0cd3164f1c35a13bd7e172f2d7_1280.jpg', 'https://pixabay.com/get/g53d09b40cdc3663d41744a374dcb8f434c65895bbba1ca30072a225a9f68e48c6bf5f174f5f0385862e1f9bead16db5bf55f7a52587eafef7be3b8f8167bc8ea_1280.jpg'], 'Florença': ['https://pixabay.com/get/g5b4b85cf13548205b69870433826bb516581167c14fc3763b47e62907b15027df556412a32661a8b9506dbf892dc90fba2301fca8c4017103fe6acbf9d9e77d6_1280.jpg', 'https://pixabay.com/get/gb8d9baf1e02df45f2f5c3f2e2f5de8a1af153d535b400e3cfd8a7590aa17b4c6cb3c92346132a7339d837faabcfb9b23073c360591356658917987d84bd6da4e_1280.jpg', 'https://pixabay.com/get/gc11060c59b616bc1b15c65b4f9b476f0c85ed755aab36892250cb75a7c80df9992543c59816f2081be259504ea0fb9b8f35c2e7be775e0a162bead3cf34eb688_1280.jpg', 'https://pixabay.com/get/gd5ba5f450e0b6125f3c586105874901a058476d1c0910bbdeccda6285637501057870b9ef0c5101b3edf27aa924775da3a602bfd7e475bee0e5cf137b5fd1150_1280.jpg', 'https://pixabay.com/get/ga2bbf672d71c70a16d14b0c04949f08630a36c9e182a21e396c5c0977644c5151fa454adbc5555d4dbd673a8c624d8f81d7027fa515b6c4f1da249a5c0fad7ae_1280.jpg']}\n"
          ]
        },
        {
          "output_type": "stream",
          "name": "stderr",
          "text": [
            "INFO:werkzeug:127.0.0.1 - - [15/Mar/2025 19:40:59] \"GET / HTTP/1.1\" 200 -\n",
            "INFO:werkzeug:127.0.0.1 - - [15/Mar/2025 19:43:08] \"GET / HTTP/1.1\" 200 -\n",
            "INFO:werkzeug:127.0.0.1 - - [15/Mar/2025 19:43:10] \"\u001b[33mGET /favicon.ico HTTP/1.1\u001b[0m\" 404 -\n"
          ]
        }
      ],
      "source": [
        "from flask import Flask, request, render_template, redirect, url_for, Response\n",
        "from flask_ngrok import run_with_ngrok\n",
        "from transformers import AutoModelForCausalLM, AutoTokenizer, BitsAndBytesConfig\n",
        "from accelerate import Accelerator\n",
        "import torch\n",
        "from amadeus import Client, ResponseError\n",
        "from huggingface_hub import login\n",
        "from google.colab import userdata\n",
        "import re\n",
        "import logging\n",
        "import os\n",
        "import asyncio\n",
        "import aiohttp\n",
        "from datetime import datetime, timedelta\n",
        "import base64\n",
        "from pyngrok import ngrok\n",
        "from fuzzywuzzy import process\n",
        "import json\n",
        "import csv\n",
        "import pandas as pd\n",
        "import random\n",
        "import googlemaps\n",
        "\n",
        "logging.basicConfig(level=logging.DEBUG)\n",
        "logger = logging.getLogger(__name__)\n",
        "logger.info(\"This is a test log\")\n",
        "\n",
        "# Carregar a base de dados de cidades\n",
        "with open(\"cidades_filtradas.json\", \"r\", encoding=\"utf-8\") as arquivo:\n",
        "    BASE_CIDADES = json.load(arquivo)\n",
        "\n",
        "def carregar_base_iata(caminho_arquivo):\n",
        "    df = pd.read_csv(caminho_arquivo, on_bad_lines='skip')\n",
        "    required_columns = [\"name\", \"iso_country\", \"municipality\", \"iata_code\"]\n",
        "    for col in required_columns:\n",
        "        if col not in df.columns:\n",
        "            raise KeyError(f\"Coluna '{col}' não encontrada no arquivo CSV.\")\n",
        "    df = df.dropna(subset=['iata_code'])\n",
        "    df = df[df['iata_code'] != '']\n",
        "    df['municipality'] = df['municipality'].fillna('')\n",
        "    base_iata = df[[\"name\", \"iso_country\", \"municipality\", \"iata_code\"]].rename(columns={\n",
        "        \"name\": \"nome_aeroporto\",\n",
        "        \"iso_country\": \"pais\",\n",
        "        \"municipality\": \"cidade\",\n",
        "        \"iata_code\": \"iata\"\n",
        "    }).to_dict(orient='records')\n",
        "    return base_iata\n",
        "\n",
        "BASE_IATA = carregar_base_iata(\"IATA_Cities.csv\")\n",
        "\n",
        "import random\n",
        "\n",
        "# Lista de lugares famosos para turismo\n",
        "LUGARES_FAMOSOS = [\n",
        "    \"Paris\", \"New York\", \"Tokyo\", \"Rome\", \"London\",\n",
        "    \"Barcelona\", \"Dubai\", \"Sydney\", \"Rio de Janeiro\", \"Machu Picchu\"\n",
        "]\n",
        "\n",
        "def buscar_imagem_aleatoria():\n",
        "    lugar = random.choice(LUGARES_FAMOSOS)\n",
        "    imagens = buscar_imagens_pixabay(lugar)\n",
        "    return imagens[0] if imagens else None\n",
        "\n",
        "    # Para requisições GET, buscar uma imagem aleatória\n",
        "    imagem_fundo = buscar_imagem_aleatoria()\n",
        "    return render_template(\"index.html\", imagem_fundo=imagem_fundo)\n",
        "\n",
        "\n",
        "\n",
        "# Initialize Google Maps client\n",
        "gmaps = googlemaps.Client(key=userdata.get('Maps'))\n",
        "\n",
        "def get_address_from_lat_lng(latitude, longitude):\n",
        "    try:\n",
        "        # Reverse geocode the latitude and longitude\n",
        "        reverse_geocode_result = gmaps.reverse_geocode((latitude, longitude))\n",
        "        if reverse_geocode_result:\n",
        "            # Extract the formatted address\n",
        "            return reverse_geocode_result[0][\"formatted_address\"]\n",
        "        return \"N/A\"\n",
        "    except Exception as e:\n",
        "        logger.error(f\"Erro na API do Google Maps: {e}\")\n",
        "        return \"N/A\"\n",
        "\n",
        "def batch_hotel_ids(hotel_ids, batch_size=50):\n",
        "    \"\"\"\n",
        "    Split the list of hotel IDs into smaller batches.\n",
        "    \"\"\"\n",
        "    for i in range(0, len(hotel_ids), batch_size):\n",
        "        yield hotel_ids[i:i + batch_size]\n",
        "\n",
        "def buscar_iata_por_cidade(nome_cidade, codigo_pais=None):\n",
        "    nome_cidade = nome_cidade.strip().lower()\n",
        "    resultados = []\n",
        "    for cidade in BASE_IATA:\n",
        "        cidade_nome = str(cidade.get(\"cidade\", \"\")).lower()\n",
        "        if nome_cidade in cidade_nome:\n",
        "            if codigo_pais and cidade.get(\"pais\", \"\").lower() != codigo_pais.lower():\n",
        "                continue\n",
        "            resultados.append({\n",
        "                \"nome\": cidade[\"cidade\"],\n",
        "                \"iata\": cidade[\"iata\"]\n",
        "            })\n",
        "    return resultados\n",
        "\n",
        "import requests\n",
        "\n",
        "PIXABAY_API_KEY = userdata.get('Pixabay')\n",
        "\n",
        "\n",
        "def buscar_imagens_pixabay(query):\n",
        "    url = f\"https://pixabay.com/api/?key={PIXABAY_API_KEY}&q={query}&image_type=photo&per_page=5\"\n",
        "    response = requests.get(url)\n",
        "    if response.status_code == 200:\n",
        "        data = response.json()\n",
        "        return [imagem[\"largeImageURL\"] for imagem in data.get(\"hits\", [])]\n",
        "    return []\n",
        "\n",
        "ngrok.set_auth_token(userdata.get('NGROK'))\n",
        "app = Flask(__name__)\n",
        "\n",
        "# Middleware to add custom User-Agent header\n",
        "@app.after_request\n",
        "def add_custom_user_agent(response):\n",
        "    response.headers['User-Agent'] = 'Custom-Agent'\n",
        "    return response\n",
        "\n",
        "public_url = ngrok.connect(5000).public_url\n",
        "\n",
        "login(token=userdata.get('HUGGINGFACE_TOKEN'))\n",
        "AMADEUS_CLIENT_ID = userdata.get('AMADEUS_API_KEY')\n",
        "AMADEUS_CLIENT_SECRET = userdata.get('AMADEUS_API_SECRET')\n",
        "\n",
        "if not AMADEUS_CLIENT_ID or not AMADEUS_CLIENT_SECRET:\n",
        "    raise ValueError(\"Amadeus credentials not found in Colab Secrets. Please add them.\")\n",
        "\n",
        "amadeus = Client(\n",
        "    client_id=AMADEUS_CLIENT_ID,\n",
        "    client_secret=AMADEUS_CLIENT_SECRET)\n",
        "\n",
        "# Restante do código Flask (modelo, funções, rotas, etc.) permanece o mesmo...\n",
        "\n",
        "async def get_session():\n",
        "    return aiohttp.ClientSession()\n",
        "\n",
        "model_id = \"mistralai/Mistral-7B-Instruct-v0.3\"\n",
        "bnb_config = BitsAndBytesConfig(\n",
        "    load_in_4bit=True,\n",
        "    bnb_4bit_compute_dtype=torch.float16,\n",
        "    bnb_4bit_use_double_quant=True,\n",
        "    bnb_4bit_quant_type=\"nf4\",\n",
        ")\n",
        "tokenizer = AutoTokenizer.from_pretrained(model_id)\n",
        "model = AutoModelForCausalLM.from_pretrained(\n",
        "    model_id,\n",
        "    quantization_config=bnb_config,\n",
        "    device_map=\"auto\",\n",
        "    torch_dtype=torch.float16,\n",
        "    trust_remote_code=True\n",
        ")\n",
        "accelerator = Accelerator()\n",
        "model, tokenizer = accelerator.prepare(model, tokenizer)\n",
        "\n",
        "def validate_date(date_str):\n",
        "    try:\n",
        "        datetime.strptime(date_str, \"%Y-%m-%d\")\n",
        "        return True\n",
        "    except ValueError:\n",
        "        return False\n",
        "\n",
        "def extrair_cidades_e_iata(texto):\n",
        "    padrao = r\"([A-Za-zÀ-ÿ,\\s]+)\\s*\\(([A-Z]{3})\\)\"\n",
        "    matches = re.findall(padrao, texto)\n",
        "    cidades = [{\"nome\": cidade.title().strip(), \"iata\": iata.strip()} for cidade, iata in matches]\n",
        "    return cidades\n",
        "\n",
        "def buscar_cidades_similares_local(nome_cidade, limite=5):\n",
        "    nomes_cidades = [cidade[\"nome\"] for cidade in BASE_CIDADES]\n",
        "    resultados = process.extract(nome_cidade, nomes_cidades, limit=limite)\n",
        "    cidades_similares = []\n",
        "    for nome, score in resultados:\n",
        "        if score >= 70:\n",
        "            cidade = next((c for c in BASE_CIDADES if c[\"nome\"] == nome), None)\n",
        "            if cidade:\n",
        "                cidades_similares.append(cidade)\n",
        "    return cidades_similares\n",
        "\n",
        "async def buscar_hoteis_por_cidade(session, cidade_iata, access_token):\n",
        "    try:\n",
        "        async with session.get(\n",
        "            \"https://test.api.amadeus.com/v1/reference-data/locations/hotels/by-city\",\n",
        "            params={\"cityCode\": cidade_iata},\n",
        "            headers={\"Authorization\": f\"Bearer {access_token}\"}\n",
        "        ) as response:\n",
        "            if response.status == 200:\n",
        "                hotel_data = (await response.json()).get(\"data\", [])\n",
        "                if not hotel_data:\n",
        "                    return \"No hotels found for this city.\"\n",
        "\n",
        "                # Extract hotel IDs and names\n",
        "                hotel_list = [{\"id\": hotel.get(\"hotelId\", \"N/A\"), \"name\": hotel.get(\"name\", \"N/A\")} for hotel in hotel_data]\n",
        "                print(hotel_list)\n",
        "                return hotel_list\n",
        "            else:\n",
        "                error_response = await response.text()\n",
        "                logger.error(f\"Failed to fetch hotels: {response.status}, Response: {error_response}\")\n",
        "                return None\n",
        "    except Exception as e:\n",
        "        logger.error(f\" Buscar_hoteis: Erro na API Amadeus: {e}\")\n",
        "        return None\n",
        "\n",
        "\n",
        "async def buscar_ofertas_multiplos_hoteis(session, hotel_ids, access_token, check_in_date, check_out_date):\n",
        "    try:\n",
        "        detailed_hotels = []\n",
        "\n",
        "        # Split hotel IDs into batches\n",
        "        for batch in batch_hotel_ids(hotel_ids):\n",
        "            params = {\n",
        "                \"hotelIds\": \",\".join(batch),  # Convert batch of hotel IDs to a comma-separated string\n",
        "                \"checkInDate\": check_in_date,\n",
        "                \"checkOutDate\": check_out_date,\n",
        "                \"roomQuantity\": 1,  # Number of rooms\n",
        "                \"adults\": 1,  # Number of adults\n",
        "                \"currency\": \"USD\",  # Currency for pricing\n",
        "                \"bestRateOnly\": \"false\",  # Allow multiple offers per hotel\n",
        "                \"includeClosed\": \"false\",  # Exclude closed hotels\n",
        "                \"lang\": \"EN\"  # Language for responses\n",
        "            }\n",
        "\n",
        "            async with session.get(\n",
        "                \"https://test.api.amadeus.com/v3/shopping/hotel-offers\",\n",
        "                params=params,\n",
        "                headers={\"Authorization\": f\"Bearer {access_token}\"}\n",
        "            ) as response:\n",
        "                if response.status == 200:\n",
        "                    hotel_data = (await response.json()).get(\"data\", [])\n",
        "                    if not hotel_data:\n",
        "                        continue\n",
        "\n",
        "                    # Extract details for each hotel\n",
        "                    for hotel in hotel_data:\n",
        "                        hotel_name = hotel.get(\"hotel\", {}).get(\"name\", \"N/A\")\n",
        "                        hotel_id = hotel.get(\"hotel\", {}).get(\"hotelId\", \"N/A\")\n",
        "                        latitude = hotel.get(\"hotel\", {}).get(\"latitude\", \"N/A\")\n",
        "                        longitude = hotel.get(\"hotel\", {}).get(\"longitude\", \"N/A\")\n",
        "                        offers = hotel.get(\"offers\", [])\n",
        "\n",
        "                        # Get full address using Google Maps Geocoding API\n",
        "                        endereco = get_address_from_lat_lng(latitude, longitude)\n",
        "\n",
        "                        # Extract price details (if available)\n",
        "                        preco = \"N/A\"\n",
        "                        if offers:\n",
        "                            preco = offers[0].get(\"price\", {}).get(\"total\", \"N/A\")\n",
        "\n",
        "                        hotel_info = {\n",
        "                            \"nome\": hotel_name,\n",
        "                            \"id\": hotel_id,\n",
        "                            \"endereco\": endereco,\n",
        "                            \"preco\": preco\n",
        "                        }\n",
        "                        detailed_hotels.append(hotel_info)\n",
        "                else:\n",
        "                    error_response = await response.text()\n",
        "                    logger.error(f\"Failed to fetch hotel offers: {response.status}, Response: {error_response}\")\n",
        "                    continue\n",
        "\n",
        "        return detailed_hotels\n",
        "    except Exception as e:\n",
        "        logger.error(f\"Erro na API Amadeus: {e}\")\n",
        "        return None\n",
        "\n",
        "async def buscar_detalhes_hotel(session, hotel_id, access_token):\n",
        "    try:\n",
        "        async with session.get(\n",
        "            f\"https://test.api.amadeus.com/v1/reference-data/locations/hotels/{hotel_id}\",\n",
        "            headers={\"Authorization\": f\"Bearer {access_token}\"}\n",
        "        ) as response:\n",
        "            if response.status == 200:\n",
        "                hotel_details = await response.json()\n",
        "                return hotel_details.get(\"data\", {})\n",
        "            else:\n",
        "                logger.error(f\"Failed to fetch hotel details: {response.status}\")\n",
        "                return None\n",
        "    except Exception as e:\n",
        "        logger.error(f\"Buscar Detalhes Hotel: Erro na API Amadeus: {e}\")\n",
        "        return None\n",
        "\n",
        "def get_default_departure_date():\n",
        "    today = datetime.today()\n",
        "    default_date = today + timedelta(days=10)\n",
        "    return default_date.strftime(\"%Y-%m-%d\")\n",
        "\n",
        "def gerar_sugestoes_viagem(prompt_usuario, num_sugestoes=3):\n",
        "    prompt_usuario += (\n",
        "        f\" Liste {num_sugestoes} de destinos turísticos, incluindo:\"\n",
        "        f\" - Informe cidades com serviço regular de voos que sejam proximas às atracoes destacadas: Nome da Cidade e seu codigo IATA em parentesis: (exemplo: 'San Juan (SJU)').\"\n",
        "        f\" - Principais atrações e atividades. use no maximo 1000 palavras de forma que resuma bem o pedido do usuario\"\n",
        "    )\n",
        "    inputs = tokenizer(prompt_usuario, return_tensors=\"pt\").to(\"cuda\")\n",
        "    inputs[\"attention_mask\"] = torch.ones_like(inputs[\"input_ids\"]).to(\"cuda\")\n",
        "    output = model.generate(\n",
        "        input_ids=inputs[\"input_ids\"],\n",
        "        attention_mask=inputs[\"attention_mask\"],\n",
        "        max_length=1000,\n",
        "        temperature=0.7,\n",
        "        top_p=0.9,\n",
        "        num_return_sequences=1,\n",
        "        do_sample=True,\n",
        "        pad_token_id=tokenizer.eos_token_id\n",
        "    )\n",
        "    response = tokenizer.decode(output[0], skip_special_tokens=True).strip()\n",
        "    print(response)\n",
        "    response = response.replace(prompt_usuario, \"\").strip()\n",
        "    return response, extrair_cidades_e_iata(response)\n",
        "\n",
        "async def buscar_hoteis(session, cidade_iata, access_token):\n",
        "    try:\n",
        "        async with session.get(\n",
        "            \"https://test.api.amadeus.com/v1/reference-data/locations/hotels/by-city\",\n",
        "            params={\"cityCode\": cidade_iata},\n",
        "            headers={\"Authorization\": f\"Bearer {access_token}\"}\n",
        "        ) as response:\n",
        "            if response.status == 200:\n",
        "                hotel_data = (await response.json()).get(\"data\", [])\n",
        "                if not hotel_data:\n",
        "                    return \"No hotels found for this city.\"\n",
        "\n",
        "                hotel_list = []\n",
        "                for hotel in hotel_data[:5]:  # Limita a 5 hotéis\n",
        "                    hotel_id = hotel.get(\"hotelId\")\n",
        "                    hotel_name = hotel.get(\"name\", \"N/A\")\n",
        "\n",
        "                    # Buscar detalhes do hotel\n",
        "                    hotel_details = await buscar_detalhes_hotel(session, hotel_id, access_token)\n",
        "                    if hotel_details:\n",
        "                        endereco = hotel_details.get(\"address\", {}).get(\"lines\", [\"N/A\"])[0]\n",
        "                        telefone = hotel_details.get(\"contact\", {}).get(\"phone\", \"N/A\")\n",
        "                        preco = hotel_details.get(\"price\", {}).get(\"amount\", \"N/A\")\n",
        "                    else:\n",
        "                        endereco = \"N/A\"\n",
        "                        telefone = \"N/A\"\n",
        "                        preco = \"N/A\"\n",
        "\n",
        "                    hotel_info = {\n",
        "                        \"nome\": hotel_name,\n",
        "                        \"id\": hotel_id,\n",
        "                        \"endereco\": endereco,\n",
        "                        \"telefone\": telefone,\n",
        "                        \"preco\": preco\n",
        "                    }\n",
        "                    hotel_list.append(hotel_info)\n",
        "\n",
        "                return hotel_list\n",
        "            else:\n",
        "                logger.error(f\"Failed to fetch hotels: {response.status}\")\n",
        "                return None\n",
        "    except Exception as e:\n",
        "        logger.error(f\"Buscar_Hoteis: Erro na API Amadeus: {e}\")\n",
        "        return None\n",
        "\n",
        "async def buscar_voos(session, origem_iata, destino, access_token, data_partida=\"2025-03-10\", adultos=1):\n",
        "    try:\n",
        "        params = {\n",
        "            \"originLocationCode\": origem_iata,\n",
        "            \"destinationLocationCode\": destino,\n",
        "            \"departureDate\": data_partida,\n",
        "            \"adults\": adultos,\n",
        "            \"max\": 5  # Limit to 5 results\n",
        "        }\n",
        "        async with session.get(\n",
        "            \"https://test.api.amadeus.com/v2/shopping/flight-offers\",\n",
        "            params=params,\n",
        "            headers={\"Authorization\": f\"Bearer {access_token}\"}\n",
        "        ) as response:\n",
        "            if response.status == 200:\n",
        "                flight_data = (await response.json()).get(\"data\", [])\n",
        "                if not flight_data:\n",
        "                    logger.warning(f\"No flight data found for {origem_iata} -> {destino}\")\n",
        "                    return None  # Retorna None se não houver voos\n",
        "\n",
        "                # Fetch airline names\n",
        "                airline_codes = set()\n",
        "                for flight in flight_data:\n",
        "                    for segment in flight[\"itineraries\"][0][\"segments\"]:\n",
        "                        airline_codes.add(segment[\"carrierCode\"])\n",
        "\n",
        "                # Map carrier codes to airline names\n",
        "                airline_names = {}\n",
        "                for code in airline_codes:\n",
        "                    async with session.get(\n",
        "                        \"https://test.api.amadeus.com/v1/reference-data/airlines\",\n",
        "                        params={\"airlineCodes\": code},\n",
        "                        headers={\"Authorization\": f\"Bearer {access_token}\"}\n",
        "                    ) as airline_response:\n",
        "                        if airline_response.status == 200:\n",
        "                            airline_info = (await airline_response.json()).get(\"data\", [])\n",
        "                            if airline_info:\n",
        "                                airline_names[code] = airline_info[0].get(\"businessName\", code)\n",
        "\n",
        "                # Format the flight list with more details\n",
        "                flights = []\n",
        "                for flight in flight_data:\n",
        "                    segments = flight[\"itineraries\"][0][\"segments\"]\n",
        "                    flight_info = {\n",
        "                        \"airline\": airline_names.get(segments[0].get(\"carrierCode\", \"N/A\"), \"N/A\"),\n",
        "                        \"flightNumber\": segments[0].get(\"number\", \"N/A\"),\n",
        "                        \"origin\": segments[0].get(\"departure\", {}).get(\"iataCode\", \"N/A\"),\n",
        "                        \"destination\": segments[-1].get(\"arrival\", {}).get(\"iataCode\", \"N/A\"),\n",
        "                        \"departureTime\": segments[0].get(\"departure\", {}).get(\"at\", \"N/A\"),\n",
        "                        \"arrivalTime\": segments[-1].get(\"arrival\", {}).get(\"at\", \"N/A\"),\n",
        "                        \"price\": flight[\"price\"].get(\"total\", \"N/A\"),\n",
        "                        \"currency\": flight[\"price\"].get(\"currency\", \"N/A\")\n",
        "                    }\n",
        "                    flights.append(flight_info)\n",
        "                return flights\n",
        "            else:\n",
        "                error_response = await response.text()\n",
        "                logger.error(f\"Failed to fetch flights: {response.status}, Response: {error_response}\")\n",
        "                return None  # Retorna None em caso de erro\n",
        "    except Exception as e:\n",
        "        logger.error(f\"Buscar_Voos : Erro na API Amadeus: {e}\")\n",
        "        return None  # Retorna None em caso de exceção\n",
        "\n",
        "async def get_amadeus_token(session):\n",
        "    try:\n",
        "        credentials = base64.b64encode(\n",
        "            f\"{AMADEUS_CLIENT_ID}:{AMADEUS_CLIENT_SECRET}\".encode(\"utf-8\")\n",
        "        ).decode(\"utf-8\")\n",
        "        async with session.post(\n",
        "            \"https://test.api.amadeus.com/v1/security/oauth2/token\",\n",
        "            headers={\n",
        "                \"Content-Type\": \"application/x-www-form-urlencoded\",\n",
        "                \"Authorization\": f\"Basic {credentials}\"\n",
        "            },\n",
        "            data={\"grant_type\": \"client_credentials\"}\n",
        "        ) as response:\n",
        "            if response.status == 200:\n",
        "                token_data = await response.json()\n",
        "                return token_data.get(\"access_token\")\n",
        "            else:\n",
        "                error_response = await response.text()\n",
        "                logger.error(f\"Failed to fetch access token: {response.status}, Response: {error_response}\")\n",
        "                return None\n",
        "    except Exception as e:\n",
        "        logger.error(f\"Error fetching access token: {e}\")\n",
        "        return None\n",
        "\n",
        "async def fetch_hotels_and_flights(origem_iata, cidades, data_partida):\n",
        "    print(\"origem IATA:\", origem_iata)\n",
        "    session = await get_session()\n",
        "    access_token = await get_amadeus_token(session)\n",
        "    results = []\n",
        "\n",
        "    # Calculate check-in and check-out dates (e.g., 3-day stay)\n",
        "    check_in_date = data_partida\n",
        "    check_out_date = (datetime.strptime(data_partida, \"%Y-%m-%d\") + timedelta(days=3)).strftime(\"%Y-%m-%d\")\n",
        "\n",
        "    for cidade in cidades:\n",
        "        cidade_iata = cidade[\"iata\"]\n",
        "        cidade_nome = cidade[\"nome\"]\n",
        "\n",
        "        # Step 1: Fetch hotel list by city\n",
        "        logger.debug(f\"Fetching hotels for city: {origem_iata} {cidade_iata}\")\n",
        "        hotel_list = await buscar_hoteis_por_cidade(session, cidade_iata, access_token)\n",
        "        logger.debug(f\"Hotel list for {origem_iata} {cidade_iata}: {hotel_list}\")\n",
        "\n",
        "        if not hotel_list:\n",
        "            results.append({\n",
        "                \"city\": cidade[\"nome\"],\n",
        "                \"iata\": cidade_iata,\n",
        "                \"hotels\": \"Nenhum hotel encontrado.\",\n",
        "                \"flights\": None\n",
        "            })\n",
        "            continue\n",
        "\n",
        "        # Step 2: Fetch hotel offers for all hotels in the city (in batches)\n",
        "        hotel_ids = [hotel[\"id\"] for hotel in hotel_list]\n",
        "        logger.debug(f\"Fetching hotel offers for hotel IDs: {hotel_ids}\")\n",
        "        detailed_hotels = await buscar_ofertas_multiplos_hoteis(session, hotel_ids, access_token, check_in_date, check_out_date)\n",
        "        logger.debug(f\"Detailed hotels for {cidade_iata}: {detailed_hotels}\")\n",
        "\n",
        "        # Step 3: Filter the 5 hotels with the lowest fares\n",
        "        if detailed_hotels:\n",
        "            # Remove hotels with no price data\n",
        "            detailed_hotels_with_price = [hotel for hotel in detailed_hotels if hotel[\"preco\"] != \"N/A\"]\n",
        "            # Sort by price (ascending)\n",
        "            sorted_hotels = sorted(detailed_hotels_with_price, key=lambda x: float(x[\"preco\"]))\n",
        "            # Select the top 5\n",
        "            top_5_hotels = sorted_hotels[:5]\n",
        "        else:\n",
        "            top_5_hotels = []\n",
        "\n",
        "        # Step 4: Fetch flights\n",
        "        logger.debug(f\"Fetching flights for {origem_iata} -> {cidade_iata}\")\n",
        "        flights = await buscar_voos(session, origem_iata, cidade_iata, access_token, data_partida)\n",
        "        logger.debug(f\"Flights for {cidade_iata}: {flights}\")\n",
        "\n",
        "        results.append({\n",
        "            \"city\": cidade_nome,\n",
        "            \"iata\": cidade_iata,\n",
        "            \"hotels\": top_5_hotels if top_5_hotels else \"Nenhum hotel encontrado.\",\n",
        "            \"flights\": flights if flights else \"Nenhum voo encontrado.\"\n",
        "        })\n",
        "\n",
        "    await session.close()\n",
        "    logger.debug(f\"Final results: {results}\")\n",
        "    return results\n",
        "\n",
        "@app.route(\"/selecionar_cidade\", methods=[\"POST\"])\n",
        "def selecionar_cidade():\n",
        "    origem = request.form.get(\"origin\")\n",
        "    prompt_usuario = request.form.get(\"preferences\")\n",
        "    data_partida = request.form.get(\"date\")\n",
        "    selected_city_iata = request.form.get(\"selected_city\")\n",
        "\n",
        "    logger.info(f\"Selected IATA code: {selected_city_iata}\")\n",
        "    logger.info(f\"Origem: {origem}\")\n",
        "    logger.info(f\"Prompt do usuário: {prompt_usuario}\")\n",
        "    logger.info(f\"Data de partida: {data_partida}\")\n",
        "\n",
        "    if selected_city_iata:\n",
        "        origem_iata = selected_city_iata\n",
        "    else:\n",
        "        resultados = buscar_iata_por_cidade(origem)\n",
        "        if not resultados:\n",
        "            return render_template(\"index.html\", error=f\"Não foi possível encontrar o código IATA para: {origem}\", preferences=prompt_usuario, origin=origem, date=data_partida)\n",
        "        if len(resultados) > 1:\n",
        "            return render_template(\"selecionar_cidade.html\", cidades=resultados, origem=origem, prompt_usuario=prompt_usuario, date=data_partida)\n",
        "        origem_iata = resultados[0][\"iata\"]\n",
        "        print(\"origem IATA: em selecionar_cidade\", origem_iata)\n",
        "        print(\"lista cidades em selecionar_cidades\", cidades)\n",
        "\n",
        "    if not data_partida:\n",
        "        data_partida = get_default_departure_date()\n",
        "        logger.info(f\"Nenhuma data de partida fornecida. Usando data padrão: {data_partida}\")\n",
        "    elif not validate_date(data_partida):\n",
        "        return render_template(\"index.html\", error=\"Formato de data inválido. Use AAAA-MM-DD.\", preferences=prompt_usuario, origin=origem, date=data_partida)\n",
        "\n",
        "    sugestoes, cidades = gerar_sugestoes_viagem(prompt_usuario)\n",
        "    logger.info(f\"Sugestões geradas: {sugestoes}\")\n",
        "    logger.info(f\"Cidades encontradas: {cidades}\")\n",
        "\n",
        "    results = asyncio.run(fetch_hotels_and_flights(origem_iata, cidades, data_partida))\n",
        "    logger.info(f\"Resultados da busca: {results}\")\n",
        "\n",
        "    # Buscar imagens para cada cidade\n",
        "    imagens = {}\n",
        "    for cidade in cidades:\n",
        "        query = cidade[\"nome\"]\n",
        "        imagens[query] = buscar_imagens_pixabay(query)\n",
        "#    print(\"Imagens encontradas:\", imagens)  # Depuração\n",
        "    return render_template(\"results.html\", suggestions=sugestoes, results=results, imagens=imagens)\n",
        "\n",
        "\n",
        "# Lista de lugares famosos para turismo\n",
        "LUGARES_FAMOSOS = [\n",
        "    \"Paris\", \"New York\", \"Tokyo\", \"Rome\", \"London\",\n",
        "    \"Barcelona\", \"Dubai\", \"Sydney\", \"Rio de Janeiro\", \"Machu Picchu\", \"Madrid\", \"Viena\", \"Africa\", \"Lisboa\"\n",
        "]\n",
        "\n",
        "def buscar_imagem_aleatoria():\n",
        "    lugar = random.choice(LUGARES_FAMOSOS)\n",
        "    imagens = buscar_imagens_pixabay(lugar)\n",
        "    return imagens[0] if imagens else None\n",
        "\n",
        "@app.route(\"/\", methods=[\"GET\", \"POST\"])\n",
        "def index():\n",
        "    if request.method == \"POST\":\n",
        "        origem = request.form.get(\"origin\")\n",
        "        prompt_usuario = request.form.get(\"preferences\")\n",
        "        data_partida = request.form.get(\"date\")\n",
        "\n",
        "        if not origem:\n",
        "            return render_template(\"index.html\", error=\"Por favor, forneça a cidade de origem.\")\n",
        "\n",
        "        resultados = buscar_iata_por_cidade(origem)\n",
        "        if not resultados:\n",
        "            return render_template(\"index.html\", error=f\"Nenhuma cidade encontrada para: {origem}. Procure não usar acentuação ou ~ !\", preferences=prompt_usuario, origin=origem, date=data_partida)\n",
        "\n",
        "        if len(resultados) > 1:\n",
        "            return render_template(\"selecionar_cidade.html\", cidades=resultados, origem=origem, prompt_usuario=prompt_usuario, data_partida=data_partida)\n",
        "\n",
        "        origem_iata = resultados[0][\"iata\"]\n",
        "\n",
        "        if not data_partida:\n",
        "            data_partida = get_default_departure_date()\n",
        "        elif not validate_date(data_partida):\n",
        "            return render_template(\"index.html\", error=\"Formato de data inválido. Use AAAA-MM-DD.\", preferences=prompt_usuario, origin=origem, date=data_partida)\n",
        "\n",
        "        sugestoes, cidades = gerar_sugestoes_viagem(prompt_usuario)\n",
        "        results = asyncio.run(fetch_hotels_and_flights(origem_iata, cidades, data_partida))\n",
        "\n",
        "        # Buscar imagens para cada cidade\n",
        "        imagens = {}\n",
        "        for cidade in cidades:\n",
        "            query = cidade[\"nome\"]\n",
        "            imagens[query] = buscar_imagens_pixabay(query)\n",
        "\n",
        "        return render_template(\"results.html\", suggestions=sugestoes, results=results, imagens=imagens)\n",
        "\n",
        "    # Para requisições GET, buscar uma imagem aleatória\n",
        "    imagem_fundo = buscar_imagem_aleatoria()\n",
        "    return render_template(\"index.html\", imagem_fundo=imagem_fundo)\n",
        "if __name__ == \"__main__\":\n",
        "    print(f\" * Running on {public_url}\")\n",
        "    app.run()"
      ]
    }
  ],
  "metadata": {
    "accelerator": "GPU",
    "colab": {
      "gpuType": "T4",
      "provenance": [],
      "authorship_tag": "ABX9TyPxUVQFX6TwT7j/tdW7rJYu",
      "include_colab_link": true
    },
    "kernelspec": {
      "display_name": "Python 3",
      "name": "python3"
    },
    "language_info": {
      "name": "python"
    },
    "widgets": {
      "application/vnd.jupyter.widget-state+json": {
        "9d6cf8680fee42b898ad96e13289dd8d": {
          "model_module": "@jupyter-widgets/controls",
          "model_name": "HBoxModel",
          "model_module_version": "1.5.0",
          "state": {
            "_dom_classes": [],
            "_model_module": "@jupyter-widgets/controls",
            "_model_module_version": "1.5.0",
            "_model_name": "HBoxModel",
            "_view_count": null,
            "_view_module": "@jupyter-widgets/controls",
            "_view_module_version": "1.5.0",
            "_view_name": "HBoxView",
            "box_style": "",
            "children": [
              "IPY_MODEL_2d4f9a4ddce54754831e20f0a8d09011",
              "IPY_MODEL_baa4d6da99624a56afec6de398337c9a",
              "IPY_MODEL_9d199f32f52940e8abb422b6a43f3cc6"
            ],
            "layout": "IPY_MODEL_ec36bccefac249f980372a5ea4d0df45"
          }
        },
        "2d4f9a4ddce54754831e20f0a8d09011": {
          "model_module": "@jupyter-widgets/controls",
          "model_name": "HTMLModel",
          "model_module_version": "1.5.0",
          "state": {
            "_dom_classes": [],
            "_model_module": "@jupyter-widgets/controls",
            "_model_module_version": "1.5.0",
            "_model_name": "HTMLModel",
            "_view_count": null,
            "_view_module": "@jupyter-widgets/controls",
            "_view_module_version": "1.5.0",
            "_view_name": "HTMLView",
            "description": "",
            "description_tooltip": null,
            "layout": "IPY_MODEL_bff470af20cd42ac8f98a19c313f915e",
            "placeholder": "​",
            "style": "IPY_MODEL_72139d603bba40a58ed553ee9bc8868f",
            "value": "Loading checkpoint shards: 100%"
          }
        },
        "baa4d6da99624a56afec6de398337c9a": {
          "model_module": "@jupyter-widgets/controls",
          "model_name": "FloatProgressModel",
          "model_module_version": "1.5.0",
          "state": {
            "_dom_classes": [],
            "_model_module": "@jupyter-widgets/controls",
            "_model_module_version": "1.5.0",
            "_model_name": "FloatProgressModel",
            "_view_count": null,
            "_view_module": "@jupyter-widgets/controls",
            "_view_module_version": "1.5.0",
            "_view_name": "ProgressView",
            "bar_style": "success",
            "description": "",
            "description_tooltip": null,
            "layout": "IPY_MODEL_9281c08af8fa491cb805c4a37e412a87",
            "max": 3,
            "min": 0,
            "orientation": "horizontal",
            "style": "IPY_MODEL_88877f19e7674acb8bce8bb53fa85fd6",
            "value": 3
          }
        },
        "9d199f32f52940e8abb422b6a43f3cc6": {
          "model_module": "@jupyter-widgets/controls",
          "model_name": "HTMLModel",
          "model_module_version": "1.5.0",
          "state": {
            "_dom_classes": [],
            "_model_module": "@jupyter-widgets/controls",
            "_model_module_version": "1.5.0",
            "_model_name": "HTMLModel",
            "_view_count": null,
            "_view_module": "@jupyter-widgets/controls",
            "_view_module_version": "1.5.0",
            "_view_name": "HTMLView",
            "description": "",
            "description_tooltip": null,
            "layout": "IPY_MODEL_5e55a056b67a419aa9480453dc73065f",
            "placeholder": "​",
            "style": "IPY_MODEL_27b6132889c5433f9690875b4092a1ac",
            "value": " 3/3 [01:08&lt;00:00, 22.83s/it]"
          }
        },
        "ec36bccefac249f980372a5ea4d0df45": {
          "model_module": "@jupyter-widgets/base",
          "model_name": "LayoutModel",
          "model_module_version": "1.2.0",
          "state": {
            "_model_module": "@jupyter-widgets/base",
            "_model_module_version": "1.2.0",
            "_model_name": "LayoutModel",
            "_view_count": null,
            "_view_module": "@jupyter-widgets/base",
            "_view_module_version": "1.2.0",
            "_view_name": "LayoutView",
            "align_content": null,
            "align_items": null,
            "align_self": null,
            "border": null,
            "bottom": null,
            "display": null,
            "flex": null,
            "flex_flow": null,
            "grid_area": null,
            "grid_auto_columns": null,
            "grid_auto_flow": null,
            "grid_auto_rows": null,
            "grid_column": null,
            "grid_gap": null,
            "grid_row": null,
            "grid_template_areas": null,
            "grid_template_columns": null,
            "grid_template_rows": null,
            "height": null,
            "justify_content": null,
            "justify_items": null,
            "left": null,
            "margin": null,
            "max_height": null,
            "max_width": null,
            "min_height": null,
            "min_width": null,
            "object_fit": null,
            "object_position": null,
            "order": null,
            "overflow": null,
            "overflow_x": null,
            "overflow_y": null,
            "padding": null,
            "right": null,
            "top": null,
            "visibility": null,
            "width": null
          }
        },
        "bff470af20cd42ac8f98a19c313f915e": {
          "model_module": "@jupyter-widgets/base",
          "model_name": "LayoutModel",
          "model_module_version": "1.2.0",
          "state": {
            "_model_module": "@jupyter-widgets/base",
            "_model_module_version": "1.2.0",
            "_model_name": "LayoutModel",
            "_view_count": null,
            "_view_module": "@jupyter-widgets/base",
            "_view_module_version": "1.2.0",
            "_view_name": "LayoutView",
            "align_content": null,
            "align_items": null,
            "align_self": null,
            "border": null,
            "bottom": null,
            "display": null,
            "flex": null,
            "flex_flow": null,
            "grid_area": null,
            "grid_auto_columns": null,
            "grid_auto_flow": null,
            "grid_auto_rows": null,
            "grid_column": null,
            "grid_gap": null,
            "grid_row": null,
            "grid_template_areas": null,
            "grid_template_columns": null,
            "grid_template_rows": null,
            "height": null,
            "justify_content": null,
            "justify_items": null,
            "left": null,
            "margin": null,
            "max_height": null,
            "max_width": null,
            "min_height": null,
            "min_width": null,
            "object_fit": null,
            "object_position": null,
            "order": null,
            "overflow": null,
            "overflow_x": null,
            "overflow_y": null,
            "padding": null,
            "right": null,
            "top": null,
            "visibility": null,
            "width": null
          }
        },
        "72139d603bba40a58ed553ee9bc8868f": {
          "model_module": "@jupyter-widgets/controls",
          "model_name": "DescriptionStyleModel",
          "model_module_version": "1.5.0",
          "state": {
            "_model_module": "@jupyter-widgets/controls",
            "_model_module_version": "1.5.0",
            "_model_name": "DescriptionStyleModel",
            "_view_count": null,
            "_view_module": "@jupyter-widgets/base",
            "_view_module_version": "1.2.0",
            "_view_name": "StyleView",
            "description_width": ""
          }
        },
        "9281c08af8fa491cb805c4a37e412a87": {
          "model_module": "@jupyter-widgets/base",
          "model_name": "LayoutModel",
          "model_module_version": "1.2.0",
          "state": {
            "_model_module": "@jupyter-widgets/base",
            "_model_module_version": "1.2.0",
            "_model_name": "LayoutModel",
            "_view_count": null,
            "_view_module": "@jupyter-widgets/base",
            "_view_module_version": "1.2.0",
            "_view_name": "LayoutView",
            "align_content": null,
            "align_items": null,
            "align_self": null,
            "border": null,
            "bottom": null,
            "display": null,
            "flex": null,
            "flex_flow": null,
            "grid_area": null,
            "grid_auto_columns": null,
            "grid_auto_flow": null,
            "grid_auto_rows": null,
            "grid_column": null,
            "grid_gap": null,
            "grid_row": null,
            "grid_template_areas": null,
            "grid_template_columns": null,
            "grid_template_rows": null,
            "height": null,
            "justify_content": null,
            "justify_items": null,
            "left": null,
            "margin": null,
            "max_height": null,
            "max_width": null,
            "min_height": null,
            "min_width": null,
            "object_fit": null,
            "object_position": null,
            "order": null,
            "overflow": null,
            "overflow_x": null,
            "overflow_y": null,
            "padding": null,
            "right": null,
            "top": null,
            "visibility": null,
            "width": null
          }
        },
        "88877f19e7674acb8bce8bb53fa85fd6": {
          "model_module": "@jupyter-widgets/controls",
          "model_name": "ProgressStyleModel",
          "model_module_version": "1.5.0",
          "state": {
            "_model_module": "@jupyter-widgets/controls",
            "_model_module_version": "1.5.0",
            "_model_name": "ProgressStyleModel",
            "_view_count": null,
            "_view_module": "@jupyter-widgets/base",
            "_view_module_version": "1.2.0",
            "_view_name": "StyleView",
            "bar_color": null,
            "description_width": ""
          }
        },
        "5e55a056b67a419aa9480453dc73065f": {
          "model_module": "@jupyter-widgets/base",
          "model_name": "LayoutModel",
          "model_module_version": "1.2.0",
          "state": {
            "_model_module": "@jupyter-widgets/base",
            "_model_module_version": "1.2.0",
            "_model_name": "LayoutModel",
            "_view_count": null,
            "_view_module": "@jupyter-widgets/base",
            "_view_module_version": "1.2.0",
            "_view_name": "LayoutView",
            "align_content": null,
            "align_items": null,
            "align_self": null,
            "border": null,
            "bottom": null,
            "display": null,
            "flex": null,
            "flex_flow": null,
            "grid_area": null,
            "grid_auto_columns": null,
            "grid_auto_flow": null,
            "grid_auto_rows": null,
            "grid_column": null,
            "grid_gap": null,
            "grid_row": null,
            "grid_template_areas": null,
            "grid_template_columns": null,
            "grid_template_rows": null,
            "height": null,
            "justify_content": null,
            "justify_items": null,
            "left": null,
            "margin": null,
            "max_height": null,
            "max_width": null,
            "min_height": null,
            "min_width": null,
            "object_fit": null,
            "object_position": null,
            "order": null,
            "overflow": null,
            "overflow_x": null,
            "overflow_y": null,
            "padding": null,
            "right": null,
            "top": null,
            "visibility": null,
            "width": null
          }
        },
        "27b6132889c5433f9690875b4092a1ac": {
          "model_module": "@jupyter-widgets/controls",
          "model_name": "DescriptionStyleModel",
          "model_module_version": "1.5.0",
          "state": {
            "_model_module": "@jupyter-widgets/controls",
            "_model_module_version": "1.5.0",
            "_model_name": "DescriptionStyleModel",
            "_view_count": null,
            "_view_module": "@jupyter-widgets/base",
            "_view_module_version": "1.2.0",
            "_view_name": "StyleView",
            "description_width": ""
          }
        }
      }
    }
  },
  "nbformat": 4,
  "nbformat_minor": 0
}