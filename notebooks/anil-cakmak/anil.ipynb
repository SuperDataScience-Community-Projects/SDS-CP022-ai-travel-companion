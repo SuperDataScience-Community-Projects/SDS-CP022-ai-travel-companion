{
  "cells": [
    {
      "cell_type": "code",
      "execution_count": null,
      "metadata": {
        "colab": {
          "base_uri": "https://localhost:8080/"
        },
        "id": "06fNeMiX0kJN",
        "outputId": "55e4537e-3830-4994-bc63-82c5cf4cffba"
      },
      "outputs": [],
      "source": [
        "# %pip install -q langgraph langchain langchain-openai langchain-community tavily-python pygraphviz pytz"
      ]
    },
    {
      "cell_type": "markdown",
      "metadata": {},
      "source": [
        "# Agentic System for Travel Planning\n",
        "\n",
        "## System Components and Flow\n",
        "\n",
        "The system consists of seven interconnected agents that collaborate for comprehensive travel planning.\n",
        "\n",
        "### System Architecture\n",
        "<img src=\"architecture.png\" alt=\"architecture\" width=\"450\"/>\n",
        "\n",
        "### Agent Descriptions\n",
        "1. **User Guide Agent**\n",
        "   - Gathers essential travel details (e.g. dates, destinations, preferences)\n",
        "   - Determines planning path (new itinerary vs refinement)\n",
        "   - Handles user queries through conversational interaction\n",
        "\n",
        "2. **Destination Planner Agent**\n",
        "    - Creates initial travel plan with recommended locations\n",
        "    - Provides foundation for transport and accommodation planning\n",
        "\n",
        "3. **Transport Advisor Agent**\n",
        "    - Generates search queries for best travel tickets\n",
        "    - Focuses on price-performance balance for tickets\n",
        "    - Provides ticket availability information for different dates\n",
        "\n",
        "4. **Accommodation Advisor Agent**\n",
        "    - Generates search queries for suitable lodging options\n",
        "    - Evaluates price-performance balance for accommodations\n",
        "    - Ensures alignment with overall travel timeline and destinations\n",
        "\n",
        "5. **Itinerary Planner Agent**\n",
        "    - Combines transport and accommodation information with initial plan\n",
        "    - Creates complete, optimized itinerary\n",
        "\n",
        "6. **Itinerary Researcher Agent**\n",
        "    - Generates queries for itinerary refinements\n",
        "    - Researches specific user requests\n",
        "\n",
        "7. **Itinerary Optimizer Agent**\n",
        "    - Modifies existing itinerary\n",
        "    - Leverages research findings to optimize itinerary\n"
      ]
    },
    {
      "cell_type": "markdown",
      "metadata": {},
      "source": [
        "## Imports\n",
        "Essential imports for system functionality:\n",
        "- **langgraph**: Graph creation and state management \n",
        "- **langchain**: LLM integration and messaging\n",
        "- **tavily**: Web search capabilities\n",
        "- **utility imports**: datetime, typing, re, etc.\n",
        "- **pydantic**: Data validation and settings management"
      ]
    },
    {
      "cell_type": "code",
      "execution_count": null,
      "metadata": {
        "id": "yxN81Txw0t0K"
      },
      "outputs": [],
      "source": [
        "# Standard library imports\n",
        "import re\n",
        "import operator\n",
        "from typing import TypedDict, Annotated, List\n",
        "from datetime import datetime\n",
        "\n",
        "# Third-party imports\n",
        "import pytz\n",
        "from dotenv import load_dotenv\n",
        "from pydantic import BaseModel\n",
        "from IPython.display import Image, display\n",
        "\n",
        "# LangChain imports\n",
        "from langgraph.graph import StateGraph, END\n",
        "from langgraph.checkpoint.memory import MemorySaver\n",
        "from langchain_core.messages import AnyMessage, SystemMessage, HumanMessage\n",
        "from langchain_openai import ChatOpenAI\n",
        "\n",
        "# API clients\n",
        "from tavily import TavilyClient"
      ]
    },
    {
      "cell_type": "markdown",
      "metadata": {},
      "source": [
        "## Initializing Core Components\n",
        "\n",
        "### Core Setup\n",
        "- **TavilyClient**: Web search client for information gathering\n",
        "- **ChatOpenAI**: GPT-4 language model (supporting structured responses for search queries) with temperature=0 for consistent outputs.\n",
        "- **MemorySaver**: State management for persisting conversation context\n",
        "\n",
        "### Data Models\n",
        "- **Queries**: BaseModel for search request formatting\n",
        "- **AgentState**: TypedDict for managing agent system state"
      ]
    },
    {
      "cell_type": "code",
      "execution_count": null,
      "metadata": {
        "colab": {
          "base_uri": "https://localhost:8080/"
        },
        "id": "Js7dXFNZ0xtM",
        "outputId": "642337b3-8ea0-4b70-fa66-80f5eb3b1bfd"
      },
      "outputs": [],
      "source": [
        "# Core Setup\n",
        "load_dotenv()\n",
        "tavily = TavilyClient()\n",
        "model = ChatOpenAI(model=\"gpt-4o\", temperature=0)\n",
        "memory = MemorySaver()\n",
        "\n",
        "# Data models\n",
        "class Queries(BaseModel):\n",
        "    \"\"\"Model for structured search requests\"\"\"\n",
        "    queries: List[str]\n",
        "\n",
        "class AgentState(TypedDict):\n",
        "    \"\"\"State management for the agentic system\"\"\"\n",
        "    messages: Annotated[list[AnyMessage], operator.add]\n",
        "    task: str\n",
        "    basic_plan: str\n",
        "    search: Annotated[list, operator.add]\n",
        "    research: str"
      ]
    },
    {
      "cell_type": "markdown",
      "metadata": {},
      "source": [
        "## Agent Prompts\n",
        "Defined system prompts for each agent"
      ]
    },
    {
      "cell_type": "code",
      "execution_count": null,
      "metadata": {
        "id": "pOqaOmKs0_yi"
      },
      "outputs": [],
      "source": [
        "user_guide_prompt = f\"\"\"\n",
        "You are a travel assistant helping travelers plan or/and revise their itineraries.\n",
        "You have two capabilities: planning and refining itineraries.\n",
        "\n",
        "1. Planning: Your task is to chat with travelers to gather essential details, including:\n",
        "- Departure location\n",
        "- Destination(s)\n",
        "- Possible travel date(s) (Note: The current date and time is {datetime.now(pytz.utc).strftime('%Y-%m-%d %H:%M:%S %Z%z')})\n",
        "- Duration of the trip\n",
        "- Any specific requests or preferences\n",
        "\n",
        "Once you have all the required information, return the following structured response:\n",
        "\n",
        "Plan:\n",
        "Departure Location: [Starting location]\n",
        "Destinations: [Destination(s)]\n",
        "Time: [Possible travel dates including year]\n",
        "Duration: [Total duration of the trip]\n",
        "Traveler's requests: [Specific requests or preferences]\n",
        "\n",
        "2. Refinement: If a traveler requests a refinement to an itinerary that was previously provided by you or them, \n",
        "first check if you can handle it with your knowledge. If you decide that you can handle it, directly provide the refined itinerary. \n",
        "Otherwise (if a web search is necessary), return the following structured response:\n",
        "\n",
        "Refine:\n",
        "Traveler's Request: [What to edit]\n",
        "Itinerary: [The itinerary in question]\n",
        "\"\"\"\n",
        "\n",
        "destination_planner_prompt = \"\"\"\n",
        "You are a destination recommender for travelers. You will plan a simple itinerary that includes destinations based on the given plan.\n",
        "For each general location, you should recommend three specific destinations.\n",
        "\n",
        "Return the following structured response combining the plan with the recommended destinations: \n",
        "\n",
        "Plan:\n",
        "Departure Location: [Starting location]\n",
        "Destinations: {[Country1]: {[City1]: [Destination1, Destination2, Destination3]}}\n",
        "Time: [Possible travel dates including year]\n",
        "Duration: [Total duration of the trip]\n",
        "Traveler's requests: [Specific requests or preferences]\n",
        "\"\"\"\n",
        "\n",
        "transport_advisor_prompt = \"\"\"\n",
        "You are a transport assistant responsible for generating search queries to find the best price-performance travel tickets.\n",
        "The travel plan will be optimized according to the ticket information you provide.\n",
        "Take the given plan into account when crafting the queries.\n",
        "Only generate queries—do not provide explanations.\n",
        "\"\"\"\n",
        "\n",
        "accommodation_advisor_prompt = \"\"\"\n",
        "You are an accommodation assistant tasked with gathering essential information to find price-performance accommodations for the given travel plan.\n",
        "Generate search queries to find relevant accommodation details that match the plan.\n",
        "The travel plan will be optimized according to the accommodation information you provide.\n",
        "Only generate queries—do not provide explanations.\n",
        "\"\"\"\n",
        "\n",
        "itinerary_planner_prompt = \"\"\"\n",
        "You are a travel assistant responsible for creating a complete, optimized itinerary.\n",
        "Use the given basic travel plan, ticket, and accommodation details to finalize the itinerary.\n",
        "Select accommodations and tickets that offer the best balance between price and quality for the final plan.\n",
        "\n",
        "Only return the detailed itinerary—do not provide explanations.\n",
        "\"\"\"\n",
        "\n",
        "itinerary_researcher_prompt = \"\"\"\n",
        "You are a research assistant responsible for generating search queries to make the necessary changes related to the given traveler's request(s).\n",
        "Take into account the given itinerary and traveler's request(s) when crafting the queries.\n",
        "\n",
        "Only generate queries—do not provide explanations.\n",
        "\"\"\"\n",
        "\n",
        "itinerary_optimizer_prompt = \"\"\"\n",
        "You are an itinerary optimizer responsible for editing the given itinerary according to the traveler's request using the provided research results.\n",
        "\n",
        "Only return the edited itinerary—do not provide explanations.\n",
        "\"\"\"\n"
      ]
    },
    {
      "cell_type": "markdown",
      "metadata": {},
      "source": [
        "## Agent Node Functions\n",
        "Implementation of agent behaviors and logic"
      ]
    },
    {
      "cell_type": "code",
      "execution_count": null,
      "metadata": {
        "id": "wC94MoGd1Ah7"
      },
      "outputs": [],
      "source": [
        "def user_guide_node(state: AgentState):\n",
        "\n",
        "    messages = [SystemMessage(content=user_guide_prompt)] + state['messages']\n",
        "\n",
        "    message = model.invoke(messages)\n",
        "\n",
        "    if any(pattern in message.content for pattern in [\"Plan:\", \"Refine:\"]):\n",
        "        return {\"task\": message.content}\n",
        "\n",
        "    return {\"messages\": [message]}\n",
        "\n",
        "def exists_action(state: AgentState):\n",
        "\n",
        "    task = state.get(\"task\", \"\")\n",
        "\n",
        "    if re.search(r\"Plan:\", task):\n",
        "        return \"plan\"\n",
        "    elif re.search(r\"Refine:\", task):\n",
        "        return \"refine\"\n",
        "    else:\n",
        "        return \"assistant\"\n",
        "\n",
        "def destination_planner_node(state: AgentState):\n",
        "    messages = [SystemMessage(content=destination_planner_prompt),\n",
        "                HumanMessage(content=state['task'])]\n",
        "\n",
        "    response = model.invoke(messages)\n",
        "\n",
        "    return {\"basic_plan\": response.content}\n",
        "\n",
        "def transport_advisor_node(state: AgentState):\n",
        "    queries = model.with_structured_output(Queries).invoke([\n",
        "        SystemMessage(content=transport_advisor_prompt),\n",
        "        HumanMessage(content=f\"{state['basic_plan']}\")\n",
        "    ])\n",
        "\n",
        "    transport_search = []\n",
        "    for q in queries.queries:\n",
        "        response = tavily.search(query=q,\n",
        "                                 max_results=2,\n",
        "                                 include_answer=\"basic\",\n",
        "                                 )\n",
        "\n",
        "        transport_search.append(response[\"answer\"])\n",
        "    return {\"search\": [transport_search]}\n",
        "\n",
        "def accommodation_advisor_node(state: AgentState):\n",
        "    queries = model.with_structured_output(Queries).invoke([\n",
        "        SystemMessage(content=accommodation_advisor_prompt),\n",
        "        HumanMessage(content=f\"{state['basic_plan']}\")\n",
        "    ])\n",
        "\n",
        "    accommodation_search = []\n",
        "    for q in queries.queries:\n",
        "        response = tavily.search(query=q,\n",
        "                                 max_results=2,\n",
        "                                 include_answer=\"basic\",\n",
        "                                 )\n",
        "\n",
        "        accommodation_search.append(response[\"answer\"])\n",
        "    return {\"search\": [accommodation_search]}\n",
        "\n",
        "\n",
        "def itinerary_planner_node(state: AgentState):\n",
        "    messages = [\n",
        "        SystemMessage(content=itinerary_planner_prompt),\n",
        "        HumanMessage(content=f\"\"\"{state['basic_plan']}\n",
        "                     \\n\\nHere is the accommodation and ticket info:\\n\\n{state['search']}\"\"\")]\n",
        "    \n",
        "    response = model.invoke(messages)\n",
        "    return {\"messages\": [response]}\n",
        "\n",
        "def itinerary_researcher_node(state: AgentState):\n",
        "    queries = model.with_structured_output(Queries).invoke([\n",
        "        SystemMessage(content=itinerary_researcher_prompt),\n",
        "        HumanMessage(content=state['task'])\n",
        "    ])\n",
        "\n",
        "    research = []\n",
        "    for q in queries.queries:\n",
        "        response = tavily.search(query=q,\n",
        "                                 max_results=2,\n",
        "                                 include_answer=\"basic\",\n",
        "                                 )\n",
        "\n",
        "        research.append(response[\"answer\"])\n",
        "    return {\"research\": research}\n",
        "\n",
        "def itinerary_optimizer_node(state: AgentState):\n",
        "    messages = [\n",
        "        SystemMessage(content=itinerary_optimizer_prompt),\n",
        "        HumanMessage(content=f\"\"\"{state['task']}\n",
        "                     \\n\\nHere is the research info:\\n\\n{state['research']}\"\"\")\n",
        "    ]\n",
        "    response = model.invoke(messages)\n",
        "    return {\"messages\": [response]}"
      ]
    },
    {
      "cell_type": "markdown",
      "metadata": {},
      "source": [
        "## Graph Construction\n",
        "Building the agent workflow graph:\n",
        "- Node addition for each specialized agent\n",
        "- Edge connections with parallel execution:\n",
        "    - Transport and accommodation advisors run in parallel after destination planning\n",
        "- Conditional routing based on user needs:\n",
        "    - Plan creation path (when 'Plan:' is detected)\n",
        "    - Plan refinement path (when 'Refine:' is detected) \n",
        "    - Assistant path (continues chat interaction)"
      ]
    },
    {
      "cell_type": "code",
      "execution_count": null,
      "metadata": {
        "id": "_CB96A6I1FVJ"
      },
      "outputs": [],
      "source": [
        "graph = StateGraph(AgentState)\n",
        "\n",
        "graph.add_node(\"user_guide\", user_guide_node)\n",
        "graph.add_node(\"itinerary_researcher\", itinerary_researcher_node)\n",
        "graph.add_node(\"itinerary_optimizer\", itinerary_optimizer_node)\n",
        "graph.add_node(\"destination_planner\", destination_planner_node)\n",
        "graph.add_node(\"transport_advisor\", transport_advisor_node)\n",
        "graph.add_node(\"accommodation_advisor\", accommodation_advisor_node)\n",
        "graph.add_node(\"itinerary_planner\", itinerary_planner_node)\n",
        "\n",
        "graph.add_conditional_edges(\n",
        "            \"user_guide\",\n",
        "            exists_action,\n",
        "            {\"plan\": \"destination_planner\", \"refine\": \"itinerary_researcher\", \"assistant\": END}\n",
        "        )\n",
        "\n",
        "graph.add_edge(\"itinerary_researcher\", \"itinerary_optimizer\")\n",
        "graph.add_edge(\"itinerary_optimizer\", END)\n",
        "graph.add_edge(\"destination_planner\", \"transport_advisor\")\n",
        "graph.add_edge(\"destination_planner\", \"accommodation_advisor\")\n",
        "graph.add_edge(\"transport_advisor\", \"itinerary_planner\")\n",
        "graph.add_edge(\"accommodation_advisor\", \"itinerary_planner\")\n",
        "graph.add_edge(\"itinerary_planner\", END)\n",
        "\n",
        "graph.set_entry_point(\"user_guide\")\n",
        "\n",
        "agent = graph.compile(checkpointer=memory)"
      ]
    },
    {
      "cell_type": "code",
      "execution_count": null,
      "metadata": {
        "colab": {
          "base_uri": "https://localhost:8080/",
          "height": 572
        },
        "id": "jC4Du2rk1ITZ",
        "outputId": "ed3f7c5c-92cd-438b-fc73-11fa00e66431"
      },
      "outputs": [],
      "source": [
        "display(Image(agent.get_graph().draw_mermaid_png()))"
      ]
    },
    {
      "cell_type": "markdown",
      "metadata": {},
      "source": [
        "## Testing and Execution"
      ]
    },
    {
      "cell_type": "markdown",
      "metadata": {},
      "source": [
        "### Chat Interface\n",
        "Interactive chat interface with thread management"
      ]
    },
    {
      "cell_type": "code",
      "execution_count": null,
      "metadata": {
        "colab": {
          "base_uri": "https://localhost:8080/",
          "height": 1000
        },
        "id": "mr-zljtr1MlH",
        "outputId": "cda81d92-bfdf-41a9-ce28-96dcb8cc7821"
      },
      "outputs": [],
      "source": [
        "def chat(user_input: str, thread: str) -> None:\n",
        "    \"\"\"Handle chat interactions with error handling\"\"\"\n",
        "    if not user_input.strip():\n",
        "        print(\"Error: Empty input\")\n",
        "        return\n",
        "        \n",
        "    try:\n",
        "        config = {\"configurable\": {\"thread_id\": thread}}\n",
        "        for event in agent.stream(\n",
        "            {\"messages\": [{\"role\": \"user\", \"content\": user_input}]},\n",
        "            config\n",
        "        ):\n",
        "            for value in event.values():\n",
        "                if \"messages\" in value:\n",
        "                    print(f\"Assistant: {value['messages'][-1].content}\")\n",
        "                elif \"task\" in value:\n",
        "                    print(\"Assistant: Preparing your travel itinerary...\")\n",
        "    except Exception as e:\n",
        "        print(f\"Chat Error: {e}\")\n",
        "        print(\"Please try again or start a new session.\")\n",
        "\n",
        "\n",
        "thread=\"\"\n",
        "while True:\n",
        "  if not thread:\n",
        "    thread = input(\"chat_id: \")\n",
        "\n",
        "  user_input = input(\"User: \")\n",
        "\n",
        "  if user_input.lower() in [\"quit\", \"exit\", \"q\"]:\n",
        "      print(\"Goodbye!\")\n",
        "      break\n",
        "\n",
        "  chat(user_input, thread)"
      ]
    },
    {
      "cell_type": "markdown",
      "metadata": {},
      "source": [
        "### State Inspection"
      ]
    },
    {
      "cell_type": "code",
      "execution_count": null,
      "metadata": {
        "colab": {
          "base_uri": "https://localhost:8080/"
        },
        "id": "LIoi2_yWD9LV",
        "outputId": "e66d4e30-932b-4264-f862-a7cb001dc637"
      },
      "outputs": [],
      "source": [
        "agent.get_state(config={\"configurable\": {\"thread_id\": \"Istanbul\"}}).values"
      ]
    }
  ],
  "metadata": {
    "colab": {
      "provenance": []
    },
    "kernelspec": {
      "display_name": ".venv",
      "language": "python",
      "name": "python3"
    },
    "language_info": {
      "codemirror_mode": {
        "name": "ipython",
        "version": 3
      },
      "file_extension": ".py",
      "mimetype": "text/x-python",
      "name": "python",
      "nbconvert_exporter": "python",
      "pygments_lexer": "ipython3",
      "version": "3.12.6"
    }
  },
  "nbformat": 4,
  "nbformat_minor": 0
}
